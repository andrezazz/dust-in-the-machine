{
 "cells": [
  {
   "cell_type": "code",
   "execution_count": 4,
   "metadata": {},
   "outputs": [],
   "source": [
    "import tensorflow as tf\n",
    "import numpy as np\n",
    "import mdn\n",
    "import matplotlib.pyplot as plt\n",
    "from sklearn.model_selection import train_test_split\n",
    "import pandas as pd\n",
    "from timeit import default_timer as timer\n",
    "import xgboost as xgb\n",
    "\n",
    "bin_count = 151"
   ]
  },
  {
   "cell_type": "code",
   "execution_count": 2,
   "metadata": {},
   "outputs": [
    {
     "data": {
      "text/html": [
       "<div>\n",
       "<style scoped>\n",
       "    .dataframe tbody tr th:only-of-type {\n",
       "        vertical-align: middle;\n",
       "    }\n",
       "\n",
       "    .dataframe tbody tr th {\n",
       "        vertical-align: top;\n",
       "    }\n",
       "\n",
       "    .dataframe thead th {\n",
       "        text-align: right;\n",
       "    }\n",
       "</style>\n",
       "<table border=\"1\" class=\"dataframe\">\n",
       "  <thead>\n",
       "    <tr style=\"text-align: right;\">\n",
       "      <th></th>\n",
       "      <th>Output_Bin_0</th>\n",
       "      <th>Output_Bin_1</th>\n",
       "      <th>Output_Bin_2</th>\n",
       "      <th>Output_Bin_3</th>\n",
       "      <th>Output_Bin_4</th>\n",
       "      <th>Output_Bin_5</th>\n",
       "      <th>Output_Bin_6</th>\n",
       "      <th>Output_Bin_7</th>\n",
       "      <th>Output_Bin_8</th>\n",
       "      <th>Output_Bin_9</th>\n",
       "      <th>...</th>\n",
       "      <th>Output_Bin_143</th>\n",
       "      <th>Output_Bin_144</th>\n",
       "      <th>Output_Bin_145</th>\n",
       "      <th>Output_Bin_146</th>\n",
       "      <th>Output_Bin_147</th>\n",
       "      <th>Output_Bin_148</th>\n",
       "      <th>Output_Bin_149</th>\n",
       "      <th>Output_Bin_150</th>\n",
       "      <th>Output_Is_End</th>\n",
       "      <th>Output_First_Zero</th>\n",
       "    </tr>\n",
       "  </thead>\n",
       "  <tbody>\n",
       "    <tr>\n",
       "      <th>count</th>\n",
       "      <td>80034.000000</td>\n",
       "      <td>80034.000000</td>\n",
       "      <td>80034.000000</td>\n",
       "      <td>80034.000000</td>\n",
       "      <td>80034.000000</td>\n",
       "      <td>80034.000000</td>\n",
       "      <td>80034.000000</td>\n",
       "      <td>80034.000000</td>\n",
       "      <td>8.003400e+04</td>\n",
       "      <td>8.003400e+04</td>\n",
       "      <td>...</td>\n",
       "      <td>80034.000000</td>\n",
       "      <td>80034.000000</td>\n",
       "      <td>80034.000000</td>\n",
       "      <td>8.003400e+04</td>\n",
       "      <td>80034.000000</td>\n",
       "      <td>80034.000000</td>\n",
       "      <td>80034.000000</td>\n",
       "      <td>80034.000000</td>\n",
       "      <td>80034.000000</td>\n",
       "      <td>80034.000000</td>\n",
       "    </tr>\n",
       "    <tr>\n",
       "      <th>mean</th>\n",
       "      <td>0.004592</td>\n",
       "      <td>0.003381</td>\n",
       "      <td>0.002994</td>\n",
       "      <td>0.003368</td>\n",
       "      <td>0.003351</td>\n",
       "      <td>0.003394</td>\n",
       "      <td>0.003532</td>\n",
       "      <td>0.003670</td>\n",
       "      <td>3.814056e-03</td>\n",
       "      <td>3.911485e-03</td>\n",
       "      <td>...</td>\n",
       "      <td>0.001006</td>\n",
       "      <td>0.000848</td>\n",
       "      <td>0.000703</td>\n",
       "      <td>6.984170e-04</td>\n",
       "      <td>0.001683</td>\n",
       "      <td>0.004521</td>\n",
       "      <td>0.013961</td>\n",
       "      <td>0.232077</td>\n",
       "      <td>0.245646</td>\n",
       "      <td>110.308256</td>\n",
       "    </tr>\n",
       "    <tr>\n",
       "      <th>std</th>\n",
       "      <td>0.011374</td>\n",
       "      <td>0.007610</td>\n",
       "      <td>0.006414</td>\n",
       "      <td>0.008043</td>\n",
       "      <td>0.006695</td>\n",
       "      <td>0.006400</td>\n",
       "      <td>0.006739</td>\n",
       "      <td>0.006520</td>\n",
       "      <td>7.153507e-03</td>\n",
       "      <td>6.694352e-03</td>\n",
       "      <td>...</td>\n",
       "      <td>0.005998</td>\n",
       "      <td>0.005194</td>\n",
       "      <td>0.004531</td>\n",
       "      <td>4.395189e-03</td>\n",
       "      <td>0.005804</td>\n",
       "      <td>0.011810</td>\n",
       "      <td>0.034216</td>\n",
       "      <td>0.398182</td>\n",
       "      <td>0.430472</td>\n",
       "      <td>35.159546</td>\n",
       "    </tr>\n",
       "    <tr>\n",
       "      <th>min</th>\n",
       "      <td>0.000000</td>\n",
       "      <td>0.000000</td>\n",
       "      <td>0.000000</td>\n",
       "      <td>0.000000</td>\n",
       "      <td>0.000000</td>\n",
       "      <td>0.000000</td>\n",
       "      <td>0.000000</td>\n",
       "      <td>0.000000</td>\n",
       "      <td>0.000000e+00</td>\n",
       "      <td>0.000000e+00</td>\n",
       "      <td>...</td>\n",
       "      <td>0.000000</td>\n",
       "      <td>0.000000</td>\n",
       "      <td>0.000000</td>\n",
       "      <td>0.000000e+00</td>\n",
       "      <td>0.000000</td>\n",
       "      <td>0.000000</td>\n",
       "      <td>0.000000</td>\n",
       "      <td>0.000000</td>\n",
       "      <td>0.000000</td>\n",
       "      <td>26.000000</td>\n",
       "    </tr>\n",
       "    <tr>\n",
       "      <th>25%</th>\n",
       "      <td>0.000000</td>\n",
       "      <td>0.000000</td>\n",
       "      <td>0.000000</td>\n",
       "      <td>0.000000</td>\n",
       "      <td>0.000000</td>\n",
       "      <td>0.000000</td>\n",
       "      <td>0.000000</td>\n",
       "      <td>0.000000</td>\n",
       "      <td>1.265408e-28</td>\n",
       "      <td>1.791201e-26</td>\n",
       "      <td>...</td>\n",
       "      <td>0.000000</td>\n",
       "      <td>0.000000</td>\n",
       "      <td>0.000000</td>\n",
       "      <td>0.000000e+00</td>\n",
       "      <td>0.000000</td>\n",
       "      <td>0.000000</td>\n",
       "      <td>0.000000</td>\n",
       "      <td>0.000000</td>\n",
       "      <td>0.000000</td>\n",
       "      <td>81.000000</td>\n",
       "    </tr>\n",
       "    <tr>\n",
       "      <th>50%</th>\n",
       "      <td>0.000104</td>\n",
       "      <td>0.000118</td>\n",
       "      <td>0.000131</td>\n",
       "      <td>0.000172</td>\n",
       "      <td>0.000208</td>\n",
       "      <td>0.000239</td>\n",
       "      <td>0.000276</td>\n",
       "      <td>0.000337</td>\n",
       "      <td>4.037371e-04</td>\n",
       "      <td>4.756950e-04</td>\n",
       "      <td>...</td>\n",
       "      <td>0.000000</td>\n",
       "      <td>0.000000</td>\n",
       "      <td>0.000000</td>\n",
       "      <td>0.000000e+00</td>\n",
       "      <td>0.000000</td>\n",
       "      <td>0.000000</td>\n",
       "      <td>0.000000</td>\n",
       "      <td>0.000000</td>\n",
       "      <td>0.000000</td>\n",
       "      <td>111.000000</td>\n",
       "    </tr>\n",
       "    <tr>\n",
       "      <th>75%</th>\n",
       "      <td>0.002556</td>\n",
       "      <td>0.002411</td>\n",
       "      <td>0.002417</td>\n",
       "      <td>0.002877</td>\n",
       "      <td>0.003221</td>\n",
       "      <td>0.003548</td>\n",
       "      <td>0.003946</td>\n",
       "      <td>0.004411</td>\n",
       "      <td>4.805814e-03</td>\n",
       "      <td>5.215707e-03</td>\n",
       "      <td>...</td>\n",
       "      <td>0.000000</td>\n",
       "      <td>0.000000</td>\n",
       "      <td>0.000000</td>\n",
       "      <td>2.250088e-16</td>\n",
       "      <td>0.000010</td>\n",
       "      <td>0.000021</td>\n",
       "      <td>0.000020</td>\n",
       "      <td>0.556202</td>\n",
       "      <td>0.000000</td>\n",
       "      <td>151.000000</td>\n",
       "    </tr>\n",
       "    <tr>\n",
       "      <th>max</th>\n",
       "      <td>0.091789</td>\n",
       "      <td>0.056024</td>\n",
       "      <td>0.044559</td>\n",
       "      <td>0.397845</td>\n",
       "      <td>0.149386</td>\n",
       "      <td>0.037269</td>\n",
       "      <td>0.271610</td>\n",
       "      <td>0.037480</td>\n",
       "      <td>3.060384e-01</td>\n",
       "      <td>1.159124e-01</td>\n",
       "      <td>...</td>\n",
       "      <td>0.081785</td>\n",
       "      <td>0.083285</td>\n",
       "      <td>0.084418</td>\n",
       "      <td>8.594993e-02</td>\n",
       "      <td>0.099890</td>\n",
       "      <td>0.130261</td>\n",
       "      <td>0.238778</td>\n",
       "      <td>1.000000</td>\n",
       "      <td>1.000000</td>\n",
       "      <td>151.000000</td>\n",
       "    </tr>\n",
       "  </tbody>\n",
       "</table>\n",
       "<p>8 rows × 153 columns</p>\n",
       "</div>"
      ],
      "text/plain": [
       "       Output_Bin_0  Output_Bin_1  Output_Bin_2  Output_Bin_3  Output_Bin_4  \\\n",
       "count  80034.000000  80034.000000  80034.000000  80034.000000  80034.000000   \n",
       "mean       0.004592      0.003381      0.002994      0.003368      0.003351   \n",
       "std        0.011374      0.007610      0.006414      0.008043      0.006695   \n",
       "min        0.000000      0.000000      0.000000      0.000000      0.000000   \n",
       "25%        0.000000      0.000000      0.000000      0.000000      0.000000   \n",
       "50%        0.000104      0.000118      0.000131      0.000172      0.000208   \n",
       "75%        0.002556      0.002411      0.002417      0.002877      0.003221   \n",
       "max        0.091789      0.056024      0.044559      0.397845      0.149386   \n",
       "\n",
       "       Output_Bin_5  Output_Bin_6  Output_Bin_7  Output_Bin_8  Output_Bin_9  \\\n",
       "count  80034.000000  80034.000000  80034.000000  8.003400e+04  8.003400e+04   \n",
       "mean       0.003394      0.003532      0.003670  3.814056e-03  3.911485e-03   \n",
       "std        0.006400      0.006739      0.006520  7.153507e-03  6.694352e-03   \n",
       "min        0.000000      0.000000      0.000000  0.000000e+00  0.000000e+00   \n",
       "25%        0.000000      0.000000      0.000000  1.265408e-28  1.791201e-26   \n",
       "50%        0.000239      0.000276      0.000337  4.037371e-04  4.756950e-04   \n",
       "75%        0.003548      0.003946      0.004411  4.805814e-03  5.215707e-03   \n",
       "max        0.037269      0.271610      0.037480  3.060384e-01  1.159124e-01   \n",
       "\n",
       "       ...  Output_Bin_143  Output_Bin_144  Output_Bin_145  Output_Bin_146  \\\n",
       "count  ...    80034.000000    80034.000000    80034.000000    8.003400e+04   \n",
       "mean   ...        0.001006        0.000848        0.000703    6.984170e-04   \n",
       "std    ...        0.005998        0.005194        0.004531    4.395189e-03   \n",
       "min    ...        0.000000        0.000000        0.000000    0.000000e+00   \n",
       "25%    ...        0.000000        0.000000        0.000000    0.000000e+00   \n",
       "50%    ...        0.000000        0.000000        0.000000    0.000000e+00   \n",
       "75%    ...        0.000000        0.000000        0.000000    2.250088e-16   \n",
       "max    ...        0.081785        0.083285        0.084418    8.594993e-02   \n",
       "\n",
       "       Output_Bin_147  Output_Bin_148  Output_Bin_149  Output_Bin_150  \\\n",
       "count    80034.000000    80034.000000    80034.000000    80034.000000   \n",
       "mean         0.001683        0.004521        0.013961        0.232077   \n",
       "std          0.005804        0.011810        0.034216        0.398182   \n",
       "min          0.000000        0.000000        0.000000        0.000000   \n",
       "25%          0.000000        0.000000        0.000000        0.000000   \n",
       "50%          0.000000        0.000000        0.000000        0.000000   \n",
       "75%          0.000010        0.000021        0.000020        0.556202   \n",
       "max          0.099890        0.130261        0.238778        1.000000   \n",
       "\n",
       "       Output_Is_End  Output_First_Zero  \n",
       "count   80034.000000       80034.000000  \n",
       "mean        0.245646         110.308256  \n",
       "std         0.430472          35.159546  \n",
       "min         0.000000          26.000000  \n",
       "25%         0.000000          81.000000  \n",
       "50%         0.000000         111.000000  \n",
       "75%         0.000000         151.000000  \n",
       "max         1.000000         151.000000  \n",
       "\n",
       "[8 rows x 153 columns]"
      ]
     },
     "metadata": {},
     "output_type": "display_data"
    }
   ],
   "source": [
    "def find_first_zero(row):\n",
    "    vals = list(row) \n",
    "  \n",
    "    last_zero_index = -1\n",
    "    for idx, val in enumerate(reversed(vals)): \n",
    "        if val > 0:\n",
    "            last_zero_index = bin_count - idx\n",
    "            break\n",
    "    return last_zero_index\n",
    "\n",
    "def create_test_train(data_set_path, test_size=0.10):\n",
    "    \"\"\" Splits a given csv file into testing and training. Target column is all the bins. Add a c \"\"\"\n",
    "    # Make sure the columns are set\n",
    "    data_set = pd.read_csv(data_set_path)\n",
    "\n",
    "    # Add column for classifying whether the output has most of the data in the last 10 bins.\n",
    "    end_average = data_set[[f'Output_Bin_{i}' for i in range(bin_count-10, bin_count)]].sum(axis=1) > 0.9\n",
    "\n",
    "    data_set['Output_Is_End'] = end_average\n",
    "    data_set['Output_Is_End'] = data_set['Output_Is_End'].astype(int)\n",
    "    #data_set['Output_Is_Not_End'] = ~data_set['Output_Is_End']\n",
    "    \n",
    "    \n",
    "\n",
    "    data_set['Output_First_Zero'] = data_set[[f'Output_Bin_{i}' for i in range(bin_count)]].apply(find_first_zero, axis=1)\n",
    "\n",
    "    # Shuffle the data\n",
    "    data_set = data_set.sample(frac=1, random_state=0)\n",
    " \n",
    "    # Select all except output bins\n",
    "    data_set_X = data_set.drop([f'Output_Bin_{i}' for i in range(bin_count)] + ['Output_Is_End', 'Output_First_Zero'], axis=1)\n",
    "    # Select only the output bins\n",
    "    data_set_Y = data_set[[f'Output_Bin_{i}' for i in range(bin_count)]+ ['Output_Is_End', 'Output_First_Zero']]\n",
    "\n",
    "    #Split into training and test data\n",
    "    return train_test_split(data_set_X,\n",
    "                            data_set_Y,\n",
    "                            test_size=test_size, \n",
    "                            random_state=300)\n",
    "\n",
    "#filename = \"/scratch/keh4nb/dust_training_data_all_bins_large.csv\"\n",
    "filename= \"/project/SDS-capstones-kropko21/uva-astronomy/dust_training_data_all_bins.csv\"\n",
    "X_train, X_test, y_train, y_test = create_test_train(filename, test_size=0.10)\n",
    "display(y_test.describe())"
   ]
  },
  {
   "cell_type": "markdown",
   "metadata": {},
   "source": [
    "Try xgboost for predicting whether all the particles are at the end of the distribution. Ended up getting over 99% test accuracy."
   ]
  },
  {
   "cell_type": "code",
   "execution_count": 34,
   "metadata": {},
   "outputs": [
    {
     "name": "stdout",
     "output_type": "stream",
     "text": [
      "[0]\tvalidation_0-error:0.01501\tvalidation_1-error:0.01493\n",
      "[1]\tvalidation_0-error:0.01274\tvalidation_1-error:0.01280\n",
      "[2]\tvalidation_0-error:0.01139\tvalidation_1-error:0.01179\n",
      "[3]\tvalidation_0-error:0.00999\tvalidation_1-error:0.01031\n",
      "[4]\tvalidation_0-error:0.00920\tvalidation_1-error:0.00993\n",
      "[5]\tvalidation_0-error:0.00865\tvalidation_1-error:0.00927\n",
      "[6]\tvalidation_0-error:0.00782\tvalidation_1-error:0.00843\n",
      "[7]\tvalidation_0-error:0.00744\tvalidation_1-error:0.00793\n",
      "[8]\tvalidation_0-error:0.00684\tvalidation_1-error:0.00738\n",
      "[9]\tvalidation_0-error:0.00630\tvalidation_1-error:0.00680\n",
      "[10]\tvalidation_0-error:0.00600\tvalidation_1-error:0.00656\n",
      "[11]\tvalidation_0-error:0.00572\tvalidation_1-error:0.00632\n",
      "[12]\tvalidation_0-error:0.00547\tvalidation_1-error:0.00609\n",
      "[13]\tvalidation_0-error:0.00505\tvalidation_1-error:0.00562\n",
      "[14]\tvalidation_0-error:0.00454\tvalidation_1-error:0.00527\n",
      "[15]\tvalidation_0-error:0.00442\tvalidation_1-error:0.00522\n",
      "[16]\tvalidation_0-error:0.00406\tvalidation_1-error:0.00497\n",
      "[17]\tvalidation_0-error:0.00379\tvalidation_1-error:0.00465\n",
      "[18]\tvalidation_0-error:0.00358\tvalidation_1-error:0.00455\n",
      "[19]\tvalidation_0-error:0.00344\tvalidation_1-error:0.00442\n",
      "[20]\tvalidation_0-error:0.00330\tvalidation_1-error:0.00434\n",
      "[21]\tvalidation_0-error:0.00297\tvalidation_1-error:0.00389\n",
      "[22]\tvalidation_0-error:0.00282\tvalidation_1-error:0.00389\n",
      "[23]\tvalidation_0-error:0.00278\tvalidation_1-error:0.00380\n",
      "[24]\tvalidation_0-error:0.00268\tvalidation_1-error:0.00369\n",
      "[25]\tvalidation_0-error:0.00258\tvalidation_1-error:0.00360\n",
      "[26]\tvalidation_0-error:0.00230\tvalidation_1-error:0.00342\n",
      "[27]\tvalidation_0-error:0.00209\tvalidation_1-error:0.00322\n",
      "[28]\tvalidation_0-error:0.00191\tvalidation_1-error:0.00306\n",
      "[29]\tvalidation_0-error:0.00175\tvalidation_1-error:0.00292\n",
      "[30]\tvalidation_0-error:0.00163\tvalidation_1-error:0.00275\n",
      "[31]\tvalidation_0-error:0.00156\tvalidation_1-error:0.00276\n",
      "[32]\tvalidation_0-error:0.00146\tvalidation_1-error:0.00269\n",
      "[33]\tvalidation_0-error:0.00140\tvalidation_1-error:0.00265\n",
      "[34]\tvalidation_0-error:0.00133\tvalidation_1-error:0.00266\n",
      "[35]\tvalidation_0-error:0.00125\tvalidation_1-error:0.00254\n",
      "[36]\tvalidation_0-error:0.00112\tvalidation_1-error:0.00235\n",
      "[37]\tvalidation_0-error:0.00106\tvalidation_1-error:0.00227\n",
      "[38]\tvalidation_0-error:0.00097\tvalidation_1-error:0.00232\n",
      "[39]\tvalidation_0-error:0.00094\tvalidation_1-error:0.00224\n",
      "[40]\tvalidation_0-error:0.00090\tvalidation_1-error:0.00219\n",
      "[41]\tvalidation_0-error:0.00089\tvalidation_1-error:0.00212\n",
      "[42]\tvalidation_0-error:0.00083\tvalidation_1-error:0.00209\n",
      "[43]\tvalidation_0-error:0.00080\tvalidation_1-error:0.00205\n",
      "[44]\tvalidation_0-error:0.00075\tvalidation_1-error:0.00201\n",
      "[45]\tvalidation_0-error:0.00068\tvalidation_1-error:0.00195\n",
      "[46]\tvalidation_0-error:0.00067\tvalidation_1-error:0.00192\n",
      "[47]\tvalidation_0-error:0.00064\tvalidation_1-error:0.00186\n",
      "[48]\tvalidation_0-error:0.00061\tvalidation_1-error:0.00179\n",
      "[49]\tvalidation_0-error:0.00059\tvalidation_1-error:0.00181\n",
      "[50]\tvalidation_0-error:0.00057\tvalidation_1-error:0.00176\n",
      "[51]\tvalidation_0-error:0.00053\tvalidation_1-error:0.00175\n",
      "[52]\tvalidation_0-error:0.00052\tvalidation_1-error:0.00179\n",
      "[53]\tvalidation_0-error:0.00047\tvalidation_1-error:0.00172\n",
      "[54]\tvalidation_0-error:0.00045\tvalidation_1-error:0.00160\n",
      "[55]\tvalidation_0-error:0.00044\tvalidation_1-error:0.00171\n",
      "[56]\tvalidation_0-error:0.00039\tvalidation_1-error:0.00166\n",
      "[57]\tvalidation_0-error:0.00036\tvalidation_1-error:0.00165\n",
      "[58]\tvalidation_0-error:0.00036\tvalidation_1-error:0.00166\n",
      "[59]\tvalidation_0-error:0.00036\tvalidation_1-error:0.00164\n",
      "[60]\tvalidation_0-error:0.00035\tvalidation_1-error:0.00162\n",
      "[61]\tvalidation_0-error:0.00032\tvalidation_1-error:0.00159\n",
      "[62]\tvalidation_0-error:0.00029\tvalidation_1-error:0.00156\n",
      "[63]\tvalidation_0-error:0.00027\tvalidation_1-error:0.00152\n",
      "[64]\tvalidation_0-error:0.00025\tvalidation_1-error:0.00147\n",
      "[65]\tvalidation_0-error:0.00024\tvalidation_1-error:0.00142\n",
      "[66]\tvalidation_0-error:0.00024\tvalidation_1-error:0.00139\n",
      "[67]\tvalidation_0-error:0.00025\tvalidation_1-error:0.00141\n",
      "[68]\tvalidation_0-error:0.00024\tvalidation_1-error:0.00140\n",
      "[69]\tvalidation_0-error:0.00023\tvalidation_1-error:0.00145\n",
      "[70]\tvalidation_0-error:0.00022\tvalidation_1-error:0.00135\n",
      "[71]\tvalidation_0-error:0.00021\tvalidation_1-error:0.00136\n",
      "[72]\tvalidation_0-error:0.00019\tvalidation_1-error:0.00140\n",
      "[73]\tvalidation_0-error:0.00018\tvalidation_1-error:0.00137\n",
      "[74]\tvalidation_0-error:0.00018\tvalidation_1-error:0.00139\n",
      "[75]\tvalidation_0-error:0.00017\tvalidation_1-error:0.00136\n",
      "[76]\tvalidation_0-error:0.00016\tvalidation_1-error:0.00142\n",
      "[77]\tvalidation_0-error:0.00015\tvalidation_1-error:0.00137\n",
      "[78]\tvalidation_0-error:0.00016\tvalidation_1-error:0.00139\n",
      "[79]\tvalidation_0-error:0.00015\tvalidation_1-error:0.00135\n",
      "[80]\tvalidation_0-error:0.00015\tvalidation_1-error:0.00130\n",
      "[81]\tvalidation_0-error:0.00014\tvalidation_1-error:0.00130\n",
      "[82]\tvalidation_0-error:0.00014\tvalidation_1-error:0.00127\n",
      "[83]\tvalidation_0-error:0.00013\tvalidation_1-error:0.00130\n",
      "[84]\tvalidation_0-error:0.00012\tvalidation_1-error:0.00129\n",
      "[85]\tvalidation_0-error:0.00011\tvalidation_1-error:0.00127\n",
      "[86]\tvalidation_0-error:0.00010\tvalidation_1-error:0.00122\n",
      "[87]\tvalidation_0-error:0.00010\tvalidation_1-error:0.00125\n",
      "[88]\tvalidation_0-error:0.00010\tvalidation_1-error:0.00125\n",
      "[89]\tvalidation_0-error:0.00009\tvalidation_1-error:0.00132\n",
      "[90]\tvalidation_0-error:0.00009\tvalidation_1-error:0.00127\n",
      "[91]\tvalidation_0-error:0.00009\tvalidation_1-error:0.00129\n",
      "[92]\tvalidation_0-error:0.00009\tvalidation_1-error:0.00127\n",
      "[93]\tvalidation_0-error:0.00008\tvalidation_1-error:0.00122\n",
      "[94]\tvalidation_0-error:0.00006\tvalidation_1-error:0.00120\n",
      "[95]\tvalidation_0-error:0.00006\tvalidation_1-error:0.00118\n",
      "[96]\tvalidation_0-error:0.00006\tvalidation_1-error:0.00119\n",
      "[97]\tvalidation_0-error:0.00006\tvalidation_1-error:0.00119\n",
      "[98]\tvalidation_0-error:0.00005\tvalidation_1-error:0.00120\n",
      "[99]\tvalidation_0-error:0.00005\tvalidation_1-error:0.00119\n"
     ]
    }
   ],
   "source": [
    "#%pip install xgboost\n",
    "import xgboost as xgb\n",
    "\n",
    "xgb_model = xgb.XGBClassifier(objective=\"binary:logistic\", \n",
    "                              random_state=42)\n",
    "xgb_model.fit(X_train, y_train['Output_Is_End'],\n",
    "             eval_set=[(X_train, y_train['Output_Is_End']), (X_test, y_test['Output_Is_End'])],\n",
    "             eval_metric='error',verbose=True)\n",
    "\n",
    "evals_result = xgb_model.evals_result()"
   ]
  },
  {
   "cell_type": "code",
   "execution_count": 36,
   "metadata": {},
   "outputs": [
    {
     "name": "stdout",
     "output_type": "stream",
     "text": [
      "Accuracy: 0.998813004473099\n"
     ]
    }
   ],
   "source": [
    "preds = xgb_model.predict(X_test)\n",
    "\n",
    "# Count the number of matches between predictions and labels\n",
    "correct = np.sum(preds == y_test['Output_Is_End'])\n",
    "\n",
    "# Calculate accuracy\n",
    "accuracy = correct / len(y_test)\n",
    "print(f\"Accuracy: {accuracy}\")\n",
    "\n",
    "xgb_model.save_model('xgb_model_is_end.model')"
   ]
  },
  {
   "cell_type": "markdown",
   "metadata": {},
   "source": [
    "Train a linear regression model for predicting when first zero occurs on models where the dust is not all stacked at the end."
   ]
  },
  {
   "cell_type": "code",
   "execution_count": null,
   "metadata": {},
   "outputs": [],
   "source": [
    "\n",
    "xgb_model = xgb.XGBRegressor(objective=\"reg:squarederror\",\n",
    "                             eta=0.1,\n",
    "                             n_estimators=1000,\n",
    "                             sub_sample=0.8,\n",
    "                             colsample_bytree=0.8,\n",
    "                             max_depth=8,\n",
    "                              random_state=42)\n",
    "\n",
    "\n",
    "# Only train on output not at end\n",
    "output_not_end_idx = y_train.Output_Is_End.index[y_train['Output_Is_End'] == 0]\n",
    "X_first_zero = X_train.loc[output_not_end_idx]\n",
    "y_first_zero = y_train.loc[output_not_end_idx, 'Output_First_Zero']\n",
    "\n",
    "xgb_model.fit(X_first_zero, y_first_zero,\n",
    "             eval_set=[(X_first_zero, y_first_zero)],\n",
    "             eval_metric='rmse', early_stopping_rounds=10, verbose=True)\n",
    "\n",
    "evals_result = xgb_model.evals_result()"
   ]
  },
  {
   "cell_type": "markdown",
   "metadata": {},
   "source": [
    "Best train result is 1.116 RMSE. Best test RMSE is 1.3"
   ]
  },
  {
   "cell_type": "code",
   "execution_count": 6,
   "metadata": {},
   "outputs": [
    {
     "name": "stdout",
     "output_type": "stream",
     "text": [
      "RMSE : 1.3883092322193251\n",
      "        preds  test\n",
      "509706  108.0   108\n",
      "280992  133.0   133\n",
      "589362  101.0   100\n",
      "100403   99.0    99\n",
      "569818  102.0   102\n",
      "747556   60.0    60\n",
      "162103  149.0   149\n",
      "763711   38.0    31\n",
      "175986  147.0   147\n",
      "773247   40.0    46\n",
      "599540   71.0    71\n",
      "196468  119.0   117\n",
      "728162   60.0    60\n",
      "794035   77.0    77\n",
      "429222  116.0   116\n",
      "622139  127.0   127\n",
      "460440  121.0   121\n",
      "96798    99.0    99\n",
      "662134   90.0    90\n",
      "229566   87.0    86\n",
      "520709   83.0    84\n",
      "614446   72.0    72\n",
      "577202  101.0   101\n",
      "198813   86.0    86\n",
      "657359  106.0   107\n"
     ]
    }
   ],
   "source": [
    "from sklearn.metrics import mean_squared_error as MSE \n",
    "\n",
    "#Optionally load pretrained model\n",
    "# Load first zero model\n",
    "#xgb_model = xgb.XGBRegressor()\n",
    "#xgb_model.load_model('xgb_model_first_zero.model')\n",
    "\n",
    "# Only predict on output not at end\n",
    "output_not_end_test_idx = y_test.Output_Is_End.index[y_test['Output_Is_End'] == 0]\n",
    "X_test_first_zero = X_test.loc[output_not_end_test_idx]\n",
    "y_test_first_zero = y_test.loc[output_not_end_test_idx, 'Output_First_Zero']\n",
    "\n",
    "# Predict the model. Round preds since bins are whole numbers\n",
    "pred = np.rint(xgb_model.predict(X_test_first_zero)) \n",
    "  \n",
    "# RMSE Computation \n",
    "rmse = np.sqrt(MSE(y_test_first_zero, pred)) \n",
    "print(f\"RMSE : {rmse}\") \n",
    "\n",
    "pd.set_option('display.max_rows', None)\n",
    "print(pd.DataFrame({\"preds\":pred, \"test\":y_test_first_zero}).head(25))"
   ]
  },
  {
   "cell_type": "code",
   "execution_count": 33,
   "metadata": {},
   "outputs": [],
   "source": [
    "xgb_model.save_model('xgb_model_first_zero.model')"
   ]
  },
  {
   "cell_type": "markdown",
   "metadata": {},
   "source": [
    "Train two MDNs, one on the dust at end and one without"
   ]
  },
  {
   "cell_type": "code",
   "execution_count": 5,
   "metadata": {},
   "outputs": [],
   "source": [
    "def build_mdn_model(activation='sigmoid', k=16):\n",
    "    \"\"\" k is the number of mixture models\"\"\"\n",
    "    # Number of columns (bin count plus 8 inputs)\n",
    "    l = bin_count + 8\n",
    "\n",
    "    # Network\n",
    "    input = tf.keras.Input(shape=(l,))\n",
    "\n",
    "    layer = tf.keras.layers.Dense(256, activation=activation, name='baselayer')(input)\n",
    "    layer_2 = tf.keras.layers.Dense(128, activation=activation, name='layer_2')(layer)\n",
    "\n",
    "    # Connect the mdn layer to the output of our neural network\n",
    "    mdn_layer = mdn.MDN(bin_count,k, name='mdn')(layer_2)\n",
    "    model = tf.keras.models.Model(input, [mdn_layer])\n",
    "\n",
    "\n",
    "    opt = tf.keras.optimizers.Adam(learning_rate=1e4)\n",
    "    model.compile(loss=mdn.get_mixture_loss_func(bin_count,k), optimizer=tf.keras.optimizers.Adam())\n",
    "    model.summary()\n",
    "    return model"
   ]
  },
  {
   "cell_type": "markdown",
   "metadata": {},
   "source": [
    "Build a mdn model for the outputs where the dust is at the end of the distribution"
   ]
  },
  {
   "cell_type": "code",
   "execution_count": 7,
   "metadata": {},
   "outputs": [
    {
     "name": "stdout",
     "output_type": "stream",
     "text": [
      "Model: \"functional_4\"\n",
      "_________________________________________________________________\n",
      "Layer (type)                 Output Shape              Param #   \n",
      "=================================================================\n",
      "input_3 (InputLayer)         [(None, 159)]             0         \n",
      "_________________________________________________________________\n",
      "baselayer (Dense)            (None, 256)               40960     \n",
      "_________________________________________________________________\n",
      "layer_2 (Dense)              (None, 128)               32896     \n",
      "_________________________________________________________________\n",
      "mdn (MDN)                    (None, 19392)             2501568   \n",
      "=================================================================\n",
      "Total params: 2,575,424\n",
      "Trainable params: 2,575,424\n",
      "Non-trainable params: 0\n",
      "_________________________________________________________________\n",
      "(176325, 151)\n",
      "Epoch 1/75\n",
      "620/620 [==============================] - 30s 49ms/step - loss: -354.2905 - val_loss: -393.7363\n",
      "Epoch 2/75\n",
      "620/620 [==============================] - 23s 38ms/step - loss: -382.4264 - val_loss: -485.1568\n",
      "Epoch 3/75\n",
      "620/620 [==============================] - 23s 37ms/step - loss: -594.4778 - val_loss: -726.8032\n",
      "Epoch 4/75\n",
      "620/620 [==============================] - 23s 38ms/step - loss: -721.5220 - val_loss: -726.9091\n",
      "Epoch 5/75\n",
      "620/620 [==============================] - 23s 38ms/step - loss: -706.1930 - val_loss: -489.0540\n",
      "Epoch 6/75\n",
      "620/620 [==============================] - 23s 37ms/step - loss: -631.6117 - val_loss: -658.7929\n",
      "Epoch 7/75\n",
      "620/620 [==============================] - 23s 37ms/step - loss: -746.9925 - val_loss: -794.3170\n",
      "Epoch 8/75\n",
      "620/620 [==============================] - 23s 37ms/step - loss: -789.3264 - val_loss: -857.9996\n",
      "Epoch 9/75\n",
      "620/620 [==============================] - 23s 37ms/step - loss: -812.9383 - val_loss: -864.9081\n",
      "Epoch 10/75\n",
      "620/620 [==============================] - 23s 37ms/step - loss: -550.4316 - val_loss: -463.6891\n",
      "Epoch 11/75\n",
      "620/620 [==============================] - 23s 38ms/step - loss: -672.5098 - val_loss: -805.6271\n",
      "Epoch 12/75\n",
      "620/620 [==============================] - 23s 38ms/step - loss: -807.6526 - val_loss: -830.7253\n",
      "Epoch 13/75\n",
      "620/620 [==============================] - 23s 37ms/step - loss: -840.4395 - val_loss: -888.9031\n",
      "Epoch 14/75\n",
      "620/620 [==============================] - 23s 38ms/step - loss: -646.8202 - val_loss: -743.5687\n",
      "Epoch 15/75\n",
      "620/620 [==============================] - 23s 38ms/step - loss: -783.3835 - val_loss: -567.6796\n",
      "Epoch 16/75\n",
      "620/620 [==============================] - 23s 38ms/step - loss: -812.4645 - val_loss: -870.0876\n",
      "Epoch 17/75\n",
      "620/620 [==============================] - 23s 38ms/step - loss: -872.2043 - val_loss: -914.7718\n",
      "Epoch 18/75\n",
      "620/620 [==============================] - 24s 38ms/step - loss: -860.8810 - val_loss: -790.6058\n",
      "Epoch 19/75\n",
      "620/620 [==============================] - 24s 38ms/step - loss: -893.6748 - val_loss: -815.0151\n",
      "Epoch 20/75\n",
      "620/620 [==============================] - 23s 38ms/step - loss: -684.5865 - val_loss: -813.9850\n",
      "Epoch 21/75\n",
      "620/620 [==============================] - 23s 38ms/step - loss: -737.2270 - val_loss: -746.5521\n",
      "Epoch 22/75\n",
      "620/620 [==============================] - 23s 37ms/step - loss: -807.9338 - val_loss: -883.1389\n",
      "Epoch 23/75\n",
      "620/620 [==============================] - 23s 37ms/step - loss: -738.3349 - val_loss: -766.7282\n",
      "Epoch 24/75\n",
      "620/620 [==============================] - 23s 37ms/step - loss: -823.8267 - val_loss: -506.1074\n",
      "Epoch 25/75\n",
      "620/620 [==============================] - 23s 37ms/step - loss: -759.2322 - val_loss: -845.6917\n",
      "Epoch 26/75\n",
      "620/620 [==============================] - 23s 37ms/step - loss: -856.7431 - val_loss: -896.0612\n",
      "Epoch 27/75\n",
      "620/620 [==============================] - 23s 37ms/step - loss: -897.6365 - val_loss: -949.8530\n",
      "Epoch 28/75\n",
      "620/620 [==============================] - 23s 37ms/step - loss: -912.9325 - val_loss: -946.7645\n",
      "Epoch 29/75\n",
      "620/620 [==============================] - 23s 37ms/step - loss: -928.3723 - val_loss: -977.0808\n",
      "Epoch 30/75\n",
      "620/620 [==============================] - 23s 37ms/step - loss: -932.8398 - val_loss: -959.4662\n",
      "Epoch 31/75\n",
      "620/620 [==============================] - 23s 37ms/step - loss: -937.5978 - val_loss: -887.9752\n",
      "Epoch 32/75\n",
      "620/620 [==============================] - 23s 37ms/step - loss: -944.6339 - val_loss: -965.4643\n",
      "Epoch 33/75\n",
      "620/620 [==============================] - 23s 37ms/step - loss: -948.9622 - val_loss: -993.5430\n",
      "Epoch 34/75\n",
      "620/620 [==============================] - 23s 37ms/step - loss: -956.7023 - val_loss: -836.5316\n",
      "Epoch 35/75\n",
      "620/620 [==============================] - 23s 36ms/step - loss: -774.8865 - val_loss: -807.9034\n",
      "Epoch 36/75\n",
      "620/620 [==============================] - 23s 37ms/step - loss: -868.5866 - val_loss: -902.5294\n",
      "Epoch 37/75\n",
      "620/620 [==============================] - 23s 37ms/step - loss: -907.8776 - val_loss: -833.1027\n",
      "Epoch 38/75\n",
      "620/620 [==============================] - 23s 37ms/step - loss: -709.8582 - val_loss: -836.3431\n",
      "Epoch 39/75\n",
      "620/620 [==============================] - 23s 37ms/step - loss: -867.4791 - val_loss: -882.9460\n",
      "Epoch 40/75\n",
      "620/620 [==============================] - 23s 37ms/step - loss: -945.9321 - val_loss: -923.8414\n",
      "Epoch 44/75\n",
      "620/620 [==============================] - 23s 37ms/step - loss: -955.9610 - val_loss: -959.9900\n",
      "Epoch 45/75\n",
      "620/620 [==============================] - 23s 37ms/step - loss: -875.7922 - val_loss: -723.0842\n",
      "Epoch 46/75\n",
      "620/620 [==============================] - 23s 37ms/step - loss: -717.3128 - val_loss: -565.7341\n",
      "Epoch 47/75\n",
      "620/620 [==============================] - 23s 36ms/step - loss: -857.8911 - val_loss: -879.9012\n",
      "Epoch 48/75\n",
      "620/620 [==============================] - 23s 37ms/step - loss: -910.9581 - val_loss: -955.8842\n",
      "Epoch 49/75\n",
      "620/620 [==============================] - 23s 37ms/step - loss: -929.4982 - val_loss: -974.3600\n",
      "Epoch 50/75\n",
      "620/620 [==============================] - 23s 37ms/step - loss: -938.4283 - val_loss: -994.3507\n",
      "Epoch 55/75\n",
      "620/620 [==============================] - 23s 37ms/step - loss: -947.3696 - val_loss: -971.8157\n",
      "Epoch 56/75\n",
      "620/620 [==============================] - 23s 37ms/step - loss: -948.2926 - val_loss: -984.8864\n",
      "Epoch 57/75\n",
      "620/620 [==============================] - 23s 38ms/step - loss: -821.5622 - val_loss: -662.3577\n",
      "Epoch 58/75\n",
      "620/620 [==============================] - 23s 37ms/step - loss: -773.4004 - val_loss: -822.6460\n",
      "Epoch 59/75\n",
      "620/620 [==============================] - 23s 37ms/step - loss: -870.4124 - val_loss: -898.6599\n",
      "Epoch 60/75\n",
      "620/620 [==============================] - 23s 37ms/step - loss: -909.2902 - val_loss: -945.1350\n",
      "Epoch 61/75\n",
      "620/620 [==============================] - 23s 37ms/step - loss: -931.5037 - val_loss: -800.7144\n",
      "Epoch 62/75\n",
      "620/620 [==============================] - 23s 37ms/step - loss: -932.5889 - val_loss: -964.4111\n",
      "Epoch 63/75\n",
      "620/620 [==============================] - 23s 37ms/step - loss: -946.7451 - val_loss: -996.0044\n",
      "Epoch 64/75\n",
      " 55/620 [=>............................] - ETA: 19s - loss: -949.1824"
     ]
    },
    {
     "name": "stderr",
     "output_type": "stream",
     "text": [
      "IOPub message rate exceeded.\n",
      "The notebook server will temporarily stop sending output\n",
      "to the client in order to avoid crashing it.\n",
      "To change this limit, set the config variable\n",
      "`--NotebookApp.iopub_msg_rate_limit`.\n",
      "\n",
      "Current values:\n",
      "NotebookApp.iopub_msg_rate_limit=1000.0 (msgs/sec)\n",
      "NotebookApp.rate_limit_window=3.0 (secs)\n",
      "\n"
     ]
    }
   ],
   "source": [
    "model_spike = build_mdn_model(k=64)\n",
    "output_is_end_idx = y_train.Output_Is_End.index[y_train['Output_Is_End'] == 1]\n",
    "\n",
    "X = X_train.loc[output_is_end_idx]\n",
    "y = y_train.loc[output_is_end_idx].drop(['Output_Is_End', 'Output_First_Zero'], axis=1)\n",
    "print(y.shape)\n",
    "spike_fit = model_spike.fit(x=X, y=y, batch_size=256, epochs=75, validation_split=0.1, callbacks=[tf.keras.callbacks.TerminateOnNaN()])"
   ]
  },
  {
   "cell_type": "code",
   "execution_count": 8,
   "metadata": {},
   "outputs": [
    {
     "name": "stdout",
     "output_type": "stream",
     "text": [
      "WARNING:tensorflow:From /home/keh4nb/.local/lib/python3.7/site-packages/tensorflow/python/training/tracking/tracking.py:111: Model.state_updates (from tensorflow.python.keras.engine.training) is deprecated and will be removed in a future version.\n",
      "Instructions for updating:\n",
      "This property should not be used in TensorFlow 2.0, as updates are applied automatically.\n",
      "WARNING:tensorflow:From /home/keh4nb/.local/lib/python3.7/site-packages/tensorflow/python/training/tracking/tracking.py:111: Layer.updates (from tensorflow.python.keras.engine.base_layer) is deprecated and will be removed in a future version.\n",
      "Instructions for updating:\n",
      "This property should not be used in TensorFlow 2.0, as updates are applied automatically.\n",
      "INFO:tensorflow:Assets written to: spiked_mdn_model/model/assets\n"
     ]
    }
   ],
   "source": [
    "model_spike.save(\"spiked_mdn_model/model\")"
   ]
  },
  {
   "cell_type": "code",
   "execution_count": 6,
   "metadata": {},
   "outputs": [],
   "source": [
    "from scipy.stats import entropy\n",
    "def predict_for_test(model, X_test, y_test, k):\n",
    "\n",
    "    start = timer()\n",
    "\n",
    "    # Returns the predictions of the parameters of the distributions and weights\n",
    "    preds = model.predict(X_test)\n",
    "    samples_list = []\n",
    "    # Obtain 5 samples per prediction\n",
    "    for i in range(5):\n",
    "        samples_list.append(np.apply_along_axis(mdn.sample_from_output, 1, preds, bin_count, k, temp=1.0, sigma_temp=1.0))\n",
    "\n",
    "    # Average the samples for our predicitons\n",
    "    y_samples = np.mean(np.array(samples_list),axis=0)\n",
    "    y_samples = y_samples.reshape(len(X_test),bin_count)\n",
    "    # Convert negatives to 0\n",
    "    y_samples = np.clip(y_samples,0, a_max=None)\n",
    "    end = timer()\n",
    "    \n",
    "    print(f\"Total time taken: {end-start}. Seconds per prediction: {(end-start)/len(preds)}\")\n",
    "    \n",
    "    return y_samples"
   ]
  },
  {
   "cell_type": "markdown",
   "metadata": {},
   "source": [
    "Make predictions for this model and evaluate the results"
   ]
  },
  {
   "cell_type": "code",
   "execution_count": 7,
   "metadata": {},
   "outputs": [
    {
     "name": "stdout",
     "output_type": "stream",
     "text": [
      "Total time taken: 226.4551142314449. Seconds per prediction: 0.011518571425811032\n"
     ]
    }
   ],
   "source": [
    "output_is_end_idx = y_test.Output_Is_End.index[y_test['Output_Is_End'] == 1]\n",
    "\n",
    "X_test_spike = X_test.loc[output_is_end_idx]\n",
    "y_test_spike = y_test.loc[output_is_end_idx].drop(['Output_Is_End','Output_First_Zero'], axis=1)\n",
    "\n",
    "spike_preds = predict_for_test(model_spike, X_test_spike, y_test_spike, 16)"
   ]
  },
  {
   "cell_type": "code",
   "execution_count": 19,
   "metadata": {},
   "outputs": [],
   "source": [
    "from scipy.stats import entropy\n",
    "def evaluate_fit(y_samples, y_test):\n",
    "    ent = []\n",
    "\n",
    "    # Turn all negative preds to 0\n",
    "    y_samples = np.clip(y_samples,0, a_max=None)\n",
    "    # Small constant to prevent inf for 0s\n",
    "    c = 1e-100\n",
    "    \n",
    "    y_samples += c\n",
    "    y_test += c\n",
    "    \n",
    "    for i in range(len(y_test)):\n",
    "        e = entropy(y_samples[i], y_test.iloc[i])\n",
    "        ent.append(e if e != np.inf else 1000)   \n",
    "    display(pd.DataFrame(ent).describe())"
   ]
  },
  {
   "cell_type": "markdown",
   "metadata": {},
   "source": [
    "The entropy numbers are very high, but the graphs look similar"
   ]
  },
  {
   "cell_type": "code",
   "execution_count": 20,
   "metadata": {},
   "outputs": [
    {
     "data": {
      "text/html": [
       "<div>\n",
       "<style scoped>\n",
       "    .dataframe tbody tr th:only-of-type {\n",
       "        vertical-align: middle;\n",
       "    }\n",
       "\n",
       "    .dataframe tbody tr th {\n",
       "        vertical-align: top;\n",
       "    }\n",
       "\n",
       "    .dataframe thead th {\n",
       "        text-align: right;\n",
       "    }\n",
       "</style>\n",
       "<table border=\"1\" class=\"dataframe\">\n",
       "  <thead>\n",
       "    <tr style=\"text-align: right;\">\n",
       "      <th></th>\n",
       "      <th>0</th>\n",
       "    </tr>\n",
       "  </thead>\n",
       "  <tbody>\n",
       "    <tr>\n",
       "      <th>count</th>\n",
       "      <td>19660.000000</td>\n",
       "    </tr>\n",
       "    <tr>\n",
       "      <th>mean</th>\n",
       "      <td>3.733988</td>\n",
       "    </tr>\n",
       "    <tr>\n",
       "      <th>std</th>\n",
       "      <td>1.047191</td>\n",
       "    </tr>\n",
       "    <tr>\n",
       "      <th>min</th>\n",
       "      <td>0.414306</td>\n",
       "    </tr>\n",
       "    <tr>\n",
       "      <th>25%</th>\n",
       "      <td>3.325009</td>\n",
       "    </tr>\n",
       "    <tr>\n",
       "      <th>50%</th>\n",
       "      <td>3.963877</td>\n",
       "    </tr>\n",
       "    <tr>\n",
       "      <th>75%</th>\n",
       "      <td>4.417032</td>\n",
       "    </tr>\n",
       "    <tr>\n",
       "      <th>max</th>\n",
       "      <td>7.878138</td>\n",
       "    </tr>\n",
       "  </tbody>\n",
       "</table>\n",
       "</div>"
      ],
      "text/plain": [
       "                  0\n",
       "count  19660.000000\n",
       "mean       3.733988\n",
       "std        1.047191\n",
       "min        0.414306\n",
       "25%        3.325009\n",
       "50%        3.963877\n",
       "75%        4.417032\n",
       "max        7.878138"
      ]
     },
     "metadata": {},
     "output_type": "display_data"
    }
   ],
   "source": [
    "evaluate_fit(spike_preds, y_test_spike)"
   ]
  },
  {
   "cell_type": "code",
   "execution_count": 11,
   "metadata": {},
   "outputs": [
    {
     "data": {
      "image/png": "[encoded data removed]",
      "text/plain": [
       "<Figure size 720x720 with 4 Axes>"
      ]
     },
     "metadata": {
      "needs_background": "light"
     },
     "output_type": "display_data"
    }
   ],
   "source": [
    "from matplotlib import pyplot as plt\n",
    "fig, axes = plt.subplots(nrows=2, ncols=2, figsize=(10, 10))\n",
    "\n",
    "for ax in axes.flatten():\n",
    "    # Generate random index to plot\n",
    "    i = np.random.randint(len(y_test_spike), size=1)[0]\n",
    "    test_pred = spike_preds[i]\n",
    "    true = y_test_spike.iloc[i]\n",
    "    ax.plot(test_pred, color='blue', label='pred')\n",
    "    ax.plot(true, color='orange', label='true')\n",
    "    ax.xaxis.set_visible(False)\n",
    "    ax.legend(loc=\"upper left\")\n",
    "    \n",
    "plt.show()"
   ]
  },
  {
   "cell_type": "markdown",
   "metadata": {},
   "source": [
    "Create a seperate mdn model to use on the rest."
   ]
  },
  {
   "cell_type": "code",
   "execution_count": 23,
   "metadata": {},
   "outputs": [
    {
     "name": "stdout",
     "output_type": "stream",
     "text": [
      "Model: \"functional_9\"\n",
      "_________________________________________________________________\n",
      "Layer (type)                 Output Shape              Param #   \n",
      "=================================================================\n",
      "input_5 (InputLayer)         [(None, 159)]             0         \n",
      "_________________________________________________________________\n",
      "baselayer (Dense)            (None, 128)               20480     \n",
      "_________________________________________________________________\n",
      "mdn (MDN)                    (None, 4848)              625392    \n",
      "=================================================================\n",
      "Total params: 645,872\n",
      "Trainable params: 645,872\n",
      "Non-trainable params: 0\n",
      "_________________________________________________________________\n",
      "Epoch 1/25\n",
      "479/479 [==============================] - 26s 54ms/step - loss: -421.1615 - val_loss: -450.0800\n",
      "Epoch 2/25\n",
      "479/479 [==============================] - 24s 51ms/step - loss: -467.3605 - val_loss: -464.8155\n",
      "Epoch 3/25\n",
      "479/479 [==============================] - 24s 51ms/step - loss: -470.0327 - val_loss: -463.4798\n",
      "Epoch 4/25\n",
      "479/479 [==============================] - 24s 51ms/step - loss: -471.1364 - val_loss: -464.1013\n",
      "Epoch 5/25\n",
      "479/479 [==============================] - 24s 51ms/step - loss: -468.8939 - val_loss: -458.0166\n",
      "Epoch 6/25\n",
      "479/479 [==============================] - 24s 51ms/step - loss: -471.1875 - val_loss: -461.4968\n",
      "Epoch 7/25\n",
      "479/479 [==============================] - 24s 50ms/step - loss: -470.5245 - val_loss: -467.1684\n",
      "Epoch 8/25\n",
      "479/479 [==============================] - 24s 50ms/step - loss: -472.7069 - val_loss: -456.7720\n",
      "Epoch 9/25\n",
      "479/479 [==============================] - 24s 51ms/step - loss: -473.7687 - val_loss: -468.7123\n",
      "Epoch 10/25\n",
      "479/479 [==============================] - 24s 51ms/step - loss: -471.4776 - val_loss: -466.0371\n",
      "Epoch 11/25\n",
      "479/479 [==============================] - 24s 50ms/step - loss: -474.4810 - val_loss: -461.5173\n",
      "Epoch 12/25\n",
      "479/479 [==============================] - 24s 51ms/step - loss: -471.9143 - val_loss: -455.4760\n",
      "Epoch 13/25\n",
      "479/479 [==============================] - 24s 51ms/step - loss: -470.9727 - val_loss: -461.5440\n",
      "Epoch 14/25\n",
      "479/479 [==============================] - 24s 51ms/step - loss: -466.9340 - val_loss: -459.8691\n",
      "Epoch 15/25\n",
      "479/479 [==============================] - 25s 51ms/step - loss: -467.7065 - val_loss: -455.0962\n",
      "Epoch 16/25\n",
      "479/479 [==============================] - 25s 52ms/step - loss: -466.4594 - val_loss: -431.8430\n",
      "Epoch 17/25\n",
      "479/479 [==============================] - 24s 51ms/step - loss: -471.7205 - val_loss: -454.4244\n",
      "Epoch 18/25\n",
      "479/479 [==============================] - 24s 51ms/step - loss: -474.9106 - val_loss: -433.0614\n",
      "Epoch 19/25\n",
      "479/479 [==============================] - 24s 51ms/step - loss: -472.3056 - val_loss: -461.3377\n",
      "Epoch 20/25\n",
      "479/479 [==============================] - 24s 51ms/step - loss: -472.5916 - val_loss: -470.8174\n",
      "Epoch 21/25\n",
      "479/479 [==============================] - 24s 51ms/step - loss: -475.4256 - val_loss: -471.3320\n",
      "Epoch 22/25\n",
      "479/479 [==============================] - 24s 51ms/step - loss: -473.8631 - val_loss: -469.5583\n",
      "Epoch 23/25\n",
      "479/479 [==============================] - 24s 51ms/step - loss: -471.4531 - val_loss: -458.9743\n",
      "Epoch 24/25\n",
      "479/479 [==============================] - 24s 51ms/step - loss: -468.0735 - val_loss: -467.4608\n",
      "Epoch 25/25\n",
      "479/479 [==============================] - 24s 51ms/step - loss: -470.8947 - val_loss: -461.0529\n"
     ]
    }
   ],
   "source": [
    "model_non_spike = build_mdn_model()\n",
    "\n",
    "output_is_not_end_idx = y_train.Output_Is_End.index[y_train['Output_Is_End'] == 0]\n",
    "\n",
    "X = X_train.loc[output_is_not_end_idx]\n",
    "y = y_train.loc[output_is_not_end_idx].drop(['Output_Is_End', 'Output_First_Zero'], axis=1)\n",
    "non_spike_fit = model_non_spike.fit(x=X, y=y, batch_size=1024, epochs=25, validation_split=0.1, callbacks=[tf.keras.callbacks.TerminateOnNaN()])"
   ]
  },
  {
   "cell_type": "code",
   "execution_count": 24,
   "metadata": {},
   "outputs": [
    {
     "name": "stdout",
     "output_type": "stream",
     "text": [
      "Total time taken: 713.8454396454617. Seconds per prediction: 0.011823722788708082\n"
     ]
    }
   ],
   "source": [
    "output_is_not_end_idx = y_test.Output_Is_End.index[y_test['Output_Is_End'] == 0]\n",
    "\n",
    "X_test_non_spike = X_test.loc[output_is_not_end_idx]\n",
    "y_test_non_spike = y_test.loc[output_is_not_end_idx].drop(['Output_Is_End','Output_First_Zero'], axis=1)\n",
    "\n",
    "non_spike_preds = predict_for_test(model_non_spike, X_test_non_spike, y_test_non_spike, 16)"
   ]
  },
  {
   "cell_type": "code",
   "execution_count": 25,
   "metadata": {},
   "outputs": [
    {
     "data": {
      "text/html": [
       "<div>\n",
       "<style scoped>\n",
       "    .dataframe tbody tr th:only-of-type {\n",
       "        vertical-align: middle;\n",
       "    }\n",
       "\n",
       "    .dataframe tbody tr th {\n",
       "        vertical-align: top;\n",
       "    }\n",
       "\n",
       "    .dataframe thead th {\n",
       "        text-align: right;\n",
       "    }\n",
       "</style>\n",
       "<table border=\"1\" class=\"dataframe\">\n",
       "  <thead>\n",
       "    <tr style=\"text-align: right;\">\n",
       "      <th></th>\n",
       "      <th>0</th>\n",
       "    </tr>\n",
       "  </thead>\n",
       "  <tbody>\n",
       "    <tr>\n",
       "      <th>count</th>\n",
       "      <td>60374.000000</td>\n",
       "    </tr>\n",
       "    <tr>\n",
       "      <th>mean</th>\n",
       "      <td>59.828494</td>\n",
       "    </tr>\n",
       "    <tr>\n",
       "      <th>std</th>\n",
       "      <td>40.482187</td>\n",
       "    </tr>\n",
       "    <tr>\n",
       "      <th>min</th>\n",
       "      <td>0.875193</td>\n",
       "    </tr>\n",
       "    <tr>\n",
       "      <th>25%</th>\n",
       "      <td>31.162486</td>\n",
       "    </tr>\n",
       "    <tr>\n",
       "      <th>50%</th>\n",
       "      <td>51.231835</td>\n",
       "    </tr>\n",
       "    <tr>\n",
       "      <th>75%</th>\n",
       "      <td>81.241800</td>\n",
       "    </tr>\n",
       "    <tr>\n",
       "      <th>max</th>\n",
       "      <td>200.490032</td>\n",
       "    </tr>\n",
       "  </tbody>\n",
       "</table>\n",
       "</div>"
      ],
      "text/plain": [
       "                  0\n",
       "count  60374.000000\n",
       "mean      59.828494\n",
       "std       40.482187\n",
       "min        0.875193\n",
       "25%       31.162486\n",
       "50%       51.231835\n",
       "75%       81.241800\n",
       "max      200.490032"
      ]
     },
     "metadata": {},
     "output_type": "display_data"
    }
   ],
   "source": [
    "evaluate_fit(non_spike_preds, y_test_non_spike)"
   ]
  },
  {
   "cell_type": "code",
   "execution_count": 27,
   "metadata": {},
   "outputs": [
    {
     "data": {
      "image/png": "[encoded data removed]",
      "text/plain": [
       "<Figure size 720x720 with 4 Axes>"
      ]
     },
     "metadata": {
      "needs_background": "light"
     },
     "output_type": "display_data"
    }
   ],
   "source": [
    "from matplotlib import pyplot as plt\n",
    "fig, axes = plt.subplots(nrows=2, ncols=2, figsize=(10, 10))\n",
    "\n",
    "for ax in axes.flatten():\n",
    "    # Generate random index to plot\n",
    "    i = np.random.randint(len(y_test_spike), size=1)[0]\n",
    "    test_pred = non_spike_preds[i]\n",
    "    true = y_test_non_spike.iloc[i]\n",
    "    ax.plot(test_pred, color='blue', label='pred')\n",
    "    ax.plot(true, color='orange', label='true')\n",
    "    ax.xaxis.set_visible(False)\n",
    "    ax.legend(loc=\"upper left\")\n",
    "    \n",
    "plt.show()"
   ]
  },
  {
   "cell_type": "markdown",
   "metadata": {},
   "source": [
    "Try to find the best tuning parameters for the neural network. The network gets stuck predicting everything as 0 (75% accuracy), but cannot improve on it."
   ]
  },
  {
   "cell_type": "code",
   "execution_count": null,
   "metadata": {},
   "outputs": [],
   "source": [
    "#%pip install -U keras-tuner\n",
    "import kerastuner as kt\n",
    "\n",
    "def build_model(hp):\n",
    "        # Number of columns (bin count plus 8 inputs)\n",
    "    l = bin_count + 8\n",
    "\n",
    "    activation = 'selu'\n",
    "\n",
    "    # Network\n",
    "    input = tf.keras.Input(shape=(l,))\n",
    "\n",
    "    layer =  tf.keras.layers.Dense(hp.Int('hidden_size', 16, 256, step=16, default=128), activation=hp.Choice('activation', values=['relu', 'selu', 'tanh', 'swish'], default='relu'), name='baselayer')(input)\n",
    "    #layer = tf.keras.layers.Dense(1024, activation='relu', name='baselayer')(input)\n",
    "    #layer_2 = tf.keras.layers.Dense(1024, activation='tanh', name='baselayer2')(layer)\n",
    "    #layer_3 = tf.keras.layers.Dense(16, activation='tanh', name='baselayer3')(layer_2)\n",
    "    #layer_4 = tf.keras.layers.Dense(64, activation=activation, name='baselayer4')(layer_3)\n",
    "    #layer_5 = tf.keras.layers.Dense(32, activation=activation, name='baselayer5')(layer_4)\n",
    "    # Connect the mdn layer to the output of our neural network\n",
    "    #mdn_layer = mdn.MDN(bin_count,k, name='mdn')(layer_5)\n",
    "    #model = tf.keras.models.Model(input, [mdn_layer])\n",
    "\n",
    "    # 2 classes\n",
    "    outputs = tf.keras.layers.Dense(1, activation='sigmoid', name=\"predictions\")(layer)\n",
    "    model = tf.keras.models.Model(input, [outputs])\n",
    "\n",
    "\n",
    "    #opt = tf.keras.optimizers.Adam(learning_rate=1e4)\n",
    "    opt = tf.keras.optimizers.Adam(learning_rate=hp.Float('learning_rate', 1e-5, 1e-2, sampling='log'))\n",
    "    #model.compile(loss=mdn.get_mixture_loss_func(bin_count,k), optimizer=tf.keras.optimizers.Adam())\n",
    "    model.compile(optimizer=opt,\n",
    "                  loss='binary_crossentropy',\n",
    "                  metrics=['accuracy'])\n",
    "    \n",
    "    return model\n",
    "\n",
    "tuner = kt.tuners.BayesianOptimization(\n",
    "  build_model,\n",
    "  objective='val_accuracy',\n",
    "  max_trials=50)\n",
    "\n",
    "tuner.search(x=X_train, y=y_train, batch_size=128, epochs=30, validation_split=0.1, class_weight=cweights, callbacks=[tf.keras.callbacks.EarlyStopping(patience=1)])"
   ]
  },
  {
   "cell_type": "code",
   "execution_count": 5,
   "metadata": {},
   "outputs": [
    {
     "data": {
      "text/html": [
       "<div>\n",
       "<style scoped>\n",
       "    .dataframe tbody tr th:only-of-type {\n",
       "        vertical-align: middle;\n",
       "    }\n",
       "\n",
       "    .dataframe tbody tr th {\n",
       "        vertical-align: top;\n",
       "    }\n",
       "\n",
       "    .dataframe thead th {\n",
       "        text-align: right;\n",
       "    }\n",
       "</style>\n",
       "<table border=\"1\" class=\"dataframe\">\n",
       "  <thead>\n",
       "    <tr style=\"text-align: right;\">\n",
       "      <th></th>\n",
       "      <th>0</th>\n",
       "    </tr>\n",
       "  </thead>\n",
       "  <tbody>\n",
       "    <tr>\n",
       "      <th>count</th>\n",
       "      <td>40017.000000</td>\n",
       "    </tr>\n",
       "    <tr>\n",
       "      <th>mean</th>\n",
       "      <td>0.502865</td>\n",
       "    </tr>\n",
       "    <tr>\n",
       "      <th>std</th>\n",
       "      <td>0.064357</td>\n",
       "    </tr>\n",
       "    <tr>\n",
       "      <th>min</th>\n",
       "      <td>0.042015</td>\n",
       "    </tr>\n",
       "    <tr>\n",
       "      <th>25%</th>\n",
       "      <td>0.452332</td>\n",
       "    </tr>\n",
       "    <tr>\n",
       "      <th>50%</th>\n",
       "      <td>0.509930</td>\n",
       "    </tr>\n",
       "    <tr>\n",
       "      <th>75%</th>\n",
       "      <td>0.547307</td>\n",
       "    </tr>\n",
       "    <tr>\n",
       "      <th>max</th>\n",
       "      <td>0.598693</td>\n",
       "    </tr>\n",
       "  </tbody>\n",
       "</table>\n",
       "</div>"
      ],
      "text/plain": [
       "                  0\n",
       "count  40017.000000\n",
       "mean       0.502865\n",
       "std        0.064357\n",
       "min        0.042015\n",
       "25%        0.452332\n",
       "50%        0.509930\n",
       "75%        0.547307\n",
       "max        0.598693"
      ]
     },
     "metadata": {},
     "output_type": "display_data"
    },
    {
     "data": {
      "text/html": [
       "<div>\n",
       "<style scoped>\n",
       "    .dataframe tbody tr th:only-of-type {\n",
       "        vertical-align: middle;\n",
       "    }\n",
       "\n",
       "    .dataframe tbody tr th {\n",
       "        vertical-align: top;\n",
       "    }\n",
       "\n",
       "    .dataframe thead th {\n",
       "        text-align: right;\n",
       "    }\n",
       "</style>\n",
       "<table border=\"1\" class=\"dataframe\">\n",
       "  <thead>\n",
       "    <tr style=\"text-align: right;\">\n",
       "      <th></th>\n",
       "      <th>Output_Is_End</th>\n",
       "    </tr>\n",
       "  </thead>\n",
       "  <tbody>\n",
       "    <tr>\n",
       "      <th>count</th>\n",
       "      <td>40017.000000</td>\n",
       "    </tr>\n",
       "    <tr>\n",
       "      <th>mean</th>\n",
       "      <td>0.243771</td>\n",
       "    </tr>\n",
       "    <tr>\n",
       "      <th>std</th>\n",
       "      <td>0.429362</td>\n",
       "    </tr>\n",
       "    <tr>\n",
       "      <th>min</th>\n",
       "      <td>0.000000</td>\n",
       "    </tr>\n",
       "    <tr>\n",
       "      <th>25%</th>\n",
       "      <td>0.000000</td>\n",
       "    </tr>\n",
       "    <tr>\n",
       "      <th>50%</th>\n",
       "      <td>0.000000</td>\n",
       "    </tr>\n",
       "    <tr>\n",
       "      <th>75%</th>\n",
       "      <td>0.000000</td>\n",
       "    </tr>\n",
       "    <tr>\n",
       "      <th>max</th>\n",
       "      <td>1.000000</td>\n",
       "    </tr>\n",
       "  </tbody>\n",
       "</table>\n",
       "</div>"
      ],
      "text/plain": [
       "       Output_Is_End\n",
       "count   40017.000000\n",
       "mean        0.243771\n",
       "std         0.429362\n",
       "min         0.000000\n",
       "25%         0.000000\n",
       "50%         0.000000\n",
       "75%         0.000000\n",
       "max         1.000000"
      ]
     },
     "metadata": {},
     "output_type": "display_data"
    }
   ],
   "source": [
    "preds = model.predict(X_test)\n",
    "display(pd.DataFrame(preds).describe())\n",
    "display(y_test.describe())"
   ]
  },
  {
   "cell_type": "code",
   "execution_count": 93,
   "metadata": {},
   "outputs": [
    {
     "data": {
      "text/html": [
       "<span style=\"color:#4527A0\"><h1 style=\"font-size:18px\">Results summary</h1></span>"
      ],
      "text/plain": [
       "<IPython.core.display.HTML object>"
      ]
     },
     "metadata": {},
     "output_type": "display_data"
    },
    {
     "data": {
      "text/html": [
       "<span style=\"color:cyan\"> |-Results in ./untitled_project</span>"
      ],
      "text/plain": [
       "<IPython.core.display.HTML object>"
      ]
     },
     "metadata": {},
     "output_type": "display_data"
    },
    {
     "data": {
      "text/html": [
       "<span style=\"color:cyan\"> |-Showing 10 best trials</span>"
      ],
      "text/plain": [
       "<IPython.core.display.HTML object>"
      ]
     },
     "metadata": {},
     "output_type": "display_data"
    },
    {
     "data": {
      "text/html": [
       "<span style=\"color:cyan\"> |-Objective(name='val_accuracy', direction='max')</span>"
      ],
      "text/plain": [
       "<IPython.core.display.HTML object>"
      ]
     },
     "metadata": {},
     "output_type": "display_data"
    },
    {
     "data": {
      "text/html": [
       "<span style=\"color:#4527A0\"><h1 style=\"font-size:18px\">Trial summary</h1></span>"
      ],
      "text/plain": [
       "<IPython.core.display.HTML object>"
      ]
     },
     "metadata": {},
     "output_type": "display_data"
    },
    {
     "data": {
      "text/html": [
       "<span style=\"color:cyan\"> |-Trial ID: 1c510967b1a83a9a73569bda70edaeca</span>"
      ],
      "text/plain": [
       "<IPython.core.display.HTML object>"
      ]
     },
     "metadata": {},
     "output_type": "display_data"
    },
    {
     "data": {
      "text/html": [
       "<span style=\"color:cyan\"> |-Score: 0.7489228248596191</span>"
      ],
      "text/plain": [
       "<IPython.core.display.HTML object>"
      ]
     },
     "metadata": {},
     "output_type": "display_data"
    },
    {
     "data": {
      "text/html": [
       "<span style=\"color:cyan\"> |-Best step: 0</span>"
      ],
      "text/plain": [
       "<IPython.core.display.HTML object>"
      ]
     },
     "metadata": {},
     "output_type": "display_data"
    },
    {
     "data": {
      "text/html": [
       "<span style=\"color:#7E57C2\"><h2 style=\"font-size:16px\">Hyperparameters:</h2></span>"
      ],
      "text/plain": [
       "<IPython.core.display.HTML object>"
      ]
     },
     "metadata": {},
     "output_type": "display_data"
    },
    {
     "data": {
      "text/html": [
       "<span style=\"color:cyan\"> |-activation: relu</span>"
      ],
      "text/plain": [
       "<IPython.core.display.HTML object>"
      ]
     },
     "metadata": {},
     "output_type": "display_data"
    },
    {
     "data": {
      "text/html": [
       "<span style=\"color:blue\"> |-hidden_size: 256</span>"
      ],
      "text/plain": [
       "<IPython.core.display.HTML object>"
      ]
     },
     "metadata": {},
     "output_type": "display_data"
    },
    {
     "data": {
      "text/html": [
       "<span style=\"color:cyan\"> |-learning_rate: 0.01</span>"
      ],
      "text/plain": [
       "<IPython.core.display.HTML object>"
      ]
     },
     "metadata": {},
     "output_type": "display_data"
    },
    {
     "data": {
      "text/html": [
       "<span style=\"color:#4527A0\"><h1 style=\"font-size:18px\">Trial summary</h1></span>"
      ],
      "text/plain": [
       "<IPython.core.display.HTML object>"
      ]
     },
     "metadata": {},
     "output_type": "display_data"
    },
    {
     "data": {
      "text/html": [
       "<span style=\"color:cyan\"> |-Trial ID: a08b84a91672933b0e7aa0cd46e19bcb</span>"
      ],
      "text/plain": [
       "<IPython.core.display.HTML object>"
      ]
     },
     "metadata": {},
     "output_type": "display_data"
    },
    {
     "data": {
      "text/html": [
       "<span style=\"color:cyan\"> |-Score: 0.7489228248596191</span>"
      ],
      "text/plain": [
       "<IPython.core.display.HTML object>"
      ]
     },
     "metadata": {},
     "output_type": "display_data"
    },
    {
     "data": {
      "text/html": [
       "<span style=\"color:cyan\"> |-Best step: 0</span>"
      ],
      "text/plain": [
       "<IPython.core.display.HTML object>"
      ]
     },
     "metadata": {},
     "output_type": "display_data"
    },
    {
     "data": {
      "text/html": [
       "<span style=\"color:#7E57C2\"><h2 style=\"font-size:16px\">Hyperparameters:</h2></span>"
      ],
      "text/plain": [
       "<IPython.core.display.HTML object>"
      ]
     },
     "metadata": {},
     "output_type": "display_data"
    },
    {
     "data": {
      "text/html": [
       "<span style=\"color:cyan\"> |-activation: swish</span>"
      ],
      "text/plain": [
       "<IPython.core.display.HTML object>"
      ]
     },
     "metadata": {},
     "output_type": "display_data"
    },
    {
     "data": {
      "text/html": [
       "<span style=\"color:blue\"> |-hidden_size: 256</span>"
      ],
      "text/plain": [
       "<IPython.core.display.HTML object>"
      ]
     },
     "metadata": {},
     "output_type": "display_data"
    },
    {
     "data": {
      "text/html": [
       "<span style=\"color:cyan\"> |-learning_rate: 0.01</span>"
      ],
      "text/plain": [
       "<IPython.core.display.HTML object>"
      ]
     },
     "metadata": {},
     "output_type": "display_data"
    },
    {
     "data": {
      "text/html": [
       "<span style=\"color:#4527A0\"><h1 style=\"font-size:18px\">Trial summary</h1></span>"
      ],
      "text/plain": [
       "<IPython.core.display.HTML object>"
      ]
     },
     "metadata": {},
     "output_type": "display_data"
    },
    {
     "data": {
      "text/html": [
       "<span style=\"color:cyan\"> |-Trial ID: cbfd6e2dd2a0d4310f3bb8ae07eb298f</span>"
      ],
      "text/plain": [
       "<IPython.core.display.HTML object>"
      ]
     },
     "metadata": {},
     "output_type": "display_data"
    },
    {
     "data": {
      "text/html": [
       "<span style=\"color:cyan\"> |-Score: 0.7489228248596191</span>"
      ],
      "text/plain": [
       "<IPython.core.display.HTML object>"
      ]
     },
     "metadata": {},
     "output_type": "display_data"
    },
    {
     "data": {
      "text/html": [
       "<span style=\"color:cyan\"> |-Best step: 0</span>"
      ],
      "text/plain": [
       "<IPython.core.display.HTML object>"
      ]
     },
     "metadata": {},
     "output_type": "display_data"
    },
    {
     "data": {
      "text/html": [
       "<span style=\"color:#7E57C2\"><h2 style=\"font-size:16px\">Hyperparameters:</h2></span>"
      ],
      "text/plain": [
       "<IPython.core.display.HTML object>"
      ]
     },
     "metadata": {},
     "output_type": "display_data"
    },
    {
     "data": {
      "text/html": [
       "<span style=\"color:cyan\"> |-activation: swish</span>"
      ],
      "text/plain": [
       "<IPython.core.display.HTML object>"
      ]
     },
     "metadata": {},
     "output_type": "display_data"
    },
    {
     "data": {
      "text/html": [
       "<span style=\"color:blue\"> |-hidden_size: 16</span>"
      ],
      "text/plain": [
       "<IPython.core.display.HTML object>"
      ]
     },
     "metadata": {},
     "output_type": "display_data"
    },
    {
     "data": {
      "text/html": [
       "<span style=\"color:cyan\"> |-learning_rate: 0.009999999999999992</span>"
      ],
      "text/plain": [
       "<IPython.core.display.HTML object>"
      ]
     },
     "metadata": {},
     "output_type": "display_data"
    },
    {
     "data": {
      "text/html": [
       "<span style=\"color:#4527A0\"><h1 style=\"font-size:18px\">Trial summary</h1></span>"
      ],
      "text/plain": [
       "<IPython.core.display.HTML object>"
      ]
     },
     "metadata": {},
     "output_type": "display_data"
    },
    {
     "data": {
      "text/html": [
       "<span style=\"color:cyan\"> |-Trial ID: 85e71b3e86c70825cb6703fc741a8e38</span>"
      ],
      "text/plain": [
       "<IPython.core.display.HTML object>"
      ]
     },
     "metadata": {},
     "output_type": "display_data"
    },
    {
     "data": {
      "text/html": [
       "<span style=\"color:cyan\"> |-Score: 0.7489228248596191</span>"
      ],
      "text/plain": [
       "<IPython.core.display.HTML object>"
      ]
     },
     "metadata": {},
     "output_type": "display_data"
    },
    {
     "data": {
      "text/html": [
       "<span style=\"color:cyan\"> |-Best step: 0</span>"
      ],
      "text/plain": [
       "<IPython.core.display.HTML object>"
      ]
     },
     "metadata": {},
     "output_type": "display_data"
    },
    {
     "data": {
      "text/html": [
       "<span style=\"color:#7E57C2\"><h2 style=\"font-size:16px\">Hyperparameters:</h2></span>"
      ],
      "text/plain": [
       "<IPython.core.display.HTML object>"
      ]
     },
     "metadata": {},
     "output_type": "display_data"
    },
    {
     "data": {
      "text/html": [
       "<span style=\"color:cyan\"> |-activation: swish</span>"
      ],
      "text/plain": [
       "<IPython.core.display.HTML object>"
      ]
     },
     "metadata": {},
     "output_type": "display_data"
    },
    {
     "data": {
      "text/html": [
       "<span style=\"color:blue\"> |-hidden_size: 128</span>"
      ],
      "text/plain": [
       "<IPython.core.display.HTML object>"
      ]
     },
     "metadata": {},
     "output_type": "display_data"
    },
    {
     "data": {
      "text/html": [
       "<span style=\"color:cyan\"> |-learning_rate: 0.01</span>"
      ],
      "text/plain": [
       "<IPython.core.display.HTML object>"
      ]
     },
     "metadata": {},
     "output_type": "display_data"
    },
    {
     "data": {
      "text/html": [
       "<span style=\"color:#4527A0\"><h1 style=\"font-size:18px\">Trial summary</h1></span>"
      ],
      "text/plain": [
       "<IPython.core.display.HTML object>"
      ]
     },
     "metadata": {},
     "output_type": "display_data"
    },
    {
     "data": {
      "text/html": [
       "<span style=\"color:cyan\"> |-Trial ID: ccb22653512876d5bcee6c42658de1d6</span>"
      ],
      "text/plain": [
       "<IPython.core.display.HTML object>"
      ]
     },
     "metadata": {},
     "output_type": "display_data"
    },
    {
     "data": {
      "text/html": [
       "<span style=\"color:cyan\"> |-Score: 0.7489228248596191</span>"
      ],
      "text/plain": [
       "<IPython.core.display.HTML object>"
      ]
     },
     "metadata": {},
     "output_type": "display_data"
    },
    {
     "data": {
      "text/html": [
       "<span style=\"color:cyan\"> |-Best step: 0</span>"
      ],
      "text/plain": [
       "<IPython.core.display.HTML object>"
      ]
     },
     "metadata": {},
     "output_type": "display_data"
    },
    {
     "data": {
      "text/html": [
       "<span style=\"color:#7E57C2\"><h2 style=\"font-size:16px\">Hyperparameters:</h2></span>"
      ],
      "text/plain": [
       "<IPython.core.display.HTML object>"
      ]
     },
     "metadata": {},
     "output_type": "display_data"
    },
    {
     "data": {
      "text/html": [
       "<span style=\"color:cyan\"> |-activation: swish</span>"
      ],
      "text/plain": [
       "<IPython.core.display.HTML object>"
      ]
     },
     "metadata": {},
     "output_type": "display_data"
    },
    {
     "data": {
      "text/html": [
       "<span style=\"color:blue\"> |-hidden_size: 16</span>"
      ],
      "text/plain": [
       "<IPython.core.display.HTML object>"
      ]
     },
     "metadata": {},
     "output_type": "display_data"
    },
    {
     "data": {
      "text/html": [
       "<span style=\"color:cyan\"> |-learning_rate: 0.0009755874328976427</span>"
      ],
      "text/plain": [
       "<IPython.core.display.HTML object>"
      ]
     },
     "metadata": {},
     "output_type": "display_data"
    },
    {
     "data": {
      "text/html": [
       "<span style=\"color:#4527A0\"><h1 style=\"font-size:18px\">Trial summary</h1></span>"
      ],
      "text/plain": [
       "<IPython.core.display.HTML object>"
      ]
     },
     "metadata": {},
     "output_type": "display_data"
    },
    {
     "data": {
      "text/html": [
       "<span style=\"color:cyan\"> |-Trial ID: d95a7be2cdf6be6b680668328e44f863</span>"
      ],
      "text/plain": [
       "<IPython.core.display.HTML object>"
      ]
     },
     "metadata": {},
     "output_type": "display_data"
    },
    {
     "data": {
      "text/html": [
       "<span style=\"color:cyan\"> |-Score: 0.7489228248596191</span>"
      ],
      "text/plain": [
       "<IPython.core.display.HTML object>"
      ]
     },
     "metadata": {},
     "output_type": "display_data"
    },
    {
     "data": {
      "text/html": [
       "<span style=\"color:cyan\"> |-Best step: 0</span>"
      ],
      "text/plain": [
       "<IPython.core.display.HTML object>"
      ]
     },
     "metadata": {},
     "output_type": "display_data"
    },
    {
     "data": {
      "text/html": [
       "<span style=\"color:#7E57C2\"><h2 style=\"font-size:16px\">Hyperparameters:</h2></span>"
      ],
      "text/plain": [
       "<IPython.core.display.HTML object>"
      ]
     },
     "metadata": {},
     "output_type": "display_data"
    },
    {
     "data": {
      "text/html": [
       "<span style=\"color:cyan\"> |-activation: selu</span>"
      ],
      "text/plain": [
       "<IPython.core.display.HTML object>"
      ]
     },
     "metadata": {},
     "output_type": "display_data"
    },
    {
     "data": {
      "text/html": [
       "<span style=\"color:blue\"> |-hidden_size: 256</span>"
      ],
      "text/plain": [
       "<IPython.core.display.HTML object>"
      ]
     },
     "metadata": {},
     "output_type": "display_data"
    },
    {
     "data": {
      "text/html": [
       "<span style=\"color:cyan\"> |-learning_rate: 0.01</span>"
      ],
      "text/plain": [
       "<IPython.core.display.HTML object>"
      ]
     },
     "metadata": {},
     "output_type": "display_data"
    },
    {
     "data": {
      "text/html": [
       "<span style=\"color:#4527A0\"><h1 style=\"font-size:18px\">Trial summary</h1></span>"
      ],
      "text/plain": [
       "<IPython.core.display.HTML object>"
      ]
     },
     "metadata": {},
     "output_type": "display_data"
    },
    {
     "data": {
      "text/html": [
       "<span style=\"color:cyan\"> |-Trial ID: b0ae32bc148f3d3396d43c1bd7222c7d</span>"
      ],
      "text/plain": [
       "<IPython.core.display.HTML object>"
      ]
     },
     "metadata": {},
     "output_type": "display_data"
    },
    {
     "data": {
      "text/html": [
       "<span style=\"color:cyan\"> |-Score: 0.7489228248596191</span>"
      ],
      "text/plain": [
       "<IPython.core.display.HTML object>"
      ]
     },
     "metadata": {},
     "output_type": "display_data"
    },
    {
     "data": {
      "text/html": [
       "<span style=\"color:cyan\"> |-Best step: 0</span>"
      ],
      "text/plain": [
       "<IPython.core.display.HTML object>"
      ]
     },
     "metadata": {},
     "output_type": "display_data"
    },
    {
     "data": {
      "text/html": [
       "<span style=\"color:#7E57C2\"><h2 style=\"font-size:16px\">Hyperparameters:</h2></span>"
      ],
      "text/plain": [
       "<IPython.core.display.HTML object>"
      ]
     },
     "metadata": {},
     "output_type": "display_data"
    },
    {
     "data": {
      "text/html": [
       "<span style=\"color:cyan\"> |-activation: swish</span>"
      ],
      "text/plain": [
       "<IPython.core.display.HTML object>"
      ]
     },
     "metadata": {},
     "output_type": "display_data"
    },
    {
     "data": {
      "text/html": [
       "<span style=\"color:blue\"> |-hidden_size: 64</span>"
      ],
      "text/plain": [
       "<IPython.core.display.HTML object>"
      ]
     },
     "metadata": {},
     "output_type": "display_data"
    },
    {
     "data": {
      "text/html": [
       "<span style=\"color:cyan\"> |-learning_rate: 0.01</span>"
      ],
      "text/plain": [
       "<IPython.core.display.HTML object>"
      ]
     },
     "metadata": {},
     "output_type": "display_data"
    },
    {
     "data": {
      "text/html": [
       "<span style=\"color:#4527A0\"><h1 style=\"font-size:18px\">Trial summary</h1></span>"
      ],
      "text/plain": [
       "<IPython.core.display.HTML object>"
      ]
     },
     "metadata": {},
     "output_type": "display_data"
    },
    {
     "data": {
      "text/html": [
       "<span style=\"color:cyan\"> |-Trial ID: a24636ada6de12dd540a37e941bf1e0d</span>"
      ],
      "text/plain": [
       "<IPython.core.display.HTML object>"
      ]
     },
     "metadata": {},
     "output_type": "display_data"
    },
    {
     "data": {
      "text/html": [
       "<span style=\"color:cyan\"> |-Score: 0.7489228248596191</span>"
      ],
      "text/plain": [
       "<IPython.core.display.HTML object>"
      ]
     },
     "metadata": {},
     "output_type": "display_data"
    },
    {
     "data": {
      "text/html": [
       "<span style=\"color:cyan\"> |-Best step: 0</span>"
      ],
      "text/plain": [
       "<IPython.core.display.HTML object>"
      ]
     },
     "metadata": {},
     "output_type": "display_data"
    },
    {
     "data": {
      "text/html": [
       "<span style=\"color:#7E57C2\"><h2 style=\"font-size:16px\">Hyperparameters:</h2></span>"
      ],
      "text/plain": [
       "<IPython.core.display.HTML object>"
      ]
     },
     "metadata": {},
     "output_type": "display_data"
    },
    {
     "data": {
      "text/html": [
       "<span style=\"color:cyan\"> |-activation: swish</span>"
      ],
      "text/plain": [
       "<IPython.core.display.HTML object>"
      ]
     },
     "metadata": {},
     "output_type": "display_data"
    },
    {
     "data": {
      "text/html": [
       "<span style=\"color:blue\"> |-hidden_size: 16</span>"
      ],
      "text/plain": [
       "<IPython.core.display.HTML object>"
      ]
     },
     "metadata": {},
     "output_type": "display_data"
    },
    {
     "data": {
      "text/html": [
       "<span style=\"color:cyan\"> |-learning_rate: 0.01</span>"
      ],
      "text/plain": [
       "<IPython.core.display.HTML object>"
      ]
     },
     "metadata": {},
     "output_type": "display_data"
    },
    {
     "data": {
      "text/html": [
       "<span style=\"color:#4527A0\"><h1 style=\"font-size:18px\">Trial summary</h1></span>"
      ],
      "text/plain": [
       "<IPython.core.display.HTML object>"
      ]
     },
     "metadata": {},
     "output_type": "display_data"
    },
    {
     "data": {
      "text/html": [
       "<span style=\"color:cyan\"> |-Trial ID: ef786439480e17893f509f792585d95e</span>"
      ],
      "text/plain": [
       "<IPython.core.display.HTML object>"
      ]
     },
     "metadata": {},
     "output_type": "display_data"
    },
    {
     "data": {
      "text/html": [
       "<span style=\"color:cyan\"> |-Score: 0.7489228248596191</span>"
      ],
      "text/plain": [
       "<IPython.core.display.HTML object>"
      ]
     },
     "metadata": {},
     "output_type": "display_data"
    },
    {
     "data": {
      "text/html": [
       "<span style=\"color:cyan\"> |-Best step: 0</span>"
      ],
      "text/plain": [
       "<IPython.core.display.HTML object>"
      ]
     },
     "metadata": {},
     "output_type": "display_data"
    },
    {
     "data": {
      "text/html": [
       "<span style=\"color:#7E57C2\"><h2 style=\"font-size:16px\">Hyperparameters:</h2></span>"
      ],
      "text/plain": [
       "<IPython.core.display.HTML object>"
      ]
     },
     "metadata": {},
     "output_type": "display_data"
    },
    {
     "data": {
      "text/html": [
       "<span style=\"color:cyan\"> |-activation: swish</span>"
      ],
      "text/plain": [
       "<IPython.core.display.HTML object>"
      ]
     },
     "metadata": {},
     "output_type": "display_data"
    },
    {
     "data": {
      "text/html": [
       "<span style=\"color:blue\"> |-hidden_size: 16</span>"
      ],
      "text/plain": [
       "<IPython.core.display.HTML object>"
      ]
     },
     "metadata": {},
     "output_type": "display_data"
    },
    {
     "data": {
      "text/html": [
       "<span style=\"color:cyan\"> |-learning_rate: 0.01</span>"
      ],
      "text/plain": [
       "<IPython.core.display.HTML object>"
      ]
     },
     "metadata": {},
     "output_type": "display_data"
    },
    {
     "data": {
      "text/html": [
       "<span style=\"color:#4527A0\"><h1 style=\"font-size:18px\">Trial summary</h1></span>"
      ],
      "text/plain": [
       "<IPython.core.display.HTML object>"
      ]
     },
     "metadata": {},
     "output_type": "display_data"
    },
    {
     "data": {
      "text/html": [
       "<span style=\"color:cyan\"> |-Trial ID: 8a22436c71e4d650b181cdd3af497e28</span>"
      ],
      "text/plain": [
       "<IPython.core.display.HTML object>"
      ]
     },
     "metadata": {},
     "output_type": "display_data"
    },
    {
     "data": {
      "text/html": [
       "<span style=\"color:cyan\"> |-Score: 0.7489228248596191</span>"
      ],
      "text/plain": [
       "<IPython.core.display.HTML object>"
      ]
     },
     "metadata": {},
     "output_type": "display_data"
    },
    {
     "data": {
      "text/html": [
       "<span style=\"color:cyan\"> |-Best step: 0</span>"
      ],
      "text/plain": [
       "<IPython.core.display.HTML object>"
      ]
     },
     "metadata": {},
     "output_type": "display_data"
    },
    {
     "data": {
      "text/html": [
       "<span style=\"color:#7E57C2\"><h2 style=\"font-size:16px\">Hyperparameters:</h2></span>"
      ],
      "text/plain": [
       "<IPython.core.display.HTML object>"
      ]
     },
     "metadata": {},
     "output_type": "display_data"
    },
    {
     "data": {
      "text/html": [
       "<span style=\"color:cyan\"> |-activation: swish</span>"
      ],
      "text/plain": [
       "<IPython.core.display.HTML object>"
      ]
     },
     "metadata": {},
     "output_type": "display_data"
    },
    {
     "data": {
      "text/html": [
       "<span style=\"color:blue\"> |-hidden_size: 16</span>"
      ],
      "text/plain": [
       "<IPython.core.display.HTML object>"
      ]
     },
     "metadata": {},
     "output_type": "display_data"
    },
    {
     "data": {
      "text/html": [
       "<span style=\"color:cyan\"> |-learning_rate: 0.01</span>"
      ],
      "text/plain": [
       "<IPython.core.display.HTML object>"
      ]
     },
     "metadata": {},
     "output_type": "display_data"
    }
   ],
   "source": [
    "tuner.results_summary()"
   ]
  },
  {
   "cell_type": "code",
   "execution_count": 95,
   "metadata": {},
   "outputs": [
    {
     "name": "stdout",
     "output_type": "stream",
     "text": [
      "WARNING:tensorflow:Unresolved object in checkpoint: (root).optimizer.iter\n"
     ]
    },
    {
     "name": "stderr",
     "output_type": "stream",
     "text": [
      "WARNING:tensorflow:Unresolved object in checkpoint: (root).optimizer.iter\n"
     ]
    },
    {
     "name": "stdout",
     "output_type": "stream",
     "text": [
      "WARNING:tensorflow:Unresolved object in checkpoint: (root).optimizer.beta_1\n"
     ]
    },
    {
     "name": "stderr",
     "output_type": "stream",
     "text": [
      "WARNING:tensorflow:Unresolved object in checkpoint: (root).optimizer.beta_1\n"
     ]
    },
    {
     "name": "stdout",
     "output_type": "stream",
     "text": [
      "WARNING:tensorflow:Unresolved object in checkpoint: (root).optimizer.beta_2\n"
     ]
    },
    {
     "name": "stderr",
     "output_type": "stream",
     "text": [
      "WARNING:tensorflow:Unresolved object in checkpoint: (root).optimizer.beta_2\n"
     ]
    },
    {
     "name": "stdout",
     "output_type": "stream",
     "text": [
      "WARNING:tensorflow:Unresolved object in checkpoint: (root).optimizer.decay\n"
     ]
    },
    {
     "name": "stderr",
     "output_type": "stream",
     "text": [
      "WARNING:tensorflow:Unresolved object in checkpoint: (root).optimizer.decay\n"
     ]
    },
    {
     "name": "stdout",
     "output_type": "stream",
     "text": [
      "WARNING:tensorflow:Unresolved object in checkpoint: (root).optimizer.learning_rate\n"
     ]
    },
    {
     "name": "stderr",
     "output_type": "stream",
     "text": [
      "WARNING:tensorflow:Unresolved object in checkpoint: (root).optimizer.learning_rate\n"
     ]
    },
    {
     "name": "stdout",
     "output_type": "stream",
     "text": [
      "WARNING:tensorflow:A checkpoint was restored (e.g. tf.train.Checkpoint.restore or tf.keras.Model.load_weights) but not all checkpointed values were used. See above for specific issues. Use expect_partial() on the load status object, e.g. tf.train.Checkpoint.restore(...).expect_partial(), to silence these warnings, or use assert_consumed() to make the check explicit. See https://www.tensorflow.org/guide/checkpoint#loading_mechanics for details.\n"
     ]
    },
    {
     "name": "stderr",
     "output_type": "stream",
     "text": [
      "WARNING:tensorflow:A checkpoint was restored (e.g. tf.train.Checkpoint.restore or tf.keras.Model.load_weights) but not all checkpointed values were used. See above for specific issues. Use expect_partial() on the load status object, e.g. tf.train.Checkpoint.restore(...).expect_partial(), to silence these warnings, or use assert_consumed() to make the check explicit. See https://www.tensorflow.org/guide/checkpoint#loading_mechanics for details.\n"
     ]
    },
    {
     "name": "stdout",
     "output_type": "stream",
     "text": [
      "2394/2394 [==============================] - ETA: 0s - loss: 0.6924 - accuracy: 0.78 - ETA: 1s - loss: 0.6925 - accuracy: 0.75 - ETA: 1s - loss: 0.6921 - accuracy: 0.75 - ETA: 1s - loss: 0.6921 - accuracy: 0.75 - ETA: 1s - loss: 0.6921 - accuracy: 0.75 - ETA: 1s - loss: 0.6921 - accuracy: 0.75 - ETA: 1s - loss: 0.6920 - accuracy: 0.75 - ETA: 1s - loss: 0.6920 - accuracy: 0.75 - ETA: 1s - loss: 0.6920 - accuracy: 0.75 - ETA: 0s - loss: 0.6920 - accuracy: 0.75 - ETA: 0s - loss: 0.6920 - accuracy: 0.75 - ETA: 0s - loss: 0.6920 - accuracy: 0.75 - ETA: 0s - loss: 0.6920 - accuracy: 0.75 - ETA: 0s - loss: 0.6920 - accuracy: 0.75 - ETA: 0s - loss: 0.6920 - accuracy: 0.75 - ETA: 0s - loss: 0.6920 - accuracy: 0.75 - ETA: 0s - loss: 0.6920 - accuracy: 0.75 - ETA: 0s - loss: 0.6919 - accuracy: 0.75 - ETA: 0s - loss: 0.6919 - accuracy: 0.75 - ETA: 0s - loss: 0.6919 - accuracy: 0.75 - ETA: 0s - loss: 0.6919 - accuracy: 0.75 - ETA: 0s - loss: 0.6920 - accuracy: 0.75 - ETA: 0s - loss: 0.6919 - accuracy: 0.75 - ETA: 0s - loss: 0.6919 - accuracy: 0.75 - ETA: 0s - loss: 0.6919 - accuracy: 0.75 - ETA: 0s - loss: 0.6919 - accuracy: 0.75 - ETA: 0s - loss: 0.6919 - accuracy: 0.75 - 1s 564us/step - loss: 0.6919 - accuracy: 0.7511\n",
      "Test accuracy: 0.5297748446464539\n"
     ]
    }
   ],
   "source": [
    "# Retrieve the best model.\n",
    "best_model = tuner.get_best_models(num_models=1)[0]\n",
    "\n",
    "# Evaluate the best model.\n",
    "loss, accuracy = best_model.evaluate(X_test, y_test)\n",
    "print('Test accuracy:', test_acc)"
   ]
  },
  {
   "cell_type": "code",
   "execution_count": 6,
   "metadata": {},
   "outputs": [
    {
     "name": "stdout",
     "output_type": "stream",
     "text": [
      "1251/1251 [==============================] - 1s 513us/step - loss: 0.6914 - accuracy: 0.5298\n",
      "Test accuracy: 0.5297748446464539\n"
     ]
    }
   ],
   "source": [
    "test_loss, test_acc = model.evaluate(X_test, y_test)\n",
    "print('Test accuracy:', test_acc)"
   ]
  },
  {
   "cell_type": "markdown",
   "metadata": {},
   "source": [
    "Build MDN for case when spike not at end, and also keep zero point column as a parameter."
   ]
  },
  {
   "cell_type": "code",
   "execution_count": 5,
   "metadata": {},
   "outputs": [],
   "source": [
    "def build_mdn_model(activation='sigmoid', k=16):\n",
    "    \"\"\" k is the number of mixture models\"\"\"\n",
    "    # Number of columns (bin count plus 9 inputs)\n",
    "    l = bin_count + 9\n",
    "\n",
    "    # Network\n",
    "    input = tf.keras.Input(shape=(l,))\n",
    "\n",
    "    layer = tf.keras.layers.Dense(256, activation=activation, name='baselayer')(input)\n",
    "    layer_2 = tf.keras.layers.Dense(128, activation=activation, name='layer_2')(layer)\n",
    "\n",
    "    # Connect the mdn layer to the output of our neural network\n",
    "    mdn_layer = mdn.MDN(bin_count,k, name='mdn')(layer_2)\n",
    "    model = tf.keras.models.Model(input, [mdn_layer])\n",
    "\n",
    "\n",
    "    opt = tf.keras.optimizers.Adam(learning_rate=1e4)\n",
    "    model.compile(loss=mdn.get_mixture_loss_func(bin_count,k), optimizer=tf.keras.optimizers.Adam())\n",
    "    model.summary()\n",
    "    return model"
   ]
  },
  {
   "cell_type": "code",
   "execution_count": 6,
   "metadata": {},
   "outputs": [],
   "source": [
    "from scipy.stats import entropy\n",
    "def predict_for_test(model, X_test, y_test, k):\n",
    "\n",
    "    start = timer()\n",
    "\n",
    "    # Returns the predictions of the parameters of the distributions and weights\n",
    "    preds = model.predict(X_test)\n",
    "    samples_list = []\n",
    "    # Obtain 5 samples per prediction\n",
    "    for i in range(5):\n",
    "        samples_list.append(np.apply_along_axis(mdn.sample_from_output, 1, preds, bin_count, k, temp=1.0, sigma_temp=1.0))\n",
    "\n",
    "    # Average the samples for our predicitons\n",
    "    y_samples = np.mean(np.array(samples_list),axis=0)\n",
    "    y_samples = y_samples.reshape(len(X_test),bin_count)\n",
    "    # Convert negatives to 0\n",
    "    y_samples = np.clip(y_samples,0, a_max=None)\n",
    "    end = timer()\n",
    "    \n",
    "    print(f\"Total time taken: {end-start}. Seconds per prediction: {(end-start)/len(preds)}\")\n",
    "    \n",
    "    return y_samples"
   ]
  },
  {
   "cell_type": "code",
   "execution_count": 23,
   "metadata": {},
   "outputs": [
    {
     "name": "stdout",
     "output_type": "stream",
     "text": [
      "Model: \"functional_9\"\n",
      "_________________________________________________________________\n",
      "Layer (type)                 Output Shape              Param #   \n",
      "=================================================================\n",
      "input_5 (InputLayer)         [(None, 159)]             0         \n",
      "_________________________________________________________________\n",
      "baselayer (Dense)            (None, 128)               20480     \n",
      "_________________________________________________________________\n",
      "mdn (MDN)                    (None, 4848)              625392    \n",
      "=================================================================\n",
      "Total params: 645,872\n",
      "Trainable params: 645,872\n",
      "Non-trainable params: 0\n",
      "_________________________________________________________________\n",
      "Epoch 1/25\n",
      "479/479 [==============================] - 26s 54ms/step - loss: -421.1615 - val_loss: -450.0800\n",
      "Epoch 2/25\n",
      "479/479 [==============================] - 24s 51ms/step - loss: -467.3605 - val_loss: -464.8155\n",
      "Epoch 3/25\n",
      "479/479 [==============================] - 24s 51ms/step - loss: -470.0327 - val_loss: -463.4798\n",
      "Epoch 4/25\n",
      "479/479 [==============================] - 24s 51ms/step - loss: -471.1364 - val_loss: -464.1013\n",
      "Epoch 5/25\n",
      "479/479 [==============================] - 24s 51ms/step - loss: -468.8939 - val_loss: -458.0166\n",
      "Epoch 6/25\n",
      "479/479 [==============================] - 24s 51ms/step - loss: -471.1875 - val_loss: -461.4968\n",
      "Epoch 7/25\n",
      "479/479 [==============================] - 24s 50ms/step - loss: -470.5245 - val_loss: -467.1684\n",
      "Epoch 8/25\n",
      "479/479 [==============================] - 24s 50ms/step - loss: -472.7069 - val_loss: -456.7720\n",
      "Epoch 9/25\n",
      "479/479 [==============================] - 24s 51ms/step - loss: -473.7687 - val_loss: -468.7123\n",
      "Epoch 10/25\n",
      "479/479 [==============================] - 24s 51ms/step - loss: -471.4776 - val_loss: -466.0371\n",
      "Epoch 11/25\n",
      "479/479 [==============================] - 24s 50ms/step - loss: -474.4810 - val_loss: -461.5173\n",
      "Epoch 12/25\n",
      "479/479 [==============================] - 24s 51ms/step - loss: -471.9143 - val_loss: -455.4760\n",
      "Epoch 13/25\n",
      "479/479 [==============================] - 24s 51ms/step - loss: -470.9727 - val_loss: -461.5440\n",
      "Epoch 14/25\n",
      "479/479 [==============================] - 24s 51ms/step - loss: -466.9340 - val_loss: -459.8691\n",
      "Epoch 15/25\n",
      "479/479 [==============================] - 25s 51ms/step - loss: -467.7065 - val_loss: -455.0962\n",
      "Epoch 16/25\n",
      "479/479 [==============================] - 25s 52ms/step - loss: -466.4594 - val_loss: -431.8430\n",
      "Epoch 17/25\n",
      "479/479 [==============================] - 24s 51ms/step - loss: -471.7205 - val_loss: -454.4244\n",
      "Epoch 18/25\n",
      "479/479 [==============================] - 24s 51ms/step - loss: -474.9106 - val_loss: -433.0614\n",
      "Epoch 19/25\n",
      "479/479 [==============================] - 24s 51ms/step - loss: -472.3056 - val_loss: -461.3377\n",
      "Epoch 20/25\n",
      "479/479 [==============================] - 24s 51ms/step - loss: -472.5916 - val_loss: -470.8174\n",
      "Epoch 21/25\n",
      "479/479 [==============================] - 24s 51ms/step - loss: -475.4256 - val_loss: -471.3320\n",
      "Epoch 22/25\n",
      "479/479 [==============================] - 24s 51ms/step - loss: -473.8631 - val_loss: -469.5583\n",
      "Epoch 23/25\n",
      "479/479 [==============================] - 24s 51ms/step - loss: -471.4531 - val_loss: -458.9743\n",
      "Epoch 24/25\n",
      "479/479 [==============================] - 24s 51ms/step - loss: -468.0735 - val_loss: -467.4608\n",
      "Epoch 25/25\n",
      "479/479 [==============================] - 24s 51ms/step - loss: -470.8947 - val_loss: -461.0529\n"
     ]
    }
   ],
   "source": [
    "model_zero_col = build_mdn_model()\n",
    "\n",
    "output_is_not_end_idx = y_train.Output_Is_End.index[y_train['Output_Is_End'] == 0]\n",
    "\n",
    "X = X_train.loc[output_is_not_end_idx]\n",
    "y = y_train.loc[output_is_not_end_idx].drop(['Output_First_Zero'], axis=1)\n",
    "zero_col_fit = model_zero_col.fit(x=X, y=y, batch_size=1024, epochs=25, validation_split=0.1, callbacks=[tf.keras.callbacks.TerminateOnNaN()])"
   ]
  },
  {
   "cell_type": "code",
   "execution_count": 24,
   "metadata": {},
   "outputs": [
    {
     "name": "stdout",
     "output_type": "stream",
     "text": [
      "Total time taken: 713.8454396454617. Seconds per prediction: 0.011823722788708082\n"
     ]
    }
   ],
   "source": [
    "output_is_not_end_idx = y_test.Output_Is_End.index[y_test['Output_Is_End'] == 0]\n",
    "\n",
    "X_test_zero_col = X_test.loc[output_is_not_end_idx]\n",
    "y_test_zero_col = y_test.loc[output_is_not_end_idx].drop(['Output_First_Zero'], axis=1)\n",
    "\n",
    "zero_col_preds = predict_for_test(model_zero_col, X_test_zero_col, y_test_zero_col, 16)"
   ]
  },
  {
   "cell_type": "code",
   "execution_count": 25,
   "metadata": {},
   "outputs": [
    {
     "data": {
      "text/html": [
       "<div>\n",
       "<style scoped>\n",
       "    .dataframe tbody tr th:only-of-type {\n",
       "        vertical-align: middle;\n",
       "    }\n",
       "\n",
       "    .dataframe tbody tr th {\n",
       "        vertical-align: top;\n",
       "    }\n",
       "\n",
       "    .dataframe thead th {\n",
       "        text-align: right;\n",
       "    }\n",
       "</style>\n",
       "<table border=\"1\" class=\"dataframe\">\n",
       "  <thead>\n",
       "    <tr style=\"text-align: right;\">\n",
       "      <th></th>\n",
       "      <th>0</th>\n",
       "    </tr>\n",
       "  </thead>\n",
       "  <tbody>\n",
       "    <tr>\n",
       "      <th>count</th>\n",
       "      <td>60374.000000</td>\n",
       "    </tr>\n",
       "    <tr>\n",
       "      <th>mean</th>\n",
       "      <td>59.828494</td>\n",
       "    </tr>\n",
       "    <tr>\n",
       "      <th>std</th>\n",
       "      <td>40.482187</td>\n",
       "    </tr>\n",
       "    <tr>\n",
       "      <th>min</th>\n",
       "      <td>0.875193</td>\n",
       "    </tr>\n",
       "    <tr>\n",
       "      <th>25%</th>\n",
       "      <td>31.162486</td>\n",
       "    </tr>\n",
       "    <tr>\n",
       "      <th>50%</th>\n",
       "      <td>51.231835</td>\n",
       "    </tr>\n",
       "    <tr>\n",
       "      <th>75%</th>\n",
       "      <td>81.241800</td>\n",
       "    </tr>\n",
       "    <tr>\n",
       "      <th>max</th>\n",
       "      <td>200.490032</td>\n",
       "    </tr>\n",
       "  </tbody>\n",
       "</table>\n",
       "</div>"
      ],
      "text/plain": [
       "                  0\n",
       "count  60374.000000\n",
       "mean      59.828494\n",
       "std       40.482187\n",
       "min        0.875193\n",
       "25%       31.162486\n",
       "50%       51.231835\n",
       "75%       81.241800\n",
       "max      200.490032"
      ]
     },
     "metadata": {},
     "output_type": "display_data"
    }
   ],
   "source": [
    "evaluate_fit(non_zero_col, y_test_zero_col)"
   ]
  },
  {
   "cell_type": "code",
   "execution_count": 27,
   "metadata": {},
   "outputs": [
    {
     "data": {
      "image/png": "[encoded data removed]",
      "text/plain": [
       "<Figure size 720x720 with 4 Axes>"
      ]
     },
     "metadata": {
      "needs_background": "light"
     },
     "output_type": "display_data"
    }
   ],
   "source": [
    "from matplotlib import pyplot as plt\n",
    "fig, axes = plt.subplots(nrows=2, ncols=2, figsize=(10, 10))\n",
    "\n",
    "for ax in axes.flatten():\n",
    "    # Generate random index to plot\n",
    "    i = np.random.randint(len(y_test_zero_col), size=1)[0]\n",
    "    test_pred = zero_col_preds[i]\n",
    "    true = y_test_zero_col.iloc[i]\n",
    "    ax.plot(test_pred, color='blue', label='pred')\n",
    "    ax.plot(true, color='orange', label='true')\n",
    "    ax.xaxis.set_visible(False)\n",
    "    ax.legend(loc=\"upper left\")\n",
    "    \n",
    "plt.show()"
   ]
  }
 ],
 "metadata": {
  "kernelspec": {
   "display_name": "Python 3",
   "language": "python",
   "name": "python3"
  },
  "language_info": {
   "codemirror_mode": {
    "name": "ipython",
    "version": 3
   },
   "file_extension": ".py",
   "mimetype": "text/x-python",
   "name": "python",
   "nbconvert_exporter": "python",
   "pygments_lexer": "ipython3",
   "version": "3.8.5"
  }
 },
 "nbformat": 4,
 "nbformat_minor": 4
}
