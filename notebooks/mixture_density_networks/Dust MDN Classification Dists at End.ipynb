{
 "cells": [
  {
   "cell_type": "code",
   "execution_count": 1,
   "metadata": {},
   "outputs": [],
   "source": [
    "import tensorflow as tf\n",
    "import numpy as np\n",
    "import mdn\n",
    "import matplotlib.pyplot as plt\n",
    "from sklearn.model_selection import train_test_split\n",
    "import pandas as pd\n",
    "from timeit import default_timer as timer\n",
    "import xgboost as xgb\n",
    "\n",
    "bin_count = 171"
   ]
  },
  {
   "cell_type": "code",
   "execution_count": 2,
   "metadata": {},
   "outputs": [
    {
     "data": {
      "text/html": [
       "<div>\n",
       "<style scoped>\n",
       "    .dataframe tbody tr th:only-of-type {\n",
       "        vertical-align: middle;\n",
       "    }\n",
       "\n",
       "    .dataframe tbody tr th {\n",
       "        vertical-align: top;\n",
       "    }\n",
       "\n",
       "    .dataframe thead th {\n",
       "        text-align: right;\n",
       "    }\n",
       "</style>\n",
       "<table border=\"1\" class=\"dataframe\">\n",
       "  <thead>\n",
       "    <tr style=\"text-align: right;\">\n",
       "      <th></th>\n",
       "      <th>Output_Bin_0</th>\n",
       "      <th>Output_Bin_1</th>\n",
       "      <th>Output_Bin_2</th>\n",
       "      <th>Output_Bin_3</th>\n",
       "      <th>Output_Bin_4</th>\n",
       "      <th>Output_Bin_5</th>\n",
       "      <th>Output_Bin_6</th>\n",
       "      <th>Output_Bin_7</th>\n",
       "      <th>Output_Bin_8</th>\n",
       "      <th>Output_Bin_9</th>\n",
       "      <th>...</th>\n",
       "      <th>Output_Bin_163</th>\n",
       "      <th>Output_Bin_164</th>\n",
       "      <th>Output_Bin_165</th>\n",
       "      <th>Output_Bin_166</th>\n",
       "      <th>Output_Bin_167</th>\n",
       "      <th>Output_Bin_168</th>\n",
       "      <th>Output_Bin_169</th>\n",
       "      <th>Output_Bin_170</th>\n",
       "      <th>Output_Is_End</th>\n",
       "      <th>Output_First_Zero</th>\n",
       "    </tr>\n",
       "  </thead>\n",
       "  <tbody>\n",
       "    <tr>\n",
       "      <th>count</th>\n",
       "      <td>1.423300e+05</td>\n",
       "      <td>1.423300e+05</td>\n",
       "      <td>1.423300e+05</td>\n",
       "      <td>1.423300e+05</td>\n",
       "      <td>1.423300e+05</td>\n",
       "      <td>1.423300e+05</td>\n",
       "      <td>1.423300e+05</td>\n",
       "      <td>1.423300e+05</td>\n",
       "      <td>1.423300e+05</td>\n",
       "      <td>1.423300e+05</td>\n",
       "      <td>...</td>\n",
       "      <td>142330.000000</td>\n",
       "      <td>142330.000000</td>\n",
       "      <td>142330.000000</td>\n",
       "      <td>142330.000000</td>\n",
       "      <td>142330.000000</td>\n",
       "      <td>142330.000000</td>\n",
       "      <td>142330.000000</td>\n",
       "      <td>142330.000000</td>\n",
       "      <td>142330.000000</td>\n",
       "      <td>142330.000000</td>\n",
       "    </tr>\n",
       "    <tr>\n",
       "      <th>mean</th>\n",
       "      <td>4.788404e-03</td>\n",
       "      <td>3.511234e-03</td>\n",
       "      <td>3.102781e-03</td>\n",
       "      <td>3.476701e-03</td>\n",
       "      <td>3.457728e-03</td>\n",
       "      <td>3.501525e-03</td>\n",
       "      <td>3.642096e-03</td>\n",
       "      <td>3.778553e-03</td>\n",
       "      <td>3.935451e-03</td>\n",
       "      <td>4.021584e-03</td>\n",
       "      <td>...</td>\n",
       "      <td>0.001058</td>\n",
       "      <td>0.000883</td>\n",
       "      <td>0.000728</td>\n",
       "      <td>0.000676</td>\n",
       "      <td>0.001939</td>\n",
       "      <td>0.005278</td>\n",
       "      <td>0.016270</td>\n",
       "      <td>0.151275</td>\n",
       "      <td>0.167596</td>\n",
       "      <td>114.466395</td>\n",
       "    </tr>\n",
       "    <tr>\n",
       "      <th>std</th>\n",
       "      <td>1.166852e-02</td>\n",
       "      <td>7.803030e-03</td>\n",
       "      <td>6.573299e-03</td>\n",
       "      <td>7.853398e-03</td>\n",
       "      <td>6.781768e-03</td>\n",
       "      <td>6.542634e-03</td>\n",
       "      <td>6.904298e-03</td>\n",
       "      <td>6.660142e-03</td>\n",
       "      <td>7.485042e-03</td>\n",
       "      <td>6.836560e-03</td>\n",
       "      <td>...</td>\n",
       "      <td>0.006218</td>\n",
       "      <td>0.005424</td>\n",
       "      <td>0.004790</td>\n",
       "      <td>0.004623</td>\n",
       "      <td>0.006232</td>\n",
       "      <td>0.013469</td>\n",
       "      <td>0.040799</td>\n",
       "      <td>0.326542</td>\n",
       "      <td>0.373509</td>\n",
       "      <td>41.073065</td>\n",
       "    </tr>\n",
       "    <tr>\n",
       "      <th>min</th>\n",
       "      <td>0.000000e+00</td>\n",
       "      <td>0.000000e+00</td>\n",
       "      <td>0.000000e+00</td>\n",
       "      <td>0.000000e+00</td>\n",
       "      <td>0.000000e+00</td>\n",
       "      <td>0.000000e+00</td>\n",
       "      <td>0.000000e+00</td>\n",
       "      <td>0.000000e+00</td>\n",
       "      <td>0.000000e+00</td>\n",
       "      <td>0.000000e+00</td>\n",
       "      <td>...</td>\n",
       "      <td>0.000000</td>\n",
       "      <td>0.000000</td>\n",
       "      <td>0.000000</td>\n",
       "      <td>0.000000</td>\n",
       "      <td>0.000000</td>\n",
       "      <td>0.000000</td>\n",
       "      <td>0.000000</td>\n",
       "      <td>0.000000</td>\n",
       "      <td>0.000000</td>\n",
       "      <td>26.000000</td>\n",
       "    </tr>\n",
       "    <tr>\n",
       "      <th>25%</th>\n",
       "      <td>1.413419e-11</td>\n",
       "      <td>5.957408e-11</td>\n",
       "      <td>2.004835e-10</td>\n",
       "      <td>7.735218e-10</td>\n",
       "      <td>2.203720e-09</td>\n",
       "      <td>4.972974e-09</td>\n",
       "      <td>1.233129e-08</td>\n",
       "      <td>2.641020e-08</td>\n",
       "      <td>5.567167e-08</td>\n",
       "      <td>1.080826e-07</td>\n",
       "      <td>...</td>\n",
       "      <td>0.000000</td>\n",
       "      <td>0.000000</td>\n",
       "      <td>0.000000</td>\n",
       "      <td>0.000000</td>\n",
       "      <td>0.000000</td>\n",
       "      <td>0.000000</td>\n",
       "      <td>0.000000</td>\n",
       "      <td>0.000000</td>\n",
       "      <td>0.000000</td>\n",
       "      <td>81.000000</td>\n",
       "    </tr>\n",
       "    <tr>\n",
       "      <th>50%</th>\n",
       "      <td>1.091139e-04</td>\n",
       "      <td>1.224256e-04</td>\n",
       "      <td>1.354748e-04</td>\n",
       "      <td>1.791490e-04</td>\n",
       "      <td>2.160863e-04</td>\n",
       "      <td>2.491617e-04</td>\n",
       "      <td>2.911052e-04</td>\n",
       "      <td>3.537974e-04</td>\n",
       "      <td>4.251557e-04</td>\n",
       "      <td>5.010170e-04</td>\n",
       "      <td>...</td>\n",
       "      <td>0.000000</td>\n",
       "      <td>0.000000</td>\n",
       "      <td>0.000000</td>\n",
       "      <td>0.000000</td>\n",
       "      <td>0.000000</td>\n",
       "      <td>0.000000</td>\n",
       "      <td>0.000000</td>\n",
       "      <td>0.000000</td>\n",
       "      <td>0.000000</td>\n",
       "      <td>110.000000</td>\n",
       "    </tr>\n",
       "    <tr>\n",
       "      <th>75%</th>\n",
       "      <td>2.666961e-03</td>\n",
       "      <td>2.534129e-03</td>\n",
       "      <td>2.509944e-03</td>\n",
       "      <td>2.984808e-03</td>\n",
       "      <td>3.315966e-03</td>\n",
       "      <td>3.667415e-03</td>\n",
       "      <td>4.060019e-03</td>\n",
       "      <td>4.502340e-03</td>\n",
       "      <td>4.900773e-03</td>\n",
       "      <td>5.306905e-03</td>\n",
       "      <td>...</td>\n",
       "      <td>0.000000</td>\n",
       "      <td>0.000000</td>\n",
       "      <td>0.000000</td>\n",
       "      <td>0.000000</td>\n",
       "      <td>0.000000</td>\n",
       "      <td>0.000000</td>\n",
       "      <td>0.000000</td>\n",
       "      <td>0.000000</td>\n",
       "      <td>0.000000</td>\n",
       "      <td>157.000000</td>\n",
       "    </tr>\n",
       "    <tr>\n",
       "      <th>max</th>\n",
       "      <td>9.354140e-02</td>\n",
       "      <td>5.693502e-02</td>\n",
       "      <td>4.501455e-02</td>\n",
       "      <td>3.978454e-01</td>\n",
       "      <td>1.493864e-01</td>\n",
       "      <td>3.745879e-02</td>\n",
       "      <td>2.716096e-01</td>\n",
       "      <td>3.748155e-02</td>\n",
       "      <td>3.097229e-01</td>\n",
       "      <td>1.159227e-01</td>\n",
       "      <td>...</td>\n",
       "      <td>0.087176</td>\n",
       "      <td>0.087361</td>\n",
       "      <td>0.087655</td>\n",
       "      <td>0.091350</td>\n",
       "      <td>0.105380</td>\n",
       "      <td>0.133252</td>\n",
       "      <td>0.245536</td>\n",
       "      <td>0.999991</td>\n",
       "      <td>1.000000</td>\n",
       "      <td>171.000000</td>\n",
       "    </tr>\n",
       "  </tbody>\n",
       "</table>\n",
       "<p>8 rows × 173 columns</p>\n",
       "</div>"
      ],
      "text/plain": [
       "       Output_Bin_0  Output_Bin_1  Output_Bin_2  Output_Bin_3  Output_Bin_4  \\\n",
       "count  1.423300e+05  1.423300e+05  1.423300e+05  1.423300e+05  1.423300e+05   \n",
       "mean   4.788404e-03  3.511234e-03  3.102781e-03  3.476701e-03  3.457728e-03   \n",
       "std    1.166852e-02  7.803030e-03  6.573299e-03  7.853398e-03  6.781768e-03   \n",
       "min    0.000000e+00  0.000000e+00  0.000000e+00  0.000000e+00  0.000000e+00   \n",
       "25%    1.413419e-11  5.957408e-11  2.004835e-10  7.735218e-10  2.203720e-09   \n",
       "50%    1.091139e-04  1.224256e-04  1.354748e-04  1.791490e-04  2.160863e-04   \n",
       "75%    2.666961e-03  2.534129e-03  2.509944e-03  2.984808e-03  3.315966e-03   \n",
       "max    9.354140e-02  5.693502e-02  4.501455e-02  3.978454e-01  1.493864e-01   \n",
       "\n",
       "       Output_Bin_5  Output_Bin_6  Output_Bin_7  Output_Bin_8  Output_Bin_9  \\\n",
       "count  1.423300e+05  1.423300e+05  1.423300e+05  1.423300e+05  1.423300e+05   \n",
       "mean   3.501525e-03  3.642096e-03  3.778553e-03  3.935451e-03  4.021584e-03   \n",
       "std    6.542634e-03  6.904298e-03  6.660142e-03  7.485042e-03  6.836560e-03   \n",
       "min    0.000000e+00  0.000000e+00  0.000000e+00  0.000000e+00  0.000000e+00   \n",
       "25%    4.972974e-09  1.233129e-08  2.641020e-08  5.567167e-08  1.080826e-07   \n",
       "50%    2.491617e-04  2.911052e-04  3.537974e-04  4.251557e-04  5.010170e-04   \n",
       "75%    3.667415e-03  4.060019e-03  4.502340e-03  4.900773e-03  5.306905e-03   \n",
       "max    3.745879e-02  2.716096e-01  3.748155e-02  3.097229e-01  1.159227e-01   \n",
       "\n",
       "       ...  Output_Bin_163  Output_Bin_164  Output_Bin_165  Output_Bin_166  \\\n",
       "count  ...   142330.000000   142330.000000   142330.000000   142330.000000   \n",
       "mean   ...        0.001058        0.000883        0.000728        0.000676   \n",
       "std    ...        0.006218        0.005424        0.004790        0.004623   \n",
       "min    ...        0.000000        0.000000        0.000000        0.000000   \n",
       "25%    ...        0.000000        0.000000        0.000000        0.000000   \n",
       "50%    ...        0.000000        0.000000        0.000000        0.000000   \n",
       "75%    ...        0.000000        0.000000        0.000000        0.000000   \n",
       "max    ...        0.087176        0.087361        0.087655        0.091350   \n",
       "\n",
       "       Output_Bin_167  Output_Bin_168  Output_Bin_169  Output_Bin_170  \\\n",
       "count   142330.000000   142330.000000   142330.000000   142330.000000   \n",
       "mean         0.001939        0.005278        0.016270        0.151275   \n",
       "std          0.006232        0.013469        0.040799        0.326542   \n",
       "min          0.000000        0.000000        0.000000        0.000000   \n",
       "25%          0.000000        0.000000        0.000000        0.000000   \n",
       "50%          0.000000        0.000000        0.000000        0.000000   \n",
       "75%          0.000000        0.000000        0.000000        0.000000   \n",
       "max          0.105380        0.133252        0.245536        0.999991   \n",
       "\n",
       "       Output_Is_End  Output_First_Zero  \n",
       "count  142330.000000      142330.000000  \n",
       "mean        0.167596         114.466395  \n",
       "std         0.373509          41.073065  \n",
       "min         0.000000          26.000000  \n",
       "25%         0.000000          81.000000  \n",
       "50%         0.000000         110.000000  \n",
       "75%         0.000000         157.000000  \n",
       "max         1.000000         171.000000  \n",
       "\n",
       "[8 rows x 173 columns]"
      ]
     },
     "metadata": {},
     "output_type": "display_data"
    }
   ],
   "source": [
    "def find_first_zero(row):\n",
    "    vals = list(row) \n",
    "  \n",
    "    last_zero_index = -1\n",
    "    for idx, val in enumerate(reversed(vals)): \n",
    "        if val > 0:\n",
    "            last_zero_index = bin_count - idx\n",
    "            break\n",
    "    return last_zero_index\n",
    "\n",
    "def create_test_train(data_set_path, test_size=0.10):\n",
    "    \"\"\" Splits a given csv file into testing and training. Target column is all the bins. Add a c \"\"\"\n",
    "    # Make sure the columns are set\n",
    "    data_set = pd.read_csv(data_set_path)\n",
    "\n",
    "    # Add column for classifying whether the output has most of the data in the last 10 bins.\n",
    "    end_average = data_set[[f'Output_Bin_{i}' for i in range(bin_count-10, bin_count)]].sum(axis=1) > 0.9\n",
    "\n",
    "    data_set['Output_Is_End'] = end_average\n",
    "    data_set['Output_Is_End'] = data_set['Output_Is_End'].astype(int)\n",
    "    #data_set['Output_Is_Not_End'] = ~data_set['Output_Is_End']\n",
    "    \n",
    "    \n",
    "\n",
    "    data_set['Output_First_Zero'] = data_set[[f'Output_Bin_{i}' for i in range(bin_count)]].apply(find_first_zero, axis=1)\n",
    "\n",
    "    # Shuffle the data\n",
    "    data_set = data_set.sample(frac=1, random_state=0)\n",
    " \n",
    "    # Select all except output bins\n",
    "    data_set_X = data_set.drop([f'Output_Bin_{i}' for i in range(bin_count)] + ['Output_Is_End', 'Output_First_Zero'], axis=1)\n",
    "    # Select only the output bins\n",
    "    data_set_Y = data_set[[f'Output_Bin_{i}' for i in range(bin_count)]+ ['Output_Is_End', 'Output_First_Zero']]\n",
    "\n",
    "    #Split into training and test data\n",
    "    return train_test_split(data_set_X,\n",
    "                            data_set_Y,\n",
    "                            test_size=test_size, \n",
    "                            random_state=300)\n",
    "\n",
    "#filename = \"/scratch/keh4nb/dust_training_data_all_bins_large.csv\"\n",
    "filename= \"/project/SDS-capstones-kropko21/uva-astronomy/dust_training_data_all_bins_v2.csv\"\n",
    "X_train, X_test, y_train, y_test = create_test_train(filename, test_size=0.10)\n",
    "display(y_test.describe())"
   ]
  },
  {
   "cell_type": "markdown",
   "metadata": {},
   "source": [
    "Try xgboost for predicting whether all the particles are at the end of the distribution. Ended up getting over 99% test accuracy."
   ]
  },
  {
   "cell_type": "code",
   "execution_count": 3,
   "metadata": {},
   "outputs": [],
   "source": [
    "#%pip install xgboost\n",
    "import xgboost as xgb\n",
    "\n",
    "xgb_model = xgb.XGBClassifier(objective=\"binary:logistic\", \n",
    "                              random_state=42)\n",
    "xgb_model.fit(X_train, y_train['Output_Is_End'],\n",
    "             eval_set=[(X_train, y_train['Output_Is_End']), (X_test, y_test['Output_Is_End'])],\n",
    "             eval_metric='error',verbose=False)\n",
    "\n",
    "evals_result = xgb_model.evals_result()"
   ]
  },
  {
   "cell_type": "code",
   "execution_count": 4,
   "metadata": {},
   "outputs": [
    {
     "name": "stdout",
     "output_type": "stream",
     "text": [
      "Accuracy: 0.9992693037307665\n"
     ]
    }
   ],
   "source": [
    "preds = xgb_model.predict(X_test)\n",
    "\n",
    "# Count the number of matches between predictions and labels\n",
    "correct = np.sum(preds == y_test['Output_Is_End'])\n",
    "\n",
    "# Calculate accuracy\n",
    "accuracy = correct / len(y_test)\n",
    "print(f\"Accuracy: {accuracy}\")\n",
    "\n",
    "xgb_model.save_model('xgb_model_is_end.model')"
   ]
  },
  {
   "cell_type": "markdown",
   "metadata": {},
   "source": [
    "Train a linear regression model for predicting when first zero occurs on models where the dust is not all stacked at the end."
   ]
  },
  {
   "cell_type": "code",
   "execution_count": 6,
   "metadata": {},
   "outputs": [
    {
     "name": "stdout",
     "output_type": "stream",
     "text": [
      "[15:27:12] WARNING: ../src/learner.cc:516: \n",
      "Parameters: { sub_sample } might not be used.\n",
      "\n",
      "  This may not be accurate due to some parameters are only used in language bindings but\n",
      "  passed down to XGBoost core.  Or some parameters are not used but slip through this\n",
      "  verification. Please open an issue if you find above cases.\n",
      "\n",
      "\n",
      "[0]\tvalidation_0-rmse:97.76301\n",
      "Will train until validation_0-rmse hasn't improved in 10 rounds.\n",
      "[1]\tvalidation_0-rmse:88.06724\n",
      "[2]\tvalidation_0-rmse:79.34326\n",
      "[3]\tvalidation_0-rmse:71.51369\n",
      "[4]\tvalidation_0-rmse:64.46164\n",
      "[5]\tvalidation_0-rmse:58.09223\n",
      "[6]\tvalidation_0-rmse:52.37012\n",
      "[7]\tvalidation_0-rmse:47.21246\n",
      "[8]\tvalidation_0-rmse:42.57005\n",
      "[9]\tvalidation_0-rmse:38.39872\n",
      "[10]\tvalidation_0-rmse:34.64174\n",
      "[11]\tvalidation_0-rmse:31.26529\n",
      "[12]\tvalidation_0-rmse:28.22983\n",
      "[13]\tvalidation_0-rmse:25.50062\n",
      "[14]\tvalidation_0-rmse:23.04997\n",
      "[15]\tvalidation_0-rmse:20.85611\n",
      "[16]\tvalidation_0-rmse:18.87436\n",
      "[17]\tvalidation_0-rmse:17.09471\n",
      "[18]\tvalidation_0-rmse:15.50637\n",
      "[19]\tvalidation_0-rmse:14.07403\n",
      "[20]\tvalidation_0-rmse:12.82418\n",
      "[21]\tvalidation_0-rmse:11.66838\n",
      "[22]\tvalidation_0-rmse:10.66964\n",
      "[23]\tvalidation_0-rmse:9.76252\n",
      "[24]\tvalidation_0-rmse:8.95930\n",
      "[25]\tvalidation_0-rmse:8.24609\n",
      "[26]\tvalidation_0-rmse:7.58700\n",
      "[27]\tvalidation_0-rmse:6.99790\n",
      "[28]\tvalidation_0-rmse:6.45680\n",
      "[29]\tvalidation_0-rmse:5.96894\n",
      "[30]\tvalidation_0-rmse:5.58723\n",
      "[31]\tvalidation_0-rmse:5.21530\n",
      "[32]\tvalidation_0-rmse:4.87084\n",
      "[33]\tvalidation_0-rmse:4.56750\n",
      "[34]\tvalidation_0-rmse:4.31310\n",
      "[35]\tvalidation_0-rmse:4.08996\n",
      "[36]\tvalidation_0-rmse:3.88196\n",
      "[37]\tvalidation_0-rmse:3.73153\n",
      "[38]\tvalidation_0-rmse:3.57375\n",
      "[39]\tvalidation_0-rmse:3.44831\n",
      "[40]\tvalidation_0-rmse:3.35035\n",
      "[41]\tvalidation_0-rmse:3.24876\n",
      "[42]\tvalidation_0-rmse:3.15547\n",
      "[43]\tvalidation_0-rmse:3.06833\n",
      "[44]\tvalidation_0-rmse:3.00840\n",
      "[45]\tvalidation_0-rmse:2.94651\n",
      "[46]\tvalidation_0-rmse:2.88946\n",
      "[47]\tvalidation_0-rmse:2.83313\n",
      "[48]\tvalidation_0-rmse:2.78575\n",
      "[49]\tvalidation_0-rmse:2.74161\n",
      "[50]\tvalidation_0-rmse:2.71126\n",
      "[51]\tvalidation_0-rmse:2.66984\n",
      "[52]\tvalidation_0-rmse:2.63410\n",
      "[53]\tvalidation_0-rmse:2.61458\n",
      "[54]\tvalidation_0-rmse:2.59826\n",
      "[55]\tvalidation_0-rmse:2.58710\n",
      "[56]\tvalidation_0-rmse:2.55380\n",
      "[57]\tvalidation_0-rmse:2.53787\n",
      "[58]\tvalidation_0-rmse:2.52189\n",
      "[59]\tvalidation_0-rmse:2.47420\n",
      "[60]\tvalidation_0-rmse:2.45674\n",
      "[61]\tvalidation_0-rmse:2.44427\n",
      "[62]\tvalidation_0-rmse:2.39954\n",
      "[63]\tvalidation_0-rmse:2.39104\n",
      "[64]\tvalidation_0-rmse:2.38557\n",
      "[65]\tvalidation_0-rmse:2.35336\n",
      "[66]\tvalidation_0-rmse:2.32618\n",
      "[67]\tvalidation_0-rmse:2.32325\n",
      "[68]\tvalidation_0-rmse:2.29281\n",
      "[69]\tvalidation_0-rmse:2.26295\n",
      "[70]\tvalidation_0-rmse:2.24468\n",
      "[71]\tvalidation_0-rmse:2.24096\n",
      "[72]\tvalidation_0-rmse:2.23786\n",
      "[73]\tvalidation_0-rmse:2.21784\n",
      "[74]\tvalidation_0-rmse:2.19674\n",
      "[75]\tvalidation_0-rmse:2.19456\n",
      "[76]\tvalidation_0-rmse:2.17266\n",
      "[77]\tvalidation_0-rmse:2.15072\n",
      "[78]\tvalidation_0-rmse:2.14463\n",
      "[79]\tvalidation_0-rmse:2.12982\n",
      "[80]\tvalidation_0-rmse:2.12794\n",
      "[81]\tvalidation_0-rmse:2.12694\n",
      "[82]\tvalidation_0-rmse:2.10863\n",
      "[83]\tvalidation_0-rmse:2.09977\n",
      "[84]\tvalidation_0-rmse:2.09113\n",
      "[85]\tvalidation_0-rmse:2.08446\n",
      "[86]\tvalidation_0-rmse:2.07374\n",
      "[87]\tvalidation_0-rmse:2.06288\n",
      "[88]\tvalidation_0-rmse:2.05272\n",
      "[89]\tvalidation_0-rmse:2.03734\n",
      "[90]\tvalidation_0-rmse:2.02199\n",
      "[91]\tvalidation_0-rmse:2.01900\n",
      "[92]\tvalidation_0-rmse:2.00787\n",
      "[93]\tvalidation_0-rmse:1.99717\n",
      "[94]\tvalidation_0-rmse:1.98533\n",
      "[95]\tvalidation_0-rmse:1.97921\n",
      "[96]\tvalidation_0-rmse:1.96432\n",
      "[97]\tvalidation_0-rmse:1.95671\n",
      "[98]\tvalidation_0-rmse:1.95313\n",
      "[99]\tvalidation_0-rmse:1.94288\n",
      "[100]\tvalidation_0-rmse:1.94129\n",
      "[101]\tvalidation_0-rmse:1.93672\n",
      "[102]\tvalidation_0-rmse:1.92842\n",
      "[103]\tvalidation_0-rmse:1.92053\n",
      "[104]\tvalidation_0-rmse:1.91120\n",
      "[105]\tvalidation_0-rmse:1.90966\n",
      "[106]\tvalidation_0-rmse:1.90325\n",
      "[107]\tvalidation_0-rmse:1.89585\n",
      "[108]\tvalidation_0-rmse:1.88910\n",
      "[109]\tvalidation_0-rmse:1.88148\n",
      "[110]\tvalidation_0-rmse:1.87858\n",
      "[111]\tvalidation_0-rmse:1.87680\n",
      "[112]\tvalidation_0-rmse:1.87289\n",
      "[113]\tvalidation_0-rmse:1.87159\n",
      "[114]\tvalidation_0-rmse:1.87044\n",
      "[115]\tvalidation_0-rmse:1.86911\n",
      "[116]\tvalidation_0-rmse:1.86827\n",
      "[117]\tvalidation_0-rmse:1.86806\n",
      "[118]\tvalidation_0-rmse:1.86755\n",
      "[119]\tvalidation_0-rmse:1.86418\n",
      "[120]\tvalidation_0-rmse:1.86266\n",
      "[121]\tvalidation_0-rmse:1.85938\n",
      "[122]\tvalidation_0-rmse:1.85450\n",
      "[123]\tvalidation_0-rmse:1.85291\n",
      "[124]\tvalidation_0-rmse:1.85075\n",
      "[125]\tvalidation_0-rmse:1.84784\n",
      "[126]\tvalidation_0-rmse:1.84328\n",
      "[127]\tvalidation_0-rmse:1.83753\n",
      "[128]\tvalidation_0-rmse:1.83127\n",
      "[129]\tvalidation_0-rmse:1.82795\n",
      "[130]\tvalidation_0-rmse:1.82724\n",
      "[131]\tvalidation_0-rmse:1.82594\n",
      "[132]\tvalidation_0-rmse:1.82558\n",
      "[133]\tvalidation_0-rmse:1.82467\n",
      "[134]\tvalidation_0-rmse:1.82144\n",
      "[135]\tvalidation_0-rmse:1.81889\n",
      "[136]\tvalidation_0-rmse:1.81812\n",
      "[137]\tvalidation_0-rmse:1.81431\n",
      "[138]\tvalidation_0-rmse:1.80830\n",
      "[139]\tvalidation_0-rmse:1.80762\n",
      "[140]\tvalidation_0-rmse:1.80378\n",
      "[141]\tvalidation_0-rmse:1.79990\n",
      "[142]\tvalidation_0-rmse:1.79906\n",
      "[143]\tvalidation_0-rmse:1.79862\n",
      "[144]\tvalidation_0-rmse:1.79852\n",
      "[145]\tvalidation_0-rmse:1.79710\n",
      "[146]\tvalidation_0-rmse:1.79265\n",
      "[147]\tvalidation_0-rmse:1.79219\n",
      "[148]\tvalidation_0-rmse:1.79133\n",
      "[149]\tvalidation_0-rmse:1.78940\n"
     ]
    }
   ],
   "source": [
    "\n",
    "xgb_model = xgb.XGBRegressor(objective=\"reg:squarederror\",\n",
    "                             eta=0.1,\n",
    "                             n_estimators=150,\n",
    "                             sub_sample=0.8,\n",
    "                             colsample_bytree=0.8,\n",
    "                             max_depth=8,\n",
    "                              random_state=42)\n",
    "\n",
    "\n",
    "# Only train on output not at end\n",
    "output_not_end_idx = y_train.Output_Is_End.index[y_train['Output_Is_End'] == 0]\n",
    "X_first_zero = X_train.loc[output_not_end_idx]\n",
    "y_first_zero = y_train.loc[output_not_end_idx, 'Output_First_Zero']\n",
    "\n",
    "xgb_model.fit(X_first_zero, y_first_zero,\n",
    "             eval_set=[(X_first_zero, y_first_zero)],\n",
    "             eval_metric='rmse', early_stopping_rounds=10, verbose=True)\n",
    "\n",
    "evals_result = xgb_model.evals_result()"
   ]
  },
  {
   "cell_type": "markdown",
   "metadata": {},
   "source": [
    "Best train result is 1.116 RMSE. Best test RMSE is 1.3"
   ]
  },
  {
   "cell_type": "code",
   "execution_count": 7,
   "metadata": {},
   "outputs": [
    {
     "name": "stdout",
     "output_type": "stream",
     "text": [
      "RMSE : 1.939649134678017\n",
      "         preds  test\n",
      "812479   112.0   112\n",
      "282690    90.0    90\n",
      "12849    171.0   171\n",
      "1084258   97.0    97\n",
      "409314   168.0   168\n",
      "1185958   64.0    64\n",
      "624375   133.0   134\n",
      "699524    64.0    64\n",
      "616329    91.0    92\n",
      "566969   108.0   110\n",
      "998258    49.0    49\n",
      "827418    94.0    93\n",
      "639061    66.0    67\n",
      "808437   113.0   113\n",
      "266382   148.0   148\n",
      "1005452  101.0   102\n",
      "107326   132.0   132\n",
      "129889   160.0   160\n",
      "760585    84.0    83\n",
      "598600   155.0   155\n",
      "307323   145.0   145\n",
      "1346253   55.0    54\n",
      "216224   122.0   122\n",
      "298282   116.0   116\n",
      "675132    65.0    65\n"
     ]
    }
   ],
   "source": [
    "from sklearn.metrics import mean_squared_error as MSE \n",
    "\n",
    "#Optionally load pretrained model\n",
    "# Load first zero model\n",
    "#xgb_model = xgb.XGBRegressor()\n",
    "#xgb_model.load_model('xgb_model_first_zero.model')\n",
    "\n",
    "# Only predict on output not at end\n",
    "output_not_end_test_idx = y_test.Output_Is_End.index[y_test['Output_Is_End'] == 0]\n",
    "X_test_first_zero = X_test.loc[output_not_end_test_idx]\n",
    "y_test_first_zero = y_test.loc[output_not_end_test_idx, 'Output_First_Zero']\n",
    "\n",
    "# Predict the model. Round preds since bins are whole numbers\n",
    "pred = np.rint(xgb_model.predict(X_test_first_zero)) \n",
    "  \n",
    "# RMSE Computation \n",
    "rmse = np.sqrt(MSE(y_test_first_zero, pred)) \n",
    "print(f\"RMSE : {rmse}\") \n",
    "\n",
    "pd.set_option('display.max_rows', None)\n",
    "print(pd.DataFrame({\"preds\":pred, \"test\":y_test_first_zero}).head(25))"
   ]
  },
  {
   "cell_type": "code",
   "execution_count": 8,
   "metadata": {},
   "outputs": [],
   "source": [
    "xgb_model.save_model('xgb_model_first_zero.model')"
   ]
  },
  {
   "cell_type": "markdown",
   "metadata": {},
   "source": [
    "Train two MDNs, one on the dust at end and one without"
   ]
  },
  {
   "cell_type": "code",
   "execution_count": 9,
   "metadata": {},
   "outputs": [],
   "source": [
    "def build_mdn_model(activation='sigmoid', k=16):\n",
    "    \"\"\" k is the number of mixture models\"\"\"\n",
    "    # Number of columns (bin count plus 8 inputs)\n",
    "    l = bin_count + 8\n",
    "\n",
    "    # Network\n",
    "    input = tf.keras.Input(shape=(l,))\n",
    "\n",
    "    layer = tf.keras.layers.Dense(512, activation=activation, name='baselayer')(input)\n",
    "    layer_2 = tf.keras.layers.Dense(128, activation=activation, name='layer_2')(layer)\n",
    "    layer_3 = tf.keras.layers.Dense(64, activation=activation, name='layer_3')(layer_2)\n",
    "    #layer_4 = tf.keras.layers.Dense(32, activation=activation, name='layer_4')(layer_3)\n",
    "\n",
    "    # Connect the mdn layer to the output of our neural network\n",
    "    mdn_layer = mdn.MDN(bin_count,k, name='mdn')(layer_3)\n",
    "    model = tf.keras.models.Model(input, [mdn_layer])\n",
    "\n",
    "\n",
    "    opt = tf.keras.optimizers.Adam()\n",
    "    model.compile(loss=mdn.get_mixture_loss_func(bin_count,k), optimizer=opt)\n",
    "    model.summary()\n",
    "    return model"
   ]
  },
  {
   "cell_type": "markdown",
   "metadata": {},
   "source": [
    "Build a mdn model for the outputs where the dust is at the end of the distribution"
   ]
  },
  {
   "cell_type": "code",
   "execution_count": 10,
   "metadata": {},
   "outputs": [
    {
     "name": "stdout",
     "output_type": "stream",
     "text": [
      "Model: \"functional_1\"\n",
      "_________________________________________________________________\n",
      "Layer (type)                 Output Shape              Param #   \n",
      "=================================================================\n",
      "input_1 (InputLayer)         [(None, 179)]             0         \n",
      "_________________________________________________________________\n",
      "baselayer (Dense)            (None, 512)               92160     \n",
      "_________________________________________________________________\n",
      "layer_2 (Dense)              (None, 128)               65664     \n",
      "_________________________________________________________________\n",
      "layer_3 (Dense)              (None, 64)                8256      \n",
      "_________________________________________________________________\n",
      "mdn (MDN)                    (None, 10976)             713440    \n",
      "=================================================================\n",
      "Total params: 879,520\n",
      "Trainable params: 879,520\n",
      "Non-trainable params: 0\n",
      "_________________________________________________________________\n",
      "(214335, 171)\n",
      "Epoch 1/50\n",
      "WARNING:tensorflow:From /home/keh4nb/.local/lib/python3.7/site-packages/tensorflow/python/ops/linalg/linear_operator_diag.py:166: calling LinearOperator.__init__ (from tensorflow.python.ops.linalg.linear_operator) with graph_parents is deprecated and will be removed in a future version.\n",
      "Instructions for updating:\n",
      "Do not pass `graph_parents`.  They will  no longer be used.\n",
      "377/377 [==============================] - 31s 82ms/step - loss: -536.8708 - val_loss: -696.7585\n",
      "Epoch 2/50\n",
      "377/377 [==============================] - 16s 42ms/step - loss: -449.5747 - val_loss: -337.3240\n",
      "Epoch 3/50\n",
      "377/377 [==============================] - 16s 42ms/step - loss: -499.4341 - val_loss: -185.1423\n",
      "Epoch 4/50\n",
      "377/377 [==============================] - 16s 41ms/step - loss: -494.1565 - val_loss: -589.1436\n",
      "Epoch 5/50\n",
      "377/377 [==============================] - 16s 42ms/step - loss: -503.5495 - val_loss: -596.3173\n",
      "Epoch 6/50\n",
      "377/377 [==============================] - 16s 42ms/step - loss: -523.2441 - val_loss: -599.7968\n",
      "Epoch 7/50\n",
      "377/377 [==============================] - 16s 41ms/step - loss: -603.2100 - val_loss: -648.9664\n",
      "Epoch 8/50\n",
      "377/377 [==============================] - 16s 41ms/step - loss: -591.9791 - val_loss: -691.1938\n",
      "Epoch 9/50\n",
      "377/377 [==============================] - 16s 42ms/step - loss: -692.7679 - val_loss: -756.4242\n",
      "Epoch 10/50\n",
      "377/377 [==============================] - 15s 41ms/step - loss: -744.0048 - val_loss: -765.6317\n",
      "Epoch 11/50\n",
      "377/377 [==============================] - 16s 42ms/step - loss: -841.7852 - val_loss: -903.2848\n",
      "Epoch 12/50\n",
      "377/377 [==============================] - 16s 42ms/step - loss: -669.2579 - val_loss: -754.2234\n",
      "Epoch 13/50\n",
      "377/377 [==============================] - 15s 41ms/step - loss: -817.8617 - val_loss: -868.9162\n",
      "Epoch 14/50\n",
      "377/377 [==============================] - 15s 41ms/step - loss: -878.6956 - val_loss: -859.4833\n",
      "Epoch 15/50\n",
      "377/377 [==============================] - 15s 39ms/step - loss: -909.3804 - val_loss: -818.9642\n",
      "Epoch 16/50\n",
      "377/377 [==============================] - 16s 42ms/step - loss: -939.1223 - val_loss: -999.3183\n",
      "Epoch 17/50\n",
      "377/377 [==============================] - 16s 41ms/step - loss: -949.2236 - val_loss: -848.4066\n",
      "Epoch 18/50\n",
      "377/377 [==============================] - 14s 37ms/step - loss: -967.8986 - val_loss: -892.1799\n",
      "Epoch 19/50\n",
      "377/377 [==============================] - 15s 39ms/step - loss: -989.6627 - val_loss: -979.0247\n",
      "Epoch 20/50\n",
      "377/377 [==============================] - 16s 42ms/step - loss: -999.9337 - val_loss: -1063.3625\n",
      "Epoch 21/50\n",
      "377/377 [==============================] - 16s 42ms/step - loss: -996.6570 - val_loss: -1037.6521\n",
      "Epoch 22/50\n",
      "377/377 [==============================] - 15s 41ms/step - loss: -1011.0018 - val_loss: -1062.5206\n",
      "Epoch 23/50\n",
      "377/377 [==============================] - 16s 41ms/step - loss: -1016.8740 - val_loss: -1045.7927\n",
      "Epoch 24/50\n",
      "377/377 [==============================] - 16s 43ms/step - loss: -878.8074 - val_loss: -721.1217\n",
      "Epoch 25/50\n",
      "377/377 [==============================] - 16s 42ms/step - loss: -805.8088 - val_loss: -832.9271\n",
      "Epoch 26/50\n",
      "377/377 [==============================] - 16s 41ms/step - loss: -910.6279 - val_loss: -950.9800\n",
      "Epoch 27/50\n",
      "377/377 [==============================] - 16s 43ms/step - loss: -951.0470 - val_loss: -1014.1906\n",
      "Epoch 28/50\n",
      "377/377 [==============================] - 16s 41ms/step - loss: -962.7695 - val_loss: -960.2001\n",
      "Epoch 29/50\n",
      "377/377 [==============================] - 15s 41ms/step - loss: -988.7798 - val_loss: -1012.6265\n",
      "Epoch 30/50\n",
      "377/377 [==============================] - 15s 41ms/step - loss: -997.4918 - val_loss: -965.4690\n",
      "Epoch 31/50\n",
      "377/377 [==============================] - 15s 40ms/step - loss: -995.8291 - val_loss: -980.6633\n",
      "Epoch 32/50\n",
      "377/377 [==============================] - 16s 42ms/step - loss: -1016.8389 - val_loss: -1059.4518\n",
      "Epoch 33/50\n",
      "377/377 [==============================] - 16s 42ms/step - loss: -1027.7974 - val_loss: -1073.7169\n",
      "Epoch 34/50\n",
      "377/377 [==============================] - 15s 41ms/step - loss: -1023.4990 - val_loss: -1011.9645\n",
      "Epoch 35/50\n",
      "377/377 [==============================] - 15s 39ms/step - loss: -836.7540 - val_loss: -788.8448\n",
      "Epoch 36/50\n",
      "377/377 [==============================] - 16s 42ms/step - loss: -878.7416 - val_loss: -939.0515\n",
      "Epoch 37/50\n",
      "377/377 [==============================] - 15s 41ms/step - loss: -937.1241 - val_loss: -980.7305\n",
      "Epoch 38/50\n",
      "377/377 [==============================] - 16s 42ms/step - loss: -944.1327 - val_loss: -999.2877\n",
      "Epoch 39/50\n",
      "377/377 [==============================] - 16s 42ms/step - loss: -900.7707 - val_loss: -134.5004\n",
      "Epoch 40/50\n",
      "377/377 [==============================] - 16s 41ms/step - loss: -734.2213 - val_loss: -840.5045\n",
      "Epoch 41/50\n",
      "377/377 [==============================] - 15s 41ms/step - loss: -916.5502 - val_loss: -928.8378\n",
      "Epoch 42/50\n",
      "377/377 [==============================] - 15s 40ms/step - loss: -937.8814 - val_loss: -1017.1476\n",
      "Epoch 43/50\n",
      "377/377 [==============================] - 15s 41ms/step - loss: -965.1443 - val_loss: -682.2255\n",
      "Epoch 44/50\n",
      "377/377 [==============================] - 16s 41ms/step - loss: -810.2012 - val_loss: -852.7014\n",
      "Epoch 45/50\n",
      "377/377 [==============================] - 16s 41ms/step - loss: -902.7084 - val_loss: -983.2910\n",
      "Epoch 46/50\n",
      "377/377 [==============================] - 15s 40ms/step - loss: -944.9384 - val_loss: -979.6919\n",
      "Epoch 47/50\n",
      "377/377 [==============================] - 16s 42ms/step - loss: -973.0127 - val_loss: -1042.7509\n",
      "Epoch 48/50\n",
      "377/377 [==============================] - 16s 43ms/step - loss: -1001.8419 - val_loss: -1062.7162\n",
      "Epoch 49/50\n",
      "377/377 [==============================] - 16s 42ms/step - loss: -812.5923 - val_loss: -879.1420\n",
      "Epoch 50/50\n",
      "377/377 [==============================] - 16s 41ms/step - loss: -899.0845 - val_loss: -940.5890\n"
     ]
    }
   ],
   "source": [
    "\n",
    "#model_spike = build_mdn_model(k=64)\n",
    "model_spike = build_mdn_model(k=32)\n",
    "output_is_end_idx = y_train.Output_Is_End.index[y_train['Output_Is_End'] == 1]\n",
    "\n",
    "X = X_train.loc[output_is_end_idx]\n",
    "y = y_train.loc[output_is_end_idx].drop(['Output_Is_End', 'Output_First_Zero'], axis=1)\n",
    "print(y.shape)\n",
    "spike_fit = model_spike.fit(x=X, y=y, batch_size=512, epochs=50, validation_split=0.1, callbacks=[tf.keras.callbacks.TerminateOnNaN()])"
   ]
  },
  {
   "cell_type": "code",
   "execution_count": 11,
   "metadata": {},
   "outputs": [
    {
     "name": "stdout",
     "output_type": "stream",
     "text": [
      "WARNING:tensorflow:From /home/keh4nb/.local/lib/python3.7/site-packages/tensorflow/python/training/tracking/tracking.py:111: Model.state_updates (from tensorflow.python.keras.engine.training) is deprecated and will be removed in a future version.\n",
      "Instructions for updating:\n",
      "This property should not be used in TensorFlow 2.0, as updates are applied automatically.\n",
      "WARNING:tensorflow:From /home/keh4nb/.local/lib/python3.7/site-packages/tensorflow/python/training/tracking/tracking.py:111: Layer.updates (from tensorflow.python.keras.engine.base_layer) is deprecated and will be removed in a future version.\n",
      "Instructions for updating:\n",
      "This property should not be used in TensorFlow 2.0, as updates are applied automatically.\n",
      "INFO:tensorflow:Assets written to: spiked_mdn_model/model/assets\n"
     ]
    }
   ],
   "source": [
    "model_spike.save(\"spiked_mdn_model/model\")"
   ]
  },
  {
   "cell_type": "code",
   "execution_count": 12,
   "metadata": {},
   "outputs": [],
   "source": [
    "from scipy.stats import entropy\n",
    "def predict_for_test(model, X_test, y_test, k):\n",
    "\n",
    "    start = timer()\n",
    "\n",
    "    # Returns the predictions of the parameters of the distributions and weights\n",
    "    preds = model.predict(X_test)\n",
    "    samples_list = []\n",
    "    # Obtain 5 samples per prediction\n",
    "    for i in range(5):\n",
    "        samples_list.append(np.apply_along_axis(mdn.sample_from_output, 1, preds, bin_count, k, temp=1.0, sigma_temp=1.0))\n",
    "\n",
    "    # Average the samples for our predicitons\n",
    "    y_samples = np.mean(np.array(samples_list),axis=0)\n",
    "    y_samples = y_samples.reshape(len(X_test),bin_count)\n",
    "    # Convert negatives to 0\n",
    "    y_samples = np.clip(y_samples,0, a_max=None)\n",
    "    end = timer()\n",
    "    \n",
    "    print(f\"Total time taken: {end-start}. Seconds per prediction: {(end-start)/len(preds)}\")\n",
    "    \n",
    "    return y_samples"
   ]
  },
  {
   "cell_type": "markdown",
   "metadata": {},
   "source": [
    "Make predictions for this model and evaluate the results"
   ]
  },
  {
   "cell_type": "code",
   "execution_count": 13,
   "metadata": {},
   "outputs": [
    {
     "name": "stdout",
     "output_type": "stream",
     "text": [
      "Total time taken: 5377.051542811096. Seconds per prediction: 0.22541508941104618\n"
     ]
    }
   ],
   "source": [
    "output_is_end_idx = y_test.Output_Is_End.index[y_test['Output_Is_End'] == 1]\n",
    "\n",
    "X_test_spike = X_test.loc[output_is_end_idx]\n",
    "y_test_spike = y_test.loc[output_is_end_idx].drop(['Output_Is_End','Output_First_Zero'], axis=1)\n",
    "\n",
    "model_spike = tf.keras.models.load_model('spiked_mdn_model/model', custom_objects={'MDN': mdn.MDN, 'mdn_loss_func': mdn.get_mixture_loss_func(1, 32)})\n",
    "\n",
    "\n",
    "spike_preds = predict_for_test(model_spike, X_test_spike, y_test_spike, 32)\n",
    "#spike_preds = model_spike.predict(X_test)"
   ]
  },
  {
   "cell_type": "code",
   "execution_count": 17,
   "metadata": {},
   "outputs": [
    {
     "name": "stderr",
     "output_type": "stream",
     "text": [
      "/usr/local/lib/python3.7/dist-packages/ipykernel/__main__.py:6: RuntimeWarning: invalid value encountered in true_divide\n"
     ]
    }
   ],
   "source": [
    "from scipy.stats import entropy\n",
    "from scipy.spatial.distance import jensenshannon\n",
    "# Renormalize samples\n",
    "preds_normalized = []\n",
    "for s in preds:\n",
    "    preds_normalized.append(np.divide(s,np.sum(s)))\n",
    "\n",
    "def evaluate_fit(y_samples, y_test):\n",
    "    ent = []\n",
    "    js_list = []\n",
    "\n",
    "    # Turn all negative preds to 0\n",
    "    y_samples = np.clip(y_samples,0, a_max=None)\n",
    "\n",
    "    #y_test_obs = [obs_from_bins(s.array) for idx, s in y_test.iterrows()]\n",
    "    #y_samples_obs = [obs_from_bins(s) for s in y_samples]\n",
    "    \n",
    "    y_samples_obs = y_samples\n",
    "    y_test_obs = y_test\n",
    "    \n",
    "    # Small constant to prevent inf for 0s\n",
    "    c = 1e-100\n",
    "    \n",
    "    y_test_obs += c\n",
    "    y_samples_obs += c\n",
    "\n",
    "    #print(y_test_obs)\n",
    "    for i in range(len(y_test_obs)):\n",
    "        e = entropy(y_test_obs.iloc[i], y_samples_obs[i])\n",
    "        js = jensenshannon(y_test_obs.iloc[i], y_samples_obs[i])\n",
    "        ent.append(e if e != np.inf else 1000)\n",
    "        js_list.append(js)\n",
    "    display(pd.DataFrame(ent).describe())\n",
    "    display(pd.DataFrame(js_list).describe())"
   ]
  },
  {
   "cell_type": "markdown",
   "metadata": {},
   "source": [
    "Before changing the entropy calculation, mean 7.8, min 0.03, median 2.9, max, 116.3.\n",
    "Instead of entropy, what about jensenshannon?"
   ]
  },
  {
   "cell_type": "code",
   "execution_count": 18,
   "metadata": {},
   "outputs": [
    {
     "data": {
      "text/html": [
       "<div>\n",
       "<style scoped>\n",
       "    .dataframe tbody tr th:only-of-type {\n",
       "        vertical-align: middle;\n",
       "    }\n",
       "\n",
       "    .dataframe tbody tr th {\n",
       "        vertical-align: top;\n",
       "    }\n",
       "\n",
       "    .dataframe thead th {\n",
       "        text-align: right;\n",
       "    }\n",
       "</style>\n",
       "<table border=\"1\" class=\"dataframe\">\n",
       "  <thead>\n",
       "    <tr style=\"text-align: right;\">\n",
       "      <th></th>\n",
       "      <th>0</th>\n",
       "    </tr>\n",
       "  </thead>\n",
       "  <tbody>\n",
       "    <tr>\n",
       "      <th>count</th>\n",
       "      <td>23854.000000</td>\n",
       "    </tr>\n",
       "    <tr>\n",
       "      <th>mean</th>\n",
       "      <td>0.506773</td>\n",
       "    </tr>\n",
       "    <tr>\n",
       "      <th>std</th>\n",
       "      <td>1.658731</td>\n",
       "    </tr>\n",
       "    <tr>\n",
       "      <th>min</th>\n",
       "      <td>0.046695</td>\n",
       "    </tr>\n",
       "    <tr>\n",
       "      <th>25%</th>\n",
       "      <td>0.066616</td>\n",
       "    </tr>\n",
       "    <tr>\n",
       "      <th>50%</th>\n",
       "      <td>0.081529</td>\n",
       "    </tr>\n",
       "    <tr>\n",
       "      <th>75%</th>\n",
       "      <td>0.181691</td>\n",
       "    </tr>\n",
       "    <tr>\n",
       "      <th>max</th>\n",
       "      <td>27.840138</td>\n",
       "    </tr>\n",
       "  </tbody>\n",
       "</table>\n",
       "</div>"
      ],
      "text/plain": [
       "                  0\n",
       "count  23854.000000\n",
       "mean       0.506773\n",
       "std        1.658731\n",
       "min        0.046695\n",
       "25%        0.066616\n",
       "50%        0.081529\n",
       "75%        0.181691\n",
       "max       27.840138"
      ]
     },
     "metadata": {},
     "output_type": "display_data"
    },
    {
     "data": {
      "text/html": [
       "<div>\n",
       "<style scoped>\n",
       "    .dataframe tbody tr th:only-of-type {\n",
       "        vertical-align: middle;\n",
       "    }\n",
       "\n",
       "    .dataframe tbody tr th {\n",
       "        vertical-align: top;\n",
       "    }\n",
       "\n",
       "    .dataframe thead th {\n",
       "        text-align: right;\n",
       "    }\n",
       "</style>\n",
       "<table border=\"1\" class=\"dataframe\">\n",
       "  <thead>\n",
       "    <tr style=\"text-align: right;\">\n",
       "      <th></th>\n",
       "      <th>0</th>\n",
       "    </tr>\n",
       "  </thead>\n",
       "  <tbody>\n",
       "    <tr>\n",
       "      <th>count</th>\n",
       "      <td>23854.000000</td>\n",
       "    </tr>\n",
       "    <tr>\n",
       "      <th>mean</th>\n",
       "      <td>0.178112</td>\n",
       "    </tr>\n",
       "    <tr>\n",
       "      <th>std</th>\n",
       "      <td>0.047426</td>\n",
       "    </tr>\n",
       "    <tr>\n",
       "      <th>min</th>\n",
       "      <td>0.125864</td>\n",
       "    </tr>\n",
       "    <tr>\n",
       "      <th>25%</th>\n",
       "      <td>0.147680</td>\n",
       "    </tr>\n",
       "    <tr>\n",
       "      <th>50%</th>\n",
       "      <td>0.157149</td>\n",
       "    </tr>\n",
       "    <tr>\n",
       "      <th>75%</th>\n",
       "      <td>0.191048</td>\n",
       "    </tr>\n",
       "    <tr>\n",
       "      <th>max</th>\n",
       "      <td>0.631574</td>\n",
       "    </tr>\n",
       "  </tbody>\n",
       "</table>\n",
       "</div>"
      ],
      "text/plain": [
       "                  0\n",
       "count  23854.000000\n",
       "mean       0.178112\n",
       "std        0.047426\n",
       "min        0.125864\n",
       "25%        0.147680\n",
       "50%        0.157149\n",
       "75%        0.191048\n",
       "max        0.631574"
      ]
     },
     "metadata": {},
     "output_type": "display_data"
    }
   ],
   "source": [
    "evaluate_fit(y_samples_spike_normalized, y_test_spike)"
   ]
  },
  {
   "cell_type": "code",
   "execution_count": 19,
   "metadata": {},
   "outputs": [
    {
     "data": {
      "image/png": "[encoded data removed]",
      "text/plain": [
       "<Figure size 720x720 with 4 Axes>"
      ]
     },
     "metadata": {
      "needs_background": "light"
     },
     "output_type": "display_data"
    }
   ],
   "source": [
    "from matplotlib import pyplot as plt\n",
    "fig, axes = plt.subplots(nrows=2, ncols=2, figsize=(10, 10))\n",
    "\n",
    "for ax in axes.flatten():\n",
    "    # Generate random index to plot\n",
    "    i = np.random.randint(len(y_test_spike), size=1)[0]\n",
    "    test_pred = spike_preds[i]\n",
    "    true = y_test_spike.iloc[i]\n",
    "    ax.plot(test_pred, color='blue', label='pred')\n",
    "    ax.plot(true, color='orange', label='true')\n",
    "    ax.xaxis.set_visible(False)\n",
    "    ax.legend(loc=\"upper left\")\n",
    "    \n",
    "plt.show()"
   ]
  },
  {
   "cell_type": "markdown",
   "metadata": {},
   "source": [
    "Create a seperate mdn model to use on the rest."
   ]
  },
  {
   "cell_type": "markdown",
   "metadata": {},
   "source": [
    "Identify what type of distribution the non-spiked data is from y-train"
   ]
  },
  {
   "cell_type": "code",
   "execution_count": 16,
   "metadata": {},
   "outputs": [
    {
     "name": "stdout",
     "output_type": "stream",
     "text": [
      "Model: \"functional_3\"\n",
      "_________________________________________________________________\n",
      "Layer (type)                 Output Shape              Param #   \n",
      "=================================================================\n",
      "input_2 (InputLayer)         [(None, 179)]             0         \n",
      "_________________________________________________________________\n",
      "baselayer (Dense)            (None, 512)               92160     \n",
      "_________________________________________________________________\n",
      "layer_2 (Dense)              (None, 128)               65664     \n",
      "_________________________________________________________________\n",
      "layer_3 (Dense)              (None, 64)                8256      \n",
      "_________________________________________________________________\n",
      "mdn (MDN)                    (None, 5488)              356720    \n",
      "=================================================================\n",
      "Total params: 522,800\n",
      "Trainable params: 522,800\n",
      "Non-trainable params: 0\n",
      "_________________________________________________________________\n",
      "Epoch 1/50\n",
      "938/938 [==============================] - 60s 64ms/step - loss: -512.9330 - val_loss: -537.2432\n",
      "Epoch 2/50\n",
      "938/938 [==============================] - 32s 34ms/step - loss: -537.9705 - val_loss: -536.3096\n",
      "Epoch 3/50\n",
      "938/938 [==============================] - 31s 33ms/step - loss: -539.4912 - val_loss: -539.6349\n",
      "Epoch 4/50\n",
      "938/938 [==============================] - 31s 33ms/step - loss: -540.2347 - val_loss: -542.9663\n",
      "Epoch 5/50\n",
      "938/938 [==============================] - 31s 33ms/step - loss: -541.2021 - val_loss: -545.5969\n",
      "Epoch 6/50\n",
      "938/938 [==============================] - 31s 33ms/step - loss: -555.5312 - val_loss: -587.6605\n",
      "Epoch 7/50\n",
      "938/938 [==============================] - 31s 33ms/step - loss: -613.0743 - val_loss: -572.0678\n",
      "Epoch 8/50\n",
      "938/938 [==============================] - 31s 33ms/step - loss: -688.3887 - val_loss: -739.2206\n",
      "Epoch 9/50\n",
      "938/938 [==============================] - 31s 33ms/step - loss: -706.1068 - val_loss: -716.8677\n",
      "Epoch 10/50\n",
      "938/938 [==============================] - 31s 33ms/step - loss: -736.4127 - val_loss: -763.9667\n",
      "Epoch 11/50\n",
      "938/938 [==============================] - 31s 34ms/step - loss: -737.4625 - val_loss: -751.5792\n",
      "Epoch 12/50\n",
      "938/938 [==============================] - 31s 33ms/step - loss: -749.5802 - val_loss: -757.5042\n",
      "Epoch 13/50\n",
      "938/938 [==============================] - 31s 33ms/step - loss: -759.2096 - val_loss: -780.1762\n",
      "Epoch 14/50\n",
      "938/938 [==============================] - 31s 33ms/step - loss: -728.9863 - val_loss: -586.3616\n",
      "Epoch 15/50\n",
      "938/938 [==============================] - 31s 33ms/step - loss: -691.1238 - val_loss: -752.1981\n",
      "Epoch 16/50\n",
      "938/938 [==============================] - 31s 33ms/step - loss: -737.1249 - val_loss: -769.6781\n",
      "Epoch 17/50\n",
      "938/938 [==============================] - 31s 33ms/step - loss: -755.7921 - val_loss: -775.0583\n",
      "Epoch 18/50\n",
      "938/938 [==============================] - 31s 33ms/step - loss: -763.3253 - val_loss: -795.7415\n",
      "Epoch 19/50\n",
      "938/938 [==============================] - 31s 33ms/step - loss: -765.1654 - val_loss: -782.8453\n",
      "Epoch 20/50\n",
      "938/938 [==============================] - 32s 34ms/step - loss: -772.1420 - val_loss: -778.3846\n",
      "Epoch 21/50\n",
      "938/938 [==============================] - 32s 34ms/step - loss: -776.6713 - val_loss: -589.3748\n",
      "Epoch 22/50\n",
      "938/938 [==============================] - 31s 34ms/step - loss: -759.5385 - val_loss: -793.2714\n",
      "Epoch 23/50\n",
      "938/938 [==============================] - 31s 33ms/step - loss: -771.6716 - val_loss: -769.3597\n",
      "Epoch 24/50\n",
      "938/938 [==============================] - 31s 33ms/step - loss: -691.8593 - val_loss: -736.2435\n",
      "Epoch 25/50\n",
      "938/938 [==============================] - 31s 33ms/step - loss: -749.3782 - val_loss: -728.2258\n",
      "Epoch 26/50\n",
      "938/938 [==============================] - 31s 33ms/step - loss: -766.0000 - val_loss: -771.7297\n",
      "Epoch 27/50\n",
      "938/938 [==============================] - 31s 33ms/step - loss: -677.4449 - val_loss: -714.5727\n",
      "Epoch 28/50\n",
      "938/938 [==============================] - 31s 33ms/step - loss: -737.9905 - val_loss: -781.4786\n",
      "Epoch 29/50\n",
      "938/938 [==============================] - 31s 33ms/step - loss: -596.5865 - val_loss: -681.9311\n",
      "Epoch 30/50\n",
      "938/938 [==============================] - 31s 33ms/step - loss: -694.7161 - val_loss: -729.0925\n",
      "Epoch 31/50\n",
      "938/938 [==============================] - 31s 33ms/step - loss: -714.5084 - val_loss: -702.6838\n",
      "Epoch 32/50\n",
      "938/938 [==============================] - 31s 33ms/step - loss: -724.3014 - val_loss: -729.4594\n",
      "Epoch 33/50\n",
      "938/938 [==============================] - 31s 33ms/step - loss: -729.3044 - val_loss: -746.9344\n",
      "Epoch 34/50\n",
      "938/938 [==============================] - 31s 33ms/step - loss: -772.5936 - val_loss: -804.8641\n",
      "Epoch 35/50\n",
      "938/938 [==============================] - 31s 33ms/step - loss: -792.7260 - val_loss: -819.6401\n",
      "Epoch 36/50\n",
      "938/938 [==============================] - 31s 33ms/step - loss: -796.8227 - val_loss: -615.6841\n",
      "Epoch 37/50\n",
      "938/938 [==============================] - 31s 33ms/step - loss: -802.4810 - val_loss: -831.5209\n",
      "Epoch 38/50\n",
      "938/938 [==============================] - 31s 33ms/step - loss: -805.2025 - val_loss: -835.6029\n",
      "Epoch 39/50\n",
      "938/938 [==============================] - 31s 33ms/step - loss: -785.2599 - val_loss: -810.5269\n",
      "Epoch 40/50\n",
      "938/938 [==============================] - 32s 34ms/step - loss: -802.3162 - val_loss: -794.0059\n",
      "Epoch 41/50\n",
      "938/938 [==============================] - 32s 34ms/step - loss: -808.0379 - val_loss: -836.8669\n",
      "Epoch 42/50\n",
      "938/938 [==============================] - 31s 33ms/step - loss: -677.4946 - val_loss: -684.5245\n",
      "Epoch 43/50\n",
      "938/938 [==============================] - 31s 33ms/step - loss: -726.1227 - val_loss: -782.6334\n",
      "Epoch 44/50\n",
      "938/938 [==============================] - 31s 33ms/step - loss: -780.7597 - val_loss: -803.6460\n",
      "Epoch 45/50\n",
      "938/938 [==============================] - 32s 34ms/step - loss: -795.7967 - val_loss: -824.3386\n",
      "Epoch 46/50\n",
      "938/938 [==============================] - 31s 33ms/step - loss: -802.4537 - val_loss: -774.8844\n",
      "Epoch 47/50\n",
      "938/938 [==============================] - 30s 32ms/step - loss: -807.3724 - val_loss: -831.6221\n",
      "Epoch 48/50\n",
      "938/938 [==============================] - 32s 34ms/step - loss: -809.8974 - val_loss: -841.0458\n",
      "Epoch 49/50\n",
      "938/938 [==============================] - 32s 34ms/step - loss: -809.4943 - val_loss: -818.8962\n",
      "Epoch 50/50\n",
      "938/938 [==============================] - 32s 34ms/step - loss: -813.3675 - val_loss: -807.7690\n"
     ]
    }
   ],
   "source": [
    "model_non_spike = build_mdn_model()\n",
    "\n",
    "output_is_not_end_idx = y_train.Output_Is_End.index[y_train['Output_Is_End'] == 0]\n",
    "\n",
    "X = X_train.loc[output_is_not_end_idx]\n",
    "y = y_train.loc[output_is_not_end_idx].drop(['Output_Is_End', 'Output_First_Zero'], axis=1)\n",
    "non_spike_fit = model_non_spike.fit(x=X, y=y, batch_size=1024, epochs=50, validation_split=0.1, callbacks=[tf.keras.callbacks.TerminateOnNaN()])"
   ]
  },
  {
   "cell_type": "code",
   "execution_count": 21,
   "metadata": {},
   "outputs": [
    {
     "name": "stdout",
     "output_type": "stream",
     "text": [
      "Total time taken: 3960.145193617791. Seconds per prediction: 0.03342571654696133\n"
     ]
    }
   ],
   "source": [
    "output_is_not_end_idx = y_test.Output_Is_End.index[y_test['Output_Is_End'] == 0]\n",
    "\n",
    "X_test_non_spike = X_test.loc[output_is_not_end_idx]\n",
    "y_test_non_spike = y_test.loc[output_is_not_end_idx].drop(['Output_Is_End','Output_First_Zero'], axis=1)\n",
    "\n",
    "non_spike_preds = predict_for_test(model_non_spike, X_test_non_spike, y_test_non_spike, 16)"
   ]
  },
  {
   "cell_type": "markdown",
   "metadata": {},
   "source": [
    "Mean was 25 before changes"
   ]
  },
  {
   "cell_type": "code",
   "execution_count": 22,
   "metadata": {},
   "outputs": [
    {
     "data": {
      "text/html": [
       "<div>\n",
       "<style scoped>\n",
       "    .dataframe tbody tr th:only-of-type {\n",
       "        vertical-align: middle;\n",
       "    }\n",
       "\n",
       "    .dataframe tbody tr th {\n",
       "        vertical-align: top;\n",
       "    }\n",
       "\n",
       "    .dataframe thead th {\n",
       "        text-align: right;\n",
       "    }\n",
       "</style>\n",
       "<table border=\"1\" class=\"dataframe\">\n",
       "  <thead>\n",
       "    <tr style=\"text-align: right;\">\n",
       "      <th></th>\n",
       "      <th>0</th>\n",
       "    </tr>\n",
       "  </thead>\n",
       "  <tbody>\n",
       "    <tr>\n",
       "      <th>count</th>\n",
       "      <td>118476.000000</td>\n",
       "    </tr>\n",
       "    <tr>\n",
       "      <th>mean</th>\n",
       "      <td>18.418227</td>\n",
       "    </tr>\n",
       "    <tr>\n",
       "      <th>std</th>\n",
       "      <td>23.985525</td>\n",
       "    </tr>\n",
       "    <tr>\n",
       "      <th>min</th>\n",
       "      <td>0.213638</td>\n",
       "    </tr>\n",
       "    <tr>\n",
       "      <th>25%</th>\n",
       "      <td>3.186895</td>\n",
       "    </tr>\n",
       "    <tr>\n",
       "      <th>50%</th>\n",
       "      <td>9.792068</td>\n",
       "    </tr>\n",
       "    <tr>\n",
       "      <th>75%</th>\n",
       "      <td>22.816309</td>\n",
       "    </tr>\n",
       "    <tr>\n",
       "      <th>max</th>\n",
       "      <td>210.919615</td>\n",
       "    </tr>\n",
       "  </tbody>\n",
       "</table>\n",
       "</div>"
      ],
      "text/plain": [
       "                   0\n",
       "count  118476.000000\n",
       "mean       18.418227\n",
       "std        23.985525\n",
       "min         0.213638\n",
       "25%         3.186895\n",
       "50%         9.792068\n",
       "75%        22.816309\n",
       "max       210.919615"
      ]
     },
     "metadata": {},
     "output_type": "display_data"
    },
    {
     "data": {
      "text/html": [
       "<div>\n",
       "<style scoped>\n",
       "    .dataframe tbody tr th:only-of-type {\n",
       "        vertical-align: middle;\n",
       "    }\n",
       "\n",
       "    .dataframe tbody tr th {\n",
       "        vertical-align: top;\n",
       "    }\n",
       "\n",
       "    .dataframe thead th {\n",
       "        text-align: right;\n",
       "    }\n",
       "</style>\n",
       "<table border=\"1\" class=\"dataframe\">\n",
       "  <thead>\n",
       "    <tr style=\"text-align: right;\">\n",
       "      <th></th>\n",
       "      <th>0</th>\n",
       "    </tr>\n",
       "  </thead>\n",
       "  <tbody>\n",
       "    <tr>\n",
       "      <th>count</th>\n",
       "      <td>118476.000000</td>\n",
       "    </tr>\n",
       "    <tr>\n",
       "      <th>mean</th>\n",
       "      <td>0.539868</td>\n",
       "    </tr>\n",
       "    <tr>\n",
       "      <th>std</th>\n",
       "      <td>0.094348</td>\n",
       "    </tr>\n",
       "    <tr>\n",
       "      <th>min</th>\n",
       "      <td>0.192620</td>\n",
       "    </tr>\n",
       "    <tr>\n",
       "      <th>25%</th>\n",
       "      <td>0.473531</td>\n",
       "    </tr>\n",
       "    <tr>\n",
       "      <th>50%</th>\n",
       "      <td>0.535540</td>\n",
       "    </tr>\n",
       "    <tr>\n",
       "      <th>75%</th>\n",
       "      <td>0.603538</td>\n",
       "    </tr>\n",
       "    <tr>\n",
       "      <th>max</th>\n",
       "      <td>0.824166</td>\n",
       "    </tr>\n",
       "  </tbody>\n",
       "</table>\n",
       "</div>"
      ],
      "text/plain": [
       "                   0\n",
       "count  118476.000000\n",
       "mean        0.539868\n",
       "std         0.094348\n",
       "min         0.192620\n",
       "25%         0.473531\n",
       "50%         0.535540\n",
       "75%         0.603538\n",
       "max         0.824166"
      ]
     },
     "metadata": {},
     "output_type": "display_data"
    }
   ],
   "source": [
    "evaluate_fit(non_spike_preds, y_test_non_spike)"
   ]
  },
  {
   "cell_type": "code",
   "execution_count": 26,
   "metadata": {},
   "outputs": [
    {
     "data": {
      "image/png": "[encoded data removed]",
      "text/plain": [
       "<Figure size 720x720 with 4 Axes>"
      ]
     },
     "metadata": {
      "needs_background": "light"
     },
     "output_type": "display_data"
    }
   ],
   "source": [
    "from matplotlib import pyplot as plt\n",
    "fig, axes = plt.subplots(nrows=2, ncols=2, figsize=(10, 10))\n",
    "\n",
    "for ax in axes.flatten():\n",
    "    # Generate random index to plot\n",
    "    i = np.random.randint(len(y_test_spike), size=1)[0]\n",
    "    test_pred = non_spike_preds[i]\n",
    "    true = y_test_non_spike.iloc[i]\n",
    "    \n",
    "    c = 1e-100\n",
    "    \n",
    "    test_pred += c\n",
    "    true += c\n",
    "    \n",
    "    \n",
    "    ax.plot(test_pred, color='blue', label='pred')\n",
    "    ax.plot(true, color='orange', label='true')\n",
    "    ax.xaxis.set_visible(False)\n",
    "    ax.legend(loc=\"upper left\")\n",
    "    js = jensenshannon(true, test_pred)\n",
    "    #e = entropy(true, test_pred)\n",
    "    ax.set_title(js)\n",
    "    \n",
    "plt.show()"
   ]
  },
  {
   "cell_type": "markdown",
   "metadata": {},
   "source": [
    "Try to find the best tuning parameters for the neural network. The network gets stuck predicting everything as 0 (75% accuracy), but cannot improve on it."
   ]
  },
  {
   "cell_type": "code",
   "execution_count": null,
   "metadata": {},
   "outputs": [],
   "source": [
    "#%pip install -U keras-tuner\n",
    "import kerastuner as kt\n",
    "\n",
    "def build_model(hp):\n",
    "        # Number of columns (bin count plus 8 inputs)\n",
    "    l = bin_count + 8\n",
    "\n",
    "    activation = 'selu'\n",
    "\n",
    "    # Network\n",
    "    input = tf.keras.Input(shape=(l,))\n",
    "\n",
    "    layer =  tf.keras.layers.Dense(hp.Int('hidden_size', 16, 256, step=16, default=128), activation=hp.Choice('activation', values=['relu', 'selu', 'tanh', 'swish'], default='relu'), name='baselayer')(input)\n",
    "    #layer = tf.keras.layers.Dense(1024, activation='relu', name='baselayer')(input)\n",
    "    #layer_2 = tf.keras.layers.Dense(1024, activation='tanh', name='baselayer2')(layer)\n",
    "    #layer_3 = tf.keras.layers.Dense(16, activation='tanh', name='baselayer3')(layer_2)\n",
    "    #layer_4 = tf.keras.layers.Dense(64, activation=activation, name='baselayer4')(layer_3)\n",
    "    #layer_5 = tf.keras.layers.Dense(32, activation=activation, name='baselayer5')(layer_4)\n",
    "    # Connect the mdn layer to the output of our neural network\n",
    "    #mdn_layer = mdn.MDN(bin_count,k, name='mdn')(layer_5)\n",
    "    #model = tf.keras.models.Model(input, [mdn_layer])\n",
    "\n",
    "    # 2 classes\n",
    "    outputs = tf.keras.layers.Dense(1, activation='sigmoid', name=\"predictions\")(layer)\n",
    "    model = tf.keras.models.Model(input, [outputs])\n",
    "\n",
    "\n",
    "    #opt = tf.keras.optimizers.Adam(learning_rate=1e4)\n",
    "    opt = tf.keras.optimizers.Adam(learning_rate=hp.Float('learning_rate', 1e-5, 1e-2, sampling='log'))\n",
    "    #model.compile(loss=mdn.get_mixture_loss_func(bin_count,k), optimizer=tf.keras.optimizers.Adam())\n",
    "    model.compile(optimizer=opt,\n",
    "                  loss='binary_crossentropy',\n",
    "                  metrics=['accuracy'])\n",
    "    \n",
    "    return model\n",
    "\n",
    "tuner = kt.tuners.BayesianOptimization(\n",
    "  build_model,\n",
    "  objective='val_accuracy',\n",
    "  max_trials=50)\n",
    "\n",
    "tuner.search(x=X_train, y=y_train, batch_size=128, epochs=30, validation_split=0.1, class_weight=cweights, callbacks=[tf.keras.callbacks.EarlyStopping(patience=1)])"
   ]
  },
  {
   "cell_type": "code",
   "execution_count": 5,
   "metadata": {},
   "outputs": [
    {
     "data": {
      "text/html": [
       "<div>\n",
       "<style scoped>\n",
       "    .dataframe tbody tr th:only-of-type {\n",
       "        vertical-align: middle;\n",
       "    }\n",
       "\n",
       "    .dataframe tbody tr th {\n",
       "        vertical-align: top;\n",
       "    }\n",
       "\n",
       "    .dataframe thead th {\n",
       "        text-align: right;\n",
       "    }\n",
       "</style>\n",
       "<table border=\"1\" class=\"dataframe\">\n",
       "  <thead>\n",
       "    <tr style=\"text-align: right;\">\n",
       "      <th></th>\n",
       "      <th>0</th>\n",
       "    </tr>\n",
       "  </thead>\n",
       "  <tbody>\n",
       "    <tr>\n",
       "      <th>count</th>\n",
       "      <td>40017.000000</td>\n",
       "    </tr>\n",
       "    <tr>\n",
       "      <th>mean</th>\n",
       "      <td>0.502865</td>\n",
       "    </tr>\n",
       "    <tr>\n",
       "      <th>std</th>\n",
       "      <td>0.064357</td>\n",
       "    </tr>\n",
       "    <tr>\n",
       "      <th>min</th>\n",
       "      <td>0.042015</td>\n",
       "    </tr>\n",
       "    <tr>\n",
       "      <th>25%</th>\n",
       "      <td>0.452332</td>\n",
       "    </tr>\n",
       "    <tr>\n",
       "      <th>50%</th>\n",
       "      <td>0.509930</td>\n",
       "    </tr>\n",
       "    <tr>\n",
       "      <th>75%</th>\n",
       "      <td>0.547307</td>\n",
       "    </tr>\n",
       "    <tr>\n",
       "      <th>max</th>\n",
       "      <td>0.598693</td>\n",
       "    </tr>\n",
       "  </tbody>\n",
       "</table>\n",
       "</div>"
      ],
      "text/plain": [
       "                  0\n",
       "count  40017.000000\n",
       "mean       0.502865\n",
       "std        0.064357\n",
       "min        0.042015\n",
       "25%        0.452332\n",
       "50%        0.509930\n",
       "75%        0.547307\n",
       "max        0.598693"
      ]
     },
     "metadata": {},
     "output_type": "display_data"
    },
    {
     "data": {
      "text/html": [
       "<div>\n",
       "<style scoped>\n",
       "    .dataframe tbody tr th:only-of-type {\n",
       "        vertical-align: middle;\n",
       "    }\n",
       "\n",
       "    .dataframe tbody tr th {\n",
       "        vertical-align: top;\n",
       "    }\n",
       "\n",
       "    .dataframe thead th {\n",
       "        text-align: right;\n",
       "    }\n",
       "</style>\n",
       "<table border=\"1\" class=\"dataframe\">\n",
       "  <thead>\n",
       "    <tr style=\"text-align: right;\">\n",
       "      <th></th>\n",
       "      <th>Output_Is_End</th>\n",
       "    </tr>\n",
       "  </thead>\n",
       "  <tbody>\n",
       "    <tr>\n",
       "      <th>count</th>\n",
       "      <td>40017.000000</td>\n",
       "    </tr>\n",
       "    <tr>\n",
       "      <th>mean</th>\n",
       "      <td>0.243771</td>\n",
       "    </tr>\n",
       "    <tr>\n",
       "      <th>std</th>\n",
       "      <td>0.429362</td>\n",
       "    </tr>\n",
       "    <tr>\n",
       "      <th>min</th>\n",
       "      <td>0.000000</td>\n",
       "    </tr>\n",
       "    <tr>\n",
       "      <th>25%</th>\n",
       "      <td>0.000000</td>\n",
       "    </tr>\n",
       "    <tr>\n",
       "      <th>50%</th>\n",
       "      <td>0.000000</td>\n",
       "    </tr>\n",
       "    <tr>\n",
       "      <th>75%</th>\n",
       "      <td>0.000000</td>\n",
       "    </tr>\n",
       "    <tr>\n",
       "      <th>max</th>\n",
       "      <td>1.000000</td>\n",
       "    </tr>\n",
       "  </tbody>\n",
       "</table>\n",
       "</div>"
      ],
      "text/plain": [
       "       Output_Is_End\n",
       "count   40017.000000\n",
       "mean        0.243771\n",
       "std         0.429362\n",
       "min         0.000000\n",
       "25%         0.000000\n",
       "50%         0.000000\n",
       "75%         0.000000\n",
       "max         1.000000"
      ]
     },
     "metadata": {},
     "output_type": "display_data"
    }
   ],
   "source": [
    "preds = model.predict(X_test)\n",
    "display(pd.DataFrame(preds).describe())\n",
    "display(y_test.describe())"
   ]
  },
  {
   "cell_type": "code",
   "execution_count": 93,
   "metadata": {},
   "outputs": [
    {
     "data": {
      "text/html": [
       "<span style=\"color:#4527A0\"><h1 style=\"font-size:18px\">Results summary</h1></span>"
      ],
      "text/plain": [
       "<IPython.core.display.HTML object>"
      ]
     },
     "metadata": {},
     "output_type": "display_data"
    },
    {
     "data": {
      "text/html": [
       "<span style=\"color:cyan\"> |-Results in ./untitled_project</span>"
      ],
      "text/plain": [
       "<IPython.core.display.HTML object>"
      ]
     },
     "metadata": {},
     "output_type": "display_data"
    },
    {
     "data": {
      "text/html": [
       "<span style=\"color:cyan\"> |-Showing 10 best trials</span>"
      ],
      "text/plain": [
       "<IPython.core.display.HTML object>"
      ]
     },
     "metadata": {},
     "output_type": "display_data"
    },
    {
     "data": {
      "text/html": [
       "<span style=\"color:cyan\"> |-Objective(name='val_accuracy', direction='max')</span>"
      ],
      "text/plain": [
       "<IPython.core.display.HTML object>"
      ]
     },
     "metadata": {},
     "output_type": "display_data"
    },
    {
     "data": {
      "text/html": [
       "<span style=\"color:#4527A0\"><h1 style=\"font-size:18px\">Trial summary</h1></span>"
      ],
      "text/plain": [
       "<IPython.core.display.HTML object>"
      ]
     },
     "metadata": {},
     "output_type": "display_data"
    },
    {
     "data": {
      "text/html": [
       "<span style=\"color:cyan\"> |-Trial ID: 1c510967b1a83a9a73569bda70edaeca</span>"
      ],
      "text/plain": [
       "<IPython.core.display.HTML object>"
      ]
     },
     "metadata": {},
     "output_type": "display_data"
    },
    {
     "data": {
      "text/html": [
       "<span style=\"color:cyan\"> |-Score: 0.7489228248596191</span>"
      ],
      "text/plain": [
       "<IPython.core.display.HTML object>"
      ]
     },
     "metadata": {},
     "output_type": "display_data"
    },
    {
     "data": {
      "text/html": [
       "<span style=\"color:cyan\"> |-Best step: 0</span>"
      ],
      "text/plain": [
       "<IPython.core.display.HTML object>"
      ]
     },
     "metadata": {},
     "output_type": "display_data"
    },
    {
     "data": {
      "text/html": [
       "<span style=\"color:#7E57C2\"><h2 style=\"font-size:16px\">Hyperparameters:</h2></span>"
      ],
      "text/plain": [
       "<IPython.core.display.HTML object>"
      ]
     },
     "metadata": {},
     "output_type": "display_data"
    },
    {
     "data": {
      "text/html": [
       "<span style=\"color:cyan\"> |-activation: relu</span>"
      ],
      "text/plain": [
       "<IPython.core.display.HTML object>"
      ]
     },
     "metadata": {},
     "output_type": "display_data"
    },
    {
     "data": {
      "text/html": [
       "<span style=\"color:blue\"> |-hidden_size: 256</span>"
      ],
      "text/plain": [
       "<IPython.core.display.HTML object>"
      ]
     },
     "metadata": {},
     "output_type": "display_data"
    },
    {
     "data": {
      "text/html": [
       "<span style=\"color:cyan\"> |-learning_rate: 0.01</span>"
      ],
      "text/plain": [
       "<IPython.core.display.HTML object>"
      ]
     },
     "metadata": {},
     "output_type": "display_data"
    },
    {
     "data": {
      "text/html": [
       "<span style=\"color:#4527A0\"><h1 style=\"font-size:18px\">Trial summary</h1></span>"
      ],
      "text/plain": [
       "<IPython.core.display.HTML object>"
      ]
     },
     "metadata": {},
     "output_type": "display_data"
    },
    {
     "data": {
      "text/html": [
       "<span style=\"color:cyan\"> |-Trial ID: a08b84a91672933b0e7aa0cd46e19bcb</span>"
      ],
      "text/plain": [
       "<IPython.core.display.HTML object>"
      ]
     },
     "metadata": {},
     "output_type": "display_data"
    },
    {
     "data": {
      "text/html": [
       "<span style=\"color:cyan\"> |-Score: 0.7489228248596191</span>"
      ],
      "text/plain": [
       "<IPython.core.display.HTML object>"
      ]
     },
     "metadata": {},
     "output_type": "display_data"
    },
    {
     "data": {
      "text/html": [
       "<span style=\"color:cyan\"> |-Best step: 0</span>"
      ],
      "text/plain": [
       "<IPython.core.display.HTML object>"
      ]
     },
     "metadata": {},
     "output_type": "display_data"
    },
    {
     "data": {
      "text/html": [
       "<span style=\"color:#7E57C2\"><h2 style=\"font-size:16px\">Hyperparameters:</h2></span>"
      ],
      "text/plain": [
       "<IPython.core.display.HTML object>"
      ]
     },
     "metadata": {},
     "output_type": "display_data"
    },
    {
     "data": {
      "text/html": [
       "<span style=\"color:cyan\"> |-activation: swish</span>"
      ],
      "text/plain": [
       "<IPython.core.display.HTML object>"
      ]
     },
     "metadata": {},
     "output_type": "display_data"
    },
    {
     "data": {
      "text/html": [
       "<span style=\"color:blue\"> |-hidden_size: 256</span>"
      ],
      "text/plain": [
       "<IPython.core.display.HTML object>"
      ]
     },
     "metadata": {},
     "output_type": "display_data"
    },
    {
     "data": {
      "text/html": [
       "<span style=\"color:cyan\"> |-learning_rate: 0.01</span>"
      ],
      "text/plain": [
       "<IPython.core.display.HTML object>"
      ]
     },
     "metadata": {},
     "output_type": "display_data"
    },
    {
     "data": {
      "text/html": [
       "<span style=\"color:#4527A0\"><h1 style=\"font-size:18px\">Trial summary</h1></span>"
      ],
      "text/plain": [
       "<IPython.core.display.HTML object>"
      ]
     },
     "metadata": {},
     "output_type": "display_data"
    },
    {
     "data": {
      "text/html": [
       "<span style=\"color:cyan\"> |-Trial ID: cbfd6e2dd2a0d4310f3bb8ae07eb298f</span>"
      ],
      "text/plain": [
       "<IPython.core.display.HTML object>"
      ]
     },
     "metadata": {},
     "output_type": "display_data"
    },
    {
     "data": {
      "text/html": [
       "<span style=\"color:cyan\"> |-Score: 0.7489228248596191</span>"
      ],
      "text/plain": [
       "<IPython.core.display.HTML object>"
      ]
     },
     "metadata": {},
     "output_type": "display_data"
    },
    {
     "data": {
      "text/html": [
       "<span style=\"color:cyan\"> |-Best step: 0</span>"
      ],
      "text/plain": [
       "<IPython.core.display.HTML object>"
      ]
     },
     "metadata": {},
     "output_type": "display_data"
    },
    {
     "data": {
      "text/html": [
       "<span style=\"color:#7E57C2\"><h2 style=\"font-size:16px\">Hyperparameters:</h2></span>"
      ],
      "text/plain": [
       "<IPython.core.display.HTML object>"
      ]
     },
     "metadata": {},
     "output_type": "display_data"
    },
    {
     "data": {
      "text/html": [
       "<span style=\"color:cyan\"> |-activation: swish</span>"
      ],
      "text/plain": [
       "<IPython.core.display.HTML object>"
      ]
     },
     "metadata": {},
     "output_type": "display_data"
    },
    {
     "data": {
      "text/html": [
       "<span style=\"color:blue\"> |-hidden_size: 16</span>"
      ],
      "text/plain": [
       "<IPython.core.display.HTML object>"
      ]
     },
     "metadata": {},
     "output_type": "display_data"
    },
    {
     "data": {
      "text/html": [
       "<span style=\"color:cyan\"> |-learning_rate: 0.009999999999999992</span>"
      ],
      "text/plain": [
       "<IPython.core.display.HTML object>"
      ]
     },
     "metadata": {},
     "output_type": "display_data"
    },
    {
     "data": {
      "text/html": [
       "<span style=\"color:#4527A0\"><h1 style=\"font-size:18px\">Trial summary</h1></span>"
      ],
      "text/plain": [
       "<IPython.core.display.HTML object>"
      ]
     },
     "metadata": {},
     "output_type": "display_data"
    },
    {
     "data": {
      "text/html": [
       "<span style=\"color:cyan\"> |-Trial ID: 85e71b3e86c70825cb6703fc741a8e38</span>"
      ],
      "text/plain": [
       "<IPython.core.display.HTML object>"
      ]
     },
     "metadata": {},
     "output_type": "display_data"
    },
    {
     "data": {
      "text/html": [
       "<span style=\"color:cyan\"> |-Score: 0.7489228248596191</span>"
      ],
      "text/plain": [
       "<IPython.core.display.HTML object>"
      ]
     },
     "metadata": {},
     "output_type": "display_data"
    },
    {
     "data": {
      "text/html": [
       "<span style=\"color:cyan\"> |-Best step: 0</span>"
      ],
      "text/plain": [
       "<IPython.core.display.HTML object>"
      ]
     },
     "metadata": {},
     "output_type": "display_data"
    },
    {
     "data": {
      "text/html": [
       "<span style=\"color:#7E57C2\"><h2 style=\"font-size:16px\">Hyperparameters:</h2></span>"
      ],
      "text/plain": [
       "<IPython.core.display.HTML object>"
      ]
     },
     "metadata": {},
     "output_type": "display_data"
    },
    {
     "data": {
      "text/html": [
       "<span style=\"color:cyan\"> |-activation: swish</span>"
      ],
      "text/plain": [
       "<IPython.core.display.HTML object>"
      ]
     },
     "metadata": {},
     "output_type": "display_data"
    },
    {
     "data": {
      "text/html": [
       "<span style=\"color:blue\"> |-hidden_size: 128</span>"
      ],
      "text/plain": [
       "<IPython.core.display.HTML object>"
      ]
     },
     "metadata": {},
     "output_type": "display_data"
    },
    {
     "data": {
      "text/html": [
       "<span style=\"color:cyan\"> |-learning_rate: 0.01</span>"
      ],
      "text/plain": [
       "<IPython.core.display.HTML object>"
      ]
     },
     "metadata": {},
     "output_type": "display_data"
    },
    {
     "data": {
      "text/html": [
       "<span style=\"color:#4527A0\"><h1 style=\"font-size:18px\">Trial summary</h1></span>"
      ],
      "text/plain": [
       "<IPython.core.display.HTML object>"
      ]
     },
     "metadata": {},
     "output_type": "display_data"
    },
    {
     "data": {
      "text/html": [
       "<span style=\"color:cyan\"> |-Trial ID: ccb22653512876d5bcee6c42658de1d6</span>"
      ],
      "text/plain": [
       "<IPython.core.display.HTML object>"
      ]
     },
     "metadata": {},
     "output_type": "display_data"
    },
    {
     "data": {
      "text/html": [
       "<span style=\"color:cyan\"> |-Score: 0.7489228248596191</span>"
      ],
      "text/plain": [
       "<IPython.core.display.HTML object>"
      ]
     },
     "metadata": {},
     "output_type": "display_data"
    },
    {
     "data": {
      "text/html": [
       "<span style=\"color:cyan\"> |-Best step: 0</span>"
      ],
      "text/plain": [
       "<IPython.core.display.HTML object>"
      ]
     },
     "metadata": {},
     "output_type": "display_data"
    },
    {
     "data": {
      "text/html": [
       "<span style=\"color:#7E57C2\"><h2 style=\"font-size:16px\">Hyperparameters:</h2></span>"
      ],
      "text/plain": [
       "<IPython.core.display.HTML object>"
      ]
     },
     "metadata": {},
     "output_type": "display_data"
    },
    {
     "data": {
      "text/html": [
       "<span style=\"color:cyan\"> |-activation: swish</span>"
      ],
      "text/plain": [
       "<IPython.core.display.HTML object>"
      ]
     },
     "metadata": {},
     "output_type": "display_data"
    },
    {
     "data": {
      "text/html": [
       "<span style=\"color:blue\"> |-hidden_size: 16</span>"
      ],
      "text/plain": [
       "<IPython.core.display.HTML object>"
      ]
     },
     "metadata": {},
     "output_type": "display_data"
    },
    {
     "data": {
      "text/html": [
       "<span style=\"color:cyan\"> |-learning_rate: 0.0009755874328976427</span>"
      ],
      "text/plain": [
       "<IPython.core.display.HTML object>"
      ]
     },
     "metadata": {},
     "output_type": "display_data"
    },
    {
     "data": {
      "text/html": [
       "<span style=\"color:#4527A0\"><h1 style=\"font-size:18px\">Trial summary</h1></span>"
      ],
      "text/plain": [
       "<IPython.core.display.HTML object>"
      ]
     },
     "metadata": {},
     "output_type": "display_data"
    },
    {
     "data": {
      "text/html": [
       "<span style=\"color:cyan\"> |-Trial ID: d95a7be2cdf6be6b680668328e44f863</span>"
      ],
      "text/plain": [
       "<IPython.core.display.HTML object>"
      ]
     },
     "metadata": {},
     "output_type": "display_data"
    },
    {
     "data": {
      "text/html": [
       "<span style=\"color:cyan\"> |-Score: 0.7489228248596191</span>"
      ],
      "text/plain": [
       "<IPython.core.display.HTML object>"
      ]
     },
     "metadata": {},
     "output_type": "display_data"
    },
    {
     "data": {
      "text/html": [
       "<span style=\"color:cyan\"> |-Best step: 0</span>"
      ],
      "text/plain": [
       "<IPython.core.display.HTML object>"
      ]
     },
     "metadata": {},
     "output_type": "display_data"
    },
    {
     "data": {
      "text/html": [
       "<span style=\"color:#7E57C2\"><h2 style=\"font-size:16px\">Hyperparameters:</h2></span>"
      ],
      "text/plain": [
       "<IPython.core.display.HTML object>"
      ]
     },
     "metadata": {},
     "output_type": "display_data"
    },
    {
     "data": {
      "text/html": [
       "<span style=\"color:cyan\"> |-activation: selu</span>"
      ],
      "text/plain": [
       "<IPython.core.display.HTML object>"
      ]
     },
     "metadata": {},
     "output_type": "display_data"
    },
    {
     "data": {
      "text/html": [
       "<span style=\"color:blue\"> |-hidden_size: 256</span>"
      ],
      "text/plain": [
       "<IPython.core.display.HTML object>"
      ]
     },
     "metadata": {},
     "output_type": "display_data"
    },
    {
     "data": {
      "text/html": [
       "<span style=\"color:cyan\"> |-learning_rate: 0.01</span>"
      ],
      "text/plain": [
       "<IPython.core.display.HTML object>"
      ]
     },
     "metadata": {},
     "output_type": "display_data"
    },
    {
     "data": {
      "text/html": [
       "<span style=\"color:#4527A0\"><h1 style=\"font-size:18px\">Trial summary</h1></span>"
      ],
      "text/plain": [
       "<IPython.core.display.HTML object>"
      ]
     },
     "metadata": {},
     "output_type": "display_data"
    },
    {
     "data": {
      "text/html": [
       "<span style=\"color:cyan\"> |-Trial ID: b0ae32bc148f3d3396d43c1bd7222c7d</span>"
      ],
      "text/plain": [
       "<IPython.core.display.HTML object>"
      ]
     },
     "metadata": {},
     "output_type": "display_data"
    },
    {
     "data": {
      "text/html": [
       "<span style=\"color:cyan\"> |-Score: 0.7489228248596191</span>"
      ],
      "text/plain": [
       "<IPython.core.display.HTML object>"
      ]
     },
     "metadata": {},
     "output_type": "display_data"
    },
    {
     "data": {
      "text/html": [
       "<span style=\"color:cyan\"> |-Best step: 0</span>"
      ],
      "text/plain": [
       "<IPython.core.display.HTML object>"
      ]
     },
     "metadata": {},
     "output_type": "display_data"
    },
    {
     "data": {
      "text/html": [
       "<span style=\"color:#7E57C2\"><h2 style=\"font-size:16px\">Hyperparameters:</h2></span>"
      ],
      "text/plain": [
       "<IPython.core.display.HTML object>"
      ]
     },
     "metadata": {},
     "output_type": "display_data"
    },
    {
     "data": {
      "text/html": [
       "<span style=\"color:cyan\"> |-activation: swish</span>"
      ],
      "text/plain": [
       "<IPython.core.display.HTML object>"
      ]
     },
     "metadata": {},
     "output_type": "display_data"
    },
    {
     "data": {
      "text/html": [
       "<span style=\"color:blue\"> |-hidden_size: 64</span>"
      ],
      "text/plain": [
       "<IPython.core.display.HTML object>"
      ]
     },
     "metadata": {},
     "output_type": "display_data"
    },
    {
     "data": {
      "text/html": [
       "<span style=\"color:cyan\"> |-learning_rate: 0.01</span>"
      ],
      "text/plain": [
       "<IPython.core.display.HTML object>"
      ]
     },
     "metadata": {},
     "output_type": "display_data"
    },
    {
     "data": {
      "text/html": [
       "<span style=\"color:#4527A0\"><h1 style=\"font-size:18px\">Trial summary</h1></span>"
      ],
      "text/plain": [
       "<IPython.core.display.HTML object>"
      ]
     },
     "metadata": {},
     "output_type": "display_data"
    },
    {
     "data": {
      "text/html": [
       "<span style=\"color:cyan\"> |-Trial ID: a24636ada6de12dd540a37e941bf1e0d</span>"
      ],
      "text/plain": [
       "<IPython.core.display.HTML object>"
      ]
     },
     "metadata": {},
     "output_type": "display_data"
    },
    {
     "data": {
      "text/html": [
       "<span style=\"color:cyan\"> |-Score: 0.7489228248596191</span>"
      ],
      "text/plain": [
       "<IPython.core.display.HTML object>"
      ]
     },
     "metadata": {},
     "output_type": "display_data"
    },
    {
     "data": {
      "text/html": [
       "<span style=\"color:cyan\"> |-Best step: 0</span>"
      ],
      "text/plain": [
       "<IPython.core.display.HTML object>"
      ]
     },
     "metadata": {},
     "output_type": "display_data"
    },
    {
     "data": {
      "text/html": [
       "<span style=\"color:#7E57C2\"><h2 style=\"font-size:16px\">Hyperparameters:</h2></span>"
      ],
      "text/plain": [
       "<IPython.core.display.HTML object>"
      ]
     },
     "metadata": {},
     "output_type": "display_data"
    },
    {
     "data": {
      "text/html": [
       "<span style=\"color:cyan\"> |-activation: swish</span>"
      ],
      "text/plain": [
       "<IPython.core.display.HTML object>"
      ]
     },
     "metadata": {},
     "output_type": "display_data"
    },
    {
     "data": {
      "text/html": [
       "<span style=\"color:blue\"> |-hidden_size: 16</span>"
      ],
      "text/plain": [
       "<IPython.core.display.HTML object>"
      ]
     },
     "metadata": {},
     "output_type": "display_data"
    },
    {
     "data": {
      "text/html": [
       "<span style=\"color:cyan\"> |-learning_rate: 0.01</span>"
      ],
      "text/plain": [
       "<IPython.core.display.HTML object>"
      ]
     },
     "metadata": {},
     "output_type": "display_data"
    },
    {
     "data": {
      "text/html": [
       "<span style=\"color:#4527A0\"><h1 style=\"font-size:18px\">Trial summary</h1></span>"
      ],
      "text/plain": [
       "<IPython.core.display.HTML object>"
      ]
     },
     "metadata": {},
     "output_type": "display_data"
    },
    {
     "data": {
      "text/html": [
       "<span style=\"color:cyan\"> |-Trial ID: ef786439480e17893f509f792585d95e</span>"
      ],
      "text/plain": [
       "<IPython.core.display.HTML object>"
      ]
     },
     "metadata": {},
     "output_type": "display_data"
    },
    {
     "data": {
      "text/html": [
       "<span style=\"color:cyan\"> |-Score: 0.7489228248596191</span>"
      ],
      "text/plain": [
       "<IPython.core.display.HTML object>"
      ]
     },
     "metadata": {},
     "output_type": "display_data"
    },
    {
     "data": {
      "text/html": [
       "<span style=\"color:cyan\"> |-Best step: 0</span>"
      ],
      "text/plain": [
       "<IPython.core.display.HTML object>"
      ]
     },
     "metadata": {},
     "output_type": "display_data"
    },
    {
     "data": {
      "text/html": [
       "<span style=\"color:#7E57C2\"><h2 style=\"font-size:16px\">Hyperparameters:</h2></span>"
      ],
      "text/plain": [
       "<IPython.core.display.HTML object>"
      ]
     },
     "metadata": {},
     "output_type": "display_data"
    },
    {
     "data": {
      "text/html": [
       "<span style=\"color:cyan\"> |-activation: swish</span>"
      ],
      "text/plain": [
       "<IPython.core.display.HTML object>"
      ]
     },
     "metadata": {},
     "output_type": "display_data"
    },
    {
     "data": {
      "text/html": [
       "<span style=\"color:blue\"> |-hidden_size: 16</span>"
      ],
      "text/plain": [
       "<IPython.core.display.HTML object>"
      ]
     },
     "metadata": {},
     "output_type": "display_data"
    },
    {
     "data": {
      "text/html": [
       "<span style=\"color:cyan\"> |-learning_rate: 0.01</span>"
      ],
      "text/plain": [
       "<IPython.core.display.HTML object>"
      ]
     },
     "metadata": {},
     "output_type": "display_data"
    },
    {
     "data": {
      "text/html": [
       "<span style=\"color:#4527A0\"><h1 style=\"font-size:18px\">Trial summary</h1></span>"
      ],
      "text/plain": [
       "<IPython.core.display.HTML object>"
      ]
     },
     "metadata": {},
     "output_type": "display_data"
    },
    {
     "data": {
      "text/html": [
       "<span style=\"color:cyan\"> |-Trial ID: 8a22436c71e4d650b181cdd3af497e28</span>"
      ],
      "text/plain": [
       "<IPython.core.display.HTML object>"
      ]
     },
     "metadata": {},
     "output_type": "display_data"
    },
    {
     "data": {
      "text/html": [
       "<span style=\"color:cyan\"> |-Score: 0.7489228248596191</span>"
      ],
      "text/plain": [
       "<IPython.core.display.HTML object>"
      ]
     },
     "metadata": {},
     "output_type": "display_data"
    },
    {
     "data": {
      "text/html": [
       "<span style=\"color:cyan\"> |-Best step: 0</span>"
      ],
      "text/plain": [
       "<IPython.core.display.HTML object>"
      ]
     },
     "metadata": {},
     "output_type": "display_data"
    },
    {
     "data": {
      "text/html": [
       "<span style=\"color:#7E57C2\"><h2 style=\"font-size:16px\">Hyperparameters:</h2></span>"
      ],
      "text/plain": [
       "<IPython.core.display.HTML object>"
      ]
     },
     "metadata": {},
     "output_type": "display_data"
    },
    {
     "data": {
      "text/html": [
       "<span style=\"color:cyan\"> |-activation: swish</span>"
      ],
      "text/plain": [
       "<IPython.core.display.HTML object>"
      ]
     },
     "metadata": {},
     "output_type": "display_data"
    },
    {
     "data": {
      "text/html": [
       "<span style=\"color:blue\"> |-hidden_size: 16</span>"
      ],
      "text/plain": [
       "<IPython.core.display.HTML object>"
      ]
     },
     "metadata": {},
     "output_type": "display_data"
    },
    {
     "data": {
      "text/html": [
       "<span style=\"color:cyan\"> |-learning_rate: 0.01</span>"
      ],
      "text/plain": [
       "<IPython.core.display.HTML object>"
      ]
     },
     "metadata": {},
     "output_type": "display_data"
    }
   ],
   "source": [
    "tuner.results_summary()"
   ]
  },
  {
   "cell_type": "code",
   "execution_count": 95,
   "metadata": {},
   "outputs": [
    {
     "name": "stdout",
     "output_type": "stream",
     "text": [
      "WARNING:tensorflow:Unresolved object in checkpoint: (root).optimizer.iter\n"
     ]
    },
    {
     "name": "stderr",
     "output_type": "stream",
     "text": [
      "WARNING:tensorflow:Unresolved object in checkpoint: (root).optimizer.iter\n"
     ]
    },
    {
     "name": "stdout",
     "output_type": "stream",
     "text": [
      "WARNING:tensorflow:Unresolved object in checkpoint: (root).optimizer.beta_1\n"
     ]
    },
    {
     "name": "stderr",
     "output_type": "stream",
     "text": [
      "WARNING:tensorflow:Unresolved object in checkpoint: (root).optimizer.beta_1\n"
     ]
    },
    {
     "name": "stdout",
     "output_type": "stream",
     "text": [
      "WARNING:tensorflow:Unresolved object in checkpoint: (root).optimizer.beta_2\n"
     ]
    },
    {
     "name": "stderr",
     "output_type": "stream",
     "text": [
      "WARNING:tensorflow:Unresolved object in checkpoint: (root).optimizer.beta_2\n"
     ]
    },
    {
     "name": "stdout",
     "output_type": "stream",
     "text": [
      "WARNING:tensorflow:Unresolved object in checkpoint: (root).optimizer.decay\n"
     ]
    },
    {
     "name": "stderr",
     "output_type": "stream",
     "text": [
      "WARNING:tensorflow:Unresolved object in checkpoint: (root).optimizer.decay\n"
     ]
    },
    {
     "name": "stdout",
     "output_type": "stream",
     "text": [
      "WARNING:tensorflow:Unresolved object in checkpoint: (root).optimizer.learning_rate\n"
     ]
    },
    {
     "name": "stderr",
     "output_type": "stream",
     "text": [
      "WARNING:tensorflow:Unresolved object in checkpoint: (root).optimizer.learning_rate\n"
     ]
    },
    {
     "name": "stdout",
     "output_type": "stream",
     "text": [
      "WARNING:tensorflow:A checkpoint was restored (e.g. tf.train.Checkpoint.restore or tf.keras.Model.load_weights) but not all checkpointed values were used. See above for specific issues. Use expect_partial() on the load status object, e.g. tf.train.Checkpoint.restore(...).expect_partial(), to silence these warnings, or use assert_consumed() to make the check explicit. See https://www.tensorflow.org/guide/checkpoint#loading_mechanics for details.\n"
     ]
    },
    {
     "name": "stderr",
     "output_type": "stream",
     "text": [
      "WARNING:tensorflow:A checkpoint was restored (e.g. tf.train.Checkpoint.restore or tf.keras.Model.load_weights) but not all checkpointed values were used. See above for specific issues. Use expect_partial() on the load status object, e.g. tf.train.Checkpoint.restore(...).expect_partial(), to silence these warnings, or use assert_consumed() to make the check explicit. See https://www.tensorflow.org/guide/checkpoint#loading_mechanics for details.\n"
     ]
    },
    {
     "name": "stdout",
     "output_type": "stream",
     "text": [
      "2394/2394 [==============================] - ETA: 0s - loss: 0.6924 - accuracy: 0.78 - ETA: 1s - loss: 0.6925 - accuracy: 0.75 - ETA: 1s - loss: 0.6921 - accuracy: 0.75 - ETA: 1s - loss: 0.6921 - accuracy: 0.75 - ETA: 1s - loss: 0.6921 - accuracy: 0.75 - ETA: 1s - loss: 0.6921 - accuracy: 0.75 - ETA: 1s - loss: 0.6920 - accuracy: 0.75 - ETA: 1s - loss: 0.6920 - accuracy: 0.75 - ETA: 1s - loss: 0.6920 - accuracy: 0.75 - ETA: 0s - loss: 0.6920 - accuracy: 0.75 - ETA: 0s - loss: 0.6920 - accuracy: 0.75 - ETA: 0s - loss: 0.6920 - accuracy: 0.75 - ETA: 0s - loss: 0.6920 - accuracy: 0.75 - ETA: 0s - loss: 0.6920 - accuracy: 0.75 - ETA: 0s - loss: 0.6920 - accuracy: 0.75 - ETA: 0s - loss: 0.6920 - accuracy: 0.75 - ETA: 0s - loss: 0.6920 - accuracy: 0.75 - ETA: 0s - loss: 0.6919 - accuracy: 0.75 - ETA: 0s - loss: 0.6919 - accuracy: 0.75 - ETA: 0s - loss: 0.6919 - accuracy: 0.75 - ETA: 0s - loss: 0.6919 - accuracy: 0.75 - ETA: 0s - loss: 0.6920 - accuracy: 0.75 - ETA: 0s - loss: 0.6919 - accuracy: 0.75 - ETA: 0s - loss: 0.6919 - accuracy: 0.75 - ETA: 0s - loss: 0.6919 - accuracy: 0.75 - ETA: 0s - loss: 0.6919 - accuracy: 0.75 - ETA: 0s - loss: 0.6919 - accuracy: 0.75 - 1s 564us/step - loss: 0.6919 - accuracy: 0.7511\n",
      "Test accuracy: 0.5297748446464539\n"
     ]
    }
   ],
   "source": [
    "# Retrieve the best model.\n",
    "best_model = tuner.get_best_models(num_models=1)[0]\n",
    "\n",
    "# Evaluate the best model.\n",
    "loss, accuracy = best_model.evaluate(X_test, y_test)\n",
    "print('Test accuracy:', test_acc)"
   ]
  },
  {
   "cell_type": "code",
   "execution_count": 6,
   "metadata": {},
   "outputs": [
    {
     "name": "stdout",
     "output_type": "stream",
     "text": [
      "1251/1251 [==============================] - 1s 513us/step - loss: 0.6914 - accuracy: 0.5298\n",
      "Test accuracy: 0.5297748446464539\n"
     ]
    }
   ],
   "source": [
    "test_loss, test_acc = model.evaluate(X_test, y_test)\n",
    "print('Test accuracy:', test_acc)"
   ]
  }
 ],
 "metadata": {
  "kernelspec": {
   "display_name": "Tensorflow 2.1/Keras Py3.7",
   "language": "python",
   "name": "tensorflow210_py37"
  },
  "language_info": {
   "codemirror_mode": {
    "name": "ipython",
    "version": 3
   },
   "file_extension": ".py",
   "mimetype": "text/x-python",
   "name": "python",
   "nbconvert_exporter": "python",
   "pygments_lexer": "ipython3",
   "version": "3.7.5"
  }
 },
 "nbformat": 4,
 "nbformat_minor": 4
}
