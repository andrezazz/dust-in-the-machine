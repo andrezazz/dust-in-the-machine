{
 "cells": [
  {
   "cell_type": "markdown",
   "metadata": {},
   "source": [
    "This notebook will show comparison graphs between a selected model from the simulation and predictions from the random forest model using the same input conditions. Below is the prediction class."
   ]
  },
  {
   "cell_type": "code",
   "execution_count": 5,
   "metadata": {},
   "outputs": [],
   "source": [
    "import warnings\n",
    "warnings.filterwarnings('ignore') \n",
    "import numpy as np\n",
    "from joblib import load\n",
    "import xgboost as xgb\n",
    "\n",
    "\n",
    "class DustPredictor:\n",
    "    \n",
    "    def __init__(self, model_path):\n",
    "        \"\"\" Loads a random forest model for predicting dust densities and XGBoost model for predicting quality of the predicted dust densities\"\"\"\n",
    "        self.quality_model = xgb.XGBClassifier()\n",
    "        self.quality_model.load_model('pred_quality_two_class.model')\n",
    "        self.model = load(model_path)\n",
    "        \n",
    "\n",
    "\n",
    "    def predict(self, r, mstar, alpha, d2g, sigma, tgas, t, delta_t, input_bins):\n",
    "        \"\"\"\n",
    "        Makes a prediction from the given set of input parameters. It will also print a warning if the predicted quality is not good.\n",
    "        \n",
    "        r (float): distance from central star\n",
    "        mstar (float): mass of star in the system\n",
    "        alpha (float): turblance\n",
    "        d2g (float): dust to gas ratio\n",
    "        sigma (float): the surface density of the gas in the model (in g/cm^2)\n",
    "        tgas (float): temperature of the gas\n",
    "        t (int): absolute time in seconds\n",
    "        delta_t (int): time in seconds in the future to predict for\n",
    "        input_bins (array length 171): 171 length array of dust densities\n",
    "\n",
    "        Returns (array length 171): 171 length array of the predicted dust densities\n",
    "        \"\"\"\n",
    "\n",
    "\n",
    "        input_params = [r, mstar, alpha, d2g, sigma, tgas]\n",
    "        input_bins_sum = np.sum(input_bins)\n",
    "        #Normalize the input bins and zero out normalized bins less than 10^-30\\n\",\n",
    "        normalized_input_bins = []\n",
    "        for i in range(len(input_bins)):\n",
    "            new_input_bin = np.sum(input_bins[i]) / input_bins_sum\n",
    "            if new_input_bin < 1e-30:\n",
    "                new_input_bin = 0\n",
    "            normalized_input_bins.append(new_input_bin)\n",
    "\n",
    "        # Input features\n",
    "        X = np.concatenate([input_params,normalized_input_bins,[t, delta_t]])\n",
    "\n",
    "        X_formatted = X.reshape(1, -1)\n",
    "        prediction = self.model.predict(X_formatted)\n",
    "        \n",
    "        # Unnormalize the prediction by multiplying each bin by the input mass\n",
    "        prediction *= input_bins_sum\n",
    "        #display(prediction)\n",
    "        \n",
    "        # Check the quality of the prediction\n",
    "        prediction_quality = self.quality_model.predict(X_formatted)\n",
    "        if prediction_quality == 0:\n",
    "            print(\"WARNING! For the given input paramters, the predictions are probably not accurate.\")\n",
    "        return prediction.flatten()\n",
    "\n",
    "\n"
   ]
  },
  {
   "cell_type": "markdown",
   "metadata": {},
   "source": [
    "Swap comments to use the smaller model rather than the larger model"
   ]
  },
  {
   "cell_type": "code",
   "execution_count": 2,
   "metadata": {},
   "outputs": [
    {
     "name": "stderr",
     "output_type": "stream",
     "text": [
      "/home/keh4nb/.local/lib/python3.7/site-packages/sklearn/ensemble/weight_boosting.py:29: DeprecationWarning: numpy.core.umath_tests is an internal NumPy module and should not be imported. It will be removed in a future NumPy release.\n",
      "  from numpy.core.umath_tests import inner1d\n"
     ]
    }
   ],
   "source": [
    "dust_predictor = DustPredictor('/project/SDS-capstones-kropko21/uva-astronomy-models/rf-model-large.joblib')\n",
    "#dust_predictor = DustPredictor('/project/SDS-capstones-kropko21/uva-astronomy-models/rf-model-small.joblib')\n",
    "#dust_predictor = DustPredictor('/project/SDS-capstones-kropko21/uva-astronomy/rf-model-single-all-depth-30-trees-1000-min_samps-512.joblib')\n",
    "#dust_predictor = DustPredictor('/project/SDS-capstones-kropko21/uva-astronomy/rf-model-single-all-depth-30-trees-1000-min_samps-1024.joblib')"
   ]
  },
  {
   "cell_type": "markdown",
   "metadata": {},
   "source": [
    "Run the cell to prepere the evaluation function"
   ]
  },
  {
   "cell_type": "code",
   "execution_count": 3,
   "metadata": {},
   "outputs": [],
   "source": [
    "import os\n",
    "import json\n",
    "from scipy.spatial.distance import jensenshannon\n",
    "from matplotlib import pyplot as plt\n",
    "from timeit import default_timer as timer\n",
    "\n",
    "#From: https://stackoverflow.com/a/25628397\n",
    "def get_cmap(n, name='cool'):\n",
    "    '''Returns a function that maps each index in 0, 1, ..., n-1 to a distinct \n",
    "    RGB color; the keyword argument name must be a standard mpl colormap name.'''\n",
    "    return plt.cm.get_cmap(name, n)\n",
    "\n",
    "def evaluate_preds_with_sim(model_num, step_size=10, max_index=55):\n",
    "    \"\"\"\n",
    "    Plots snapshots from the selected model run and plots the predictions using the random forest model\n",
    "    model_num: Number of model run from v2 fata (0-10000)\n",
    "    step_size: The step size between each snapshots of the model run\n",
    "    max_index: The maximum snapshot to consider\n",
    "    \n",
    "    \"\"\"\n",
    "\n",
    "    # Open the associated files with the specified model_num\n",
    "    version = \"v2\"\n",
    "    root_data_path = f\"/project/SDS-capstones-kropko21/dust_models/dust_coag_{version}\"\n",
    "\n",
    "    data_set = str(model_num).zfill(5)\n",
    "    data_dir = f\"{root_data_path}/data_{data_set}\"\n",
    "    input_params = None\n",
    "\n",
    "    # Open and extract the input parameters\n",
    "    with open(os.path.join(root_data_path, f\"model_dict_{version}.json\")) as f:\n",
    "        model_dict = json.load(f)\n",
    "        input_dict = model_dict[data_set]\n",
    "        print(input_dict)\n",
    "\n",
    "    try:\n",
    "        # `rho_dat`: The dust mass density (in g/cm^3) in each particle size/bin at a given snapshot in time. This is the main \"output\", i.e., the primary result, of any given model.\n",
    "        rhod = np.loadtxt(os.path.join(data_dir,\"rho_d.dat\"))\n",
    "        # Replace NaNs with 0s\n",
    "        rhod = np.nan_to_num(rhod)\n",
    "        # Replace negative values with 0s\n",
    "        rhod = np.where(rhod<0, 0, rhod) \n",
    "\n",
    "         # `a_grid.dat`: The dust particle size in each \"bin\" in centimeters.\n",
    "        a_grid = np.loadtxt(os.path.join(data_dir, 'a_grid.dat'))\n",
    "\n",
    "        # `time.dat`: The time of each snapshot (in seconds).\n",
    "        time = np.loadtxt(os.path.join(data_dir, \"time.dat\"))\n",
    "    except Exception as e:\n",
    "        print(f'model {d} skipped')\n",
    "        import traceback\n",
    "        print(traceback.print_exc())\n",
    "    \n",
    "    # Set the figure size\n",
    "    fig = plt.figure(figsize=(8,6))\n",
    "\n",
    "    # Generate the indexes we are going to use based off the step size and max index\n",
    "    idxs = list(range(0, min(len(rhod-1),max_index), step_size))\n",
    "    # If the simulation only has the initial index 0, add the last one\n",
    "    if len(idxs) == 1:\n",
    "        idxs.append(len(rhod)-1)\n",
    "    \n",
    "    # Plot the true simulated values\n",
    "    cmap = get_cmap(len(idxs))\n",
    "    for i,idx in enumerate(idxs):\n",
    "        plt.plot(rhod[idx], color=cmap(i), label=idx)\n",
    "    plt.xticks([])\n",
    "    plt.title(\"Dust Sim\")\n",
    "    plt.legend(loc=\"upper left\")\n",
    "    plt.show()\n",
    "    \n",
    "    # Make predictions using the random forest model\n",
    "    pred_outputs = []\n",
    "    start = timer()\n",
    "    \n",
    "    for i in range(1, len(idxs)):\n",
    "        prev_idx = idxs[i-1]\n",
    "        idx = idxs[i]\n",
    "        if i == 1:\n",
    "            input_bins = rhod[0]\n",
    "        else:\n",
    "            # Swap these lines to use the real input distribution than the previous output as the input\n",
    "            input_bins = pred_output\n",
    "            #input_bins = rhod[idx]\n",
    "\n",
    "        t = time[prev_idx]\n",
    "\n",
    "        # Difference of time in seconds between two snapshots\n",
    "        delta_t = time[idx] - t\n",
    "\n",
    "        pred_output = dust_predictor.predict(input_dict['R'], input_dict['Mstar'], input_dict['alpha'],input_dict['d2g'], input_dict['sigma'], input_dict['Tgas'], t, delta_t, input_bins)\n",
    "        pred_outputs.append(pred_output)\n",
    "        print(f\"Entropy: {jensenshannon(rhod[idx], pred_output)} for snapshot {idx}\")\n",
    "        \n",
    "    end = timer()\n",
    "    print(f\"Avg time for 1 prediction: {(end-start)/(len(idxs)-1)}.\")\n",
    "    fig = plt.figure(figsize=(8,6))\n",
    "    # Plot the results of the predictions\n",
    "    plt.plot(rhod[0], color=cmap(0), label='0')\n",
    "    for idx, pred in enumerate(pred_outputs):\n",
    "        plt.plot(pred, color=cmap(idx+1), label=idxs[idx+1])\n",
    "    plt.xticks([])\n",
    "    #plt.ylim(0, 2e-14) \n",
    "    plt.legend(loc=\"upper left\")\n",
    "    plt.title(\"ML Model\")\n",
    "    plt.show()"
   ]
  },
  {
   "cell_type": "markdown",
   "metadata": {},
   "source": [
    "Call the evaluation function and two graphs will be plotted. The first arguement is the model number. It takes an optional second arguement for the step size between snapshots to plot and an optional third arguement which is the max snapshot index it will go up to."
   ]
  },
  {
   "cell_type": "code",
   "execution_count": 6,
   "metadata": {},
   "outputs": [
    {
     "name": "stdout",
     "output_type": "stream",
     "text": [
      "{'tag': '02455', 'R': 1.9306872603126473, 'Mstar': 1.0, 'alpha': 0.0001, 'd2g': 0.0001, 'sigma': 633.6960864580715, 'Tgas': 71.96876241379886, 'm_min': 1e-15, 'm_max': 100.0, 'input': 'data/input_02455.nml', 'data': 'data'}\n"
     ]
    },
    {
     "data": {
      "image/png": "[encoded data removed]",
      "text/plain": [
       "<Figure size 576x432 with 1 Axes>"
      ]
     },
     "metadata": {
      "needs_background": "light"
     },
     "output_type": "display_data"
    },
    {
     "name": "stdout",
     "output_type": "stream",
     "text": [
      "WARNING! For the given input paramters, the predictions are probably not accurate.\n",
      "Entropy: 0.6734154966143234 for snapshot 10\n",
      "Entropy: 0.815735335402342 for snapshot 20\n",
      "Entropy: 0.8172216283971597 for snapshot 30\n",
      "Entropy: 0.8212385369668284 for snapshot 40\n",
      "Entropy: 0.8266170859288596 for snapshot 50\n",
      "Avg time for 1 prediction: 0.18091362118721008.\n"
     ]
    },
    {
     "data": {
      "image/png": "[encoded data removed]",
      "text/plain": [
       "<Figure size 576x432 with 1 Axes>"
      ]
     },
     "metadata": {
      "needs_background": "light"
     },
     "output_type": "display_data"
    }
   ],
   "source": [
    "#evaluate_preds_with_sim(9219)\n",
    "#evaluate_preds_with_sim(1021)\n",
    "#evaluate_preds_with_sim(9816)\n",
    "evaluate_preds_with_sim(2455)\n"
   ]
  },
  {
   "cell_type": "code",
   "execution_count": null,
   "metadata": {},
   "outputs": [],
   "source": []
  }
 ],
 "metadata": {
  "kernelspec": {
   "display_name": "Python 3",
   "language": "python",
   "name": "python3"
  },
  "language_info": {
   "codemirror_mode": {
    "name": "ipython",
    "version": 3
   },
   "file_extension": ".py",
   "mimetype": "text/x-python",
   "name": "python",
   "nbconvert_exporter": "python",
   "pygments_lexer": "ipython3",
   "version": "3.7.4"
  }
 },
 "nbformat": 4,
 "nbformat_minor": 4
}
