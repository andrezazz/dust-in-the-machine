{
 "cells": [
  {
   "cell_type": "markdown",
   "metadata": {},
   "source": [
    "This notebook will show comparison graphs between a selected model from the simulation and predictions from the random forest model using the same input conditions. Below is the prediction class."
   ]
  },
  {
   "cell_type": "code",
   "execution_count": 2,
   "metadata": {},
   "outputs": [
    {
     "name": "stderr",
     "output_type": "stream",
     "text": [
      "/apps/software/standard/compiler/gcc/9.2.0/jupyter_conda/2019.10-py3.7/lib/python3.7/site-packages/dask/dataframe/utils.py:14: FutureWarning: pandas.util.testing is deprecated. Use the functions in the public API at pandas.testing instead.\n",
      "  import pandas.util.testing as tm\n"
     ]
    }
   ],
   "source": [
    "\n",
    "import numpy as np\n",
    "from joblib import load\n",
    "import xgboost as xgb\n",
    "\n",
    "\n",
    "class DustPredictor:\n",
    "    \n",
    "    def __init__(self, model_path):\n",
    "        \"\"\" Loads a random forest model for predicting dust densities and XGBoost model for predicting quality of the predicted dust densities\"\"\"\n",
    "        self.quality_model = xgb.XGBClassifier()\n",
    "        self.quality_model.load_model('prediction-quality.model')\n",
    "        self.model = load(model_path)\n",
    "        \n",
    "\n",
    "\n",
    "    def predict(self, r, mstar, alpha, d2g, sigma, tgas, t, delta_t, input_bins):\n",
    "        \"\"\"\n",
    "        Makes a prediction from the given set of input parameters. It will also print a warning if the predicted quality is not good.\n",
    "        \n",
    "        r (float): distance from central star\n",
    "        mstar (float): mass of star in the system\n",
    "        alpha (float): turblance\n",
    "        d2g (float): dust to gas ratio\n",
    "        sigma (float): the surface density of the gas in the model (in g/cm^2)\n",
    "        tgas (float): temperature of the gas\n",
    "        t (int): absolute time in seconds\n",
    "        delta_t (int): time in seconds in the future to predict for\n",
    "        input_bins (array length 171): 171 length array of dust densities\n",
    "\n",
    "        Returns (array length 171): 171 length array of the predicted dust densities\n",
    "        \"\"\"\n",
    "\n",
    "\n",
    "        input_params = [r, mstar, alpha, d2g, sigma, tgas]\n",
    "        input_bins_sum = np.sum(input_bins)\n",
    "        #Normalize the input bins and zero out normalized bins less than 10^-30\\n\",\n",
    "        normalized_input_bins = []\n",
    "        for i in range(len(input_bins)):\n",
    "            new_input_bin = np.sum(input_bins[i]) / input_bins_sum\n",
    "            if new_input_bin < 1e-30:\n",
    "                new_input_bin = 0\n",
    "            normalized_input_bins.append(new_input_bin)\n",
    "\n",
    "        # Input features\n",
    "        X = np.concatenate([input_params,normalized_input_bins,[t, delta_t]])\n",
    "\n",
    "        X_formatted = X.reshape(1, -1)\n",
    "        prediction = self.model.predict(X_formatted)\n",
    "        \n",
    "        # Unnormalize the prediction by multiplying each bin by the input mass\n",
    "        prediction *= input_bins_sum\n",
    "\n",
    "        # Check the quality of the prediction\n",
    "        prediction_quality = self.quality_model.predict(X_formatted)\n",
    "        if prediction_quality == 0:\n",
    "            warnings.warn(\"For the given input paramters, the resulting prediction is most likely not accurate.\")\n",
    "        return prediction.flatten()\n",
    "\n",
    "\n"
   ]
  },
  {
   "cell_type": "markdown",
   "metadata": {},
   "source": [
    "Swap comments to use the smaller model rather than the larger model"
   ]
  },
  {
   "cell_type": "code",
   "execution_count": 2,
   "metadata": {},
   "outputs": [
    {
     "name": "stderr",
     "output_type": "stream",
     "text": [
      "/home/keh4nb/.local/lib/python3.7/site-packages/sklearn/ensemble/weight_boosting.py:29: DeprecationWarning: numpy.core.umath_tests is an internal NumPy module and should not be imported. It will be removed in a future NumPy release.\n",
      "  from numpy.core.umath_tests import inner1d\n"
     ]
    },
    {
     "ename": "ModuleNotFoundError",
     "evalue": "No module named 'sklearn.ensemble._forest'",
     "output_type": "error",
     "traceback": [
      "\u001b[0;31m---------------------------------------------------------------------------\u001b[0m",
      "\u001b[0;31mModuleNotFoundError\u001b[0m                       Traceback (most recent call last)",
      "\u001b[0;32m<ipython-input-2-6eb163cf8200>\u001b[0m in \u001b[0;36m<module>\u001b[0;34m\u001b[0m\n\u001b[0;32m----> 1\u001b[0;31m \u001b[0mdust_predictor\u001b[0m \u001b[0;34m=\u001b[0m \u001b[0mDustPredictor\u001b[0m\u001b[0;34m(\u001b[0m\u001b[0;34m'/project/SDS-capstones-kropko21/uva-astronomy-models/rf-model-large.joblib'\u001b[0m\u001b[0;34m)\u001b[0m\u001b[0;34m\u001b[0m\u001b[0;34m\u001b[0m\u001b[0m\n\u001b[0m\u001b[1;32m      2\u001b[0m \u001b[0;31m#dust_predictor = DustPredictor('/project/SDS-capstones-kropko21/uva-astronomy-models/rf-model-small.joblib')\u001b[0m\u001b[0;34m\u001b[0m\u001b[0;34m\u001b[0m\u001b[0;34m\u001b[0m\u001b[0m\n\u001b[1;32m      3\u001b[0m \u001b[0;31m#dust_predictor = DustPredictor('/project/SDS-capstones-kropko21/uva-astronomy/rf-model-single-all-depth-30-trees-1000-min_samps-512.joblib')\u001b[0m\u001b[0;34m\u001b[0m\u001b[0;34m\u001b[0m\u001b[0;34m\u001b[0m\u001b[0m\n\u001b[1;32m      4\u001b[0m \u001b[0;31m#dust_predictor = DustPredictor('/project/SDS-capstones-kropko21/uva-astronomy/rf-model-single-all-depth-30-trees-1000-min_samps-1024.joblib')\u001b[0m\u001b[0;34m\u001b[0m\u001b[0;34m\u001b[0m\u001b[0;34m\u001b[0m\u001b[0m\n",
      "\u001b[0;32m<ipython-input-1-60249b68e9b0>\u001b[0m in \u001b[0;36m__init__\u001b[0;34m(self, model_path)\u001b[0m\n\u001b[1;32m     12\u001b[0m         \u001b[0mself\u001b[0m\u001b[0;34m.\u001b[0m\u001b[0mquality_model\u001b[0m \u001b[0;34m=\u001b[0m \u001b[0mxgb\u001b[0m\u001b[0;34m.\u001b[0m\u001b[0mXGBClassifier\u001b[0m\u001b[0;34m(\u001b[0m\u001b[0;34m)\u001b[0m\u001b[0;34m\u001b[0m\u001b[0;34m\u001b[0m\u001b[0m\n\u001b[1;32m     13\u001b[0m         \u001b[0mself\u001b[0m\u001b[0;34m.\u001b[0m\u001b[0mquality_model\u001b[0m\u001b[0;34m.\u001b[0m\u001b[0mload_model\u001b[0m\u001b[0;34m(\u001b[0m\u001b[0;34m'prediction-quality.model'\u001b[0m\u001b[0;34m)\u001b[0m\u001b[0;34m\u001b[0m\u001b[0;34m\u001b[0m\u001b[0m\n\u001b[0;32m---> 14\u001b[0;31m         \u001b[0mself\u001b[0m\u001b[0;34m.\u001b[0m\u001b[0mmodel\u001b[0m \u001b[0;34m=\u001b[0m \u001b[0mload\u001b[0m\u001b[0;34m(\u001b[0m\u001b[0mmodel_path\u001b[0m\u001b[0;34m)\u001b[0m\u001b[0;34m\u001b[0m\u001b[0;34m\u001b[0m\u001b[0m\n\u001b[0m\u001b[1;32m     15\u001b[0m \u001b[0;34m\u001b[0m\u001b[0m\n\u001b[1;32m     16\u001b[0m \u001b[0;34m\u001b[0m\u001b[0m\n",
      "\u001b[0;32m/apps/software/standard/compiler/gcc/9.2.0/jupyter_conda/2019.10-py3.7/lib/python3.7/site-packages/joblib/numpy_pickle.py\u001b[0m in \u001b[0;36mload\u001b[0;34m(filename, mmap_mode)\u001b[0m\n\u001b[1;32m    603\u001b[0m                     \u001b[0;32mreturn\u001b[0m \u001b[0mload_compatibility\u001b[0m\u001b[0;34m(\u001b[0m\u001b[0mfobj\u001b[0m\u001b[0;34m)\u001b[0m\u001b[0;34m\u001b[0m\u001b[0;34m\u001b[0m\u001b[0m\n\u001b[1;32m    604\u001b[0m \u001b[0;34m\u001b[0m\u001b[0m\n\u001b[0;32m--> 605\u001b[0;31m                 \u001b[0mobj\u001b[0m \u001b[0;34m=\u001b[0m \u001b[0m_unpickle\u001b[0m\u001b[0;34m(\u001b[0m\u001b[0mfobj\u001b[0m\u001b[0;34m,\u001b[0m \u001b[0mfilename\u001b[0m\u001b[0;34m,\u001b[0m \u001b[0mmmap_mode\u001b[0m\u001b[0;34m)\u001b[0m\u001b[0;34m\u001b[0m\u001b[0;34m\u001b[0m\u001b[0m\n\u001b[0m\u001b[1;32m    606\u001b[0m \u001b[0;34m\u001b[0m\u001b[0m\n\u001b[1;32m    607\u001b[0m     \u001b[0;32mreturn\u001b[0m \u001b[0mobj\u001b[0m\u001b[0;34m\u001b[0m\u001b[0;34m\u001b[0m\u001b[0m\n",
      "\u001b[0;32m/apps/software/standard/compiler/gcc/9.2.0/jupyter_conda/2019.10-py3.7/lib/python3.7/site-packages/joblib/numpy_pickle.py\u001b[0m in \u001b[0;36m_unpickle\u001b[0;34m(fobj, filename, mmap_mode)\u001b[0m\n\u001b[1;32m    527\u001b[0m     \u001b[0mobj\u001b[0m \u001b[0;34m=\u001b[0m \u001b[0;32mNone\u001b[0m\u001b[0;34m\u001b[0m\u001b[0;34m\u001b[0m\u001b[0m\n\u001b[1;32m    528\u001b[0m     \u001b[0;32mtry\u001b[0m\u001b[0;34m:\u001b[0m\u001b[0;34m\u001b[0m\u001b[0;34m\u001b[0m\u001b[0m\n\u001b[0;32m--> 529\u001b[0;31m         \u001b[0mobj\u001b[0m \u001b[0;34m=\u001b[0m \u001b[0munpickler\u001b[0m\u001b[0;34m.\u001b[0m\u001b[0mload\u001b[0m\u001b[0;34m(\u001b[0m\u001b[0;34m)\u001b[0m\u001b[0;34m\u001b[0m\u001b[0;34m\u001b[0m\u001b[0m\n\u001b[0m\u001b[1;32m    530\u001b[0m         \u001b[0;32mif\u001b[0m \u001b[0munpickler\u001b[0m\u001b[0;34m.\u001b[0m\u001b[0mcompat_mode\u001b[0m\u001b[0;34m:\u001b[0m\u001b[0;34m\u001b[0m\u001b[0;34m\u001b[0m\u001b[0m\n\u001b[1;32m    531\u001b[0m             warnings.warn(\"The file '%s' has been generated with a \"\n",
      "\u001b[0;32m/apps/software/standard/compiler/gcc/9.2.0/jupyter_conda/2019.10-py3.7/lib/python3.7/pickle.py\u001b[0m in \u001b[0;36mload\u001b[0;34m(self)\u001b[0m\n\u001b[1;32m   1086\u001b[0m                     \u001b[0;32mraise\u001b[0m \u001b[0mEOFError\u001b[0m\u001b[0;34m\u001b[0m\u001b[0;34m\u001b[0m\u001b[0m\n\u001b[1;32m   1087\u001b[0m                 \u001b[0;32massert\u001b[0m \u001b[0misinstance\u001b[0m\u001b[0;34m(\u001b[0m\u001b[0mkey\u001b[0m\u001b[0;34m,\u001b[0m \u001b[0mbytes_types\u001b[0m\u001b[0;34m)\u001b[0m\u001b[0;34m\u001b[0m\u001b[0;34m\u001b[0m\u001b[0m\n\u001b[0;32m-> 1088\u001b[0;31m                 \u001b[0mdispatch\u001b[0m\u001b[0;34m[\u001b[0m\u001b[0mkey\u001b[0m\u001b[0;34m[\u001b[0m\u001b[0;36m0\u001b[0m\u001b[0;34m]\u001b[0m\u001b[0;34m]\u001b[0m\u001b[0;34m(\u001b[0m\u001b[0mself\u001b[0m\u001b[0;34m)\u001b[0m\u001b[0;34m\u001b[0m\u001b[0;34m\u001b[0m\u001b[0m\n\u001b[0m\u001b[1;32m   1089\u001b[0m         \u001b[0;32mexcept\u001b[0m \u001b[0m_Stop\u001b[0m \u001b[0;32mas\u001b[0m \u001b[0mstopinst\u001b[0m\u001b[0;34m:\u001b[0m\u001b[0;34m\u001b[0m\u001b[0;34m\u001b[0m\u001b[0m\n\u001b[1;32m   1090\u001b[0m             \u001b[0;32mreturn\u001b[0m \u001b[0mstopinst\u001b[0m\u001b[0;34m.\u001b[0m\u001b[0mvalue\u001b[0m\u001b[0;34m\u001b[0m\u001b[0;34m\u001b[0m\u001b[0m\n",
      "\u001b[0;32m/apps/software/standard/compiler/gcc/9.2.0/jupyter_conda/2019.10-py3.7/lib/python3.7/pickle.py\u001b[0m in \u001b[0;36mload_stack_global\u001b[0;34m(self)\u001b[0m\n\u001b[1;32m   1383\u001b[0m         \u001b[0;32mif\u001b[0m \u001b[0mtype\u001b[0m\u001b[0;34m(\u001b[0m\u001b[0mname\u001b[0m\u001b[0;34m)\u001b[0m \u001b[0;32mis\u001b[0m \u001b[0;32mnot\u001b[0m \u001b[0mstr\u001b[0m \u001b[0;32mor\u001b[0m \u001b[0mtype\u001b[0m\u001b[0;34m(\u001b[0m\u001b[0mmodule\u001b[0m\u001b[0;34m)\u001b[0m \u001b[0;32mis\u001b[0m \u001b[0;32mnot\u001b[0m \u001b[0mstr\u001b[0m\u001b[0;34m:\u001b[0m\u001b[0;34m\u001b[0m\u001b[0;34m\u001b[0m\u001b[0m\n\u001b[1;32m   1384\u001b[0m             \u001b[0;32mraise\u001b[0m \u001b[0mUnpicklingError\u001b[0m\u001b[0;34m(\u001b[0m\u001b[0;34m\"STACK_GLOBAL requires str\"\u001b[0m\u001b[0;34m)\u001b[0m\u001b[0;34m\u001b[0m\u001b[0;34m\u001b[0m\u001b[0m\n\u001b[0;32m-> 1385\u001b[0;31m         \u001b[0mself\u001b[0m\u001b[0;34m.\u001b[0m\u001b[0mappend\u001b[0m\u001b[0;34m(\u001b[0m\u001b[0mself\u001b[0m\u001b[0;34m.\u001b[0m\u001b[0mfind_class\u001b[0m\u001b[0;34m(\u001b[0m\u001b[0mmodule\u001b[0m\u001b[0;34m,\u001b[0m \u001b[0mname\u001b[0m\u001b[0;34m)\u001b[0m\u001b[0;34m)\u001b[0m\u001b[0;34m\u001b[0m\u001b[0;34m\u001b[0m\u001b[0m\n\u001b[0m\u001b[1;32m   1386\u001b[0m     \u001b[0mdispatch\u001b[0m\u001b[0;34m[\u001b[0m\u001b[0mSTACK_GLOBAL\u001b[0m\u001b[0;34m[\u001b[0m\u001b[0;36m0\u001b[0m\u001b[0;34m]\u001b[0m\u001b[0;34m]\u001b[0m \u001b[0;34m=\u001b[0m \u001b[0mload_stack_global\u001b[0m\u001b[0;34m\u001b[0m\u001b[0;34m\u001b[0m\u001b[0m\n\u001b[1;32m   1387\u001b[0m \u001b[0;34m\u001b[0m\u001b[0m\n",
      "\u001b[0;32m/apps/software/standard/compiler/gcc/9.2.0/jupyter_conda/2019.10-py3.7/lib/python3.7/pickle.py\u001b[0m in \u001b[0;36mfind_class\u001b[0;34m(self, module, name)\u001b[0m\n\u001b[1;32m   1424\u001b[0m             \u001b[0;32melif\u001b[0m \u001b[0mmodule\u001b[0m \u001b[0;32min\u001b[0m \u001b[0m_compat_pickle\u001b[0m\u001b[0;34m.\u001b[0m\u001b[0mIMPORT_MAPPING\u001b[0m\u001b[0;34m:\u001b[0m\u001b[0;34m\u001b[0m\u001b[0;34m\u001b[0m\u001b[0m\n\u001b[1;32m   1425\u001b[0m                 \u001b[0mmodule\u001b[0m \u001b[0;34m=\u001b[0m \u001b[0m_compat_pickle\u001b[0m\u001b[0;34m.\u001b[0m\u001b[0mIMPORT_MAPPING\u001b[0m\u001b[0;34m[\u001b[0m\u001b[0mmodule\u001b[0m\u001b[0;34m]\u001b[0m\u001b[0;34m\u001b[0m\u001b[0;34m\u001b[0m\u001b[0m\n\u001b[0;32m-> 1426\u001b[0;31m         \u001b[0m__import__\u001b[0m\u001b[0;34m(\u001b[0m\u001b[0mmodule\u001b[0m\u001b[0;34m,\u001b[0m \u001b[0mlevel\u001b[0m\u001b[0;34m=\u001b[0m\u001b[0;36m0\u001b[0m\u001b[0;34m)\u001b[0m\u001b[0;34m\u001b[0m\u001b[0;34m\u001b[0m\u001b[0m\n\u001b[0m\u001b[1;32m   1427\u001b[0m         \u001b[0;32mif\u001b[0m \u001b[0mself\u001b[0m\u001b[0;34m.\u001b[0m\u001b[0mproto\u001b[0m \u001b[0;34m>=\u001b[0m \u001b[0;36m4\u001b[0m\u001b[0;34m:\u001b[0m\u001b[0;34m\u001b[0m\u001b[0;34m\u001b[0m\u001b[0m\n\u001b[1;32m   1428\u001b[0m             \u001b[0;32mreturn\u001b[0m \u001b[0m_getattribute\u001b[0m\u001b[0;34m(\u001b[0m\u001b[0msys\u001b[0m\u001b[0;34m.\u001b[0m\u001b[0mmodules\u001b[0m\u001b[0;34m[\u001b[0m\u001b[0mmodule\u001b[0m\u001b[0;34m]\u001b[0m\u001b[0;34m,\u001b[0m \u001b[0mname\u001b[0m\u001b[0;34m)\u001b[0m\u001b[0;34m[\u001b[0m\u001b[0;36m0\u001b[0m\u001b[0;34m]\u001b[0m\u001b[0;34m\u001b[0m\u001b[0;34m\u001b[0m\u001b[0m\n",
      "\u001b[0;31mModuleNotFoundError\u001b[0m: No module named 'sklearn.ensemble._forest'"
     ]
    }
   ],
   "source": [
    "#dust_predictor = DustPredictor('/project/SDS-capstones-kropko21/uva-astronomy-models/rf-model-large.joblib')\n",
    "#dust_predictor = DustPredictor('/project/SDS-capstones-kropko21/uva-astronomy-models/rf-model-small.joblib')\n",
    "dust_predictor = DustPredictor('/project/SDS-capstones-kropko21/uva-astronomy/rf-model-single-all-depth-30-trees-1000-min_samps-256.joblib')\n",
    "#dust_predictor = DustPredictor('/project/SDS-capstones-kropko21/uva-astronomy/rf-model-single-all-depth-30-trees-1000-min_samps-1024.joblib')"
   ]
  },
  {
   "cell_type": "markdown",
   "metadata": {},
   "source": [
    "Run the cell to prepere the evaluation function"
   ]
  },
  {
   "cell_type": "code",
   "execution_count": 3,
   "metadata": {},
   "outputs": [],
   "source": [
    "import os\n",
    "import json\n",
    "from scipy.spatial.distance import jensenshannon\n",
    "from matplotlib import pyplot as plt\n",
    "from timeit import default_timer as timer\n",
    "\n",
    "#From: https://stackoverflow.com/a/25628397\n",
    "def get_cmap(n, name='cool'):\n",
    "    '''Returns a function that maps each index in 0, 1, ..., n-1 to a distinct \n",
    "    RGB color; the keyword argument name must be a standard mpl colormap name.'''\n",
    "    return plt.cm.get_cmap(name, n)\n",
    "\n",
    "def evaluate_preds_with_sim(model_num, step_size=10, max_index=55):\n",
    "    \"\"\"\n",
    "    Plots snapshots from the selected model run and plots the predictions using the random forest model\n",
    "    model_num: Number of model run from v2 fata (0-10000)\n",
    "    step_size: The step size between each snapshots of the model run\n",
    "    max_index: The maximum snapshot to consider\n",
    "    \n",
    "    \"\"\"\n",
    "\n",
    "    # Open the associated files with the specified model_num\n",
    "    version = \"v2\"\n",
    "    root_data_path = f\"/project/SDS-capstones-kropko21/dust_models/dust_coag_{version}\"\n",
    "\n",
    "    data_set = str(model_num).zfill(5)\n",
    "    data_dir = f\"{root_data_path}/data_{data_set}\"\n",
    "    input_params = None\n",
    "\n",
    "    # Open and extract the input parameters\n",
    "    with open(os.path.join(root_data_path, f\"model_dict_{version}.json\")) as f:\n",
    "        model_dict = json.load(f)\n",
    "        input_dict = model_dict[data_set]\n",
    "        print(input_dict)\n",
    "\n",
    "    try:\n",
    "        # `rho_dat`: The dust mass density (in g/cm^3) in each particle size/bin at a given snapshot in time. This is the main \"output\", i.e., the primary result, of any given model.\n",
    "        rhod = np.loadtxt(os.path.join(data_dir,\"rho_d.dat\"))\n",
    "        # Replace NaNs with 0s\n",
    "        rhod = np.nan_to_num(rhod)\n",
    "        # Replace negative values with 0s\n",
    "        rhod = np.where(rhod<0, 0, rhod) \n",
    "\n",
    "         # `a_grid.dat`: The dust particle size in each \"bin\" in centimeters.\n",
    "        a_grid = np.loadtxt(os.path.join(data_dir, 'a_grid.dat'))\n",
    "\n",
    "        # `time.dat`: The time of each snapshot (in seconds).\n",
    "        time = np.loadtxt(os.path.join(data_dir, \"time.dat\"))\n",
    "    except Exception as e:\n",
    "        print(f'model {d} skipped')\n",
    "        import traceback\n",
    "        print(traceback.print_exc())\n",
    "    \n",
    "    # Set the figure size\n",
    "    fig = plt.figure(figsize=(8,6))\n",
    "\n",
    "    # Generate the indexes we are going to use based off the step size and max index\n",
    "    idxs = list(range(0, min(len(rhod-1),max_index), step_size))\n",
    "    # If the simulation only has the initial index 0, add the last one\n",
    "    if len(idxs) == 1:\n",
    "        idxs.append(len(rhod)-1)\n",
    "    \n",
    "    # Plot the true simulated values\n",
    "    cmap = get_cmap(len(idxs))\n",
    "    for i,idx in enumerate(idxs):\n",
    "        plt.plot(rhod[idx], color=cmap(i), label=idx)\n",
    "    plt.xticks([])\n",
    "    plt.title(\"Dust Sim\")\n",
    "    plt.legend(loc=\"upper left\")\n",
    "    plt.show()\n",
    "    \n",
    "    # Make predictions using the random forest model\n",
    "    pred_outputs = []\n",
    "    start = timer()\n",
    "    \n",
    "    for i in range(1, len(idxs)):\n",
    "        prev_idx = idxs[i-1]\n",
    "        idx = idxs[i]\n",
    "        if i == 1:\n",
    "            input_bins = rhod[0]\n",
    "        else:\n",
    "            # Swap these lines to use the real input distribution than the previous output as the input\n",
    "            input_bins = pred_output\n",
    "            #input_bins = rhod[idx]\n",
    "\n",
    "        t = time[prev_idx]\n",
    "\n",
    "        # Difference of time in seconds between two snapshots\n",
    "        delta_t = time[idx] - t\n",
    "\n",
    "        pred_output = dust_predictor.predict(input_dict['R'], input_dict['Mstar'], input_dict['alpha'],input_dict['d2g'], input_dict['sigma'], input_dict['Tgas'], t, delta_t, input_bins)\n",
    "        pred_outputs.append(pred_output)\n",
    "        print(f\"Entropy: {jensenshannon(rhod[idx], pred_output)} for snapshot {idx}\")\n",
    "        \n",
    "    end = timer()\n",
    "    print(f\"Avg time for 1 prediction: {(end-start)/(len(idxs)-1)}.\")\n",
    "    fig = plt.figure(figsize=(8,6))\n",
    "    # Plot the results of the predictions\n",
    "    plt.plot(rhod[0], color=cmap(0), label='0')\n",
    "    for idx, pred in enumerate(pred_outputs):\n",
    "        plt.plot(pred, color=cmap(idx+1), label=idxs[idx+1])\n",
    "    plt.xticks([])\n",
    "    #plt.ylim(0, 2e-14) \n",
    "    plt.legend(loc=\"upper left\")\n",
    "    plt.title(\"ML Model\")\n",
    "    plt.show()"
   ]
  },
  {
   "cell_type": "code",
   "execution_count": null,
   "metadata": {},
   "outputs": [],
   "source": []
  },
  {
   "cell_type": "markdown",
   "metadata": {},
   "source": [
    "Call the evaluation function and two graphs will be plotted. The first arguement is the model number. It takes an optional second arguement for the step size between snapshots to plot and an optional third arguement which is the max snapshot index it will go up to."
   ]
  },
  {
   "cell_type": "code",
   "execution_count": 4,
   "metadata": {},
   "outputs": [
    {
     "name": "stdout",
     "output_type": "stream",
     "text": [
      "{'tag': '09816', 'R': 439.38752621208494, 'Mstar': 1.0, 'alpha': 0.01, 'd2g': 0.001, 'sigma': 0.18457689506039313, 'Tgas': 4.7706344303819845, 'm_min': 1e-15, 'm_max': 100.0, 'input': 'data/input_09816.nml', 'data': 'data'}\n"
     ]
    },
    {
     "data": {
      "image/png": "[encoded data removed]",
      "text/plain": [
       "<Figure size 576x432 with 1 Axes>"
      ]
     },
     "metadata": {
      "needs_background": "light"
     },
     "output_type": "display_data"
    },
    {
     "ename": "NameError",
     "evalue": "name 'dust_predictor' is not defined",
     "output_type": "error",
     "traceback": [
      "\u001b[0;31m---------------------------------------------------------------------------\u001b[0m",
      "\u001b[0;31mNameError\u001b[0m                                 Traceback (most recent call last)",
      "\u001b[0;32m<ipython-input-4-434f10bd2989>\u001b[0m in \u001b[0;36m<module>\u001b[0;34m\u001b[0m\n\u001b[1;32m      1\u001b[0m \u001b[0;31m#evaluate_preds_with_sim(9219)\u001b[0m\u001b[0;34m\u001b[0m\u001b[0;34m\u001b[0m\u001b[0;34m\u001b[0m\u001b[0m\n\u001b[1;32m      2\u001b[0m \u001b[0;31m#evaluate_preds_with_sim(1021)\u001b[0m\u001b[0;34m\u001b[0m\u001b[0;34m\u001b[0m\u001b[0;34m\u001b[0m\u001b[0m\n\u001b[0;32m----> 3\u001b[0;31m \u001b[0mevaluate_preds_with_sim\u001b[0m\u001b[0;34m(\u001b[0m\u001b[0;36m9816\u001b[0m\u001b[0;34m)\u001b[0m\u001b[0;34m\u001b[0m\u001b[0;34m\u001b[0m\u001b[0m\n\u001b[0m\u001b[1;32m      4\u001b[0m \u001b[0;31m#evaluate_preds_with_sim(2455)\u001b[0m\u001b[0;34m\u001b[0m\u001b[0;34m\u001b[0m\u001b[0;34m\u001b[0m\u001b[0m\n",
      "\u001b[0;32m<ipython-input-3-26989fbe8a3a>\u001b[0m in \u001b[0;36mevaluate_preds_with_sim\u001b[0;34m(model_num, step_size, max_index)\u001b[0m\n\u001b[1;32m     89\u001b[0m         \u001b[0mdelta_t\u001b[0m \u001b[0;34m=\u001b[0m \u001b[0mtime\u001b[0m\u001b[0;34m[\u001b[0m\u001b[0midx\u001b[0m\u001b[0;34m]\u001b[0m \u001b[0;34m-\u001b[0m \u001b[0mt\u001b[0m\u001b[0;34m\u001b[0m\u001b[0;34m\u001b[0m\u001b[0m\n\u001b[1;32m     90\u001b[0m \u001b[0;34m\u001b[0m\u001b[0m\n\u001b[0;32m---> 91\u001b[0;31m         \u001b[0mpred_output\u001b[0m \u001b[0;34m=\u001b[0m \u001b[0mdust_predictor\u001b[0m\u001b[0;34m.\u001b[0m\u001b[0mpredict\u001b[0m\u001b[0;34m(\u001b[0m\u001b[0minput_dict\u001b[0m\u001b[0;34m[\u001b[0m\u001b[0;34m'R'\u001b[0m\u001b[0;34m]\u001b[0m\u001b[0;34m,\u001b[0m \u001b[0minput_dict\u001b[0m\u001b[0;34m[\u001b[0m\u001b[0;34m'Mstar'\u001b[0m\u001b[0;34m]\u001b[0m\u001b[0;34m,\u001b[0m \u001b[0minput_dict\u001b[0m\u001b[0;34m[\u001b[0m\u001b[0;34m'alpha'\u001b[0m\u001b[0;34m]\u001b[0m\u001b[0;34m,\u001b[0m\u001b[0minput_dict\u001b[0m\u001b[0;34m[\u001b[0m\u001b[0;34m'd2g'\u001b[0m\u001b[0;34m]\u001b[0m\u001b[0;34m,\u001b[0m \u001b[0minput_dict\u001b[0m\u001b[0;34m[\u001b[0m\u001b[0;34m'sigma'\u001b[0m\u001b[0;34m]\u001b[0m\u001b[0;34m,\u001b[0m \u001b[0minput_dict\u001b[0m\u001b[0;34m[\u001b[0m\u001b[0;34m'Tgas'\u001b[0m\u001b[0;34m]\u001b[0m\u001b[0;34m,\u001b[0m \u001b[0mt\u001b[0m\u001b[0;34m,\u001b[0m \u001b[0mdelta_t\u001b[0m\u001b[0;34m,\u001b[0m \u001b[0minput_bins\u001b[0m\u001b[0;34m)\u001b[0m\u001b[0;34m\u001b[0m\u001b[0;34m\u001b[0m\u001b[0m\n\u001b[0m\u001b[1;32m     92\u001b[0m         \u001b[0mpred_outputs\u001b[0m\u001b[0;34m.\u001b[0m\u001b[0mappend\u001b[0m\u001b[0;34m(\u001b[0m\u001b[0mpred_output\u001b[0m\u001b[0;34m)\u001b[0m\u001b[0;34m\u001b[0m\u001b[0;34m\u001b[0m\u001b[0m\n\u001b[1;32m     93\u001b[0m         \u001b[0mprint\u001b[0m\u001b[0;34m(\u001b[0m\u001b[0;34mf\"Entropy: {jensenshannon(rhod[idx], pred_output)} for snapshot {idx}\"\u001b[0m\u001b[0;34m)\u001b[0m\u001b[0;34m\u001b[0m\u001b[0;34m\u001b[0m\u001b[0m\n",
      "\u001b[0;31mNameError\u001b[0m: name 'dust_predictor' is not defined"
     ]
    }
   ],
   "source": [
    "#evaluate_preds_with_sim(9219)\n",
    "#evaluate_preds_with_sim(1021)\n",
    "evaluate_preds_with_sim(9816)\n",
    "#evaluate_preds_with_sim(2455)\n"
   ]
  },
  {
   "cell_type": "markdown",
   "metadata": {},
   "source": [
    "## Plot Prediction with True"
   ]
  },
  {
   "cell_type": "code",
   "execution_count": 127,
   "metadata": {},
   "outputs": [],
   "source": [
    "def plot_prediction_with_sim(model_num, input_idx = 0, output_idx=None, fig_idx=None):\n",
    "    \"\"\"\n",
    "    Plots snapshots from the selected model run and plots the predictions using the random forest model\n",
    "    model_num: Number of model run from v2 data (0-10000)\n",
    "    step_size: The step size between each snapshots of the model run\n",
    "    max_index: The maximum snapshot to consider\n",
    "    \n",
    "    \"\"\"\n",
    "\n",
    "    # Open the associated files with the specified model_num\n",
    "    version = \"v2\"\n",
    "    root_data_path = f\"/project/SDS-capstones-kropko21/dust_models/dust_coag_{version}\"\n",
    "\n",
    "    data_set = str(model_num).zfill(5)\n",
    "    data_dir = f\"{root_data_path}/data_{data_set}\"\n",
    "    print(data_dir)\n",
    "    input_params = None\n",
    "\n",
    "    # Open and extract the input parameters\n",
    "    with open(os.path.join(root_data_path, f\"model_dict_{version}.json\")) as f:\n",
    "        model_dict = json.load(f)\n",
    "        input_dict = model_dict[data_set]\n",
    "        print(input_dict)\n",
    "\n",
    "    try:\n",
    "        # `rho_dat`: The dust mass density (in g/cm^3) in each particle size/bin at a given snapshot in time. This is the main \"output\", i.e., the primary result, of any given model.\n",
    "        rhod = np.loadtxt(os.path.join(data_dir,\"rho_d.dat\"))\n",
    "        # Replace NaNs with 0s\n",
    "        rhod = np.nan_to_num(rhod)\n",
    "        # Replace negative values with 0s\n",
    "        rhod = np.where(rhod<0, 0, rhod) \n",
    "\n",
    "         # `a_grid.dat`: The dust particle size in each \"bin\" in centimeters.\n",
    "        a_grid = np.loadtxt(os.path.join(data_dir, 'a_grid.dat'))\n",
    "\n",
    "        # `time.dat`: The time of each snapshot (in seconds).\n",
    "        time = np.loadtxt(os.path.join(data_dir, \"time.dat\"))\n",
    "    except Exception as e:\n",
    "        print(f'model {d} skipped')\n",
    "        import traceback\n",
    "        print(traceback.print_exc())\n",
    "\n",
    "\n",
    "    \n",
    "    input_bins = rhod[input_idx]\n",
    "\n",
    "    t = time[input_idx]\n",
    "    print(f\"t:{t}\")\n",
    "\n",
    "    # Difference of time in seconds between two snapshots\n",
    "    delta_t = time[output_idx] - t\n",
    "    print(f\"delta t:{delta_t}\")\n",
    "\n",
    "    pred_output = dust_predictor.predict(input_dict['R'], input_dict['Mstar'], input_dict['alpha'],input_dict['d2g'], input_dict['sigma'], input_dict['Tgas'], t, delta_t, input_bins)\n",
    "    print(f\"Entropy: {jensenshannon(rhod[output_idx], pred_output)} for snapshot {output_idx}\")\n",
    "\n",
    "    fig = plt.figure(figsize=(8,6))\n",
    "    # Plot the results of the predictions\n",
    "    plt.plot(rhod[output_idx], label='Simulated')\n",
    "    plt.plot(pred_output, label='Random Forest')\n",
    "    plt.xticks([])\n",
    "    plt.xlabel(\"Particle Size Bin\")\n",
    "    plt.ylabel(\"Density [g/cm$^3$]\")\n",
    "    plt.legend(loc=\"upper left\")\n",
    "    if fig_idx:\n",
    "        plt.savefig(f\"pred_comparison_{fig_idx}\")\n",
    "    else:\n",
    "        plt.show()"
   ]
  },
  {
   "cell_type": "code",
   "execution_count": 128,
   "metadata": {},
   "outputs": [
    {
     "name": "stdout",
     "output_type": "stream",
     "text": [
      "/project/SDS-capstones-kropko21/dust_models/dust_coag_v2/data_00332\n",
      "{'tag': '00332', 'R': 0.40200096247027856, 'Mstar': 1.0, 'alpha': 0.0001, 'd2g': 0.01, 'sigma': 6669.730439909054, 'Tgas': 157.71988566239733, 'm_min': 1e-15, 'm_max': 100.0, 'input': 'data/input_00332.nml', 'data': 'data'}\n",
      "t:0.0\n",
      "delta t:18971697383.44466\n",
      "Entropy: 0.09296124593103294 for snapshot 6\n"
     ]
    },
    {
     "data": {
      "image/png": "[encoded data removed]",
      "text/plain": [
       "<Figure size 576x432 with 1 Axes>"
      ]
     },
     "metadata": {
      "needs_background": "light"
     },
     "output_type": "display_data"
    }
   ],
   "source": [
    "plot_prediction_with_sim(332, output_idx=6)"
   ]
  },
  {
   "cell_type": "code",
   "execution_count": null,
   "metadata": {},
   "outputs": [],
   "source": []
  },
  {
   "cell_type": "code",
   "execution_count": null,
   "metadata": {},
   "outputs": [],
   "source": []
  }
 ],
 "metadata": {
  "kernelspec": {
   "display_name": "Python 3",
   "language": "python",
   "name": "python3"
  },
  "language_info": {
   "codemirror_mode": {
    "name": "ipython",
    "version": 3
   },
   "file_extension": ".py",
   "mimetype": "text/x-python",
   "name": "python",
   "nbconvert_exporter": "python",
   "pygments_lexer": "ipython3",
   "version": "3.7.4"
  }
 },
 "nbformat": 4,
 "nbformat_minor": 4
}
