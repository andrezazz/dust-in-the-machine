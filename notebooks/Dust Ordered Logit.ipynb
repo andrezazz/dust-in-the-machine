{
 "cells": [
  {
   "cell_type": "code",
   "execution_count": 2,
   "metadata": {},
   "outputs": [],
   "source": [
    "import pandas as pd\n",
    "import numpy as np\n",
    "import os\n",
    "import json\n",
    "import random\n",
    "import math\n",
    "from tqdm import notebook # Library for displaying progress bar\n",
    "np.random.seed(500)\n",
    "\n",
    "# Set the desired bin size\n",
    "bin_size = 15\n",
    "\n",
    "# Sets the output filename\n",
    "filename = 'dust_training_data_ordered_logit_bin_15_drop_1_bin.csv'"
   ]
  },
  {
   "cell_type": "code",
   "execution_count": 1,
   "metadata": {},
   "outputs": [
    {
     "name": "stdout",
     "output_type": "stream",
     "text": [
      "HEllo world!\n"
     ]
    }
   ],
   "source": [
    "print(\"HEllo world!\")"
   ]
  },
  {
   "cell_type": "markdown",
   "metadata": {},
   "source": [
    "First we select a pair of snapshots, the lower index is the input and the higher index is the output. Then combined bins together based on the number of desired bins. Ie if the bin size is 15, every 10 bins will be combined into one. Y is randomnly sampled from the bins. \n",
    "\n",
    "Tried the following transformations:\n",
    "- None\n",
    "- Log space\n",
    "- 1 / log space\n",
    "- normalized output\n",
    "- normalized input and output"
   ]
  },
  {
   "cell_type": "code",
   "execution_count": 33,
   "metadata": {},
   "outputs": [],
   "source": [
    "def process_sample(i, snapshot_count, rhod, time, bin_size=15, num_bins=151):\n",
    "    \"\"\" Creates a training sample from two points in time. Selects a random output bin for y, and saves the output bins for comparison\"\"\"\n",
    "    # First sample will always be the first and last element\n",
    "    if i == 0:\n",
    "        idxs = [0, snapshot_count-1]\n",
    "    else:\n",
    "        # Pick two indexes for snapshots (lowest = input, highest = output)\n",
    "        idxs = sorted([random.randint(0,snapshot_count-1) for _ in range(2)])\n",
    "    input_a = rhod[idxs[0]]\n",
    "    output_a = rhod[idxs[1]]\n",
    "\n",
    "    new_input_bins = []\n",
    "    new_output_bins = []\n",
    "    input_bin_sum = np.sum(input_a)\n",
    "    output_bin_sum = np.sum(output_a)\n",
    "    for i in range(bin_size):\n",
    "        # Get the start index of the bin\n",
    "        start = i * math.floor(num_bins/bin_size)\n",
    "        # Get the end index\n",
    "        end = (i+1) * math.floor(num_bins/bin_size)\n",
    "        # Include bin 150 in the last new bin (151 does not divide into 15 evenly for example)\n",
    "        if i == bin_size-1:\n",
    "            end+=num_bins % bin_size\n",
    "            \n",
    "        # Get the old bins and sum them together to create the new one\n",
    "        # Also normalize the input bins\n",
    "        # Could add a statement here to leave out one of the input bins\n",
    "        new_input_bin = np.sum(input_a[start:end]) / input_bin_sum\n",
    "        if new_input_bin < 10^-30:\n",
    "            new_input_bin = 0\n",
    "        # Skip the first bin\n",
    "        if i > 0:\n",
    "            new_input_bins.append(new_input_bin)\n",
    "        \n",
    "        # Normalize the output bin so we can compare the prob distribution to it\n",
    "        new_output_bin = np.sum(output_a[start:end]) / output_bin_sum\n",
    "        if new_output_bin < 10^-30:\n",
    "            new_output_bin = 0\n",
    "        new_output_bins.append(new_output_bin)\n",
    "        \n",
    "    # Select the highest density bin => highest prob\n",
    "    y = np.argmax(new_output_bins)\n",
    "    # Time of the input\n",
    "    t = time[idxs[0]]\n",
    "        \n",
    "    # Difference of time in seconds between two snapshots\n",
    "    delta_t = time[idxs[1]] - t\n",
    "    \n",
    "    row = np.concatenate([input_params,new_input_bins,[t, delta_t, y], new_output_bins])\n",
    "    return row\n",
    "\n",
    "def write_to_file(data, header=True, bin_size=15, batch=False):\n",
    "    \"\"\" Helper method to write training data to a file\"\"\"\n",
    "    columns = ['R', 'Mstar', 'alpha', 'd2g', 'sigma', 'Tgas'] + [f'Input_Bin_{i}' for i in range(bin_size - 1)] + ['t','Delta_t', 'y'] + [f'Output_Bin_{i}' for i in range(bin_size)]\n",
    "    df = pd.DataFrame(res, columns=columns)\n",
    "\n",
    "    # If writing in batch set the file mode to append\n",
    "    mode = 'a' if batch else 'w'\n",
    "    df.to_csv(filename, chunksize=100000, mode=mode, header=header, index=False)"
   ]
  },
  {
   "cell_type": "code",
   "execution_count": 34,
   "metadata": {},
   "outputs": [
    {
     "data": {
      "application/vnd.jupyter.widget-view+json": {
       "model_id": "ae95dc99c23c43609aa5d5d1020991cb",
       "version_major": 2,
       "version_minor": 0
      },
      "text/plain": [
       "HBox(children=(FloatProgress(value=0.0, max=10000.0), HTML(value='')))"
      ]
     },
     "metadata": {},
     "output_type": "display_data"
    },
    {
     "name": "stdout",
     "output_type": "stream",
     "text": [
      "\n"
     ]
    }
   ],
   "source": [
    "\n",
    "root_data_path = \"/project/SDS-capstones-kropko21/uva-astronomy/data/dust_coag_data_v1\"\n",
    "data_group = \"combined_v1\"\n",
    "\n",
    "# Store formatted data for training\n",
    "res = []\n",
    "\n",
    "chunk_size = 1000\n",
    "# Set this to a smaller number to get a smaller training set\n",
    "model_count = 10000\n",
    "writes = 0\n",
    "for d in notebook.tqdm(range(model_count)):\n",
    "    data_set = data_set = str(d).zfill(5)\n",
    "\n",
    "    data_dir = f\"{root_data_path}/{data_group}/data_{data_set}\"\n",
    "\n",
    "    input_params = None\n",
    "    # Open and extract the input parameters\n",
    "    with open(os.path.join(root_data_path, \"model_dict_v1.json\")) as f:\n",
    "        model_dict = json.load(f)\n",
    "        input_dict = model_dict[data_set]\n",
    "        input_params = [input_dict['R'], input_dict['Mstar'], input_dict['alpha'],input_dict['d2g'], input_dict['sigma'], input_dict['Tgas']]\n",
    "\n",
    "    try:\n",
    "        # `rho_dat`: The dust mass density (in g/cm^3) in each particle size/bin at a given snapshot in time. This is the main \"output\", i.e., the primary result, of any given model.\n",
    "        rhod = np.loadtxt(os.path.join(data_dir,\"rho_d.dat\"))\n",
    "        # Replace NaNs with 0s\n",
    "        rhod = np.nan_to_num(rhod)\n",
    "        # Replace negative values with 0s\n",
    "        rhod = np.where(rhod<0, 0, rhod) \n",
    "        \n",
    "        # `a_grid.dat`: The dust particle size in each \"bin\" in centimeters.\n",
    "        a_grid = np.loadtxt(os.path.join(data_dir, 'a_grid.dat'))\n",
    "\n",
    "        # `time.dat`: The time of each snapshot (in seconds).\n",
    "        time = np.loadtxt(os.path.join(data_dir, \"time.dat\"))\n",
    "    except Exception as e:\n",
    "        print(f'model {d} skipped')\n",
    "        import traceback\n",
    "        print(traceback.print_exc())\n",
    "        continue\n",
    "\n",
    "    snapshot_count = len(rhod)\n",
    "\n",
    "    # Set the number of samples\n",
    "    if snapshot_count > 15:\n",
    "        # Set the max to 100 for time as 15 cHr 2 is about 100\n",
    "        samples = 100\n",
    "    else:\n",
    "        # The number of pairs\n",
    "        samples = int(math.factorial(snapshot_count) / math.factorial(2) / math.factorial(snapshot_count-2))\n",
    "    \n",
    "    samples += 1\n",
    "    for i in range(samples):\n",
    "        row = process_sample(i, snapshot_count, rhod, time, bin_size=bin_size)\n",
    "        res.append(row)\n",
    "        \n",
    "    # Write to csv every x models to avoid oom\n",
    "    if d != 0 and d % chunk_size == (model_count - 1) % chunk_size:\n",
    "        writes += 1\n",
    "        # Only write the header on first chunk\n",
    "        header = writes == 1\n",
    "        write_to_file(res, header, bin_size=bin_size, batch=True)\n",
    "        res = []\n",
    "    \n",
    "# Write out the entire file at the end\n",
    "#write_to_file(res)"
   ]
  },
  {
   "cell_type": "code",
   "execution_count": 8,
   "metadata": {},
   "outputs": [
    {
     "data": {
      "text/plain": [
       "14.0    210912\n",
       "5.0     145724\n",
       "6.0      82791\n",
       "7.0      56221\n",
       "8.0      44341\n",
       "9.0      38729\n",
       "10.0     36739\n",
       "11.0     33821\n",
       "4.0      32690\n",
       "12.0     32674\n",
       "13.0     27738\n",
       "2.0      22063\n",
       "3.0      21256\n",
       "1.0       8095\n",
       "0.0       6544\n",
       "Name: y, dtype: int64"
      ]
     },
     "execution_count": 8,
     "metadata": {},
     "output_type": "execute_result"
    }
   ],
   "source": [
    "read_df = pd.read_csv(filename)\n",
    "read_df['y'].value_counts()"
   ]
  },
  {
   "cell_type": "markdown",
   "metadata": {},
   "source": [
    "Now we split the data into train and test and use the mord package for ordered logistic regression. We extracted the probabilities and scored the model fit with negagative mean absolute error."
   ]
  },
  {
   "cell_type": "code",
   "execution_count": 35,
   "metadata": {},
   "outputs": [
    {
     "name": "stdout",
     "output_type": "stream",
     "text": [
      "0.04526826098907964\n"
     ]
    }
   ],
   "source": [
    "#%pip install mord\n",
    "import mord\n",
    "from sklearn.model_selection import train_test_split\n",
    "from sklearn.linear_model import LogisticRegression\n",
    "\n",
    "def create_test_train(data_set_path, test_size=0.10):\n",
    "    \"\"\" Splits a given csv file into testing and training. Target column must be y \"\"\"\n",
    "    # Make sure the columns are set\n",
    "    data_set = pd.read_csv(data_set_path)\n",
    "\n",
    "    # Shuffle the data\n",
    "    data_set = data_set.sample(frac=1, random_state=0)\n",
    " \n",
    "    # Select all except y column and the output bins for the predictors\n",
    "    data_set_X = data_set.drop(['y'] + [f'Output_Bin_{i}' for i in range(bin_size)], axis=1)\n",
    "    \n",
    "    # Select just y column and output bins\n",
    "    data_set_Y = data_set[['y'] + [f'Output_Bin_{i}' for i in range(bin_size)]]\n",
    "\n",
    "    #Split into training and test data\n",
    "    return train_test_split(data_set_X,\n",
    "                            data_set_Y,\n",
    "                            test_size=test_size, \n",
    "                            random_state=300)\n",
    "\n",
    "\n",
    "X_train, X_test, y_train, y_test = create_test_train(filename)\n",
    "y_train = y_train.astype(int)\n",
    "\n",
    "logistic_model = mord.LogisticIT()\n",
    "#logistic_model = LogisticRegression(penalty=\"elasticnet\", solver='saga', multi_class='multinomial', l1_ratio=0.5)\n",
    "# Fit only on the y column\n",
    "logistic_model.fit(X_train, y_train['y'])\n",
    "\n",
    "# Obtain the probability distribution of the class\n",
    "probs = logistic_model.predict_proba(X_test)\n",
    "\n",
    "# Obtain the negative mean absolute error\n",
    "score = logistic_model.score(X_test, y_test['y'])\n",
    "print(score)"
   ]
  },
  {
   "cell_type": "code",
   "execution_count": 16,
   "metadata": {},
   "outputs": [
    {
     "data": {
      "text/plain": [
       "14.0    211155\n",
       "5.0     145464\n",
       "6.0      83189\n",
       "7.0      56260\n",
       "8.0      44278\n",
       "9.0      38514\n",
       "10.0     36641\n",
       "11.0     33810\n",
       "4.0      32672\n",
       "12.0     32648\n",
       "13.0     27744\n",
       "2.0      22071\n",
       "3.0      21279\n",
       "1.0       8049\n",
       "0.0       6564\n",
       "Name: y, dtype: int64"
      ]
     },
     "execution_count": 16,
     "metadata": {},
     "output_type": "execute_result"
    }
   ],
   "source": [
    "# Output the counts of our labels\n",
    "#pd.read_csv(\"dust_training_data_ordered_logit_bin_15_3.csv\")['y'].value_counts()"
   ]
  },
  {
   "cell_type": "markdown",
   "metadata": {},
   "source": [
    "We made a plot of an observation and the predicted probability distribution. We also calculated the entropy for each test observation and the predicted observation which is the Kullback-Leibler divergence.\n",
    "\n",
    "On the full models with a bin size of 15, entropy averaged around 2.4 which is not good."
   ]
  },
  {
   "cell_type": "code",
   "execution_count": 45,
   "metadata": {},
   "outputs": [
    {
     "data": {
      "image/png": "[encoded data removed]",
      "text/plain": [
       "<Figure size 432x288 with 1 Axes>"
      ]
     },
     "metadata": {
      "needs_background": "light"
     },
     "output_type": "display_data"
    },
    {
     "name": "stdout",
     "output_type": "stream",
     "text": [
      "                  0\n",
      "count  8.003400e+04\n",
      "mean            inf\n",
      "std             NaN\n",
      "min    6.357557e-02\n",
      "25%    1.773307e+00\n",
      "50%    4.453947e+00\n",
      "75%    7.470603e+01\n",
      "max             inf\n",
      "                  0\n",
      "count  8.003400e+04\n",
      "mean            inf\n",
      "std             NaN\n",
      "min    8.048889e-01\n",
      "25%    4.343492e+01\n",
      "50%    7.534243e+01\n",
      "75%    1.194651e+02\n",
      "max             inf\n"
     ]
    }
   ],
   "source": [
    "import scipy\n",
    "from scipy.stats import entropy, kstest\n",
    "\n",
    "# Select a test observation to graph\n",
    "test_obs = probs[5]\n",
    "cols = [f'Output_Bin_{i}' for i in range(bin_size)]\n",
    "\n",
    "# Get the true distribution\n",
    "y_obs = y_test.iloc[5][cols]\n",
    "\n",
    "# Plot the two together\n",
    "from matplotlib import pyplot as plt\n",
    "plt.plot(test_obs)\n",
    "plt.plot(y_obs)\n",
    "plt.show()\n",
    "\n",
    "#Uniform distribution\n",
    "uniform_probs = np.full(\n",
    "    shape=bin_size,\n",
    "    fill_value=1/bin_size,\n",
    "    dtype=np.float)\n",
    "\n",
    "uniform_probs = np.repeat([uniform_probs], len(y_test),0)\n",
    "\n",
    "def get_entropy_from_predictions(y_test, preds):\n",
    "    # Get entropy for all\n",
    "    entropys = []\n",
    "    for idx, prob in enumerate(preds):\n",
    "        output = y_test.iloc[idx][[f'Output_Bin_{i}' for i in range(bin_size)]]\n",
    "        # To compute the entropies, the length of the probability list and the bin list must be equal\n",
    "        # If your training data does not include all bins, you'll need to fill in 0s for the probability matrix\n",
    "        p = prob\n",
    "    \n",
    "        # Reshape the probabilities for missing ones\n",
    "        if prob.shape[0] !=output.shape[0]:\n",
    "            new_prob = np.zeros(bin_size)\n",
    "            for y in np.unique(y_test):\n",
    "                new_prob[y] = output[y]\n",
    "            p = new_prob\n",
    "        \n",
    "        ent = entropy(p, output.values)\n",
    "        entropys.append(ent)\n",
    "    return entropys\n",
    "\n",
    "\n",
    "df_entropy = pd.DataFrame(get_entropy_from_predictions(y_test, probs))\n",
    "print(df_entropy.describe())\n",
    "\n",
    "df_entropy_uniform = pd.DataFrame(get_entropy_from_predictions(y_test,uniform_probs))\n",
    "print(df_entropy_uniform.describe())"
   ]
  },
  {
   "cell_type": "code",
   "execution_count": 44,
   "metadata": {},
   "outputs": [
    {
     "name": "stdout",
     "output_type": "stream",
     "text": [
      "[-3.78959554e-23  5.94791322e-24  5.92617749e-26  1.79905699e-24\n",
      "  7.54390379e-21  3.98738836e-22  5.68177097e-26  1.03798282e-25\n",
      "  1.86072622e-25  2.62882045e-25  4.48680932e-25  6.47022621e-25\n",
      "  4.52827258e-25  3.43455297e-25  2.86832387e-25  2.57329069e-25\n",
      "  2.36530105e-25  2.03673983e-25  1.54993306e-25  2.29583684e-24\n",
      "  6.19530848e-13  2.59593687e-12]\n",
      "[[4.95786442e-01 2.31945438e-01 2.24074976e-01 ... 0.00000000e+00\n",
      "  0.00000000e+00 0.00000000e+00]\n",
      " [9.12072176e-03 1.52894155e-02 1.31623140e-01 ... 0.00000000e+00\n",
      "  0.00000000e+00 0.00000000e+00]\n",
      " [4.05503272e-01 2.44126842e-01 2.82343810e-01 ... 0.00000000e+00\n",
      "  0.00000000e+00 0.00000000e+00]\n",
      " ...\n",
      " [4.21600048e-01 2.42984352e-01 2.71479017e-01 ... 0.00000000e+00\n",
      "  0.00000000e+00 0.00000000e+00]\n",
      " [3.80684218e-01 2.44908397e-01 2.99480147e-01 ... 0.00000000e+00\n",
      "  0.00000000e+00 0.00000000e+00]\n",
      " [6.96938991e-22 1.19753760e-21 1.21039172e-20 ... 3.11434519e-08\n",
      "  1.91402449e-13 0.00000000e+00]]\n",
      "[0.06666667 0.06666667 0.06666667 0.06666667 0.06666667 0.06666667\n",
      " 0.06666667 0.06666667 0.06666667 0.06666667 0.06666667 0.06666667\n",
      " 0.06666667 0.06666667 0.06666667]\n"
     ]
    },
    {
     "data": {
      "text/plain": [
       "array([[0.06666667, 0.06666667, 0.06666667, 0.06666667, 0.06666667,\n",
       "        0.06666667, 0.06666667, 0.06666667, 0.06666667, 0.06666667,\n",
       "        0.06666667, 0.06666667, 0.06666667, 0.06666667, 0.06666667],\n",
       "       [0.06666667, 0.06666667, 0.06666667, 0.06666667, 0.06666667,\n",
       "        0.06666667, 0.06666667, 0.06666667, 0.06666667, 0.06666667,\n",
       "        0.06666667, 0.06666667, 0.06666667, 0.06666667, 0.06666667]])"
      ]
     },
     "execution_count": 44,
     "metadata": {},
     "output_type": "execute_result"
    }
   ],
   "source": [
    "# Display the model coefficients\n",
    "print(logistic_model.coef_)"
   ]
  },
  {
   "cell_type": "markdown",
   "metadata": {},
   "source": [
    "The weights for ordered logistic regression are [-3.62851363e-23  6.01253750e-24  5.99645927e-26  1.81367751e-24\n",
    "  7.60720374e-21  4.02295591e-22  1.20522032e-26  5.83738829e-26\n",
    "  1.06397716e-25  1.91096479e-25  2.70059363e-25  4.59112014e-25\n",
    "  6.51787801e-25  4.56346698e-25  3.46132030e-25  2.89165514e-25\n",
    "  2.58570675e-25  2.38370174e-25  2.06436920e-25  1.57797803e-25\n",
    "  2.31083822e-24  6.22381710e-13  2.56913296e-12]"
   ]
  },
  {
   "cell_type": "code",
   "execution_count": 46,
   "metadata": {},
   "outputs": [
    {
     "name": "stdout",
     "output_type": "stream",
     "text": [
      "                  0\n",
      "count  80034.000000\n",
      "mean      76.800328\n",
      "std      165.050971\n",
      "min        0.063576\n",
      "25%        1.773307\n",
      "50%        4.453947\n",
      "75%       74.706034\n",
      "max     1000.000000\n",
      "                  0\n",
      "count  80034.000000\n",
      "mean     100.239517\n",
      "std      145.616353\n",
      "min        0.804889\n",
      "25%       43.434919\n",
      "50%       75.342427\n",
      "75%      119.465119\n",
      "max     1000.000000\n"
     ]
    }
   ],
   "source": [
    "#Replace inf with large numbers\n",
    "df_entropy.replace(np.inf, 1000, inplace=True)\n",
    "df_entropy_uniform.replace(np.inf, 1000, inplace=True)\n",
    "\n",
    "#df_entropy = pd.DataFrame(entropys)\n",
    "print(df_entropy.describe())\n",
    "\n",
    "#df_entropy_uniform = pd.DataFrame(entropys_uniform)\n",
    "print(df_entropy_uniform.describe())"
   ]
  },
  {
   "cell_type": "markdown",
   "metadata": {},
   "source": [
    "Try multinomial regression"
   ]
  },
  {
   "cell_type": "code",
   "execution_count": 47,
   "metadata": {},
   "outputs": [
    {
     "name": "stderr",
     "output_type": "stream",
     "text": [
      "/home/keh4nb/.local/lib/python3.7/site-packages/mlxtend/classifier/softmax_regression.py:99: RuntimeWarning: divide by zero encountered in log\n",
      "  return - np.sum(np.log(output) * (y_target), axis=1)\n",
      "/home/keh4nb/.local/lib/python3.7/site-packages/mlxtend/classifier/softmax_regression.py:99: RuntimeWarning: invalid value encountered in multiply\n",
      "  return - np.sum(np.log(output) * (y_target), axis=1)\n",
      "Iteration: 100/100 | Cost nan | Elapsed: 0:03:19 | ETA: 0:00:00"
     ]
    },
    {
     "data": {
      "text/plain": [
       "<mlxtend.classifier.softmax_regression.SoftmaxRegression at 0x7f2e11080f10>"
      ]
     },
     "execution_count": 47,
     "metadata": {},
     "output_type": "execute_result"
    }
   ],
   "source": [
    "#%pip install mlxtend \n",
    "from mlxtend.classifier import SoftmaxRegression\n",
    "\n",
    "lr = SoftmaxRegression(eta=0.01, \n",
    "                       epochs=100, \n",
    "                       minibatches=len(y_train['y']),\n",
    "                       l2=0.5,\n",
    "                       random_seed=1,\n",
    "                       print_progress=3)\n",
    "lr.fit(X_train.to_numpy(), y_train['y'])"
   ]
  },
  {
   "cell_type": "code",
   "execution_count": 48,
   "metadata": {},
   "outputs": [
    {
     "data": {
      "image/png": "[encoded data removed]",
      "text/plain": [
       "<Figure size 432x288 with 1 Axes>"
      ]
     },
     "metadata": {
      "needs_background": "light"
     },
     "output_type": "display_data"
    },
    {
     "name": "stdout",
     "output_type": "stream",
     "text": [
      "                  0\n",
      "count  80034.000000\n",
      "mean      30.790867\n",
      "std       70.000785\n",
      "min        0.656108\n",
      "25%        2.192372\n",
      "50%        3.386435\n",
      "75%       17.665226\n",
      "max     1000.000000\n"
     ]
    }
   ],
   "source": [
    "# Extract probabilities and show entropy\n",
    "probs_softmax = lr.predict_proba(X_test.to_numpy())\n",
    "df_softmax_entropy = pd.DataFrame(get_entropy_from_predictions(y_test, probs_softmax))\n",
    "df_softmax_entropy.replace(np.inf, 1000, inplace=True)\n",
    "\n",
    "# Select a test observation to graph\n",
    "test_obs = probs_softmax[5]\n",
    "cols = [f'Output_Bin_{i}' for i in range(bin_size)]\n",
    "\n",
    "# Get the true distribution\n",
    "y_obs = y_test.iloc[5][cols]\n",
    "\n",
    "# Plot the two together\n",
    "from matplotlib import pyplot as plt\n",
    "plt.plot(test_obs)\n",
    "plt.plot(y_obs)\n",
    "plt.show()\n",
    "\n",
    "print(df_softmax_entropy.describe())"
   ]
  },
  {
   "cell_type": "code",
   "execution_count": 24,
   "metadata": {},
   "outputs": [
    {
     "name": "stdout",
     "output_type": "stream",
     "text": [
      "[[ 6.08904908e+06  1.14485879e+07  1.30131404e+07  2.30698210e+06\n",
      "   1.92461464e+07  9.54854276e+06  5.91970089e+06  4.75524500e+06\n",
      "   4.32508926e+05  2.22581473e+06  3.82435107e+05 -1.77385471e+06\n",
      "  -3.33267447e+06 -4.70521976e+06 -6.55564044e+07]\n",
      " [-3.46663333e+04  2.01759356e+03  1.31496264e+03  1.84022021e+04\n",
      "  -2.61891656e+04 -2.51945925e+05  1.83803656e+04  3.96241706e+04\n",
      "   6.21441742e+04  6.47968942e+04  5.18016685e+04  5.59780587e+04\n",
      "   5.44673324e+04  3.01472250e+04 -8.62732307e+04]\n",
      " [ 1.75076853e+03  2.97391611e+03  8.18642553e+03  8.13459174e+03\n",
      "   3.82106645e+03 -7.16364708e+03  7.43368793e+01  1.28231946e+03\n",
      "   1.21703763e+03  6.80512281e+01 -9.68771151e+02 -1.03334872e+03\n",
      "  -1.06455508e+03 -1.43796021e+03 -1.58402500e+04]\n",
      " [-8.99655691e+03  5.09132842e+03  4.38987855e+03 -7.41922427e+03\n",
      "  -9.55339205e+03 -1.28479857e+05 -1.98238710e+04 -3.71429300e+03\n",
      "   3.39286720e+03  1.54052907e+04  2.20603401e+04  1.54514562e+04\n",
      "   1.14908936e+04  9.60943633e+03  9.10957450e+04]\n",
      " [-4.37181845e+07 -2.36096742e+07 -6.75650290e+07 -5.30296251e+07\n",
      "  -1.17694997e+08 -6.11701090e+08 -2.21106843e+08 -1.08485264e+08\n",
      "  -4.28619064e+07 -1.57016586e+07 -2.21043229e+07  2.43478466e+06\n",
      "   9.54332065e+07 -3.90519164e+06  1.23361580e+09]\n",
      " [-2.49372126e+06 -1.23817462e+06 -3.35650455e+06 -2.10034452e+06\n",
      "  -5.66299731e+06 -2.79453955e+07 -6.49355918e+06 -1.95979478e+06\n",
      "   8.93199610e+05  1.52248999e+06  1.26467480e+06  2.63129753e+06\n",
      "   4.30479706e+06  2.16517527e+06  3.84688575e+07]\n",
      " [ 4.88846644e+03  1.14554449e+04  2.03253101e+04  1.16817412e+04\n",
      "   1.20269282e+04 -8.61482623e+03 -2.03908127e+03 -1.11320918e+03\n",
      "  -1.34420601e+03 -1.69853567e+03 -2.55383457e+03 -2.45308302e+03\n",
      "  -2.50191872e+03 -3.06793671e+03 -3.49912462e+04]\n",
      " [ 3.18014022e+03  1.10073782e+04  1.99495322e+04  1.15025959e+04\n",
      "   1.08618849e+04 -2.23933992e+03  8.49382265e+02  1.83695589e+03\n",
      "   1.23852748e+03  7.61777995e+01 -1.65045398e+03 -2.18326429e+03\n",
      "  -2.77371639e+03 -3.81973842e+03 -4.78360861e+04]\n",
      " [ 6.61650093e+02  6.38995117e+03  2.43447676e+04  1.63404511e+04\n",
      "   1.27917426e+04  6.69351705e+03  2.08913653e+03  1.46842619e+03\n",
      "   1.79154925e+03  1.16346776e+03 -5.69741137e+02 -1.12299368e+03\n",
      "  -2.32886156e+03 -4.29528075e+03 -6.54177545e+04]\n",
      " [-2.35814092e+03 -2.37127470e+03  5.07431860e+03  2.25801022e+04\n",
      "   1.48499682e+04  3.02901624e+04  1.15800917e+04  3.86681481e+03\n",
      "   2.48650604e+03  1.21524071e+03 -7.52492981e+02 -7.60504419e+02\n",
      "  -1.57617278e+03 -3.97654409e+03 -8.01480426e+04]\n",
      " [-3.32609265e+03 -2.87295315e+03 -7.94295647e+03  3.90088790e+03\n",
      "   2.20347907e+04  5.53574188e+04  2.76681999e+04  9.84128333e+03\n",
      "   5.83862145e+03  2.99650780e+03 -6.88145455e+02 -1.33620743e+03\n",
      "  -2.22949779e+03 -4.89067802e+03 -1.04351195e+05]\n",
      " [-4.99928685e+03 -4.02102953e+03 -1.12820898e+04 -8.97958146e+03\n",
      "  -1.24334043e+04  9.49214295e+04  5.29794864e+04  1.93525903e+04\n",
      "   1.41116995e+04  9.34729929e+03  2.59719569e+03  5.60725106e+02\n",
      "  -1.55266383e+03 -5.84270664e+03 -1.44759613e+05]\n",
      " [-5.64992521e+03 -3.00240810e+03 -8.58375524e+03 -6.70792718e+03\n",
      "  -1.46161740e+04 -5.52335852e+04  5.86699674e+04  3.20910908e+04\n",
      "   2.04375882e+04  1.66559080e+04  1.13592682e+04  8.53396604e+03\n",
      "   5.57456612e+03  1.33713123e+03 -6.08656478e+04]\n",
      " [-3.31105795e+03 -1.78162606e+03 -5.03136972e+03 -3.95795528e+03\n",
      "  -8.88664472e+03 -4.59057236e+04 -7.98556288e+03  4.15650527e+04\n",
      "   2.01483986e+04  1.20019254e+04  9.64986707e+03  8.68438096e+03\n",
      "   6.93707607e+03  3.36377856e+03 -2.54905565e+04]\n",
      " [-2.37771242e+03 -1.29415697e+03 -3.60683848e+03 -2.84819537e+03\n",
      "  -6.36709492e+03 -3.25408396e+04 -1.23378876e+04 -6.14396036e+02\n",
      "   3.53120429e+04  1.63344609e+04  8.86413112e+03  6.90647671e+03\n",
      "   6.46555856e+03  4.14624639e+03 -1.60417673e+04]\n",
      " [-1.95067380e+03 -1.07172164e+03 -2.95706617e+03 -2.33969383e+03\n",
      "  -5.21912887e+03 -2.63347203e+04 -1.00109562e+04 -5.97429300e+03\n",
      "   2.12046905e+03  3.25539517e+04  1.62361489e+04  8.55587070e+03\n",
      "   5.73974969e+03  3.45489873e+03 -1.28028385e+04]\n",
      " [-1.72890903e+03 -9.54619523e+02 -2.61910056e+03 -2.07458956e+03\n",
      "  -4.62421998e+03 -2.31781615e+04 -8.77146932e+03 -5.29432629e+03\n",
      "  -3.32798989e+03  3.06377746e+03  3.26758704e+04  1.61284712e+04\n",
      "   8.89017995e+03  4.12153414e+03 -1.23064753e+04]\n",
      " [-1.56612072e+03 -8.64685257e+02 -2.36217030e+03 -1.87272437e+03\n",
      "  -4.17296914e+03 -2.08736795e+04 -7.88350685e+03 -4.76827805e+03\n",
      "  -3.01944652e+03 -2.30669280e+03  4.01128465e+03  3.16889679e+04\n",
      "   1.64318498e+04  8.22118019e+03 -1.06629907e+04]\n",
      " [-1.34797646e+03 -7.44474074e+02 -2.03176521e+03 -1.60948665e+03\n",
      "  -3.58984303e+03 -1.79503407e+04 -6.77398896e+03 -4.09512587e+03\n",
      "  -2.59421752e+03 -1.98704014e+03 -2.02670519e+03  4.23973805e+03\n",
      "   3.19405435e+04  1.50277036e+04 -6.45699068e+03]\n",
      " [-1.00874606e+03 -5.49240118e+02 -1.51452179e+03 -1.19457705e+03\n",
      "  -2.68385874e+03 -1.35846865e+04 -5.15447025e+03 -3.11437060e+03\n",
      "  -1.97846147e+03 -1.52740613e+03 -1.56500219e+03 -1.29907186e+03\n",
      "   4.65971901e+03  2.93451955e+04  1.16949206e+03]\n",
      " [-1.37719267e+04 -7.30698903e+03 -2.04472976e+04 -1.60187961e+04\n",
      "  -3.61612068e+04 -1.92752534e+05 -7.44989660e+04 -4.54239956e+04\n",
      "  -2.90768678e+04 -2.30921619e+04 -2.37857338e+04 -2.01654183e+04\n",
      "  -1.92090721e+04 -1.29775278e+04  5.34688541e+05]\n",
      " [-9.60919909e+15 -1.98895305e+15  2.62765037e+15  3.36051715e+15\n",
      "   1.95455723e+15  8.60538883e+15  5.46297226e+15 -2.76026199e+15\n",
      "  -1.93286108e+15  3.93890537e+15  7.60801756e+14  2.55382655e+15\n",
      "  -1.00590877e+16  1.62266773e+15 -4.53692435e+15]\n",
      " [-6.53392004e+15  7.86432757e+15 -3.73745704e+15  1.16029482e+15\n",
      "   5.24930166e+15 -3.90652169e+15  5.34537105e+15  1.12086177e+16\n",
      "  -1.50363087e+16  1.03593078e+16  7.19067524e+15  3.78628396e+15\n",
      "  -2.76678388e+16  6.31541304e+14  4.08632521e+15]]\n"
     ]
    }
   ],
   "source": [
    "print(lr.w_)"
   ]
  },
  {
   "cell_type": "code",
   "execution_count": null,
   "metadata": {},
   "outputs": [],
   "source": []
  }
 ],
 "metadata": {
  "kernelspec": {
   "display_name": "Python 3",
   "language": "python",
   "name": "python3"
  },
  "language_info": {
   "codemirror_mode": {
    "name": "ipython",
    "version": 3
   },
   "file_extension": ".py",
   "mimetype": "text/x-python",
   "name": "python",
   "nbconvert_exporter": "python",
   "pygments_lexer": "ipython3",
   "version": "3.7.4"
  }
 },
 "nbformat": 4,
 "nbformat_minor": 4
}
