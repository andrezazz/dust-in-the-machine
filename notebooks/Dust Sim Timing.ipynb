{
 "cells": [
  {
   "cell_type": "code",
   "execution_count": 2,
   "metadata": {},
   "outputs": [],
   "source": [
    "import numpy as np\n",
    "timing = np.load(\"/project/SDS-capstones-kropko21/dust_models/dust_coag_v2/time_spent.npy\")"
   ]
  },
  {
   "cell_type": "code",
   "execution_count": 6,
   "metadata": {},
   "outputs": [
    {
     "name": "stdout",
     "output_type": "stream",
     "text": [
      "Mean: 42.14093772490089\n",
      "Median:0.6581560369999999\n",
      "Min:0.20377299169000002\n",
      "Max:60627.880535002005\n"
     ]
    }
   ],
   "source": [
    "timing_clean = timing[timing > 0]\n",
    "print(f\"Mean: {np.mean(timing_clean)}\")\n",
    "print(f\"Median:{np.median(timing_clean)}\")\n",
    "print(f\"Min:{np.min(timing_clean)}\")\n",
    "print(f\"Max:{np.max(timing_clean)}\")"
   ]
  },
  {
   "cell_type": "code",
   "execution_count": null,
   "metadata": {},
   "outputs": [],
   "source": []
  }
 ],
 "metadata": {
  "kernelspec": {
   "display_name": "Python 3",
   "language": "python",
   "name": "python3"
  },
  "language_info": {
   "codemirror_mode": {
    "name": "ipython",
    "version": 3
   },
   "file_extension": ".py",
   "mimetype": "text/x-python",
   "name": "python",
   "nbconvert_exporter": "python",
   "pygments_lexer": "ipython3",
   "version": "3.7.4"
  }
 },
 "nbformat": 4,
 "nbformat_minor": 4
}
