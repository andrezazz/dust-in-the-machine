{
 "cells": [
  {
   "cell_type": "code",
   "execution_count": 1,
   "metadata": {},
   "outputs": [],
   "source": [
    "import tensorflow as tf\n",
    "import numpy as np\n",
    "import mdn\n",
    "import matplotlib.pyplot as plt\n",
    "from sklearn.model_selection import train_test_split\n",
    "import pandas as pd\n",
    "from timeit import default_timer as timer\n",
    "import xgboost as xgb\n",
    "\n",
    "bin_count = 151"
   ]
  },
  {
   "cell_type": "code",
   "execution_count": 2,
   "metadata": {},
   "outputs": [],
   "source": [
    "def find_first_zero(row):\n",
    "    \"\"\" Given a row, starts at the end and looks for the first value that is above a threshold (1e-5)\"\"\"\n",
    "    vals = list(row) \n",
    "  \n",
    "    last_zero_index = -1\n",
    "    for idx, val in enumerate(reversed(vals)): \n",
    "        if val > 1e-5:\n",
    "            last_zero_index = bin_count - idx\n",
    "            break\n",
    "    return last_zero_index"
   ]
  },
  {
   "cell_type": "code",
   "execution_count": 3,
   "metadata": {},
   "outputs": [
    {
     "data": {
      "text/html": [
       "<div>\n",
       "<style scoped>\n",
       "    .dataframe tbody tr th:only-of-type {\n",
       "        vertical-align: middle;\n",
       "    }\n",
       "\n",
       "    .dataframe tbody tr th {\n",
       "        vertical-align: top;\n",
       "    }\n",
       "\n",
       "    .dataframe thead th {\n",
       "        text-align: right;\n",
       "    }\n",
       "</style>\n",
       "<table border=\"1\" class=\"dataframe\">\n",
       "  <thead>\n",
       "    <tr style=\"text-align: right;\">\n",
       "      <th></th>\n",
       "      <th>Output_Bin_0</th>\n",
       "      <th>Output_Bin_1</th>\n",
       "      <th>Output_Bin_2</th>\n",
       "      <th>Output_Bin_3</th>\n",
       "      <th>Output_Bin_4</th>\n",
       "      <th>Output_Bin_5</th>\n",
       "      <th>Output_Bin_6</th>\n",
       "      <th>Output_Bin_7</th>\n",
       "      <th>Output_Bin_8</th>\n",
       "      <th>Output_Bin_9</th>\n",
       "      <th>...</th>\n",
       "      <th>Output_Bin_146</th>\n",
       "      <th>Output_Bin_147</th>\n",
       "      <th>Output_Bin_148</th>\n",
       "      <th>Output_Bin_149</th>\n",
       "      <th>Output_Bin_150</th>\n",
       "      <th>Output_Is_End</th>\n",
       "      <th>Output_First_Zero</th>\n",
       "      <th>Output_genextremec_c</th>\n",
       "      <th>Output_genextreme_loc</th>\n",
       "      <th>Output_genextreme_scale</th>\n",
       "    </tr>\n",
       "  </thead>\n",
       "  <tbody>\n",
       "    <tr>\n",
       "      <th>count</th>\n",
       "      <td>35919.000000</td>\n",
       "      <td>35919.000000</td>\n",
       "      <td>35919.000000</td>\n",
       "      <td>35919.000000</td>\n",
       "      <td>35919.000000</td>\n",
       "      <td>35919.000000</td>\n",
       "      <td>35919.000000</td>\n",
       "      <td>35919.000000</td>\n",
       "      <td>35919.000000</td>\n",
       "      <td>35919.000000</td>\n",
       "      <td>...</td>\n",
       "      <td>3.591900e+04</td>\n",
       "      <td>35919.000000</td>\n",
       "      <td>35919.000000</td>\n",
       "      <td>35919.000000</td>\n",
       "      <td>35919.000000</td>\n",
       "      <td>35919.000000</td>\n",
       "      <td>35919.000000</td>\n",
       "      <td>35919.000000</td>\n",
       "      <td>35919.000000</td>\n",
       "      <td>3.591900e+04</td>\n",
       "    </tr>\n",
       "    <tr>\n",
       "      <th>mean</th>\n",
       "      <td>0.000293</td>\n",
       "      <td>0.000278</td>\n",
       "      <td>0.000279</td>\n",
       "      <td>0.000332</td>\n",
       "      <td>0.000373</td>\n",
       "      <td>0.000413</td>\n",
       "      <td>0.000460</td>\n",
       "      <td>0.000518</td>\n",
       "      <td>0.000573</td>\n",
       "      <td>0.000631</td>\n",
       "      <td>...</td>\n",
       "      <td>1.001080e-03</td>\n",
       "      <td>0.002715</td>\n",
       "      <td>0.007736</td>\n",
       "      <td>0.024396</td>\n",
       "      <td>0.477105</td>\n",
       "      <td>0.499485</td>\n",
       "      <td>130.590495</td>\n",
       "      <td>0.954137</td>\n",
       "      <td>120.748412</td>\n",
       "      <td>5.833952e+00</td>\n",
       "    </tr>\n",
       "    <tr>\n",
       "      <th>std</th>\n",
       "      <td>0.000856</td>\n",
       "      <td>0.000780</td>\n",
       "      <td>0.000764</td>\n",
       "      <td>0.000902</td>\n",
       "      <td>0.000997</td>\n",
       "      <td>0.001090</td>\n",
       "      <td>0.001202</td>\n",
       "      <td>0.001333</td>\n",
       "      <td>0.001448</td>\n",
       "      <td>0.001568</td>\n",
       "      <td>...</td>\n",
       "      <td>4.768807e-03</td>\n",
       "      <td>0.006196</td>\n",
       "      <td>0.013168</td>\n",
       "      <td>0.039106</td>\n",
       "      <td>0.462729</td>\n",
       "      <td>0.500007</td>\n",
       "      <td>27.417063</td>\n",
       "      <td>0.912004</td>\n",
       "      <td>35.812616</td>\n",
       "      <td>7.409617e+00</td>\n",
       "    </tr>\n",
       "    <tr>\n",
       "      <th>min</th>\n",
       "      <td>0.000000</td>\n",
       "      <td>0.000000</td>\n",
       "      <td>0.000000</td>\n",
       "      <td>0.000000</td>\n",
       "      <td>0.000000</td>\n",
       "      <td>0.000000</td>\n",
       "      <td>0.000000</td>\n",
       "      <td>0.000000</td>\n",
       "      <td>0.000000</td>\n",
       "      <td>0.000000</td>\n",
       "      <td>...</td>\n",
       "      <td>0.000000e+00</td>\n",
       "      <td>0.000000</td>\n",
       "      <td>0.000000</td>\n",
       "      <td>0.000000</td>\n",
       "      <td>0.000000</td>\n",
       "      <td>0.000000</td>\n",
       "      <td>60.000000</td>\n",
       "      <td>-0.804153</td>\n",
       "      <td>41.664170</td>\n",
       "      <td>1.196273e-21</td>\n",
       "    </tr>\n",
       "    <tr>\n",
       "      <th>25%</th>\n",
       "      <td>0.000000</td>\n",
       "      <td>0.000000</td>\n",
       "      <td>0.000000</td>\n",
       "      <td>0.000000</td>\n",
       "      <td>0.000000</td>\n",
       "      <td>0.000000</td>\n",
       "      <td>0.000000</td>\n",
       "      <td>0.000000</td>\n",
       "      <td>0.000000</td>\n",
       "      <td>0.000000</td>\n",
       "      <td>...</td>\n",
       "      <td>0.000000e+00</td>\n",
       "      <td>0.000000</td>\n",
       "      <td>0.000000</td>\n",
       "      <td>0.000000</td>\n",
       "      <td>0.000000</td>\n",
       "      <td>0.000000</td>\n",
       "      <td>109.000000</td>\n",
       "      <td>0.736798</td>\n",
       "      <td>90.364093</td>\n",
       "      <td>3.995534e-02</td>\n",
       "    </tr>\n",
       "    <tr>\n",
       "      <th>50%</th>\n",
       "      <td>0.000000</td>\n",
       "      <td>0.000000</td>\n",
       "      <td>0.000000</td>\n",
       "      <td>0.000000</td>\n",
       "      <td>0.000000</td>\n",
       "      <td>0.000000</td>\n",
       "      <td>0.000000</td>\n",
       "      <td>0.000000</td>\n",
       "      <td>0.000000</td>\n",
       "      <td>0.000000</td>\n",
       "      <td>...</td>\n",
       "      <td>2.678453e-18</td>\n",
       "      <td>0.000004</td>\n",
       "      <td>0.000009</td>\n",
       "      <td>0.000011</td>\n",
       "      <td>0.748803</td>\n",
       "      <td>0.000000</td>\n",
       "      <td>151.000000</td>\n",
       "      <td>1.020021</td>\n",
       "      <td>149.700467</td>\n",
       "      <td>4.045799e-01</td>\n",
       "    </tr>\n",
       "    <tr>\n",
       "      <th>75%</th>\n",
       "      <td>0.000097</td>\n",
       "      <td>0.000109</td>\n",
       "      <td>0.000121</td>\n",
       "      <td>0.000155</td>\n",
       "      <td>0.000181</td>\n",
       "      <td>0.000201</td>\n",
       "      <td>0.000223</td>\n",
       "      <td>0.000261</td>\n",
       "      <td>0.000302</td>\n",
       "      <td>0.000346</td>\n",
       "      <td>...</td>\n",
       "      <td>8.029774e-06</td>\n",
       "      <td>0.003671</td>\n",
       "      <td>0.012286</td>\n",
       "      <td>0.040380</td>\n",
       "      <td>0.941136</td>\n",
       "      <td>1.000000</td>\n",
       "      <td>151.000000</td>\n",
       "      <td>1.389495</td>\n",
       "      <td>149.969704</td>\n",
       "      <td>8.832335e+00</td>\n",
       "    </tr>\n",
       "    <tr>\n",
       "      <th>max</th>\n",
       "      <td>0.005742</td>\n",
       "      <td>0.004991</td>\n",
       "      <td>0.004757</td>\n",
       "      <td>0.005687</td>\n",
       "      <td>0.006199</td>\n",
       "      <td>0.006685</td>\n",
       "      <td>0.007276</td>\n",
       "      <td>0.007943</td>\n",
       "      <td>0.008431</td>\n",
       "      <td>0.008918</td>\n",
       "      <td>...</td>\n",
       "      <td>7.621570e-02</td>\n",
       "      <td>0.092835</td>\n",
       "      <td>0.126863</td>\n",
       "      <td>0.173059</td>\n",
       "      <td>1.000000</td>\n",
       "      <td>1.000000</td>\n",
       "      <td>151.000000</td>\n",
       "      <td>3.986359</td>\n",
       "      <td>150.000000</td>\n",
       "      <td>4.667685e+01</td>\n",
       "    </tr>\n",
       "  </tbody>\n",
       "</table>\n",
       "<p>8 rows × 156 columns</p>\n",
       "</div>"
      ],
      "text/plain": [
       "       Output_Bin_0  Output_Bin_1  Output_Bin_2  Output_Bin_3  Output_Bin_4  \\\n",
       "count  35919.000000  35919.000000  35919.000000  35919.000000  35919.000000   \n",
       "mean       0.000293      0.000278      0.000279      0.000332      0.000373   \n",
       "std        0.000856      0.000780      0.000764      0.000902      0.000997   \n",
       "min        0.000000      0.000000      0.000000      0.000000      0.000000   \n",
       "25%        0.000000      0.000000      0.000000      0.000000      0.000000   \n",
       "50%        0.000000      0.000000      0.000000      0.000000      0.000000   \n",
       "75%        0.000097      0.000109      0.000121      0.000155      0.000181   \n",
       "max        0.005742      0.004991      0.004757      0.005687      0.006199   \n",
       "\n",
       "       Output_Bin_5  Output_Bin_6  Output_Bin_7  Output_Bin_8  Output_Bin_9  \\\n",
       "count  35919.000000  35919.000000  35919.000000  35919.000000  35919.000000   \n",
       "mean       0.000413      0.000460      0.000518      0.000573      0.000631   \n",
       "std        0.001090      0.001202      0.001333      0.001448      0.001568   \n",
       "min        0.000000      0.000000      0.000000      0.000000      0.000000   \n",
       "25%        0.000000      0.000000      0.000000      0.000000      0.000000   \n",
       "50%        0.000000      0.000000      0.000000      0.000000      0.000000   \n",
       "75%        0.000201      0.000223      0.000261      0.000302      0.000346   \n",
       "max        0.006685      0.007276      0.007943      0.008431      0.008918   \n",
       "\n",
       "       ...  Output_Bin_146  Output_Bin_147  Output_Bin_148  Output_Bin_149  \\\n",
       "count  ...    3.591900e+04    35919.000000    35919.000000    35919.000000   \n",
       "mean   ...    1.001080e-03        0.002715        0.007736        0.024396   \n",
       "std    ...    4.768807e-03        0.006196        0.013168        0.039106   \n",
       "min    ...    0.000000e+00        0.000000        0.000000        0.000000   \n",
       "25%    ...    0.000000e+00        0.000000        0.000000        0.000000   \n",
       "50%    ...    2.678453e-18        0.000004        0.000009        0.000011   \n",
       "75%    ...    8.029774e-06        0.003671        0.012286        0.040380   \n",
       "max    ...    7.621570e-02        0.092835        0.126863        0.173059   \n",
       "\n",
       "       Output_Bin_150  Output_Is_End  Output_First_Zero  Output_genextremec_c  \\\n",
       "count    35919.000000   35919.000000       35919.000000          35919.000000   \n",
       "mean         0.477105       0.499485         130.590495              0.954137   \n",
       "std          0.462729       0.500007          27.417063              0.912004   \n",
       "min          0.000000       0.000000          60.000000             -0.804153   \n",
       "25%          0.000000       0.000000         109.000000              0.736798   \n",
       "50%          0.748803       0.000000         151.000000              1.020021   \n",
       "75%          0.941136       1.000000         151.000000              1.389495   \n",
       "max          1.000000       1.000000         151.000000              3.986359   \n",
       "\n",
       "       Output_genextreme_loc  Output_genextreme_scale  \n",
       "count           35919.000000             3.591900e+04  \n",
       "mean              120.748412             5.833952e+00  \n",
       "std                35.812616             7.409617e+00  \n",
       "min                41.664170             1.196273e-21  \n",
       "25%                90.364093             3.995534e-02  \n",
       "50%               149.700467             4.045799e-01  \n",
       "75%               149.969704             8.832335e+00  \n",
       "max               150.000000             4.667685e+01  \n",
       "\n",
       "[8 rows x 156 columns]"
      ]
     },
     "metadata": {},
     "output_type": "display_data"
    }
   ],
   "source": [
    "\n",
    "\n",
    "def create_test_train(data_set_path, test_size=0.10):\n",
    "    \"\"\" Splits a given csv file into testing and training. Target column is all the bins. Add a c \"\"\"\n",
    "    # Make sure the columns are set\n",
    "    data_set = pd.read_csv(data_set_path)\n",
    "\n",
    "    # Add column for classifying whether the output has most of the data in the last 10 bins.\n",
    "    end_average = data_set[[f'Output_Bin_{i}' for i in range(bin_count-10, bin_count)]].sum(axis=1) > 0.9\n",
    "\n",
    "    data_set['Output_Is_End'] = end_average\n",
    "    data_set['Output_Is_End'] = data_set['Output_Is_End'].astype(int)\n",
    "    #data_set['Output_Is_Not_End'] = ~data_set['Output_Is_End']\n",
    "    \n",
    "    \n",
    "\n",
    "    data_set['Output_First_Zero'] = data_set[[f'Output_Bin_{i}' for i in range(bin_count)]].apply(find_first_zero, axis=1)\n",
    "\n",
    "    # Shuffle the data\n",
    "    data_set = data_set.sample(frac=1, random_state=0)\n",
    " \n",
    "    # Select all except output bins\n",
    "    data_set_X = data_set.drop([f'Output_Bin_{i}' for i in range(bin_count)] + ['Output_Is_End', 'Output_First_Zero', 'Output_genextremec_c', 'Output_genextreme_loc', 'Output_genextreme_scale'], axis=1)\n",
    "    # Select only the output bins\n",
    "    data_set_Y = data_set[[f'Output_Bin_{i}' for i in range(bin_count)]+ ['Output_Is_End', 'Output_First_Zero', 'Output_genextremec_c', 'Output_genextreme_loc', 'Output_genextreme_scale']]\n",
    "\n",
    "    #Split into training and test data\n",
    "    return train_test_split(data_set_X,\n",
    "                            data_set_Y,\n",
    "                            test_size=test_size, \n",
    "                            random_state=300)\n",
    "\n",
    "#filename = \"/scratch/keh4nb/dust_training_data_all_bins_large.csv\"\n",
    "#filename= \"/project/SDS-capstones-kropko21/uva-astronomy/dust_training_data_all_bins.csv\"\n",
    "filename = \"/scratch/keh4nb/dust_training_data_all_bins_genextreme_full.csv\"\n",
    "X_train, X_test, y_train, y_test = create_test_train(filename, test_size=0.10)\n",
    "display(y_test.describe())"
   ]
  },
  {
   "cell_type": "markdown",
   "metadata": {},
   "source": [
    "Test out what distributions could fit the output bins"
   ]
  },
  {
   "cell_type": "code",
   "execution_count": null,
   "metadata": {},
   "outputs": [],
   "source": [
    "#!pip install statsmodels\n",
    "from distfit import distfit\n",
    "from tqdm import tqdm\n",
    "#st.norm, st.expon, st.pareto, st.dweibull, st.t, st.genextreme, st.gamma, st.lognorm, st.beta\n",
    "dist = distfit(distr=['norm', 'lognorm', 'gamma', 'laplace','dweibull', 'genlogistic', 'beta', 'genextreme', 'exponnorm'])\n",
    "output_is_not_end_idx = y_train.Output_Is_End.index[y_train['Output_Is_End'] == 0]\n",
    "# Scale our data to our bins\n",
    "model_names = {}\n",
    "print(len(y_train))\n",
    "#Randomnly pick 5000 indexes\n",
    "#johnsonb?\n",
    "for idx, data in tqdm(y_train.loc[output_is_not_end_idx].drop(['Output_Is_End', 'Output_First_Zero'], axis=1).sample(2500, axis=0).iterrows()):\n",
    "    t = np.floor(np.multiply(data.values,bin_count))\n",
    "    new_samp = []\n",
    "    for idx, e in enumerate(t):\n",
    "        if e:\n",
    "            # To generate our samples add the bin number e number of times\n",
    "            new_samp.extend([idx for _  in range(int(e))])\n",
    "    # Fit the distribution to our data\n",
    "    if len(new_samp) == 0:\n",
    "        print('no samps')\n",
    "        continue\n",
    "    else:\n",
    "        dist.fit_transform(np.array(new_samp), verbose=1)\n",
    "        best_model = dist.model['name']\n",
    "        #print(dist.model['params'])\n",
    "        try:\n",
    "            model_names[best_model] += 1\n",
    "        except KeyError:\n",
    "            model_names[best_model] = 1\n",
    "print(model_names)"
   ]
  },
  {
   "cell_type": "markdown",
   "metadata": {},
   "source": [
    "Try xgboost for predicting whether all the particles are at the end of the distribution. Ended up getting over 99% test accuracy."
   ]
  },
  {
   "cell_type": "code",
   "execution_count": null,
   "metadata": {},
   "outputs": [],
   "source": [
    "#%pip install xgboost\n",
    "import xgboost as xgb\n",
    "\n",
    "xgb_model = xgb.XGBClassifier(objective=\"binary:logistic\", \n",
    "                              random_state=42)\n",
    "xgb_model.fit(X_train, y_train['Output_Is_End'],\n",
    "             eval_set=[(X_train, y_train['Output_Is_End']), (X_test, y_test['Output_Is_End'])],\n",
    "             eval_metric='error',verbose=True)\n",
    "\n",
    "evals_result = xgb_model.evals_result()"
   ]
  },
  {
   "cell_type": "code",
   "execution_count": 4,
   "metadata": {},
   "outputs": [
    {
     "name": "stdout",
     "output_type": "stream",
     "text": [
      "Accuracy: 0.99867637326274\n"
     ]
    }
   ],
   "source": [
    "preds = xgb_model.predict(X_test)\n",
    "\n",
    "# Count the number of matches between predictions and labels\n",
    "correct = np.sum(preds == y_test['Output_Is_End'])\n",
    "\n",
    "# Calculate accuracy\n",
    "accuracy = correct / len(y_test)\n",
    "print(f\"Accuracy: {accuracy}\")\n",
    "\n",
    "#xgb_model.save_model('xgb_model_is_end.model')"
   ]
  },
  {
   "cell_type": "markdown",
   "metadata": {},
   "source": [
    "Train a linear regression model for predicting when first zero occurs on models where the dust is not all stacked at the end."
   ]
  },
  {
   "cell_type": "code",
   "execution_count": 11,
   "metadata": {},
   "outputs": [
    {
     "name": "stdout",
     "output_type": "stream",
     "text": [
      "[12:35:10] WARNING: ../src/learner.cc:516: \n",
      "Parameters: { sub_sample } might not be used.\n",
      "\n",
      "  This may not be accurate due to some parameters are only used in language bindings but\n",
      "  passed down to XGBoost core.  Or some parameters are not used but slip through this\n",
      "  verification. Please open an issue if you find above cases.\n",
      "\n",
      "\n",
      "[0]\tvalidation_0-rmse:101.52958\n",
      "Will train until validation_0-rmse hasn't improved in 10 rounds.\n",
      "[1]\tvalidation_0-rmse:91.49923\n",
      "[2]\tvalidation_0-rmse:82.42421\n",
      "[3]\tvalidation_0-rmse:74.25105\n",
      "[4]\tvalidation_0-rmse:66.90297\n",
      "[5]\tvalidation_0-rmse:60.32177\n",
      "[6]\tvalidation_0-rmse:54.36878\n",
      "[7]\tvalidation_0-rmse:49.01428\n",
      "[8]\tvalidation_0-rmse:44.21986\n",
      "[9]\tvalidation_0-rmse:39.87517\n",
      "[10]\tvalidation_0-rmse:36.01613\n",
      "[11]\tvalidation_0-rmse:32.55453\n",
      "[12]\tvalidation_0-rmse:29.39978\n",
      "[13]\tvalidation_0-rmse:26.55298\n",
      "[14]\tvalidation_0-rmse:23.98707\n",
      "[15]\tvalidation_0-rmse:21.68573\n",
      "[16]\tvalidation_0-rmse:19.66999\n",
      "[17]\tvalidation_0-rmse:17.81642\n",
      "[18]\tvalidation_0-rmse:16.13735\n",
      "[19]\tvalidation_0-rmse:14.68984\n",
      "[20]\tvalidation_0-rmse:13.32700\n",
      "[21]\tvalidation_0-rmse:12.17532\n",
      "[22]\tvalidation_0-rmse:11.08741\n",
      "[23]\tvalidation_0-rmse:10.09816\n",
      "[24]\tvalidation_0-rmse:9.21322\n",
      "[25]\tvalidation_0-rmse:8.42593\n",
      "[26]\tvalidation_0-rmse:7.71517\n",
      "[27]\tvalidation_0-rmse:7.14176\n",
      "[28]\tvalidation_0-rmse:6.57998\n",
      "[29]\tvalidation_0-rmse:6.06977\n",
      "[30]\tvalidation_0-rmse:5.61532\n",
      "[31]\tvalidation_0-rmse:5.21222\n",
      "[32]\tvalidation_0-rmse:4.83675\n",
      "[33]\tvalidation_0-rmse:4.52435\n",
      "[34]\tvalidation_0-rmse:4.23898\n",
      "[35]\tvalidation_0-rmse:4.00398\n",
      "[36]\tvalidation_0-rmse:3.80568\n",
      "[37]\tvalidation_0-rmse:3.65670\n",
      "[38]\tvalidation_0-rmse:3.46968\n",
      "[39]\tvalidation_0-rmse:3.34745\n",
      "[40]\tvalidation_0-rmse:3.24305\n",
      "[41]\tvalidation_0-rmse:3.09324\n",
      "[42]\tvalidation_0-rmse:2.96940\n",
      "[43]\tvalidation_0-rmse:2.85554\n",
      "[44]\tvalidation_0-rmse:2.80190\n",
      "[45]\tvalidation_0-rmse:2.70274\n",
      "[46]\tvalidation_0-rmse:2.61648\n",
      "[47]\tvalidation_0-rmse:2.53933\n",
      "[48]\tvalidation_0-rmse:2.47513\n",
      "[49]\tvalidation_0-rmse:2.40466\n",
      "[50]\tvalidation_0-rmse:2.34060\n",
      "[51]\tvalidation_0-rmse:2.29722\n",
      "[52]\tvalidation_0-rmse:2.26675\n",
      "[53]\tvalidation_0-rmse:2.22169\n",
      "[54]\tvalidation_0-rmse:2.17317\n",
      "[55]\tvalidation_0-rmse:2.14190\n",
      "[56]\tvalidation_0-rmse:2.11354\n",
      "[57]\tvalidation_0-rmse:2.07766\n",
      "[58]\tvalidation_0-rmse:2.04281\n",
      "[59]\tvalidation_0-rmse:2.01672\n",
      "[60]\tvalidation_0-rmse:2.00355\n",
      "[61]\tvalidation_0-rmse:1.99093\n",
      "[62]\tvalidation_0-rmse:1.96934\n",
      "[63]\tvalidation_0-rmse:1.93383\n",
      "[64]\tvalidation_0-rmse:1.91153\n",
      "[65]\tvalidation_0-rmse:1.90296\n",
      "[66]\tvalidation_0-rmse:1.87262\n",
      "[67]\tvalidation_0-rmse:1.85339\n",
      "[68]\tvalidation_0-rmse:1.83916\n",
      "[69]\tvalidation_0-rmse:1.81648\n",
      "[70]\tvalidation_0-rmse:1.80333\n",
      "[71]\tvalidation_0-rmse:1.78604\n",
      "[72]\tvalidation_0-rmse:1.77395\n",
      "[73]\tvalidation_0-rmse:1.76558\n",
      "[74]\tvalidation_0-rmse:1.76121\n",
      "[75]\tvalidation_0-rmse:1.75354\n",
      "[76]\tvalidation_0-rmse:1.73760\n",
      "[77]\tvalidation_0-rmse:1.72884\n",
      "[78]\tvalidation_0-rmse:1.72685\n",
      "[79]\tvalidation_0-rmse:1.70837\n",
      "[80]\tvalidation_0-rmse:1.70525\n",
      "[81]\tvalidation_0-rmse:1.70388\n",
      "[82]\tvalidation_0-rmse:1.69340\n",
      "[83]\tvalidation_0-rmse:1.68389\n",
      "[84]\tvalidation_0-rmse:1.67742\n",
      "[85]\tvalidation_0-rmse:1.66638\n",
      "[86]\tvalidation_0-rmse:1.66370\n",
      "[87]\tvalidation_0-rmse:1.65295\n",
      "[88]\tvalidation_0-rmse:1.64782\n",
      "[89]\tvalidation_0-rmse:1.63739\n",
      "[90]\tvalidation_0-rmse:1.63298\n",
      "[91]\tvalidation_0-rmse:1.63036\n",
      "[92]\tvalidation_0-rmse:1.61801\n",
      "[93]\tvalidation_0-rmse:1.61662\n",
      "[94]\tvalidation_0-rmse:1.61602\n",
      "[95]\tvalidation_0-rmse:1.60169\n",
      "[96]\tvalidation_0-rmse:1.59455\n",
      "[97]\tvalidation_0-rmse:1.58946\n",
      "[98]\tvalidation_0-rmse:1.58774\n",
      "[99]\tvalidation_0-rmse:1.58334\n"
     ]
    }
   ],
   "source": [
    "\n",
    "xgb_model = xgb.XGBRegressor(objective=\"reg:squarederror\",\n",
    "                             eta=0.1,\n",
    "                             n_estimators=100,\n",
    "                             sub_sample=0.8,\n",
    "                             colsample_bytree=0.8,\n",
    "                             max_depth=8,\n",
    "                              random_state=42)\n",
    "\n",
    "\n",
    "# Only train on output not at end\n",
    "output_not_end_idx = y_train.Output_Is_End.index[y_train['Output_Is_End'] == 0]\n",
    "X_first_zero = X_train.loc[output_not_end_idx]\n",
    "y_first_zero = y_train.loc[output_not_end_idx, 'Output_First_Zero']\n",
    "\n",
    "xgb_model.fit(X_first_zero, y_first_zero,\n",
    "             eval_set=[(X_first_zero, y_first_zero)],\n",
    "             eval_metric='rmse', early_stopping_rounds=10, verbose=True)\n",
    "\n",
    "evals_result = xgb_model.evals_result()"
   ]
  },
  {
   "cell_type": "markdown",
   "metadata": {},
   "source": [
    "Best train result is 1.116 RMSE. Best test RMSE is 1.3"
   ]
  },
  {
   "cell_type": "markdown",
   "metadata": {},
   "source": [
    "Preduct which bin the first zero will be in"
   ]
  },
  {
   "cell_type": "code",
   "execution_count": 12,
   "metadata": {},
   "outputs": [
    {
     "name": "stdout",
     "output_type": "stream",
     "text": [
      "RMSE : 2.161902764263808\n",
      "        preds  test\n",
      "111188  124.0   124\n",
      "103839  125.0   125\n",
      "134716  151.0   151\n",
      "353969  123.0   123\n",
      "275428  103.0   103\n",
      "301768   83.0    81\n",
      "16369   120.0    98\n",
      "319834   67.0    67\n",
      "313081   76.0    72\n",
      "281799  102.0    98\n",
      "205923   72.0    73\n",
      "306664  129.0   128\n",
      "77382   101.0   100\n",
      "148301  119.0   119\n",
      "154841  148.0   148\n",
      "164320   90.0    90\n",
      "238545  107.0   107\n",
      "127682  122.0   122\n",
      "255554  105.0   105\n",
      "255962   78.0    78\n",
      "242166  108.0   107\n",
      "95012    99.0    98\n",
      "340042   95.0    95\n",
      "283604   75.0    75\n",
      "182928  144.0   144\n"
     ]
    }
   ],
   "source": [
    "from sklearn.metrics import mean_squared_error as MSE \n",
    "\n",
    "#Optionally load pretrained model\n",
    "# Load first zero model\n",
    "#xgb_model = xgb.XGBRegressor()\n",
    "#xgb_model.load_model('xgb_model_first_zero.model')\n",
    "\n",
    "# Only predict on output not at end\n",
    "output_not_end_test_idx = y_test.Output_Is_End.index[y_test['Output_Is_End'] == 0]\n",
    "X_test_first_zero = X_test.loc[output_not_end_test_idx]\n",
    "y_test_first_zero = y_test.loc[output_not_end_test_idx, 'Output_First_Zero']\n",
    "\n",
    "# Predict the model. Round preds since bins are whole numbers\n",
    "pred_first_zero = np.rint(xgb_model.predict(X_test_first_zero)) \n",
    "  \n",
    "# RMSE Computation \n",
    "rmse = np.sqrt(MSE(y_test_first_zero, pred_first_zero)) \n",
    "print(f\"RMSE : {rmse}\") \n",
    "\n",
    "pd.set_option('display.max_rows', None)\n",
    "# Spot check the predictions and results\n",
    "print(pd.DataFrame({\"preds\":pred_first_zero, \"test\":y_test_first_zero}).head(25))"
   ]
  },
  {
   "cell_type": "code",
   "execution_count": 33,
   "metadata": {},
   "outputs": [],
   "source": [
    "xgb_model.save_model('xgb_model_first_zero.model')"
   ]
  },
  {
   "cell_type": "markdown",
   "metadata": {},
   "source": [
    "Train two MDNs, one on the dust at end and one without"
   ]
  },
  {
   "cell_type": "code",
   "execution_count": 7,
   "metadata": {},
   "outputs": [],
   "source": [
    "def build_mdn_model(activation='sigmoid', k=16):\n",
    "    \"\"\" k is the number of mixture models\"\"\"\n",
    "    # Number of columns (bin count plus 8 inputs)\n",
    "    l = bin_count + 8\n",
    "\n",
    "    # Network\n",
    "    input = tf.keras.Input(shape=(l,))\n",
    "\n",
    "    layer = tf.keras.layers.Dense(512, activation=activation, name='baselayer')(input)\n",
    "    layer_2 = tf.keras.layers.Dense(128, activation=activation, name='layer_2')(layer)\n",
    "    layer_3 = tf.keras.layers.Dense(64, activation=activation, name='layer_3')(layer_2)\n",
    "    #layer_4 = tf.keras.layers.Dense(32, activation=activation, name='layer_4')(layer_3)\n",
    "\n",
    "    # Connect the mdn layer to the output of our neural network\n",
    "    mdn_layer = mdn.MDN(bin_count,k, name='mdn')(layer_3)\n",
    "    model = tf.keras.models.Model(input, [mdn_layer])\n",
    "\n",
    "\n",
    "    opt = tf.keras.optimizers.Adam()\n",
    "    model.compile(loss=mdn.get_mixture_loss_func(bin_count,k), optimizer=opt)\n",
    "    model.summary()\n",
    "    return model"
   ]
  },
  {
   "cell_type": "markdown",
   "metadata": {},
   "source": [
    "Build a mdn model for the outputs where the dust is at the end of the distribution (spike model)"
   ]
  },
  {
   "cell_type": "code",
   "execution_count": null,
   "metadata": {},
   "outputs": [],
   "source": [
    "model_spike = build_mdn_model(k=32)\n",
    "output_is_end_idx = y_train.Output_Is_End.index[y_train['Output_Is_End'] == 1]\n",
    "\n",
    "X = X_train.loc[output_is_end_idx]\n",
    "y = y_train.loc[output_is_end_idx].drop(['Output_Is_End', 'Output_First_Zero', 'Output_Genextreme_a', 'Output_Genextreme_b','Output_Genextreme_c'], axis=1)\n",
    "spike_fit = model_spike.fit(x=X, y=y, batch_size=512, epochs=50, validation_split=0.1, callbacks=[tf.keras.callbacks.TerminateOnNaN()])"
   ]
  },
  {
   "cell_type": "code",
   "execution_count": 36,
   "metadata": {},
   "outputs": [
    {
     "name": "stdout",
     "output_type": "stream",
     "text": [
      "INFO:tensorflow:Assets written to: spiked_mdn_model/model/assets\n"
     ]
    }
   ],
   "source": [
    "model_spike.save(\"spiked_mdn_model/model\")"
   ]
  },
  {
   "cell_type": "code",
   "execution_count": 14,
   "metadata": {},
   "outputs": [],
   "source": [
    "from scipy.stats import entropy\n",
    "def predict_for_test(model, X_test, y_test, k):\n",
    "    \"\"\"Samples the mixture density results and returns predictions\"\"\"\n",
    "    start = timer()\n",
    "\n",
    "    # Returns the predictions of the parameters of the distributions and weights\n",
    "    preds = model.predict(X_test)\n",
    "    samples_list = []\n",
    "    # Obtain 5 samples per prediction\n",
    "    for i in range(5):\n",
    "        samples_list.append(np.apply_along_axis(mdn.sample_from_output, 1, preds, bin_count, k, temp=1.0, sigma_temp=1.0))\n",
    "\n",
    "    # Average the samples for our predicitons\n",
    "    y_samples = np.mean(np.array(samples_list),axis=0)\n",
    "    y_samples = y_samples.reshape(len(X_test),bin_count)\n",
    "    # Convert negatives to 0\n",
    "    y_samples = np.clip(y_samples,0, a_max=None)\n",
    "    end = timer()\n",
    "    \n",
    "    print(f\"Total time taken: {end-start}. Seconds per prediction: {(end-start)/len(preds)}\")\n",
    "    \n",
    "    return y_samples"
   ]
  },
  {
   "cell_type": "markdown",
   "metadata": {},
   "source": [
    "Make predictions for the MDN where theres a spike at the end and evaluate the results"
   ]
  },
  {
   "cell_type": "code",
   "execution_count": 4,
   "metadata": {},
   "outputs": [
    {
     "name": "stdout",
     "output_type": "stream",
     "text": [
      "Total time taken: 253.24760373681784. Seconds per prediction: 0.012881363364029392\n"
     ]
    }
   ],
   "source": [
    "output_is_end_idx = y_test.Output_Is_End.index[y_test['Output_Is_End'] == 1]\n",
    "\n",
    "X_test_spike = X_test.loc[output_is_end_idx]\n",
    "y_test_spike = y_test.loc[output_is_end_idx].drop(['Output_Is_End','Output_First_Zero'], axis=1)\n",
    "\n",
    "model_spike = tf.keras.models.load_model('spiked_mdn_model/model', custom_objects={'MDN': mdn.MDN, 'mdn_loss_func': mdn.get_mixture_loss_func(1, 32)})\n",
    "\n",
    "\n",
    "spike_preds = predict_for_test(model_spike, X_test_spike, y_test_spike, 32)"
   ]
  },
  {
   "cell_type": "code",
   "execution_count": 15,
   "metadata": {},
   "outputs": [],
   "source": [
    "from scipy.stats import entropy\n",
    "def evaluate_fit(y_samples, y_test):\n",
    "    ent = []\n",
    "\n",
    "    # Turn all negative preds to 0\n",
    "    y_samples = np.clip(y_samples,0, a_max=None)\n",
    "    # Small constant to prevent inf for 0s\n",
    "    c = 1e-100\n",
    "    \n",
    "    y_samples += c\n",
    "    y_test += c\n",
    "    \n",
    "    for i in range(len(y_test)):\n",
    "        e = entropy(y_samples[i], y_test.iloc[i])\n",
    "        ent.append(e if e != np.inf else 1000)\n",
    "    display(pd.DataFrame(ent).describe())\n",
    "    return ent"
   ]
  },
  {
   "cell_type": "markdown",
   "metadata": {},
   "source": [
    "The average entropy is 7 which is decent."
   ]
  },
  {
   "cell_type": "code",
   "execution_count": 6,
   "metadata": {},
   "outputs": [
    {
     "data": {
      "text/html": [
       "<div>\n",
       "<style scoped>\n",
       "    .dataframe tbody tr th:only-of-type {\n",
       "        vertical-align: middle;\n",
       "    }\n",
       "\n",
       "    .dataframe tbody tr th {\n",
       "        vertical-align: top;\n",
       "    }\n",
       "\n",
       "    .dataframe thead th {\n",
       "        text-align: right;\n",
       "    }\n",
       "</style>\n",
       "<table border=\"1\" class=\"dataframe\">\n",
       "  <thead>\n",
       "    <tr style=\"text-align: right;\">\n",
       "      <th></th>\n",
       "      <th>0</th>\n",
       "    </tr>\n",
       "  </thead>\n",
       "  <tbody>\n",
       "    <tr>\n",
       "      <th>count</th>\n",
       "      <td>19660.000000</td>\n",
       "    </tr>\n",
       "    <tr>\n",
       "      <th>mean</th>\n",
       "      <td>7.834118</td>\n",
       "    </tr>\n",
       "    <tr>\n",
       "      <th>std</th>\n",
       "      <td>15.420871</td>\n",
       "    </tr>\n",
       "    <tr>\n",
       "      <th>min</th>\n",
       "      <td>0.031026</td>\n",
       "    </tr>\n",
       "    <tr>\n",
       "      <th>25%</th>\n",
       "      <td>0.917441</td>\n",
       "    </tr>\n",
       "    <tr>\n",
       "      <th>50%</th>\n",
       "      <td>2.879487</td>\n",
       "    </tr>\n",
       "    <tr>\n",
       "      <th>75%</th>\n",
       "      <td>4.790842</td>\n",
       "    </tr>\n",
       "    <tr>\n",
       "      <th>max</th>\n",
       "      <td>116.308030</td>\n",
       "    </tr>\n",
       "  </tbody>\n",
       "</table>\n",
       "</div>"
      ],
      "text/plain": [
       "                  0\n",
       "count  19660.000000\n",
       "mean       7.834118\n",
       "std       15.420871\n",
       "min        0.031026\n",
       "25%        0.917441\n",
       "50%        2.879487\n",
       "75%        4.790842\n",
       "max      116.308030"
      ]
     },
     "metadata": {},
     "output_type": "display_data"
    }
   ],
   "source": [
    "evaluate_fit(spike_preds, y_test_spike)"
   ]
  },
  {
   "cell_type": "markdown",
   "metadata": {},
   "source": [
    "The graphs look really similar"
   ]
  },
  {
   "cell_type": "code",
   "execution_count": 9,
   "metadata": {},
   "outputs": [
    {
     "data": {
      "image/png": "[encoded data removed]",
      "text/plain": [
       "<Figure size 720x720 with 4 Axes>"
      ]
     },
     "metadata": {
      "needs_background": "light"
     },
     "output_type": "display_data"
    }
   ],
   "source": [
    "from matplotlib import pyplot as plt\n",
    "fig, axes = plt.subplots(nrows=2, ncols=2, figsize=(10, 10))\n",
    "\n",
    "for ax in axes.flatten():\n",
    "    # Generate random index to plot\n",
    "    i = np.random.randint(len(y_test_spike), size=1)[0]\n",
    "    test_pred = spike_preds[i]\n",
    "    true = y_test_spike.iloc[i]\n",
    "    ax.plot(test_pred, color='blue', label='pred')\n",
    "    ax.plot(true, color='orange', label='true')\n",
    "    ax.xaxis.set_visible(False)\n",
    "    ax.legend(loc=\"upper left\")\n",
    "    \n",
    "plt.show()"
   ]
  },
  {
   "cell_type": "markdown",
   "metadata": {},
   "source": [
    "Create a seperate mdn model to use on the rest."
   ]
  },
  {
   "cell_type": "markdown",
   "metadata": {},
   "source": [
    "Create a MDN model to predict the 3 estimated parameters of the output distribution (gen extreme)."
   ]
  },
  {
   "cell_type": "code",
   "execution_count": 4,
   "metadata": {},
   "outputs": [
    {
     "name": "stdout",
     "output_type": "stream",
     "text": [
      "Model: \"functional_1\"\n",
      "_________________________________________________________________\n",
      "Layer (type)                 Output Shape              Param #   \n",
      "=================================================================\n",
      "input_1 (InputLayer)         [(None, 159)]             0         \n",
      "_________________________________________________________________\n",
      "baselayer (Dense)            (None, 256)               40960     \n",
      "_________________________________________________________________\n",
      "mdn (MDN)                    (None, 168)               43176     \n",
      "=================================================================\n",
      "Total params: 84,136\n",
      "Trainable params: 84,136\n",
      "Non-trainable params: 0\n",
      "_________________________________________________________________\n"
     ]
    }
   ],
   "source": [
    "# Number of columns (bin count plus 8 inputs)\n",
    "l = bin_count + 8\n",
    "k = 24\n",
    "output = 3\n",
    "# Network\n",
    "input = tf.keras.Input(shape=(l,))\n",
    "\n",
    "layer = tf.keras.layers.Dense(256, activation='sigmoid', name='baselayer')(input)\n",
    "l#ayer_2 = tf.keras.layers.Dense(128, activation='sigmoid', name='layer_2')(layer)\n",
    "#layer_3 = tf.keras.layers.Dense(32, activation='sigmoid', name='layer_3')(layer_2)\n",
    "#layer_4 = tf.keras.layers.Dense(32, activation='sigmoid', name='layer_4')(layer_3)\n",
    "\n",
    "# Connect the mdn layer to the output of our neural network\n",
    "# Only 3 parameters to predict\n",
    "mdn_layer = mdn.MDN(output,k, name='mdn')(layer)\n",
    "model_non_spike = tf.keras.models.Model(input, [mdn_layer])\n",
    "\n",
    "\n",
    "opt = tf.keras.optimizers.Adam()\n",
    "model_non_spike.compile(loss=mdn.get_mixture_loss_func(output,k), optimizer=opt)\n",
    "model_non_spike.summary()"
   ]
  },
  {
   "cell_type": "code",
   "execution_count": 5,
   "metadata": {},
   "outputs": [
    {
     "name": "stdout",
     "output_type": "stream",
     "text": [
      "Epoch 1/25\n",
      "WARNING:tensorflow:From /home/keh4nb/.local/lib/python3.7/site-packages/tensorflow/python/ops/linalg/linear_operator_diag.py:166: calling LinearOperator.__init__ (from tensorflow.python.ops.linalg.linear_operator) with graph_parents is deprecated and will be removed in a future version.\n",
      "Instructions for updating:\n",
      "Do not pass `graph_parents`.  They will  no longer be used.\n",
      "2261/2261 [==============================] - 9s 4ms/step - loss: 22.6447 - val_loss: 9.6898\n",
      "Epoch 2/25\n",
      "2261/2261 [==============================] - 8s 3ms/step - loss: 9.3175 - val_loss: 9.2031\n",
      "Epoch 3/25\n",
      "2261/2261 [==============================] - 8s 3ms/step - loss: 9.1767 - val_loss: 9.1608\n",
      "Epoch 4/25\n",
      "2261/2261 [==============================] - 8s 3ms/step - loss: 9.1414 - val_loss: 9.1811\n",
      "Epoch 5/25\n",
      "2261/2261 [==============================] - 8s 3ms/step - loss: 9.1589 - val_loss: 9.1425\n",
      "Epoch 6/25\n",
      "2261/2261 [==============================] - 8s 3ms/step - loss: 9.1425 - val_loss: 9.1149\n",
      "Epoch 7/25\n",
      "2261/2261 [==============================] - 8s 3ms/step - loss: 9.1363 - val_loss: 9.1904\n",
      "Epoch 8/25\n",
      "2261/2261 [==============================] - 8s 3ms/step - loss: 9.1378 - val_loss: 9.1174\n",
      "Epoch 9/25\n",
      "2261/2261 [==============================] - 8s 3ms/step - loss: 9.1528 - val_loss: 9.1476\n",
      "Epoch 10/25\n",
      "2261/2261 [==============================] - 8s 3ms/step - loss: 9.1502 - val_loss: 9.1386\n",
      "Epoch 11/25\n",
      "2261/2261 [==============================] - 7s 3ms/step - loss: 9.1375 - val_loss: 9.1214\n",
      "Epoch 12/25\n",
      "2261/2261 [==============================] - 8s 3ms/step - loss: 9.1308 - val_loss: 9.1140\n",
      "Epoch 13/25\n",
      "2261/2261 [==============================] - 8s 3ms/step - loss: 9.1361 - val_loss: 9.1356\n",
      "Epoch 14/25\n",
      "2261/2261 [==============================] - 8s 3ms/step - loss: 9.1296 - val_loss: 9.1131\n",
      "Epoch 15/25\n",
      "2261/2261 [==============================] - 8s 3ms/step - loss: 9.1222 - val_loss: 9.1103\n",
      "Epoch 16/25\n",
      "2261/2261 [==============================] - 7s 3ms/step - loss: 9.1208 - val_loss: 9.1271\n",
      "Epoch 17/25\n",
      "2261/2261 [==============================] - 7s 3ms/step - loss: 9.1291 - val_loss: 9.1107\n",
      "Epoch 18/25\n",
      "2261/2261 [==============================] - 8s 3ms/step - loss: 9.1303 - val_loss: 9.1371\n",
      "Epoch 19/25\n",
      "2261/2261 [==============================] - 8s 3ms/step - loss: 9.1281 - val_loss: 9.1239\n",
      "Epoch 20/25\n",
      "2261/2261 [==============================] - 8s 3ms/step - loss: 9.1229 - val_loss: 9.1396\n",
      "Epoch 21/25\n",
      "2261/2261 [==============================] - 8s 3ms/step - loss: 9.1322 - val_loss: 9.1470\n",
      "Epoch 22/25\n",
      "2261/2261 [==============================] - 7s 3ms/step - loss: 9.1303 - val_loss: 9.1630\n",
      "Epoch 23/25\n",
      "2261/2261 [==============================] - 8s 3ms/step - loss: 9.1261 - val_loss: 9.1189\n",
      "Epoch 24/25\n",
      "2261/2261 [==============================] - 8s 3ms/step - loss: 9.1237 - val_loss: 9.1822\n",
      "Epoch 25/25\n",
      "2261/2261 [==============================] - 7s 3ms/step - loss: 9.1282 - val_loss: 9.1704\n"
     ]
    }
   ],
   "source": [
    "#model_non_spike = build_mdn_model()\n",
    "\n",
    "output_is_not_end_idx = y_train.Output_Is_End.index[y_train['Output_Is_End'] == 0]\n",
    "\n",
    "X = X_train.loc[output_is_not_end_idx]\n",
    "y = y_train.loc[output_is_not_end_idx][['Output_genextremec_c', 'Output_genextreme_loc', 'Output_genextreme_scale']]\n",
    "non_spike_fit = model_non_spike.fit(x=X, y=y, batch_size=64, epochs=25, validation_split=0.1, callbacks=[tf.keras.callbacks.TerminateOnNaN()])"
   ]
  },
  {
   "cell_type": "code",
   "execution_count": 6,
   "metadata": {},
   "outputs": [],
   "source": [
    "output_is_not_end_idx = y_test.Output_Is_End.index[y_test['Output_Is_End'] == 0]\n",
    "\n",
    "X_test_non_spike = X_test.loc[output_is_not_end_idx]\n",
    "#y_test_non_spike = y_test.loc[output_is_not_end_idx].drop(['Output_Is_End','Output_First_Zero', 'Output_Genextreme_a', 'Output_Genextreme_b','Output_Genextreme_c'], axis=1)\n",
    "y_test_non_spike = y_test.loc[output_is_not_end_idx].drop(['Output_Is_End','Output_First_Zero', 'Output_genextremec_c', 'Output_genextreme_loc', 'Output_genextreme_scale'], axis=1)\n",
    "# Returns the predictions of the parameters of the distributions and weights\n",
    "preds = model_non_spike.predict(X_test_non_spike)\n",
    "samples_list = []\n",
    "# Obtain 5 samples per prediction\n",
    "for i in range(10):\n",
    "    samples_list.append(np.apply_along_axis(mdn.sample_from_output, 1, preds, 3, k, temp=1.0, sigma_temp=1.0))\n",
    "\n",
    "# Average the samples for our predicitons\n",
    "y_samples = np.mean(np.array(samples_list),axis=0)\n",
    "y_samples = y_samples.reshape(len(X_test_non_spike),3)\n"
   ]
  },
  {
   "cell_type": "markdown",
   "metadata": {},
   "source": [
    "Generate the predicted distribution by extracting the sample paramters and plug it into the pdf. Normalize the result"
   ]
  },
  {
   "cell_type": "code",
   "execution_count": 22,
   "metadata": {},
   "outputs": [],
   "source": [
    "from scipy.stats import genextreme\n",
    "non_spike_preds = []\n",
    "bins = np.linspace(0, 150, 151)\n",
    "for idx,sample in enumerate(y_samples):\n",
    "    a,b,c = sample\n",
    "    p = genextreme.pdf(bins, a, b, c)\n",
    "    # Normalize pred\n",
    "    p = p / np.sum(p)\n",
    "    first_zero = int(pred_first_zero[idx])\n",
    "    for j in range(first_zero, 151):\n",
    "        p[j] = 0\n",
    "    non_spike_preds.append(p)"
   ]
  },
  {
   "cell_type": "markdown",
   "metadata": {},
   "source": [
    "When we dont use the information from the first zero prediction, the average entropy is 44. When we do, the average entropy is 2.4"
   ]
  },
  {
   "cell_type": "code",
   "execution_count": 23,
   "metadata": {},
   "outputs": [
    {
     "data": {
      "text/html": [
       "<div>\n",
       "<style scoped>\n",
       "    .dataframe tbody tr th:only-of-type {\n",
       "        vertical-align: middle;\n",
       "    }\n",
       "\n",
       "    .dataframe tbody tr th {\n",
       "        vertical-align: top;\n",
       "    }\n",
       "\n",
       "    .dataframe thead th {\n",
       "        text-align: right;\n",
       "    }\n",
       "</style>\n",
       "<table border=\"1\" class=\"dataframe\">\n",
       "  <thead>\n",
       "    <tr style=\"text-align: right;\">\n",
       "      <th></th>\n",
       "      <th>0</th>\n",
       "    </tr>\n",
       "  </thead>\n",
       "  <tbody>\n",
       "    <tr>\n",
       "      <th>count</th>\n",
       "      <td>17978.000000</td>\n",
       "    </tr>\n",
       "    <tr>\n",
       "      <th>mean</th>\n",
       "      <td>2.383119</td>\n",
       "    </tr>\n",
       "    <tr>\n",
       "      <th>std</th>\n",
       "      <td>2.417339</td>\n",
       "    </tr>\n",
       "    <tr>\n",
       "      <th>min</th>\n",
       "      <td>0.020807</td>\n",
       "    </tr>\n",
       "    <tr>\n",
       "      <th>25%</th>\n",
       "      <td>1.105878</td>\n",
       "    </tr>\n",
       "    <tr>\n",
       "      <th>50%</th>\n",
       "      <td>1.746577</td>\n",
       "    </tr>\n",
       "    <tr>\n",
       "      <th>75%</th>\n",
       "      <td>2.738652</td>\n",
       "    </tr>\n",
       "    <tr>\n",
       "      <th>max</th>\n",
       "      <td>92.327271</td>\n",
       "    </tr>\n",
       "  </tbody>\n",
       "</table>\n",
       "</div>"
      ],
      "text/plain": [
       "                  0\n",
       "count  17978.000000\n",
       "mean       2.383119\n",
       "std        2.417339\n",
       "min        0.020807\n",
       "25%        1.105878\n",
       "50%        1.746577\n",
       "75%        2.738652\n",
       "max       92.327271"
      ]
     },
     "metadata": {},
     "output_type": "display_data"
    }
   ],
   "source": [
    "ent = evaluate_fit(non_spike_preds, y_test_non_spike)"
   ]
  },
  {
   "cell_type": "code",
   "execution_count": 17,
   "metadata": {},
   "outputs": [
    {
     "data": {
      "text/plain": [
       "(array([1.05951955e-01, 1.72777097e-03, 1.13984890e-04, 1.79976143e-05,\n",
       "        2.39968190e-05, 5.99920476e-06, 5.99920476e-06, 0.00000000e+00,\n",
       "        0.00000000e+00, 5.99920476e-06]),\n",
       " array([2.08072644e-02, 9.29262613e+00, 1.85644450e+01, 2.78362639e+01,\n",
       "        3.71080827e+01, 4.63799016e+01, 5.56517204e+01, 6.49235393e+01,\n",
       "        7.41953582e+01, 8.34671770e+01, 9.27389959e+01]),\n",
       " <a list of 10 Patch objects>)"
      ]
     },
     "execution_count": 17,
     "metadata": {},
     "output_type": "execute_result"
    },
    {
     "data": {
      "image/png": "[encoded data removed]",
      "text/plain": [
       "<Figure size 432x288 with 1 Axes>"
      ]
     },
     "metadata": {
      "needs_background": "light"
     },
     "output_type": "display_data"
    }
   ],
   "source": [
    "plt.hist(ent, bins=10, density=True)"
   ]
  },
  {
   "cell_type": "code",
   "execution_count": 33,
   "metadata": {},
   "outputs": [
    {
     "data": {
      "image/png": "[encoded data removed]",
      "text/plain": [
       "<Figure size 720x720 with 4 Axes>"
      ]
     },
     "metadata": {
      "needs_background": "light"
     },
     "output_type": "display_data"
    }
   ],
   "source": [
    "from matplotlib import pyplot as plt\n",
    "fig, axes = plt.subplots(nrows=2, ncols=2, figsize=(10, 10))\n",
    "\n",
    "for ax in axes.flatten():\n",
    "    # Generate random index to plot\n",
    "    i = np.random.randint(len(y_test_non_spike), size=1)[0]\n",
    "    test_pred = non_spike_preds[i]\n",
    "    true = y_test_non_spike.iloc[i]\n",
    "    ax.plot(test_pred, color='blue', label='pred')\n",
    "    ax.plot(true, color='orange', label='true')\n",
    "    ax.xaxis.set_visible(False)\n",
    "    ax.legend(loc=\"upper left\")\n",
    "    e = entropy(test_pred, true)\n",
    "    ax.set_title(e)\n",
    "    \n",
    "plt.show()"
   ]
  },
  {
   "cell_type": "markdown",
   "metadata": {},
   "source": [
    "Try to find the best tuning parameters for the neural network. The network gets stuck predicting everything as 0 (75% accuracy), but cannot improve on it."
   ]
  },
  {
   "cell_type": "code",
   "execution_count": null,
   "metadata": {},
   "outputs": [],
   "source": [
    "#%pip install -U keras-tuner\n",
    "import kerastuner as kt\n",
    "\n",
    "def build_model(hp):\n",
    "        # Number of columns (bin count plus 8 inputs)\n",
    "    l = bin_count + 8\n",
    "\n",
    "    activation = 'selu'\n",
    "\n",
    "    # Network\n",
    "    input = tf.keras.Input(shape=(l,))\n",
    "\n",
    "    layer =  tf.keras.layers.Dense(hp.Int('hidden_size', 16, 256, step=16, default=128), activation=hp.Choice('activation', values=['relu', 'selu', 'tanh', 'swish'], default='relu'), name='baselayer')(input)\n",
    "    #layer = tf.keras.layers.Dense(1024, activation='relu', name='baselayer')(input)\n",
    "    #layer_2 = tf.keras.layers.Dense(1024, activation='tanh', name='baselayer2')(layer)\n",
    "    #layer_3 = tf.keras.layers.Dense(16, activation='tanh', name='baselayer3')(layer_2)\n",
    "    #layer_4 = tf.keras.layers.Dense(64, activation=activation, name='baselayer4')(layer_3)\n",
    "    #layer_5 = tf.keras.layers.Dense(32, activation=activation, name='baselayer5')(layer_4)\n",
    "    # Connect the mdn layer to the output of our neural network\n",
    "    #mdn_layer = mdn.MDN(bin_count,k, name='mdn')(layer_5)\n",
    "    #model = tf.keras.models.Model(input, [mdn_layer])\n",
    "\n",
    "    # 2 classes\n",
    "    outputs = tf.keras.layers.Dense(1, activation='sigmoid', name=\"predictions\")(layer)\n",
    "    model = tf.keras.models.Model(input, [outputs])\n",
    "\n",
    "\n",
    "    #opt = tf.keras.optimizers.Adam(learning_rate=1e4)\n",
    "    opt = tf.keras.optimizers.Adam(learning_rate=hp.Float('learning_rate', 1e-5, 1e-2, sampling='log'))\n",
    "    #model.compile(loss=mdn.get_mixture_loss_func(bin_count,k), optimizer=tf.keras.optimizers.Adam())\n",
    "    model.compile(optimizer=opt,\n",
    "                  loss='binary_crossentropy',\n",
    "                  metrics=['accuracy'])\n",
    "    \n",
    "    return model\n",
    "\n",
    "tuner = kt.tuners.BayesianOptimization(\n",
    "  build_model,\n",
    "  objective='val_accuracy',\n",
    "  max_trials=50)\n",
    "\n",
    "tuner.search(x=X_train, y=y_train, batch_size=128, epochs=30, validation_split=0.1, class_weight=cweights, callbacks=[tf.keras.callbacks.EarlyStopping(patience=1)])"
   ]
  },
  {
   "cell_type": "code",
   "execution_count": 5,
   "metadata": {},
   "outputs": [
    {
     "data": {
      "text/html": [
       "<div>\n",
       "<style scoped>\n",
       "    .dataframe tbody tr th:only-of-type {\n",
       "        vertical-align: middle;\n",
       "    }\n",
       "\n",
       "    .dataframe tbody tr th {\n",
       "        vertical-align: top;\n",
       "    }\n",
       "\n",
       "    .dataframe thead th {\n",
       "        text-align: right;\n",
       "    }\n",
       "</style>\n",
       "<table border=\"1\" class=\"dataframe\">\n",
       "  <thead>\n",
       "    <tr style=\"text-align: right;\">\n",
       "      <th></th>\n",
       "      <th>0</th>\n",
       "    </tr>\n",
       "  </thead>\n",
       "  <tbody>\n",
       "    <tr>\n",
       "      <th>count</th>\n",
       "      <td>40017.000000</td>\n",
       "    </tr>\n",
       "    <tr>\n",
       "      <th>mean</th>\n",
       "      <td>0.502865</td>\n",
       "    </tr>\n",
       "    <tr>\n",
       "      <th>std</th>\n",
       "      <td>0.064357</td>\n",
       "    </tr>\n",
       "    <tr>\n",
       "      <th>min</th>\n",
       "      <td>0.042015</td>\n",
       "    </tr>\n",
       "    <tr>\n",
       "      <th>25%</th>\n",
       "      <td>0.452332</td>\n",
       "    </tr>\n",
       "    <tr>\n",
       "      <th>50%</th>\n",
       "      <td>0.509930</td>\n",
       "    </tr>\n",
       "    <tr>\n",
       "      <th>75%</th>\n",
       "      <td>0.547307</td>\n",
       "    </tr>\n",
       "    <tr>\n",
       "      <th>max</th>\n",
       "      <td>0.598693</td>\n",
       "    </tr>\n",
       "  </tbody>\n",
       "</table>\n",
       "</div>"
      ],
      "text/plain": [
       "                  0\n",
       "count  40017.000000\n",
       "mean       0.502865\n",
       "std        0.064357\n",
       "min        0.042015\n",
       "25%        0.452332\n",
       "50%        0.509930\n",
       "75%        0.547307\n",
       "max        0.598693"
      ]
     },
     "metadata": {},
     "output_type": "display_data"
    },
    {
     "data": {
      "text/html": [
       "<div>\n",
       "<style scoped>\n",
       "    .dataframe tbody tr th:only-of-type {\n",
       "        vertical-align: middle;\n",
       "    }\n",
       "\n",
       "    .dataframe tbody tr th {\n",
       "        vertical-align: top;\n",
       "    }\n",
       "\n",
       "    .dataframe thead th {\n",
       "        text-align: right;\n",
       "    }\n",
       "</style>\n",
       "<table border=\"1\" class=\"dataframe\">\n",
       "  <thead>\n",
       "    <tr style=\"text-align: right;\">\n",
       "      <th></th>\n",
       "      <th>Output_Is_End</th>\n",
       "    </tr>\n",
       "  </thead>\n",
       "  <tbody>\n",
       "    <tr>\n",
       "      <th>count</th>\n",
       "      <td>40017.000000</td>\n",
       "    </tr>\n",
       "    <tr>\n",
       "      <th>mean</th>\n",
       "      <td>0.243771</td>\n",
       "    </tr>\n",
       "    <tr>\n",
       "      <th>std</th>\n",
       "      <td>0.429362</td>\n",
       "    </tr>\n",
       "    <tr>\n",
       "      <th>min</th>\n",
       "      <td>0.000000</td>\n",
       "    </tr>\n",
       "    <tr>\n",
       "      <th>25%</th>\n",
       "      <td>0.000000</td>\n",
       "    </tr>\n",
       "    <tr>\n",
       "      <th>50%</th>\n",
       "      <td>0.000000</td>\n",
       "    </tr>\n",
       "    <tr>\n",
       "      <th>75%</th>\n",
       "      <td>0.000000</td>\n",
       "    </tr>\n",
       "    <tr>\n",
       "      <th>max</th>\n",
       "      <td>1.000000</td>\n",
       "    </tr>\n",
       "  </tbody>\n",
       "</table>\n",
       "</div>"
      ],
      "text/plain": [
       "       Output_Is_End\n",
       "count   40017.000000\n",
       "mean        0.243771\n",
       "std         0.429362\n",
       "min         0.000000\n",
       "25%         0.000000\n",
       "50%         0.000000\n",
       "75%         0.000000\n",
       "max         1.000000"
      ]
     },
     "metadata": {},
     "output_type": "display_data"
    }
   ],
   "source": [
    "preds = model.predict(X_test)\n",
    "display(pd.DataFrame(preds).describe())\n",
    "display(y_test.describe())"
   ]
  },
  {
   "cell_type": "code",
   "execution_count": 93,
   "metadata": {},
   "outputs": [
    {
     "data": {
      "text/html": [
       "<span style=\"color:#4527A0\"><h1 style=\"font-size:18px\">Results summary</h1></span>"
      ],
      "text/plain": [
       "<IPython.core.display.HTML object>"
      ]
     },
     "metadata": {},
     "output_type": "display_data"
    },
    {
     "data": {
      "text/html": [
       "<span style=\"color:cyan\"> |-Results in ./untitled_project</span>"
      ],
      "text/plain": [
       "<IPython.core.display.HTML object>"
      ]
     },
     "metadata": {},
     "output_type": "display_data"
    },
    {
     "data": {
      "text/html": [
       "<span style=\"color:cyan\"> |-Showing 10 best trials</span>"
      ],
      "text/plain": [
       "<IPython.core.display.HTML object>"
      ]
     },
     "metadata": {},
     "output_type": "display_data"
    },
    {
     "data": {
      "text/html": [
       "<span style=\"color:cyan\"> |-Objective(name='val_accuracy', direction='max')</span>"
      ],
      "text/plain": [
       "<IPython.core.display.HTML object>"
      ]
     },
     "metadata": {},
     "output_type": "display_data"
    },
    {
     "data": {
      "text/html": [
       "<span style=\"color:#4527A0\"><h1 style=\"font-size:18px\">Trial summary</h1></span>"
      ],
      "text/plain": [
       "<IPython.core.display.HTML object>"
      ]
     },
     "metadata": {},
     "output_type": "display_data"
    },
    {
     "data": {
      "text/html": [
       "<span style=\"color:cyan\"> |-Trial ID: 1c510967b1a83a9a73569bda70edaeca</span>"
      ],
      "text/plain": [
       "<IPython.core.display.HTML object>"
      ]
     },
     "metadata": {},
     "output_type": "display_data"
    },
    {
     "data": {
      "text/html": [
       "<span style=\"color:cyan\"> |-Score: 0.7489228248596191</span>"
      ],
      "text/plain": [
       "<IPython.core.display.HTML object>"
      ]
     },
     "metadata": {},
     "output_type": "display_data"
    },
    {
     "data": {
      "text/html": [
       "<span style=\"color:cyan\"> |-Best step: 0</span>"
      ],
      "text/plain": [
       "<IPython.core.display.HTML object>"
      ]
     },
     "metadata": {},
     "output_type": "display_data"
    },
    {
     "data": {
      "text/html": [
       "<span style=\"color:#7E57C2\"><h2 style=\"font-size:16px\">Hyperparameters:</h2></span>"
      ],
      "text/plain": [
       "<IPython.core.display.HTML object>"
      ]
     },
     "metadata": {},
     "output_type": "display_data"
    },
    {
     "data": {
      "text/html": [
       "<span style=\"color:cyan\"> |-activation: relu</span>"
      ],
      "text/plain": [
       "<IPython.core.display.HTML object>"
      ]
     },
     "metadata": {},
     "output_type": "display_data"
    },
    {
     "data": {
      "text/html": [
       "<span style=\"color:blue\"> |-hidden_size: 256</span>"
      ],
      "text/plain": [
       "<IPython.core.display.HTML object>"
      ]
     },
     "metadata": {},
     "output_type": "display_data"
    },
    {
     "data": {
      "text/html": [
       "<span style=\"color:cyan\"> |-learning_rate: 0.01</span>"
      ],
      "text/plain": [
       "<IPython.core.display.HTML object>"
      ]
     },
     "metadata": {},
     "output_type": "display_data"
    },
    {
     "data": {
      "text/html": [
       "<span style=\"color:#4527A0\"><h1 style=\"font-size:18px\">Trial summary</h1></span>"
      ],
      "text/plain": [
       "<IPython.core.display.HTML object>"
      ]
     },
     "metadata": {},
     "output_type": "display_data"
    },
    {
     "data": {
      "text/html": [
       "<span style=\"color:cyan\"> |-Trial ID: a08b84a91672933b0e7aa0cd46e19bcb</span>"
      ],
      "text/plain": [
       "<IPython.core.display.HTML object>"
      ]
     },
     "metadata": {},
     "output_type": "display_data"
    },
    {
     "data": {
      "text/html": [
       "<span style=\"color:cyan\"> |-Score: 0.7489228248596191</span>"
      ],
      "text/plain": [
       "<IPython.core.display.HTML object>"
      ]
     },
     "metadata": {},
     "output_type": "display_data"
    },
    {
     "data": {
      "text/html": [
       "<span style=\"color:cyan\"> |-Best step: 0</span>"
      ],
      "text/plain": [
       "<IPython.core.display.HTML object>"
      ]
     },
     "metadata": {},
     "output_type": "display_data"
    },
    {
     "data": {
      "text/html": [
       "<span style=\"color:#7E57C2\"><h2 style=\"font-size:16px\">Hyperparameters:</h2></span>"
      ],
      "text/plain": [
       "<IPython.core.display.HTML object>"
      ]
     },
     "metadata": {},
     "output_type": "display_data"
    },
    {
     "data": {
      "text/html": [
       "<span style=\"color:cyan\"> |-activation: swish</span>"
      ],
      "text/plain": [
       "<IPython.core.display.HTML object>"
      ]
     },
     "metadata": {},
     "output_type": "display_data"
    },
    {
     "data": {
      "text/html": [
       "<span style=\"color:blue\"> |-hidden_size: 256</span>"
      ],
      "text/plain": [
       "<IPython.core.display.HTML object>"
      ]
     },
     "metadata": {},
     "output_type": "display_data"
    },
    {
     "data": {
      "text/html": [
       "<span style=\"color:cyan\"> |-learning_rate: 0.01</span>"
      ],
      "text/plain": [
       "<IPython.core.display.HTML object>"
      ]
     },
     "metadata": {},
     "output_type": "display_data"
    },
    {
     "data": {
      "text/html": [
       "<span style=\"color:#4527A0\"><h1 style=\"font-size:18px\">Trial summary</h1></span>"
      ],
      "text/plain": [
       "<IPython.core.display.HTML object>"
      ]
     },
     "metadata": {},
     "output_type": "display_data"
    },
    {
     "data": {
      "text/html": [
       "<span style=\"color:cyan\"> |-Trial ID: cbfd6e2dd2a0d4310f3bb8ae07eb298f</span>"
      ],
      "text/plain": [
       "<IPython.core.display.HTML object>"
      ]
     },
     "metadata": {},
     "output_type": "display_data"
    },
    {
     "data": {
      "text/html": [
       "<span style=\"color:cyan\"> |-Score: 0.7489228248596191</span>"
      ],
      "text/plain": [
       "<IPython.core.display.HTML object>"
      ]
     },
     "metadata": {},
     "output_type": "display_data"
    },
    {
     "data": {
      "text/html": [
       "<span style=\"color:cyan\"> |-Best step: 0</span>"
      ],
      "text/plain": [
       "<IPython.core.display.HTML object>"
      ]
     },
     "metadata": {},
     "output_type": "display_data"
    },
    {
     "data": {
      "text/html": [
       "<span style=\"color:#7E57C2\"><h2 style=\"font-size:16px\">Hyperparameters:</h2></span>"
      ],
      "text/plain": [
       "<IPython.core.display.HTML object>"
      ]
     },
     "metadata": {},
     "output_type": "display_data"
    },
    {
     "data": {
      "text/html": [
       "<span style=\"color:cyan\"> |-activation: swish</span>"
      ],
      "text/plain": [
       "<IPython.core.display.HTML object>"
      ]
     },
     "metadata": {},
     "output_type": "display_data"
    },
    {
     "data": {
      "text/html": [
       "<span style=\"color:blue\"> |-hidden_size: 16</span>"
      ],
      "text/plain": [
       "<IPython.core.display.HTML object>"
      ]
     },
     "metadata": {},
     "output_type": "display_data"
    },
    {
     "data": {
      "text/html": [
       "<span style=\"color:cyan\"> |-learning_rate: 0.009999999999999992</span>"
      ],
      "text/plain": [
       "<IPython.core.display.HTML object>"
      ]
     },
     "metadata": {},
     "output_type": "display_data"
    },
    {
     "data": {
      "text/html": [
       "<span style=\"color:#4527A0\"><h1 style=\"font-size:18px\">Trial summary</h1></span>"
      ],
      "text/plain": [
       "<IPython.core.display.HTML object>"
      ]
     },
     "metadata": {},
     "output_type": "display_data"
    },
    {
     "data": {
      "text/html": [
       "<span style=\"color:cyan\"> |-Trial ID: 85e71b3e86c70825cb6703fc741a8e38</span>"
      ],
      "text/plain": [
       "<IPython.core.display.HTML object>"
      ]
     },
     "metadata": {},
     "output_type": "display_data"
    },
    {
     "data": {
      "text/html": [
       "<span style=\"color:cyan\"> |-Score: 0.7489228248596191</span>"
      ],
      "text/plain": [
       "<IPython.core.display.HTML object>"
      ]
     },
     "metadata": {},
     "output_type": "display_data"
    },
    {
     "data": {
      "text/html": [
       "<span style=\"color:cyan\"> |-Best step: 0</span>"
      ],
      "text/plain": [
       "<IPython.core.display.HTML object>"
      ]
     },
     "metadata": {},
     "output_type": "display_data"
    },
    {
     "data": {
      "text/html": [
       "<span style=\"color:#7E57C2\"><h2 style=\"font-size:16px\">Hyperparameters:</h2></span>"
      ],
      "text/plain": [
       "<IPython.core.display.HTML object>"
      ]
     },
     "metadata": {},
     "output_type": "display_data"
    },
    {
     "data": {
      "text/html": [
       "<span style=\"color:cyan\"> |-activation: swish</span>"
      ],
      "text/plain": [
       "<IPython.core.display.HTML object>"
      ]
     },
     "metadata": {},
     "output_type": "display_data"
    },
    {
     "data": {
      "text/html": [
       "<span style=\"color:blue\"> |-hidden_size: 128</span>"
      ],
      "text/plain": [
       "<IPython.core.display.HTML object>"
      ]
     },
     "metadata": {},
     "output_type": "display_data"
    },
    {
     "data": {
      "text/html": [
       "<span style=\"color:cyan\"> |-learning_rate: 0.01</span>"
      ],
      "text/plain": [
       "<IPython.core.display.HTML object>"
      ]
     },
     "metadata": {},
     "output_type": "display_data"
    },
    {
     "data": {
      "text/html": [
       "<span style=\"color:#4527A0\"><h1 style=\"font-size:18px\">Trial summary</h1></span>"
      ],
      "text/plain": [
       "<IPython.core.display.HTML object>"
      ]
     },
     "metadata": {},
     "output_type": "display_data"
    },
    {
     "data": {
      "text/html": [
       "<span style=\"color:cyan\"> |-Trial ID: ccb22653512876d5bcee6c42658de1d6</span>"
      ],
      "text/plain": [
       "<IPython.core.display.HTML object>"
      ]
     },
     "metadata": {},
     "output_type": "display_data"
    },
    {
     "data": {
      "text/html": [
       "<span style=\"color:cyan\"> |-Score: 0.7489228248596191</span>"
      ],
      "text/plain": [
       "<IPython.core.display.HTML object>"
      ]
     },
     "metadata": {},
     "output_type": "display_data"
    },
    {
     "data": {
      "text/html": [
       "<span style=\"color:cyan\"> |-Best step: 0</span>"
      ],
      "text/plain": [
       "<IPython.core.display.HTML object>"
      ]
     },
     "metadata": {},
     "output_type": "display_data"
    },
    {
     "data": {
      "text/html": [
       "<span style=\"color:#7E57C2\"><h2 style=\"font-size:16px\">Hyperparameters:</h2></span>"
      ],
      "text/plain": [
       "<IPython.core.display.HTML object>"
      ]
     },
     "metadata": {},
     "output_type": "display_data"
    },
    {
     "data": {
      "text/html": [
       "<span style=\"color:cyan\"> |-activation: swish</span>"
      ],
      "text/plain": [
       "<IPython.core.display.HTML object>"
      ]
     },
     "metadata": {},
     "output_type": "display_data"
    },
    {
     "data": {
      "text/html": [
       "<span style=\"color:blue\"> |-hidden_size: 16</span>"
      ],
      "text/plain": [
       "<IPython.core.display.HTML object>"
      ]
     },
     "metadata": {},
     "output_type": "display_data"
    },
    {
     "data": {
      "text/html": [
       "<span style=\"color:cyan\"> |-learning_rate: 0.0009755874328976427</span>"
      ],
      "text/plain": [
       "<IPython.core.display.HTML object>"
      ]
     },
     "metadata": {},
     "output_type": "display_data"
    },
    {
     "data": {
      "text/html": [
       "<span style=\"color:#4527A0\"><h1 style=\"font-size:18px\">Trial summary</h1></span>"
      ],
      "text/plain": [
       "<IPython.core.display.HTML object>"
      ]
     },
     "metadata": {},
     "output_type": "display_data"
    },
    {
     "data": {
      "text/html": [
       "<span style=\"color:cyan\"> |-Trial ID: d95a7be2cdf6be6b680668328e44f863</span>"
      ],
      "text/plain": [
       "<IPython.core.display.HTML object>"
      ]
     },
     "metadata": {},
     "output_type": "display_data"
    },
    {
     "data": {
      "text/html": [
       "<span style=\"color:cyan\"> |-Score: 0.7489228248596191</span>"
      ],
      "text/plain": [
       "<IPython.core.display.HTML object>"
      ]
     },
     "metadata": {},
     "output_type": "display_data"
    },
    {
     "data": {
      "text/html": [
       "<span style=\"color:cyan\"> |-Best step: 0</span>"
      ],
      "text/plain": [
       "<IPython.core.display.HTML object>"
      ]
     },
     "metadata": {},
     "output_type": "display_data"
    },
    {
     "data": {
      "text/html": [
       "<span style=\"color:#7E57C2\"><h2 style=\"font-size:16px\">Hyperparameters:</h2></span>"
      ],
      "text/plain": [
       "<IPython.core.display.HTML object>"
      ]
     },
     "metadata": {},
     "output_type": "display_data"
    },
    {
     "data": {
      "text/html": [
       "<span style=\"color:cyan\"> |-activation: selu</span>"
      ],
      "text/plain": [
       "<IPython.core.display.HTML object>"
      ]
     },
     "metadata": {},
     "output_type": "display_data"
    },
    {
     "data": {
      "text/html": [
       "<span style=\"color:blue\"> |-hidden_size: 256</span>"
      ],
      "text/plain": [
       "<IPython.core.display.HTML object>"
      ]
     },
     "metadata": {},
     "output_type": "display_data"
    },
    {
     "data": {
      "text/html": [
       "<span style=\"color:cyan\"> |-learning_rate: 0.01</span>"
      ],
      "text/plain": [
       "<IPython.core.display.HTML object>"
      ]
     },
     "metadata": {},
     "output_type": "display_data"
    },
    {
     "data": {
      "text/html": [
       "<span style=\"color:#4527A0\"><h1 style=\"font-size:18px\">Trial summary</h1></span>"
      ],
      "text/plain": [
       "<IPython.core.display.HTML object>"
      ]
     },
     "metadata": {},
     "output_type": "display_data"
    },
    {
     "data": {
      "text/html": [
       "<span style=\"color:cyan\"> |-Trial ID: b0ae32bc148f3d3396d43c1bd7222c7d</span>"
      ],
      "text/plain": [
       "<IPython.core.display.HTML object>"
      ]
     },
     "metadata": {},
     "output_type": "display_data"
    },
    {
     "data": {
      "text/html": [
       "<span style=\"color:cyan\"> |-Score: 0.7489228248596191</span>"
      ],
      "text/plain": [
       "<IPython.core.display.HTML object>"
      ]
     },
     "metadata": {},
     "output_type": "display_data"
    },
    {
     "data": {
      "text/html": [
       "<span style=\"color:cyan\"> |-Best step: 0</span>"
      ],
      "text/plain": [
       "<IPython.core.display.HTML object>"
      ]
     },
     "metadata": {},
     "output_type": "display_data"
    },
    {
     "data": {
      "text/html": [
       "<span style=\"color:#7E57C2\"><h2 style=\"font-size:16px\">Hyperparameters:</h2></span>"
      ],
      "text/plain": [
       "<IPython.core.display.HTML object>"
      ]
     },
     "metadata": {},
     "output_type": "display_data"
    },
    {
     "data": {
      "text/html": [
       "<span style=\"color:cyan\"> |-activation: swish</span>"
      ],
      "text/plain": [
       "<IPython.core.display.HTML object>"
      ]
     },
     "metadata": {},
     "output_type": "display_data"
    },
    {
     "data": {
      "text/html": [
       "<span style=\"color:blue\"> |-hidden_size: 64</span>"
      ],
      "text/plain": [
       "<IPython.core.display.HTML object>"
      ]
     },
     "metadata": {},
     "output_type": "display_data"
    },
    {
     "data": {
      "text/html": [
       "<span style=\"color:cyan\"> |-learning_rate: 0.01</span>"
      ],
      "text/plain": [
       "<IPython.core.display.HTML object>"
      ]
     },
     "metadata": {},
     "output_type": "display_data"
    },
    {
     "data": {
      "text/html": [
       "<span style=\"color:#4527A0\"><h1 style=\"font-size:18px\">Trial summary</h1></span>"
      ],
      "text/plain": [
       "<IPython.core.display.HTML object>"
      ]
     },
     "metadata": {},
     "output_type": "display_data"
    },
    {
     "data": {
      "text/html": [
       "<span style=\"color:cyan\"> |-Trial ID: a24636ada6de12dd540a37e941bf1e0d</span>"
      ],
      "text/plain": [
       "<IPython.core.display.HTML object>"
      ]
     },
     "metadata": {},
     "output_type": "display_data"
    },
    {
     "data": {
      "text/html": [
       "<span style=\"color:cyan\"> |-Score: 0.7489228248596191</span>"
      ],
      "text/plain": [
       "<IPython.core.display.HTML object>"
      ]
     },
     "metadata": {},
     "output_type": "display_data"
    },
    {
     "data": {
      "text/html": [
       "<span style=\"color:cyan\"> |-Best step: 0</span>"
      ],
      "text/plain": [
       "<IPython.core.display.HTML object>"
      ]
     },
     "metadata": {},
     "output_type": "display_data"
    },
    {
     "data": {
      "text/html": [
       "<span style=\"color:#7E57C2\"><h2 style=\"font-size:16px\">Hyperparameters:</h2></span>"
      ],
      "text/plain": [
       "<IPython.core.display.HTML object>"
      ]
     },
     "metadata": {},
     "output_type": "display_data"
    },
    {
     "data": {
      "text/html": [
       "<span style=\"color:cyan\"> |-activation: swish</span>"
      ],
      "text/plain": [
       "<IPython.core.display.HTML object>"
      ]
     },
     "metadata": {},
     "output_type": "display_data"
    },
    {
     "data": {
      "text/html": [
       "<span style=\"color:blue\"> |-hidden_size: 16</span>"
      ],
      "text/plain": [
       "<IPython.core.display.HTML object>"
      ]
     },
     "metadata": {},
     "output_type": "display_data"
    },
    {
     "data": {
      "text/html": [
       "<span style=\"color:cyan\"> |-learning_rate: 0.01</span>"
      ],
      "text/plain": [
       "<IPython.core.display.HTML object>"
      ]
     },
     "metadata": {},
     "output_type": "display_data"
    },
    {
     "data": {
      "text/html": [
       "<span style=\"color:#4527A0\"><h1 style=\"font-size:18px\">Trial summary</h1></span>"
      ],
      "text/plain": [
       "<IPython.core.display.HTML object>"
      ]
     },
     "metadata": {},
     "output_type": "display_data"
    },
    {
     "data": {
      "text/html": [
       "<span style=\"color:cyan\"> |-Trial ID: ef786439480e17893f509f792585d95e</span>"
      ],
      "text/plain": [
       "<IPython.core.display.HTML object>"
      ]
     },
     "metadata": {},
     "output_type": "display_data"
    },
    {
     "data": {
      "text/html": [
       "<span style=\"color:cyan\"> |-Score: 0.7489228248596191</span>"
      ],
      "text/plain": [
       "<IPython.core.display.HTML object>"
      ]
     },
     "metadata": {},
     "output_type": "display_data"
    },
    {
     "data": {
      "text/html": [
       "<span style=\"color:cyan\"> |-Best step: 0</span>"
      ],
      "text/plain": [
       "<IPython.core.display.HTML object>"
      ]
     },
     "metadata": {},
     "output_type": "display_data"
    },
    {
     "data": {
      "text/html": [
       "<span style=\"color:#7E57C2\"><h2 style=\"font-size:16px\">Hyperparameters:</h2></span>"
      ],
      "text/plain": [
       "<IPython.core.display.HTML object>"
      ]
     },
     "metadata": {},
     "output_type": "display_data"
    },
    {
     "data": {
      "text/html": [
       "<span style=\"color:cyan\"> |-activation: swish</span>"
      ],
      "text/plain": [
       "<IPython.core.display.HTML object>"
      ]
     },
     "metadata": {},
     "output_type": "display_data"
    },
    {
     "data": {
      "text/html": [
       "<span style=\"color:blue\"> |-hidden_size: 16</span>"
      ],
      "text/plain": [
       "<IPython.core.display.HTML object>"
      ]
     },
     "metadata": {},
     "output_type": "display_data"
    },
    {
     "data": {
      "text/html": [
       "<span style=\"color:cyan\"> |-learning_rate: 0.01</span>"
      ],
      "text/plain": [
       "<IPython.core.display.HTML object>"
      ]
     },
     "metadata": {},
     "output_type": "display_data"
    },
    {
     "data": {
      "text/html": [
       "<span style=\"color:#4527A0\"><h1 style=\"font-size:18px\">Trial summary</h1></span>"
      ],
      "text/plain": [
       "<IPython.core.display.HTML object>"
      ]
     },
     "metadata": {},
     "output_type": "display_data"
    },
    {
     "data": {
      "text/html": [
       "<span style=\"color:cyan\"> |-Trial ID: 8a22436c71e4d650b181cdd3af497e28</span>"
      ],
      "text/plain": [
       "<IPython.core.display.HTML object>"
      ]
     },
     "metadata": {},
     "output_type": "display_data"
    },
    {
     "data": {
      "text/html": [
       "<span style=\"color:cyan\"> |-Score: 0.7489228248596191</span>"
      ],
      "text/plain": [
       "<IPython.core.display.HTML object>"
      ]
     },
     "metadata": {},
     "output_type": "display_data"
    },
    {
     "data": {
      "text/html": [
       "<span style=\"color:cyan\"> |-Best step: 0</span>"
      ],
      "text/plain": [
       "<IPython.core.display.HTML object>"
      ]
     },
     "metadata": {},
     "output_type": "display_data"
    },
    {
     "data": {
      "text/html": [
       "<span style=\"color:#7E57C2\"><h2 style=\"font-size:16px\">Hyperparameters:</h2></span>"
      ],
      "text/plain": [
       "<IPython.core.display.HTML object>"
      ]
     },
     "metadata": {},
     "output_type": "display_data"
    },
    {
     "data": {
      "text/html": [
       "<span style=\"color:cyan\"> |-activation: swish</span>"
      ],
      "text/plain": [
       "<IPython.core.display.HTML object>"
      ]
     },
     "metadata": {},
     "output_type": "display_data"
    },
    {
     "data": {
      "text/html": [
       "<span style=\"color:blue\"> |-hidden_size: 16</span>"
      ],
      "text/plain": [
       "<IPython.core.display.HTML object>"
      ]
     },
     "metadata": {},
     "output_type": "display_data"
    },
    {
     "data": {
      "text/html": [
       "<span style=\"color:cyan\"> |-learning_rate: 0.01</span>"
      ],
      "text/plain": [
       "<IPython.core.display.HTML object>"
      ]
     },
     "metadata": {},
     "output_type": "display_data"
    }
   ],
   "source": [
    "tuner.results_summary()"
   ]
  },
  {
   "cell_type": "code",
   "execution_count": 95,
   "metadata": {},
   "outputs": [
    {
     "name": "stdout",
     "output_type": "stream",
     "text": [
      "WARNING:tensorflow:Unresolved object in checkpoint: (root).optimizer.iter\n"
     ]
    },
    {
     "name": "stderr",
     "output_type": "stream",
     "text": [
      "WARNING:tensorflow:Unresolved object in checkpoint: (root).optimizer.iter\n"
     ]
    },
    {
     "name": "stdout",
     "output_type": "stream",
     "text": [
      "WARNING:tensorflow:Unresolved object in checkpoint: (root).optimizer.beta_1\n"
     ]
    },
    {
     "name": "stderr",
     "output_type": "stream",
     "text": [
      "WARNING:tensorflow:Unresolved object in checkpoint: (root).optimizer.beta_1\n"
     ]
    },
    {
     "name": "stdout",
     "output_type": "stream",
     "text": [
      "WARNING:tensorflow:Unresolved object in checkpoint: (root).optimizer.beta_2\n"
     ]
    },
    {
     "name": "stderr",
     "output_type": "stream",
     "text": [
      "WARNING:tensorflow:Unresolved object in checkpoint: (root).optimizer.beta_2\n"
     ]
    },
    {
     "name": "stdout",
     "output_type": "stream",
     "text": [
      "WARNING:tensorflow:Unresolved object in checkpoint: (root).optimizer.decay\n"
     ]
    },
    {
     "name": "stderr",
     "output_type": "stream",
     "text": [
      "WARNING:tensorflow:Unresolved object in checkpoint: (root).optimizer.decay\n"
     ]
    },
    {
     "name": "stdout",
     "output_type": "stream",
     "text": [
      "WARNING:tensorflow:Unresolved object in checkpoint: (root).optimizer.learning_rate\n"
     ]
    },
    {
     "name": "stderr",
     "output_type": "stream",
     "text": [
      "WARNING:tensorflow:Unresolved object in checkpoint: (root).optimizer.learning_rate\n"
     ]
    },
    {
     "name": "stdout",
     "output_type": "stream",
     "text": [
      "WARNING:tensorflow:A checkpoint was restored (e.g. tf.train.Checkpoint.restore or tf.keras.Model.load_weights) but not all checkpointed values were used. See above for specific issues. Use expect_partial() on the load status object, e.g. tf.train.Checkpoint.restore(...).expect_partial(), to silence these warnings, or use assert_consumed() to make the check explicit. See https://www.tensorflow.org/guide/checkpoint#loading_mechanics for details.\n"
     ]
    },
    {
     "name": "stderr",
     "output_type": "stream",
     "text": [
      "WARNING:tensorflow:A checkpoint was restored (e.g. tf.train.Checkpoint.restore or tf.keras.Model.load_weights) but not all checkpointed values were used. See above for specific issues. Use expect_partial() on the load status object, e.g. tf.train.Checkpoint.restore(...).expect_partial(), to silence these warnings, or use assert_consumed() to make the check explicit. See https://www.tensorflow.org/guide/checkpoint#loading_mechanics for details.\n"
     ]
    },
    {
     "name": "stdout",
     "output_type": "stream",
     "text": [
      "2394/2394 [==============================] - ETA: 0s - loss: 0.6924 - accuracy: 0.78 - ETA: 1s - loss: 0.6925 - accuracy: 0.75 - ETA: 1s - loss: 0.6921 - accuracy: 0.75 - ETA: 1s - loss: 0.6921 - accuracy: 0.75 - ETA: 1s - loss: 0.6921 - accuracy: 0.75 - ETA: 1s - loss: 0.6921 - accuracy: 0.75 - ETA: 1s - loss: 0.6920 - accuracy: 0.75 - ETA: 1s - loss: 0.6920 - accuracy: 0.75 - ETA: 1s - loss: 0.6920 - accuracy: 0.75 - ETA: 0s - loss: 0.6920 - accuracy: 0.75 - ETA: 0s - loss: 0.6920 - accuracy: 0.75 - ETA: 0s - loss: 0.6920 - accuracy: 0.75 - ETA: 0s - loss: 0.6920 - accuracy: 0.75 - ETA: 0s - loss: 0.6920 - accuracy: 0.75 - ETA: 0s - loss: 0.6920 - accuracy: 0.75 - ETA: 0s - loss: 0.6920 - accuracy: 0.75 - ETA: 0s - loss: 0.6920 - accuracy: 0.75 - ETA: 0s - loss: 0.6919 - accuracy: 0.75 - ETA: 0s - loss: 0.6919 - accuracy: 0.75 - ETA: 0s - loss: 0.6919 - accuracy: 0.75 - ETA: 0s - loss: 0.6919 - accuracy: 0.75 - ETA: 0s - loss: 0.6920 - accuracy: 0.75 - ETA: 0s - loss: 0.6919 - accuracy: 0.75 - ETA: 0s - loss: 0.6919 - accuracy: 0.75 - ETA: 0s - loss: 0.6919 - accuracy: 0.75 - ETA: 0s - loss: 0.6919 - accuracy: 0.75 - ETA: 0s - loss: 0.6919 - accuracy: 0.75 - 1s 564us/step - loss: 0.6919 - accuracy: 0.7511\n",
      "Test accuracy: 0.5297748446464539\n"
     ]
    }
   ],
   "source": [
    "# Retrieve the best model.\n",
    "best_model = tuner.get_best_models(num_models=1)[0]\n",
    "\n",
    "# Evaluate the best model.\n",
    "loss, accuracy = best_model.evaluate(X_test, y_test)\n",
    "print('Test accuracy:', test_acc)"
   ]
  },
  {
   "cell_type": "code",
   "execution_count": 6,
   "metadata": {},
   "outputs": [
    {
     "name": "stdout",
     "output_type": "stream",
     "text": [
      "1251/1251 [==============================] - 1s 513us/step - loss: 0.6914 - accuracy: 0.5298\n",
      "Test accuracy: 0.5297748446464539\n"
     ]
    }
   ],
   "source": [
    "test_loss, test_acc = model.evaluate(X_test, y_test)\n",
    "print('Test accuracy:', test_acc)"
   ]
  }
 ],
 "metadata": {
  "kernelspec": {
   "display_name": "Tensorflow 2.1/Keras Py3.7",
   "language": "python",
   "name": "tensorflow210_py37"
  },
  "language_info": {
   "codemirror_mode": {
    "name": "ipython",
    "version": 3
   },
   "file_extension": ".py",
   "mimetype": "text/x-python",
   "name": "python",
   "nbconvert_exporter": "python",
   "pygments_lexer": "ipython3",
   "version": "3.7.5"
  }
 },
 "nbformat": 4,
 "nbformat_minor": 4
}
