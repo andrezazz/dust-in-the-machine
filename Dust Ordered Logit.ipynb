{
 "cells": [
  {
   "cell_type": "code",
   "execution_count": 1,
   "metadata": {},
   "outputs": [],
   "source": [
    "import pandas as pd\n",
    "import numpy as np\n",
    "import os\n",
    "import json\n",
    "import random\n",
    "import math\n",
    "from tqdm import notebook # Library for displaying progress bar\n",
    "np.random.seed(500)\n",
    "\n",
    "# Set the desired bin size\n",
    "bin_size = 15"
   ]
  },
  {
   "cell_type": "markdown",
   "metadata": {},
   "source": [
    "First we select a pair of snapshots, the lower index is the input and the higher index is the output. Then combined bins together based on the number of desired bins. Ie if the bin size is 15, every 10 bins will be combined into one. Y is randomnly sampled from the bins. \n",
    "\n",
    "Tried the following transformations:\n",
    "- None\n",
    "- Log space\n",
    "- 1 / log space\n",
    "- normalized output\n",
    "- normalized input and output"
   ]
  },
  {
   "cell_type": "code",
   "execution_count": 2,
   "metadata": {},
   "outputs": [],
   "source": [
    "def process_sample(i, snapshot_count, rhod, time, bin_size=15, num_bins=151):\n",
    "    \"\"\" Creates a training sample from two points in time. Selects a random output bin for y, and saves the output bins for comparison\"\"\"\n",
    "    # First sample will always be the first and last element\n",
    "    if i == 0:\n",
    "        idxs = [0, snapshot_count-1]\n",
    "    else:\n",
    "        # Pick two indexes for snapshots (lowest = input, highest = output)\n",
    "        idxs = sorted([random.randint(0,snapshot_count-1) for _ in range(2)])\n",
    "    input_a = rhod[idxs[0]]\n",
    "    output_a = rhod[idxs[1]]\n",
    "\n",
    "    new_input_bins = []\n",
    "    new_output_bins = []\n",
    "    input_bin_sum = np.sum(input_a)\n",
    "    output_bin_sum = np.sum(output_a)\n",
    "    for i in range(bin_size):\n",
    "        # Get the start index of the bin\n",
    "        start = i * math.floor(num_bins/bin_size)\n",
    "        # Get the end index\n",
    "        end = (i+1) * math.floor(num_bins/bin_size)\n",
    "        # Include bin 150 in the last new bin (151 does not divide into 15 evenly for example)\n",
    "        if i == bin_size-1:\n",
    "            end+=num_bins % bin_size\n",
    "            \n",
    "        # Get the old bins and sum them together to create the new one\n",
    "        # Also normalize the input bins\n",
    "        # Could add a statement here to leave out one of the input bins\n",
    "        new_input_bin = np.sum(input_a[start:end]) / input_bin_sum\n",
    "        new_input_bins.append(new_input_bin)\n",
    "        \n",
    "        # Normalize the output bin so we can compare the prob distribution to it\n",
    "        new_output_bin = np.sum(output_a[start:end]) / output_bin_sum\n",
    "        new_output_bins.append(new_output_bin)\n",
    "        \n",
    "    # Select the highest density bin => highest prob\n",
    "    y = np.argmax(new_output_bins)\n",
    "    # Time of the input\n",
    "    t = time[idxs[0]]\n",
    "        \n",
    "    # Difference of time in seconds between two snapshots\n",
    "    delta_t = time[idxs[1]] - t\n",
    "    \n",
    "    row = np.concatenate([input_params,new_input_bins,[t, delta_t, y], new_output_bins])\n",
    "    return row\n",
    "\n",
    "def write_to_file(data, header=True, bin_size=15, batch=False):\n",
    "    \"\"\" Helper method to write training data to a file\"\"\"\n",
    "    columns = ['R', 'Mstar', 'alpha', 'd2g', 'sigma', 'Tgas'] + [f'Input_Bin_{i}' for i in range(bin_size)] + ['t','Delta_t', 'y'] + [f'Output_Bin_{i}' for i in range(bin_size)]\n",
    "    df = pd.DataFrame(res, columns=columns)\n",
    "\n",
    "    # If writing in batch set the file mode to append\n",
    "    mode = 'a' if batch else 'w'\n",
    "    df.to_csv(filename, chunksize=100000, mode=mode, header=header, index=False)"
   ]
  },
  {
   "cell_type": "code",
   "execution_count": 3,
   "metadata": {},
   "outputs": [
    {
     "data": {
      "application/vnd.jupyter.widget-view+json": {
       "model_id": "10c6f1ebc152443c8b8cef95c6a6fec5",
       "version_major": 2,
       "version_minor": 0
      },
      "text/plain": [
       "HBox(children=(FloatProgress(value=0.0, max=10000.0), HTML(value='')))"
      ]
     },
     "metadata": {},
     "output_type": "display_data"
    },
    {
     "name": "stdout",
     "output_type": "stream",
     "text": [
      "\n"
     ]
    }
   ],
   "source": [
    "# Sets the output filename\n",
    "filename = 'dust_training_data_ordered_logit_bin_15.csv'\n",
    "root_data_path = \"/project/SDS-capstones-kropko21/uva-astronomy/data/dust_coag_data_v1\"\n",
    "data_group = \"combined_v1\"\n",
    "\n",
    "# Store formatted data for training\n",
    "res = []\n",
    "\n",
    "chunk_size = 1000\n",
    "# Set this to a smaller number to get a smaller training set\n",
    "model_count = 10000\n",
    "writes = 0\n",
    "for d in notebook.tqdm(range(model_count)):\n",
    "    data_set = data_set = str(d).zfill(5)\n",
    "\n",
    "    data_dir = f\"{root_data_path}/{data_group}/data_{data_set}\"\n",
    "\n",
    "    input_params = None\n",
    "    # Open and extract the input parameters\n",
    "    with open(os.path.join(root_data_path, \"model_dict_v1.json\")) as f:\n",
    "        model_dict = json.load(f)\n",
    "        input_dict = model_dict[data_set]\n",
    "        input_params = [input_dict['R'], input_dict['Mstar'], input_dict['alpha'],input_dict['d2g'], input_dict['sigma'], input_dict['Tgas']]\n",
    "\n",
    "    try:\n",
    "        # `rho_dat`: The dust mass density (in g/cm^3) in each particle size/bin at a given snapshot in time. This is the main \"output\", i.e., the primary result, of any given model.\n",
    "        rhod = np.loadtxt(os.path.join(data_dir,\"rho_d.dat\"))\n",
    "        # Replace NaNs with 0s\n",
    "        rhod = np.nan_to_num(rhod)\n",
    "        # Replace negative values with 0s\n",
    "        rhod = np.where(rhod<0, 0, rhod) \n",
    "        \n",
    "        # `a_grid.dat`: The dust particle size in each \"bin\" in centimeters.\n",
    "        a_grid = np.loadtxt(os.path.join(data_dir, 'a_grid.dat'))\n",
    "\n",
    "        # `time.dat`: The time of each snapshot (in seconds).\n",
    "        time = np.loadtxt(os.path.join(data_dir, \"time.dat\"))\n",
    "    except Exception as e:\n",
    "        print(f'model {d} skipped')\n",
    "        import traceback\n",
    "        print(traceback.print_exc())\n",
    "        continue\n",
    "\n",
    "    snapshot_count = len(rhod)\n",
    "\n",
    "    # Set the number of samples\n",
    "    if snapshot_count > 15:\n",
    "        # Set the max to 100 for time as 15 cHr 2 is about 100\n",
    "        samples = 100\n",
    "    else:\n",
    "        # The number of pairs\n",
    "        samples = int(math.factorial(snapshot_count) / math.factorial(2) / math.factorial(snapshot_count-2))\n",
    "    \n",
    "    samples += 1\n",
    "    for i in range(samples):\n",
    "        row = process_sample(i, snapshot_count, rhod, time, bin_size=bin_size)\n",
    "        res.append(row)\n",
    "        \n",
    "    # Write to csv every x models to avoid oom\n",
    "    if d != 0 and d % chunk_size == (model_count - 1) % chunk_size:\n",
    "        writes += 1\n",
    "        # Only write the header on first chunk\n",
    "        header = writes == 1\n",
    "        write_to_file(res, header, bin_size=bin_size, batch=True)\n",
    "        res = []\n",
    "    \n",
    "# Write out the entire file at the end\n",
    "#write_to_file(res)"
   ]
  },
  {
   "cell_type": "code",
   "execution_count": 19,
   "metadata": {},
   "outputs": [
    {
     "data": {
      "text/plain": [
       "count    800338.000000\n",
       "mean          8.764769\n",
       "std           4.061286\n",
       "min           0.000000\n",
       "25%           5.000000\n",
       "50%           8.000000\n",
       "75%          14.000000\n",
       "max          14.000000\n",
       "Name: y, dtype: float64"
      ]
     },
     "execution_count": 19,
     "metadata": {},
     "output_type": "execute_result"
    }
   ],
   "source": [
    "read_df = pd.read_csv(filename)\n",
    "read_df['y'].describe()"
   ]
  },
  {
   "cell_type": "markdown",
   "metadata": {},
   "source": [
    "Now we split the data into train and test and use the mord package for ordered logistic regression. We extracted the probabilities and scored the model fit with negagative mean absolute error."
   ]
  },
  {
   "cell_type": "code",
   "execution_count": 20,
   "metadata": {},
   "outputs": [
    {
     "name": "stdout",
     "output_type": "stream",
     "text": [
      "0.04461853712172327\n"
     ]
    }
   ],
   "source": [
    "#%pip install mord\n",
    "import mord\n",
    "from sklearn.model_selection import train_test_split\n",
    "\n",
    "def create_test_train(data_set_path, test_size=0.10):\n",
    "    \"\"\" Splits a given csv file into testing and training. Target column must be y \"\"\"\n",
    "    # Make sure the columns are set\n",
    "    data_set = pd.read_csv(data_set_path)\n",
    "\n",
    "    # Shuffle the data\n",
    "    data_set = data_set.sample(frac=1, random_state=0)\n",
    " \n",
    "    # Select all except y column and the output bins for the predictors\n",
    "    data_set_X = data_set.drop(['y'] + [f'Output_Bin_{i}' for i in range(bin_size)], axis=1)\n",
    "    \n",
    "    # Select just y column and output bins\n",
    "    data_set_Y = data_set[['y'] + [f'Output_Bin_{i}' for i in range(bin_size)]]\n",
    "\n",
    "    #Split into training and test data\n",
    "    return train_test_split(data_set_X,\n",
    "                            data_set_Y,\n",
    "                            test_size=test_size, \n",
    "                            random_state=300)\n",
    "\n",
    "\n",
    "X_train, X_test, y_train, y_test = create_test_train(filename)\n",
    "y_train = y_train.astype(int)\n",
    "\n",
    "logistic_model = mord.LogisticIT()\n",
    "# Fit only on the y column\n",
    "logistic_model.fit(X_train, y_train['y'])\n",
    "\n",
    "# Obtain the probability distribution of the class\n",
    "probs = logistic_model.predict_proba(X_test)\n",
    "\n",
    "# Obtain the negative mean absolute error\n",
    "score = logistic_model.score(X_test, y_test['y'])\n",
    "print(score)"
   ]
  },
  {
   "cell_type": "code",
   "execution_count": 16,
   "metadata": {},
   "outputs": [
    {
     "data": {
      "text/plain": [
       "14.0    211155\n",
       "5.0     145464\n",
       "6.0      83189\n",
       "7.0      56260\n",
       "8.0      44278\n",
       "9.0      38514\n",
       "10.0     36641\n",
       "11.0     33810\n",
       "4.0      32672\n",
       "12.0     32648\n",
       "13.0     27744\n",
       "2.0      22071\n",
       "3.0      21279\n",
       "1.0       8049\n",
       "0.0       6564\n",
       "Name: y, dtype: int64"
      ]
     },
     "execution_count": 16,
     "metadata": {},
     "output_type": "execute_result"
    }
   ],
   "source": [
    "# Output the counts of our labels\n",
    "pd.read_csv(\"dust_training_data_ordered_logit_bin_15_3.csv\")['y'].value_counts()"
   ]
  },
  {
   "cell_type": "markdown",
   "metadata": {},
   "source": [
    "We made a plot of an observation and the predicted probability distribution. We also calculated the entropy for each test observation and the predicted observation which is the Kullback-Leibler divergence.\n",
    "\n",
    "On the full models with a bin size of 15, entropy averaged around 2.4 which is not good."
   ]
  },
  {
   "cell_type": "code",
   "execution_count": 17,
   "metadata": {},
   "outputs": [
    {
     "data": {
      "image/png": "[encoded data removed]",
      "text/plain": [
       "<Figure size 432x288 with 1 Axes>"
      ]
     },
     "metadata": {
      "needs_background": "light"
     },
     "output_type": "display_data"
    },
    {
     "name": "stdout",
     "output_type": "stream",
     "text": [
      "                  0\n",
      "count  8.003400e+04\n",
      "mean            inf\n",
      "std             NaN\n",
      "min    2.924173e-02\n",
      "25%    1.838672e+00\n",
      "50%    4.785313e+00\n",
      "75%    8.988624e+01\n",
      "max             inf\n"
     ]
    }
   ],
   "source": [
    "import scipy\n",
    "from scipy.stats import entropy, kstest\n",
    "\n",
    "# Select a test observation to graph\n",
    "test_obs = probs[5]\n",
    "cols = [f'Output_Bin_{i}' for i in range(bin_size)]\n",
    "\n",
    "# Get the true distribution\n",
    "y_obs = y_test.iloc[5][cols]\n",
    "\n",
    "# Plot the two together\n",
    "from matplotlib import pyplot as plt\n",
    "plt.plot(test_obs)\n",
    "plt.plot(y_obs)\n",
    "plt.show()\n",
    "\n",
    "# Get entropy for all\n",
    "entropys = []\n",
    "for idx, prob in enumerate(probs):\n",
    "    output = y_test.iloc[idx][[f'Output_Bin_{i}' for i in range(bin_size)]]\n",
    "    # To compute the entropies, the length of the probability list and the bin list must be equal\n",
    "    # If your training data does not include all bins, you'll need to fill in 0s for the probability matrix\n",
    "    ent = entropy(prob, output.values)\n",
    "    entropys.append(ent)\n",
    "df_entropy = pd.DataFrame(entropys)\n",
    "print(df_entropy.describe())\n"
   ]
  },
  {
   "cell_type": "code",
   "execution_count": 18,
   "metadata": {},
   "outputs": [
    {
     "name": "stdout",
     "output_type": "stream",
     "text": [
      "[-5.15298288e-23  5.80540773e-24  2.69150998e-26  1.78947012e-24\n",
      "  9.14962892e-21  4.39465665e-22 -2.22703317e-26  1.46813180e-26\n",
      "  5.03214764e-26  1.10979688e-25  1.74615718e-25  3.23155405e-25\n",
      "  4.82906037e-25  3.87693633e-25  3.17759735e-25  2.83035150e-25\n",
      "  2.69138010e-25  2.63337020e-25  2.40053014e-25  1.80604592e-25\n",
      "  2.72939726e-24  1.26821992e-12  2.31768036e-12]\n"
     ]
    }
   ],
   "source": [
    "# Display the model coefficients\n",
    "print(logistic_model.coef_)"
   ]
  }
 ],
 "metadata": {
  "kernelspec": {
   "display_name": "Python 3",
   "language": "python",
   "name": "python3"
  },
  "language_info": {
   "codemirror_mode": {
    "name": "ipython",
    "version": 3
   },
   "file_extension": ".py",
   "mimetype": "text/x-python",
   "name": "python",
   "nbconvert_exporter": "python",
   "pygments_lexer": "ipython3",
   "version": "3.7.4"
  }
 },
 "nbformat": 4,
 "nbformat_minor": 4
}
